{
 "cells": [
  {
   "cell_type": "code",
   "execution_count": 10,
   "id": "163c502f",
   "metadata": {},
   "outputs": [],
   "source": [
    "import numpy as np\n",
    "import pandas as pd\n",
    "from pandas import Series\n",
    "pd.set_option('max_columns', None)\n",
    "pd.set_option('display.max_colwidth', None)\n"
   ]
  },
  {
   "cell_type": "code",
   "execution_count": 13,
   "id": "f92f21b6",
   "metadata": {},
   "outputs": [],
   "source": [
    "weeks = []\n",
    "for i in range(8):\n",
    "    weeks.append(pd.read_csv('../nfl-big-data-bowl-2023/week' + str(i + 1) + '.csv'))\n",
    "tracking = pd.concat(weeks)\n",
    "tracking.shape"
   ]
  },
  {
   "cell_type": "code",
   "execution_count": null,
   "id": "7faa2435",
   "metadata": {},
   "outputs": [],
   "source": []
  }
 ],
 "metadata": {
  "kernelspec": {
   "display_name": "Python 3",
   "language": "python",
   "name": "python3"
  },
  "language_info": {
   "codemirror_mode": {
    "name": "ipython",
    "version": 3
   },
   "file_extension": ".py",
   "mimetype": "text/x-python",
   "name": "python",
   "nbconvert_exporter": "python",
   "pygments_lexer": "ipython3",
   "version": "3.8.8"
  }
 },
 "nbformat": 4,
 "nbformat_minor": 5
}
