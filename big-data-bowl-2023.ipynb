{
 "cells": [
  {
   "cell_type": "code",
   "execution_count": 43,
   "id": "163c502f",
   "metadata": {},
   "outputs": [],
   "source": [
    "import numpy as np\n",
    "import pandas as pd\n",
    "from pandas import Series\n",
    "pd.set_option('max_columns', None)\n",
    "pd.set_option('display.max_colwidth', None)"
   ]
  },
  {
   "cell_type": "code",
   "execution_count": null,
   "id": "f92f21b6",
   "metadata": {},
   "outputs": [],
   "source": [
    "weeks = []\n",
    "for i in range(8):\n",
    "    weeks.append(pd.read_csv('../nfl-big-data-bowl-2023/week' + str(i + 1) + '.csv'))\n",
    "tracking = pd.concat(weeks)\n",
    "tracking.shape"
   ]
  },
  {
   "cell_type": "code",
   "execution_count": 44,
   "id": "44526c5e",
   "metadata": {},
   "outputs": [
    {
     "data": {
      "text/plain": [
       "(8314178, 16)"
      ]
     },
     "execution_count": 44,
     "metadata": {},
     "output_type": "execute_result"
    }
   ],
   "source": [
    "weeks = []\n",
    "for i in range(8):\n",
    "    weeks.append(pd.read_csv('/Users/alexchoi/Downloads/nfl-big-data-bowl-2023/week' + str(i + 1) + '.csv'))\n",
    "tracking = pd.concat(weeks)\n",
    "tracking.shape"
   ]
  },
  {
   "cell_type": "code",
   "execution_count": 50,
   "id": "7faa2435",
   "metadata": {},
   "outputs": [
    {
     "name": "stdout",
     "output_type": "stream",
     "text": [
      "1679\n"
     ]
    }
   ],
   "source": [
    "players_data = pd.read_csv('/Users/alexchoi/Downloads/nfl-big-data-bowl-2023/players.csv')\n",
    "scouting_data = pd.read_csv('/Users/alexchoi/Downloads/nfl-big-data-bowl-2023/pffScoutingData.csv')\n",
    "\n",
    "elo_dict = {}\n",
    "for player_id in players_data[\"nflId\"].values:\n",
    "    elo_dict[player_id] = 1000\n",
    "\n",
    "print(len(elo_dict))"
   ]
  },
  {
   "cell_type": "code",
   "execution_count": null,
   "id": "ab80f341",
   "metadata": {},
   "outputs": [],
   "source": [
    "def calculateElo():\n",
    "    lol"
   ]
  },
  {
   "cell_type": "code",
   "execution_count": 92,
   "id": "8de79888",
   "metadata": {},
   "outputs": [
    {
     "name": "stdout",
     "output_type": "stream",
     "text": [
      "          gameId  playId  nflId    pff_role pff_positionLinedUp  pff_hit  \\\n",
      "2113  2021090900    4772  35481  Pass Block               SRiWR      NaN   \n",
      "2116  2021090900    4772  40151  Pass Block                   C      NaN   \n",
      "2119  2021090900    4772  42377  Pass Block                  LT      NaN   \n",
      "2121  2021090900    4772  42404  Pass Block                  LG      NaN   \n",
      "2127  2021090900    4772  46163  Pass Block                  RG      NaN   \n",
      "2130  2021090900    4772  52421  Pass Block                  RT      NaN   \n",
      "\n",
      "      pff_hurry  pff_sack  pff_beatenByDefender  pff_hitAllowed  \\\n",
      "2113        NaN       NaN                   0.0             0.0   \n",
      "2116        NaN       NaN                   0.0             0.0   \n",
      "2119        NaN       NaN                   0.0             0.0   \n",
      "2121        NaN       NaN                   0.0             0.0   \n",
      "2127        NaN       NaN                   0.0             0.0   \n",
      "2130        NaN       NaN                   0.0             0.0   \n",
      "\n",
      "      pff_hurryAllowed  pff_sackAllowed  pff_nflIdBlockedPlayer pff_blockType  \\\n",
      "2113               0.0              0.0                 41263.0            PP   \n",
      "2116               0.0              0.0                 43306.0            PP   \n",
      "2119               0.0              0.0                 42403.0            PP   \n",
      "2121               0.0              0.0                 46185.0            PP   \n",
      "2127               0.0              0.0                 53441.0            PP   \n",
      "2130               0.0              0.0                 53504.0            PP   \n",
      "\n",
      "      pff_backFieldBlock  \n",
      "2113                 0.0  \n",
      "2116                 0.0  \n",
      "2119                 0.0  \n",
      "2121                 0.0  \n",
      "2127                 0.0  \n",
      "2130                 0.0  \n",
      "          gameId  playId  nflId   pff_role pff_positionLinedUp  pff_hit  \\\n",
      "2118  2021090900    4772  41263  Pass Rush                 LEO      0.0   \n",
      "2120  2021090900    4772  42403  Pass Rush                 REO      0.0   \n",
      "2122  2021090900    4772  43306  Pass Rush                RILB      0.0   \n",
      "2128  2021090900    4772  46185  Pass Rush                  RE      0.0   \n",
      "2132  2021090900    4772  53441  Pass Rush                LILB      0.0   \n",
      "2133  2021090900    4772  53504  Pass Rush                 DLT      0.0   \n",
      "\n",
      "      pff_hurry  pff_sack  pff_beatenByDefender  pff_hitAllowed  \\\n",
      "2118        0.0       0.0                   NaN             NaN   \n",
      "2120        0.0       0.0                   NaN             NaN   \n",
      "2122        0.0       0.0                   NaN             NaN   \n",
      "2128        0.0       0.0                   NaN             NaN   \n",
      "2132        0.0       0.0                   NaN             NaN   \n",
      "2133        0.0       0.0                   NaN             NaN   \n",
      "\n",
      "      pff_hurryAllowed  pff_sackAllowed  pff_nflIdBlockedPlayer pff_blockType  \\\n",
      "2118               NaN              NaN                     NaN           NaN   \n",
      "2120               NaN              NaN                     NaN           NaN   \n",
      "2122               NaN              NaN                     NaN           NaN   \n",
      "2128               NaN              NaN                     NaN           NaN   \n",
      "2132               NaN              NaN                     NaN           NaN   \n",
      "2133               NaN              NaN                     NaN           NaN   \n",
      "\n",
      "      pff_backFieldBlock  \n",
      "2118                 NaN  \n",
      "2120                 NaN  \n",
      "2122                 NaN  \n",
      "2128                 NaN  \n",
      "2132                 NaN  \n",
      "2133                 NaN  \n"
     ]
    }
   ],
   "source": [
    "gameIds = np.array(scouting_data['gameId'])\n",
    "gameIds = np.unique(gameIds[0])\n",
    "\n",
    "for gameId in gameIds:\n",
    "    game = scouting_data[scouting_data['gameId'] == gameId]\n",
    "    playIds = np.array(game['playId'])\n",
    "    playIds = np.unique(playIds)\n",
    "    for playId in playIds:\n",
    "        play = game[game['playId'] == playId]\n",
    "        Offense = play[play['pff_role'] == \"Pass Block\"]\n",
    "        Defense = play[play['pff_role'] == \"Pass Rush\"]\n",
    "\n",
    "print(Offense)\n",
    "print(Defense)"
   ]
  }
 ],
 "metadata": {
  "kernelspec": {
   "display_name": "Python 3",
   "language": "python",
   "name": "python3"
  },
  "language_info": {
   "codemirror_mode": {
    "name": "ipython",
    "version": 3
   },
   "file_extension": ".py",
   "mimetype": "text/x-python",
   "name": "python",
   "nbconvert_exporter": "python",
   "pygments_lexer": "ipython3",
   "version": "3.8.8"
  }
 },
 "nbformat": 4,
 "nbformat_minor": 5
}
