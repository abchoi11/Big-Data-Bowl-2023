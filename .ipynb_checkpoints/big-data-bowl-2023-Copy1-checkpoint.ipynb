{
 "cells": [
  {
   "cell_type": "code",
   "execution_count": 32,
   "id": "7f96a204",
   "metadata": {},
   "outputs": [],
   "source": [
    "# imports\n",
    "import numpy as np\n",
    "import pandas as pd\n",
    "from pandas import Series\n",
    "pd.set_option('max_columns', None)\n",
    "pd.set_option('display.max_colwidth', None)\n",
    "\n",
    "import plotly.express as px"
   ]
  },
  {
   "cell_type": "code",
   "execution_count": 25,
   "id": "1be25334",
   "metadata": {},
   "outputs": [],
   "source": [
    "# loading in data\n",
    "weeks = []\n",
    "for i in range(8):\n",
    "    weeks.append(pd.read_csv('../nfl-big-data-bowl-2023/week' + str(i + 1) + '.csv'))\n",
    "tracking = pd.concat(weeks)\n",
    "\n",
    "players = pd.read_csv('../nfl-big-data-bowl-2023/players.csv')\n",
    "scouting = pd.read_csv('../nfl-big-data-bowl-2023/pffScoutingData.csv')\n",
    "plays = pd.read_csv('../nfl-big-data-bowl-2023/plays.csv')\n",
    "games = pd.read_csv('../nfl-big-data-bowl-2023/games.csv')"
   ]
  },
  {
   "cell_type": "code",
   "execution_count": 77,
   "id": "cf3a2684",
   "metadata": {
    "scrolled": true
   },
   "outputs": [],
   "source": [
    "# visualizes a single play\n",
    "# source: https://www.kaggle.com/code/ammarnassanalhajali/nfl-big-data-bowl-2021-animating-players/notebook\n",
    "def visualize_play(gameId, playId):\n",
    "    play = tracking.loc[(tracking['gameId'] == gameId) & \n",
    "                  (tracking['playId'] == playId)] \n",
    "    fig = px.scatter(play, x=\"x\", y=\"y\", animation_frame=\"time\",\n",
    "               range_x=[-10,110], range_y=[-10,53.3], \n",
    "               color='team')\n",
    "    fig.update_traces(marker={'size': 9})\n",
    "\n",
    "    fig.update_layout(paper_bgcolor='#29a500', plot_bgcolor='#29a500', font_color='white',\n",
    "            width = 800,\n",
    "            height = 600,\n",
    "            title = \"\",\n",
    "\n",
    "            xaxis = dict(\n",
    "            nticks = 10,\n",
    "            title = \"\",\n",
    "            visible=False\n",
    "            ),\n",
    "\n",
    "            yaxis = dict(\n",
    "            scaleanchor = \"x\",\n",
    "            title = \"Temp\",\n",
    "            visible=False\n",
    "            ),\n",
    "            showlegend= True,\n",
    "                      annotations=[\n",
    "           dict(\n",
    "                x=-5,\n",
    "                y=12,\n",
    "                xref=\"x\",\n",
    "                yref=\"y\",\n",
    "                text=\"HOME ENDZONE\",\n",
    "                font=dict(size=16,color=\"#e9ece7\"),\n",
    "                align='center',\n",
    "                showarrow=False,\n",
    "                yanchor='bottom',\n",
    "                textangle=-90\n",
    "            ),\n",
    "            dict(\n",
    "                x=105,\n",
    "                y=10,\n",
    "                xref=\"x\",\n",
    "                yref=\"y\",\n",
    "                text=\"VISITOR ENDZONE\",\n",
    "                font=dict(size=16,color=\"#e9ece7\"),\n",
    "                align='center',\n",
    "                showarrow=False,\n",
    "                yanchor='bottom',\n",
    "                textangle=90\n",
    "            )]  \n",
    "            ,\n",
    "            legend=dict(\n",
    "            traceorder=\"normal\",\n",
    "            font=dict(family=\"sans-serif\",size=12),\n",
    "            title = \"\",\n",
    "            orientation=\"h\",\n",
    "            yanchor=\"bottom\",\n",
    "            y=1.00,\n",
    "            xanchor=\"center\",\n",
    "            x=0.5\n",
    "            ),\n",
    "        )\n",
    "\n",
    "    fig.add_shape(type=\"rect\", x0=-10, x1=0,  y0=0, y1=53.3,line=dict(color=\"#c8ddc0\",width=3),fillcolor=\"#217b00\" ,layer=\"below\")\n",
    "    fig.add_shape(type=\"rect\", x0=100, x1=110, y0=0, y1=53.3,line=dict(color=\"#c8ddc0\",width=3),fillcolor=\"#217b00\" ,layer=\"below\")\n",
    "    for x in range(0, 100, 10):\n",
    "        fig.add_shape(type=\"rect\", x0=x,   x1=x+10, y0=0, y1=53.3,line=dict(color=\"#c8ddc0\",width=3),fillcolor=\"#29a500\" ,layer=\"below\")\n",
    "    for x in range(0, 100, 1):\n",
    "        fig.add_shape(type=\"line\",x0=x, y0=1, x1=x, y1=2,line=dict(color=\"#c8ddc0\",width=2),layer=\"below\")\n",
    "    for x in range(0, 100, 1):\n",
    "        fig.add_shape(type=\"line\",x0=x, y0=51.3, x1=x, y1=52.3,line=dict(color=\"#c8ddc0\",width=2),layer=\"below\")\n",
    "\n",
    "    for x in range(0, 100, 1):\n",
    "        fig.add_shape(type=\"line\",x0=x, y0=20.0, x1=x, y1=21,line=dict(color=\"#c8ddc0\",width=2),layer=\"below\")\n",
    "    for x in range(0, 100, 1):\n",
    "        fig.add_shape(type=\"line\",x0=x, y0=32.3, x1=x, y1=33.3,line=dict(color=\"#c8ddc0\",width=2),layer=\"below\")\n",
    "\n",
    "    fig.add_trace(go.Scatter(\n",
    "        x=[2,10,20,30,40,50,60,70,80,90,98], y=[5,5,5,5,5,5,5,5,5,5,5],\n",
    "        text=[\"G\",\"1 0\",\"2 0\",\"3 0\",\"4 0\",\"5 0\",\"4 0\",\"3 0\",\"2 0\",\"1 0\",\"G\"],\n",
    "        mode=\"text\",\n",
    "        textfont=dict(size=20,family=\"Arial\"),\n",
    "        showlegend=False,\n",
    "        ))\n",
    "\n",
    "    fig.add_trace(go.Scatter(\n",
    "        x=[2,10,20,30,40,50,60,70,80,90,98], y=[48.3,48.3,48.3,48.3,48.3,48.3,48.3,48.3,48.3,48.3,48.3],\n",
    "        text=[\"G\",\"1 0\",\"2 0\",\"3 0\",\"4 0\",\"5 0\",\"4 0\",\"3 0\",\"2 0\",\"1 0\",\"G\"],\n",
    "        mode=\"text\",\n",
    "        textfont=dict(size=20,family=\"Arial\"),\n",
    "        showlegend=False,\n",
    "        ))\n",
    "\n",
    "    fig.show()"
   ]
  },
  {
   "cell_type": "code",
   "execution_count": 78,
   "id": "9a472083",
   "metadata": {},
   "outputs": [
    {
     "data": {
      "application/vnd.plotly.v1+json": {
       "config": {
        "plotlyServerURL": "https://plot.ly"
       },
       "data": [
        {
         "hovertemplate": "team=TB<br>time=2021-09-10T01:06:01.500<br>x=%{x}<br>y=%{y}<extra></extra>",
         "legendgroup": "TB",
         "marker": {
          "color": "#636efa",
          "size": 9,
          "symbol": "circle"
         },
         "mode": "markers",
         "name": "TB",
         "orientation": "v",
         "showlegend": true,
         "type": "scatter",
         "x": [
          17.25,
          17.33,
          21.07,
          20,
          17.59,
          17.63,
          25.76,
          20.78,
          24.09,
          28.68,
          30.15
         ],
         "xaxis": "x",
         "y": [
          31.71,
          35.06,
          22.28,
          37.19,
          24.71,
          29.42,
          9.85,
          29.29,
          45.57,
          35.9,
          20.45
         ],
         "yaxis": "y"
        },
        {
         "hovertemplate": "team=DAL<br>time=2021-09-10T01:06:01.500<br>x=%{x}<br>y=%{y}<extra></extra>",
         "legendgroup": "DAL",
         "marker": {
          "color": "#EF553B",
          "size": 9,
          "symbol": "circle"
         },
         "mode": "markers",
         "name": "DAL",
         "orientation": "v",
         "showlegend": true,
         "type": "scatter",
         "x": [
          15.36,
          16.15,
          15.36,
          12.26,
          15.83,
          14.97,
          15.19,
          15.69,
          12.11,
          16.25,
          16.06
         ],
         "xaxis": "x",
         "y": [
          33.05,
          46.56,
          26.93,
          29.8,
          31.47,
          8.52,
          37.81,
          28.48,
          27.02,
          18.29,
          29.55
         ],
         "yaxis": "y"
        },
        {
         "hovertemplate": "team=football<br>time=2021-09-10T01:06:01.500<br>x=%{x}<br>y=%{y}<extra></extra>",
         "legendgroup": "football",
         "marker": {
          "color": "#00cc96",
          "size": 9,
          "symbol": "circle"
         },
         "mode": "markers",
         "name": "football",
         "orientation": "v",
         "showlegend": true,
         "type": "scatter",
         "x": [
          17.14
         ],
         "xaxis": "x",
         "y": [
          30
         ],
         "yaxis": "y"
        },
        {
         "mode": "text",
         "showlegend": false,
         "text": [
          "G",
          "1 0",
          "2 0",
          "3 0",
          "4 0",
          "5 0",
          "4 0",
          "3 0",
          "2 0",
          "1 0",
          "G"
         ],
         "textfont": {
          "family": "Arial",
          "size": 20
         },
         "type": "scatter",
         "x": [
          2,
          10,
          20,
          30,
          40,
          50,
          60,
          70,
          80,
          90,
          98
         ],
         "y": [
          5,
          5,
          5,
          5,
          5,
          5,
          5,
          5,
          5,
          5,
          5
         ]
        },
        {
         "mode": "text",
         "showlegend": false,
         "text": [
          "G",
          "1 0",
          "2 0",
          "3 0",
          "4 0",
          "5 0",
          "4 0",
          "3 0",
          "2 0",
          "1 0",
          "G"
         ],
         "textfont": {
          "family": "Arial",
          "size": 20
         },
         "type": "scatter",
         "x": [
          2,
          10,
          20,
          30,
          40,
          50,
          60,
          70,
          80,
          90,
          98
         ],
         "y": [
          48.3,
          48.3,
          48.3,
          48.3,
          48.3,
          48.3,
          48.3,
          48.3,
          48.3,
          48.3,
          48.3
         ]
        }
       ],
       "frames": [
        {
         "data": [
          {
           "hovertemplate": "team=TB<br>time=2021-09-10T01:06:01.500<br>x=%{x}<br>y=%{y}<extra></extra>",
           "legendgroup": "TB",
           "marker": {
            "color": "#636efa",
            "symbol": "circle"
           },
           "mode": "markers",
           "name": "TB",
           "orientation": "v",
           "showlegend": true,
           "type": "scatter",
           "x": [
            17.25,
            17.33,
            21.07,
            20,
            17.59,
            17.63,
            25.76,
            20.78,
            24.09,
            28.68,
            30.15
           ],
           "xaxis": "x",
           "y": [
            31.71,
            35.06,
            22.28,
            37.19,
            24.71,
            29.42,
            9.85,
            29.29,
            45.57,
            35.9,
            20.45
           ],
           "yaxis": "y"
          },
          {
           "hovertemplate": "team=DAL<br>time=2021-09-10T01:06:01.500<br>x=%{x}<br>y=%{y}<extra></extra>",
           "legendgroup": "DAL",
           "marker": {
            "color": "#EF553B",
            "symbol": "circle"
           },
           "mode": "markers",
           "name": "DAL",
           "orientation": "v",
           "showlegend": true,
           "type": "scatter",
           "x": [
            15.36,
            16.15,
            15.36,
            12.26,
            15.83,
            14.97,
            15.19,
            15.69,
            12.11,
            16.25,
            16.06
           ],
           "xaxis": "x",
           "y": [
            33.05,
            46.56,
            26.93,
            29.8,
            31.47,
            8.52,
            37.81,
            28.48,
            27.02,
            18.29,
            29.55
           ],
           "yaxis": "y"
          },
          {
           "hovertemplate": "team=football<br>time=2021-09-10T01:06:01.500<br>x=%{x}<br>y=%{y}<extra></extra>",
           "legendgroup": "football",
           "marker": {
            "color": "#00cc96",
            "symbol": "circle"
           },
           "mode": "markers",
           "name": "football",
           "orientation": "v",
           "showlegend": true,
           "type": "scatter",
           "x": [
            17.14
           ],
           "xaxis": "x",
           "y": [
            30
           ],
           "yaxis": "y"
          }
         ],
         "name": "2021-09-10T01:06:01.500"
        },
        {
         "data": [
          {
           "hovertemplate": "team=TB<br>time=2021-09-10T01:06:01.600<br>x=%{x}<br>y=%{y}<extra></extra>",
           "legendgroup": "TB",
           "marker": {
            "color": "#636efa",
            "symbol": "circle"
           },
           "mode": "markers",
           "name": "TB",
           "orientation": "v",
           "showlegend": true,
           "type": "scatter",
           "x": [
            17.25,
            17.33,
            21.08,
            19.98,
            17.58,
            17.61,
            25.75,
            20.78,
            24.1,
            28.77,
            30.27
           ],
           "xaxis": "x",
           "y": [
            31.75,
            35.07,
            22.02,
            37.15,
            24.7,
            29.43,
            9.79,
            29.27,
            45.56,
            35.95,
            20.39
           ],
           "yaxis": "y"
          },
          {
           "hovertemplate": "team=DAL<br>time=2021-09-10T01:06:01.600<br>x=%{x}<br>y=%{y}<extra></extra>",
           "legendgroup": "DAL",
           "marker": {
            "color": "#EF553B",
            "symbol": "circle"
           },
           "mode": "markers",
           "name": "DAL",
           "orientation": "v",
           "showlegend": true,
           "type": "scatter",
           "x": [
            15.36,
            16.16,
            15.36,
            12.27,
            15.83,
            14.96,
            15.18,
            15.68,
            12.16,
            16.25,
            16.05
           ],
           "xaxis": "x",
           "y": [
            33.05,
            46.57,
            26.92,
            29.82,
            31.47,
            8.52,
            37.81,
            28.49,
            27.03,
            18.29,
            29.54
           ],
           "yaxis": "y"
          },
          {
           "hovertemplate": "team=football<br>time=2021-09-10T01:06:01.600<br>x=%{x}<br>y=%{y}<extra></extra>",
           "legendgroup": "football",
           "marker": {
            "color": "#00cc96",
            "symbol": "circle"
           },
           "mode": "markers",
           "name": "football",
           "orientation": "v",
           "showlegend": true,
           "type": "scatter",
           "x": [
            17.07
           ],
           "xaxis": "x",
           "y": [
            30.02
           ],
           "yaxis": "y"
          }
         ],
         "name": "2021-09-10T01:06:01.600"
        },
        {
         "data": [
          {
           "hovertemplate": "team=TB<br>time=2021-09-10T01:06:01.700<br>x=%{x}<br>y=%{y}<extra></extra>",
           "legendgroup": "TB",
           "marker": {
            "color": "#636efa",
            "symbol": "circle"
           },
           "mode": "markers",
           "name": "TB",
           "orientation": "v",
           "showlegend": true,
           "type": "scatter",
           "x": [
            17.25,
            17.33,
            21.08,
            19.97,
            17.57,
            17.6,
            25.75,
            20.77,
            24.12,
            28.86,
            30.38
           ],
           "xaxis": "x",
           "y": [
            31.77,
            35.06,
            21.79,
            37.13,
            24.69,
            29.47,
            9.76,
            29.28,
            45.55,
            36,
            20.35
           ],
           "yaxis": "y"
          },
          {
           "hovertemplate": "team=DAL<br>time=2021-09-10T01:06:01.700<br>x=%{x}<br>y=%{y}<extra></extra>",
           "legendgroup": "DAL",
           "marker": {
            "color": "#EF553B",
            "symbol": "circle"
           },
           "mode": "markers",
           "name": "DAL",
           "orientation": "v",
           "showlegend": true,
           "type": "scatter",
           "x": [
            15.36,
            16.16,
            15.36,
            12.27,
            15.83,
            14.95,
            15.18,
            15.69,
            12.22,
            16.26,
            16.02
           ],
           "xaxis": "x",
           "y": [
            33.04,
            46.57,
            26.92,
            29.83,
            31.48,
            8.51,
            37.81,
            28.49,
            27.04,
            18.29,
            29.54
           ],
           "yaxis": "y"
          },
          {
           "hovertemplate": "team=football<br>time=2021-09-10T01:06:01.700<br>x=%{x}<br>y=%{y}<extra></extra>",
           "legendgroup": "football",
           "marker": {
            "color": "#00cc96",
            "symbol": "circle"
           },
           "mode": "markers",
           "name": "football",
           "orientation": "v",
           "showlegend": true,
           "type": "scatter",
           "x": [
            16.96
           ],
           "xaxis": "x",
           "y": [
            30.04
           ],
           "yaxis": "y"
          }
         ],
         "name": "2021-09-10T01:06:01.700"
        },
        {
         "data": [
          {
           "hovertemplate": "team=TB<br>time=2021-09-10T01:06:01.800<br>x=%{x}<br>y=%{y}<extra></extra>",
           "legendgroup": "TB",
           "marker": {
            "color": "#636efa",
            "symbol": "circle"
           },
           "mode": "markers",
           "name": "TB",
           "orientation": "v",
           "showlegend": true,
           "type": "scatter",
           "x": [
            17.25,
            17.33,
            21.09,
            19.97,
            17.57,
            17.6,
            25.75,
            20.77,
            24.15,
            28.94,
            30.48
           ],
           "xaxis": "x",
           "y": [
            31.8,
            35.06,
            21.6,
            37.1,
            24.7,
            29.51,
            9.74,
            29.29,
            45.55,
            36.05,
            20.31
           ],
           "yaxis": "y"
          },
          {
           "hovertemplate": "team=DAL<br>time=2021-09-10T01:06:01.800<br>x=%{x}<br>y=%{y}<extra></extra>",
           "legendgroup": "DAL",
           "marker": {
            "color": "#EF553B",
            "symbol": "circle"
           },
           "mode": "markers",
           "name": "DAL",
           "orientation": "v",
           "showlegend": true,
           "type": "scatter",
           "x": [
            15.36,
            16.16,
            15.36,
            12.26,
            15.81,
            14.94,
            15.18,
            15.7,
            12.27,
            16.25,
            15.97
           ],
           "xaxis": "x",
           "y": [
            33.05,
            46.57,
            26.91,
            29.83,
            31.48,
            8.51,
            37.82,
            28.45,
            27.03,
            18.29,
            29.56
           ],
           "yaxis": "y"
          },
          {
           "hovertemplate": "team=football<br>time=2021-09-10T01:06:01.800<br>x=%{x}<br>y=%{y}<extra></extra>",
           "legendgroup": "football",
           "marker": {
            "color": "#00cc96",
            "symbol": "circle"
           },
           "mode": "markers",
           "name": "football",
           "orientation": "v",
           "showlegend": true,
           "type": "scatter",
           "x": [
            16.69
           ],
           "xaxis": "x",
           "y": [
            30.05
           ],
           "yaxis": "y"
          }
         ],
         "name": "2021-09-10T01:06:01.800"
        },
        {
         "data": [
          {
           "hovertemplate": "team=TB<br>time=2021-09-10T01:06:01.900<br>x=%{x}<br>y=%{y}<extra></extra>",
           "legendgroup": "TB",
           "marker": {
            "color": "#636efa",
            "symbol": "circle"
           },
           "mode": "markers",
           "name": "TB",
           "orientation": "v",
           "showlegend": true,
           "type": "scatter",
           "x": [
            17.26,
            17.31,
            21.1,
            19.97,
            17.55,
            17.5,
            25.77,
            20.76,
            24.17,
            29.01,
            30.57
           ],
           "xaxis": "x",
           "y": [
            31.82,
            35.06,
            21.42,
            37.08,
            24.7,
            29.51,
            9.72,
            29.29,
            45.56,
            36.11,
            20.29
           ],
           "yaxis": "y"
          },
          {
           "hovertemplate": "team=DAL<br>time=2021-09-10T01:06:01.900<br>x=%{x}<br>y=%{y}<extra></extra>",
           "legendgroup": "DAL",
           "marker": {
            "color": "#EF553B",
            "symbol": "circle"
           },
           "mode": "markers",
           "name": "DAL",
           "orientation": "v",
           "showlegend": true,
           "type": "scatter",
           "x": [
            15.35,
            16.16,
            15.35,
            12.26,
            15.79,
            14.95,
            15.19,
            15.69,
            12.32,
            16.25,
            15.92
           ],
           "xaxis": "x",
           "y": [
            33.05,
            46.57,
            26.91,
            29.84,
            31.49,
            8.51,
            37.82,
            28.44,
            27.01,
            18.28,
            29.6
           ],
           "yaxis": "y"
          },
          {
           "hovertemplate": "team=football<br>time=2021-09-10T01:06:01.900<br>x=%{x}<br>y=%{y}<extra></extra>",
           "legendgroup": "football",
           "marker": {
            "color": "#00cc96",
            "symbol": "circle"
           },
           "mode": "markers",
           "name": "football",
           "orientation": "v",
           "showlegend": true,
           "type": "scatter",
           "x": [
            16.33
           ],
           "xaxis": "x",
           "y": [
            30.03
           ],
           "yaxis": "y"
          }
         ],
         "name": "2021-09-10T01:06:01.900"
        },
        {
         "data": [
          {
           "hovertemplate": "team=TB<br>time=2021-09-10T01:06:02.000<br>x=%{x}<br>y=%{y}<extra></extra>",
           "legendgroup": "TB",
           "marker": {
            "color": "#636efa",
            "symbol": "circle"
           },
           "mode": "markers",
           "name": "TB",
           "orientation": "v",
           "showlegend": true,
           "type": "scatter",
           "x": [
            17.26,
            17.29,
            21.11,
            19.97,
            17.53,
            17.43,
            25.78,
            20.76,
            24.2,
            29.08,
            30.63
           ],
           "xaxis": "x",
           "y": [
            31.84,
            35.06,
            21.25,
            37.06,
            24.72,
            29.44,
            9.73,
            29.28,
            45.58,
            36.16,
            20.25
           ],
           "yaxis": "y"
          },
          {
           "hovertemplate": "team=DAL<br>time=2021-09-10T01:06:02.000<br>x=%{x}<br>y=%{y}<extra></extra>",
           "legendgroup": "DAL",
           "marker": {
            "color": "#EF553B",
            "symbol": "circle"
           },
           "mode": "markers",
           "name": "DAL",
           "orientation": "v",
           "showlegend": true,
           "type": "scatter",
           "x": [
            15.33,
            16.16,
            15.35,
            12.24,
            15.76,
            14.96,
            15.2,
            15.64,
            12.36,
            16.27,
            15.89
           ],
           "xaxis": "x",
           "y": [
            33.05,
            46.55,
            26.9,
            29.84,
            31.5,
            8.52,
            37.82,
            28.49,
            26.99,
            18.28,
            29.64
           ],
           "yaxis": "y"
          },
          {
           "hovertemplate": "team=football<br>time=2021-09-10T01:06:02.000<br>x=%{x}<br>y=%{y}<extra></extra>",
           "legendgroup": "football",
           "marker": {
            "color": "#00cc96",
            "symbol": "circle"
           },
           "mode": "markers",
           "name": "football",
           "orientation": "v",
           "showlegend": true,
           "type": "scatter",
           "x": [
            16.06
           ],
           "xaxis": "x",
           "y": [
            30.03
           ],
           "yaxis": "y"
          }
         ],
         "name": "2021-09-10T01:06:02.000"
        },
        {
         "data": [
          {
           "hovertemplate": "team=TB<br>time=2021-09-10T01:06:02.100<br>x=%{x}<br>y=%{y}<extra></extra>",
           "legendgroup": "TB",
           "marker": {
            "color": "#636efa",
            "symbol": "circle"
           },
           "mode": "markers",
           "name": "TB",
           "orientation": "v",
           "showlegend": true,
           "type": "scatter",
           "x": [
            17.22,
            17.23,
            21.13,
            19.98,
            17.49,
            17.36,
            25.8,
            20.75,
            24.23,
            29.14,
            30.68
           ],
           "xaxis": "x",
           "y": [
            31.91,
            35.05,
            21.11,
            37.05,
            24.75,
            29.46,
            9.74,
            29.27,
            45.6,
            36.21,
            20.23
           ],
           "yaxis": "y"
          },
          {
           "hovertemplate": "team=DAL<br>time=2021-09-10T01:06:02.100<br>x=%{x}<br>y=%{y}<extra></extra>",
           "legendgroup": "DAL",
           "marker": {
            "color": "#EF553B",
            "symbol": "circle"
           },
           "mode": "markers",
           "name": "DAL",
           "orientation": "v",
           "showlegend": true,
           "type": "scatter",
           "x": [
            15.3,
            16.18,
            15.32,
            12.23,
            15.72,
            14.98,
            15.22,
            15.59,
            12.26,
            16.29,
            15.85
           ],
           "xaxis": "x",
           "y": [
            33.05,
            46.53,
            26.88,
            29.84,
            31.51,
            8.52,
            37.83,
            28.49,
            26.98,
            18.28,
            29.69
           ],
           "yaxis": "y"
          },
          {
           "hovertemplate": "team=football<br>time=2021-09-10T01:06:02.100<br>x=%{x}<br>y=%{y}<extra></extra>",
           "legendgroup": "football",
           "marker": {
            "color": "#00cc96",
            "symbol": "circle"
           },
           "mode": "markers",
           "name": "football",
           "orientation": "v",
           "showlegend": true,
           "type": "scatter",
           "x": [
            15.7
           ],
           "xaxis": "x",
           "y": [
            30.01
           ],
           "yaxis": "y"
          }
         ],
         "name": "2021-09-10T01:06:02.100"
        },
        {
         "data": [
          {
           "hovertemplate": "team=TB<br>time=2021-09-10T01:06:02.200<br>x=%{x}<br>y=%{y}<extra></extra>",
           "legendgroup": "TB",
           "marker": {
            "color": "#636efa",
            "symbol": "circle"
           },
           "mode": "markers",
           "name": "TB",
           "orientation": "v",
           "showlegend": true,
           "type": "scatter",
           "x": [
            17.18,
            17.17,
            21.14,
            19.99,
            17.43,
            17.29,
            25.83,
            20.74,
            24.27,
            29.19,
            30.71
           ],
           "xaxis": "x",
           "y": [
            31.97,
            35.03,
            20.97,
            37.03,
            24.78,
            29.48,
            9.75,
            29.23,
            45.62,
            36.26,
            20.22
           ],
           "yaxis": "y"
          },
          {
           "hovertemplate": "team=DAL<br>time=2021-09-10T01:06:02.200<br>x=%{x}<br>y=%{y}<extra></extra>",
           "legendgroup": "DAL",
           "marker": {
            "color": "#EF553B",
            "symbol": "circle"
           },
           "mode": "markers",
           "name": "DAL",
           "orientation": "v",
           "showlegend": true,
           "type": "scatter",
           "x": [
            15.25,
            16.2,
            15.31,
            12.21,
            15.65,
            15.03,
            15.25,
            15.55,
            12.2,
            16.31,
            15.77
           ],
           "xaxis": "x",
           "y": [
            33.07,
            46.54,
            26.87,
            29.83,
            31.55,
            8.51,
            37.83,
            28.46,
            26.97,
            18.29,
            29.75
           ],
           "yaxis": "y"
          },
          {
           "hovertemplate": "team=football<br>time=2021-09-10T01:06:02.200<br>x=%{x}<br>y=%{y}<extra></extra>",
           "legendgroup": "football",
           "marker": {
            "color": "#00cc96",
            "symbol": "circle"
           },
           "mode": "markers",
           "name": "football",
           "orientation": "v",
           "showlegend": true,
           "type": "scatter",
           "x": [
            15.36
           ],
           "xaxis": "x",
           "y": [
            29.99
           ],
           "yaxis": "y"
          }
         ],
         "name": "2021-09-10T01:06:02.200"
        },
        {
         "data": [
          {
           "hovertemplate": "team=TB<br>time=2021-09-10T01:06:02.300<br>x=%{x}<br>y=%{y}<extra></extra>",
           "legendgroup": "TB",
           "marker": {
            "color": "#636efa",
            "symbol": "circle"
           },
           "mode": "markers",
           "name": "TB",
           "orientation": "v",
           "showlegend": true,
           "type": "scatter",
           "x": [
            17.14,
            17.08,
            21.16,
            20,
            17.34,
            17.2,
            25.87,
            20.72,
            24.33,
            29.23,
            30.73
           ],
           "xaxis": "x",
           "y": [
            32.03,
            35.01,
            20.85,
            37.02,
            24.81,
            29.49,
            9.77,
            29.19,
            45.62,
            36.3,
            20.21
           ],
           "yaxis": "y"
          },
          {
           "hovertemplate": "team=DAL<br>time=2021-09-10T01:06:02.300<br>x=%{x}<br>y=%{y}<extra></extra>",
           "legendgroup": "DAL",
           "marker": {
            "color": "#EF553B",
            "symbol": "circle"
           },
           "mode": "markers",
           "name": "DAL",
           "orientation": "v",
           "showlegend": true,
           "type": "scatter",
           "x": [
            15.19,
            16.23,
            15.27,
            12.18,
            15.56,
            15.08,
            15.33,
            15.48,
            12.18,
            16.37,
            15.66
           ],
           "xaxis": "x",
           "y": [
            33.08,
            46.53,
            26.84,
            29.84,
            31.59,
            8.51,
            37.83,
            28.46,
            27,
            18.29,
            29.82
           ],
           "yaxis": "y"
          },
          {
           "hovertemplate": "team=football<br>time=2021-09-10T01:06:02.300<br>x=%{x}<br>y=%{y}<extra></extra>",
           "legendgroup": "football",
           "marker": {
            "color": "#00cc96",
            "symbol": "circle"
           },
           "mode": "markers",
           "name": "football",
           "orientation": "v",
           "showlegend": true,
           "type": "scatter",
           "x": [
            14.91
           ],
           "xaxis": "x",
           "y": [
            29.96
           ],
           "yaxis": "y"
          }
         ],
         "name": "2021-09-10T01:06:02.300"
        },
        {
         "data": [
          {
           "hovertemplate": "team=TB<br>time=2021-09-10T01:06:02.400<br>x=%{x}<br>y=%{y}<extra></extra>",
           "legendgroup": "TB",
           "marker": {
            "color": "#636efa",
            "symbol": "circle"
           },
           "mode": "markers",
           "name": "TB",
           "orientation": "v",
           "showlegend": true,
           "type": "scatter",
           "x": [
            17.07,
            16.97,
            21.19,
            20.02,
            17.19,
            17.1,
            25.93,
            20.7,
            24.4,
            29.27,
            30.75
           ],
           "xaxis": "x",
           "y": [
            32.09,
            34.99,
            20.75,
            37.01,
            24.85,
            29.5,
            9.8,
            29.15,
            45.61,
            36.35,
            20.2
           ],
           "yaxis": "y"
          },
          {
           "hovertemplate": "team=DAL<br>time=2021-09-10T01:06:02.400<br>x=%{x}<br>y=%{y}<extra></extra>",
           "legendgroup": "DAL",
           "marker": {
            "color": "#EF553B",
            "symbol": "circle"
           },
           "mode": "markers",
           "name": "DAL",
           "orientation": "v",
           "showlegend": true,
           "type": "scatter",
           "x": [
            15.1,
            16.25,
            15.2,
            12.13,
            15.44,
            15.15,
            15.46,
            15.39,
            12.17,
            16.47,
            15.57
           ],
           "xaxis": "x",
           "y": [
            33.12,
            46.53,
            26.78,
            29.84,
            31.67,
            8.52,
            37.84,
            28.46,
            27.01,
            18.28,
            29.86
           ],
           "yaxis": "y"
          },
          {
           "hovertemplate": "team=football<br>time=2021-09-10T01:06:02.400<br>x=%{x}<br>y=%{y}<extra></extra>",
           "legendgroup": "football",
           "marker": {
            "color": "#00cc96",
            "symbol": "circle"
           },
           "mode": "markers",
           "name": "football",
           "orientation": "v",
           "showlegend": true,
           "type": "scatter",
           "x": [
            14.48
           ],
           "xaxis": "x",
           "y": [
            29.93
           ],
           "yaxis": "y"
          }
         ],
         "name": "2021-09-10T01:06:02.400"
        },
        {
         "data": [
          {
           "hovertemplate": "team=TB<br>time=2021-09-10T01:06:02.500<br>x=%{x}<br>y=%{y}<extra></extra>",
           "legendgroup": "TB",
           "marker": {
            "color": "#636efa",
            "symbol": "circle"
           },
           "mode": "markers",
           "name": "TB",
           "orientation": "v",
           "showlegend": true,
           "type": "scatter",
           "x": [
            16.97,
            16.78,
            21.22,
            20.05,
            16.99,
            16.95,
            26.01,
            20.68,
            24.49,
            29.31,
            30.77
           ],
           "xaxis": "x",
           "y": [
            32.16,
            34.98,
            20.65,
            37.01,
            24.89,
            29.54,
            9.83,
            29.1,
            45.6,
            36.36,
            20.17
           ],
           "yaxis": "y"
          },
          {
           "hovertemplate": "team=DAL<br>time=2021-09-10T01:06:02.500<br>x=%{x}<br>y=%{y}<extra></extra>",
           "legendgroup": "DAL",
           "marker": {
            "color": "#EF553B",
            "symbol": "circle"
           },
           "mode": "markers",
           "name": "DAL",
           "orientation": "v",
           "showlegend": true,
           "type": "scatter",
           "x": [
            14.98,
            16.31,
            15.1,
            12.05,
            15.31,
            15.28,
            15.66,
            15.29,
            12.16,
            16.64,
            15.46
           ],
           "xaxis": "x",
           "y": [
            33.14,
            46.51,
            26.69,
            29.84,
            31.74,
            8.52,
            37.85,
            28.46,
            27,
            18.27,
            29.9
           ],
           "yaxis": "y"
          },
          {
           "hovertemplate": "team=football<br>time=2021-09-10T01:06:02.500<br>x=%{x}<br>y=%{y}<extra></extra>",
           "legendgroup": "football",
           "marker": {
            "color": "#00cc96",
            "symbol": "circle"
           },
           "mode": "markers",
           "name": "football",
           "orientation": "v",
           "showlegend": true,
           "type": "scatter",
           "x": [
            13.96
           ],
           "xaxis": "x",
           "y": [
            29.88
           ],
           "yaxis": "y"
          }
         ],
         "name": "2021-09-10T01:06:02.500"
        },
        {
         "data": [
          {
           "hovertemplate": "team=TB<br>time=2021-09-10T01:06:02.600<br>x=%{x}<br>y=%{y}<extra></extra>",
           "legendgroup": "TB",
           "marker": {
            "color": "#636efa",
            "symbol": "circle"
           },
           "mode": "markers",
           "name": "TB",
           "orientation": "v",
           "showlegend": true,
           "type": "scatter",
           "x": [
            16.82,
            16.59,
            21.27,
            20.08,
            16.73,
            16.75,
            26.1,
            20.67,
            24.59,
            29.37,
            30.8
           ],
           "xaxis": "x",
           "y": [
            32.24,
            34.94,
            20.54,
            37,
            24.92,
            29.58,
            9.85,
            29.02,
            45.58,
            36.36,
            20.15
           ],
           "yaxis": "y"
          },
          {
           "hovertemplate": "team=DAL<br>time=2021-09-10T01:06:02.600<br>x=%{x}<br>y=%{y}<extra></extra>",
           "legendgroup": "DAL",
           "marker": {
            "color": "#EF553B",
            "symbol": "circle"
           },
           "mode": "markers",
           "name": "DAL",
           "orientation": "v",
           "showlegend": true,
           "type": "scatter",
           "x": [
            14.85,
            16.41,
            14.96,
            11.91,
            15.18,
            15.49,
            15.91,
            15.17,
            12.15,
            16.88,
            15.35
           ],
           "xaxis": "x",
           "y": [
            33.18,
            46.5,
            26.57,
            29.85,
            31.81,
            8.52,
            37.88,
            28.46,
            27.04,
            18.25,
            29.95
           ],
           "yaxis": "y"
          },
          {
           "hovertemplate": "team=football<br>time=2021-09-10T01:06:02.600<br>x=%{x}<br>y=%{y}<extra></extra>",
           "legendgroup": "football",
           "marker": {
            "color": "#00cc96",
            "symbol": "circle"
           },
           "mode": "markers",
           "name": "football",
           "orientation": "v",
           "showlegend": true,
           "type": "scatter",
           "x": [
            13.32
           ],
           "xaxis": "x",
           "y": [
            29.87
           ],
           "yaxis": "y"
          }
         ],
         "name": "2021-09-10T01:06:02.600"
        },
        {
         "data": [
          {
           "hovertemplate": "team=TB<br>time=2021-09-10T01:06:02.700<br>x=%{x}<br>y=%{y}<extra></extra>",
           "legendgroup": "TB",
           "marker": {
            "color": "#636efa",
            "symbol": "circle"
           },
           "mode": "markers",
           "name": "TB",
           "orientation": "v",
           "showlegend": true,
           "type": "scatter",
           "x": [
            16.63,
            16.33,
            21.32,
            20.11,
            16.42,
            16.53,
            26.21,
            20.67,
            24.72,
            29.44,
            30.84
           ],
           "xaxis": "x",
           "y": [
            32.31,
            34.89,
            20.42,
            37.01,
            24.94,
            29.6,
            9.87,
            28.91,
            45.56,
            36.37,
            20.13
           ],
           "yaxis": "y"
          },
          {
           "hovertemplate": "team=DAL<br>time=2021-09-10T01:06:02.700<br>x=%{x}<br>y=%{y}<extra></extra>",
           "legendgroup": "DAL",
           "marker": {
            "color": "#EF553B",
            "symbol": "circle"
           },
           "mode": "markers",
           "name": "DAL",
           "orientation": "v",
           "showlegend": true,
           "type": "scatter",
           "x": [
            14.65,
            16.59,
            14.8,
            11.73,
            15.01,
            15.78,
            16.22,
            15.03,
            12.14,
            17.19,
            15.23
           ],
           "xaxis": "x",
           "y": [
            33.24,
            46.5,
            26.42,
            29.85,
            31.85,
            8.52,
            37.92,
            28.48,
            27.09,
            18.2,
            29.96
           ],
           "yaxis": "y"
          },
          {
           "hovertemplate": "team=football<br>time=2021-09-10T01:06:02.700<br>x=%{x}<br>y=%{y}<extra></extra>",
           "legendgroup": "football",
           "marker": {
            "color": "#00cc96",
            "symbol": "circle"
           },
           "mode": "markers",
           "name": "football",
           "orientation": "v",
           "showlegend": true,
           "type": "scatter",
           "x": [
            12.72
           ],
           "xaxis": "x",
           "y": [
            29.81
           ],
           "yaxis": "y"
          }
         ],
         "name": "2021-09-10T01:06:02.700"
        },
        {
         "data": [
          {
           "hovertemplate": "team=TB<br>time=2021-09-10T01:06:02.800<br>x=%{x}<br>y=%{y}<extra></extra>",
           "legendgroup": "TB",
           "marker": {
            "color": "#636efa",
            "symbol": "circle"
           },
           "mode": "markers",
           "name": "TB",
           "orientation": "v",
           "showlegend": true,
           "type": "scatter",
           "x": [
            16.4,
            16.04,
            21.4,
            20.17,
            16.09,
            16.28,
            26.34,
            20.67,
            24.89,
            29.52,
            30.89
           ],
           "xaxis": "x",
           "y": [
            32.37,
            34.84,
            20.26,
            37.05,
            24.98,
            29.61,
            9.87,
            28.78,
            45.55,
            36.37,
            20.11
           ],
           "yaxis": "y"
          },
          {
           "hovertemplate": "team=DAL<br>time=2021-09-10T01:06:02.800<br>x=%{x}<br>y=%{y}<extra></extra>",
           "legendgroup": "DAL",
           "marker": {
            "color": "#EF553B",
            "symbol": "circle"
           },
           "mode": "markers",
           "name": "DAL",
           "orientation": "v",
           "showlegend": true,
           "type": "scatter",
           "x": [
            14.45,
            16.83,
            14.6,
            11.52,
            14.86,
            16.13,
            16.58,
            14.88,
            12.14,
            17.54,
            15.1
           ],
           "xaxis": "x",
           "y": [
            33.31,
            46.52,
            26.25,
            29.85,
            31.92,
            8.5,
            37.96,
            28.49,
            27.14,
            18.14,
            29.95
           ],
           "yaxis": "y"
          },
          {
           "hovertemplate": "team=football<br>time=2021-09-10T01:06:02.800<br>x=%{x}<br>y=%{y}<extra></extra>",
           "legendgroup": "football",
           "marker": {
            "color": "#00cc96",
            "symbol": "circle"
           },
           "mode": "markers",
           "name": "football",
           "orientation": "v",
           "showlegend": true,
           "type": "scatter",
           "x": [
            12.25
           ],
           "xaxis": "x",
           "y": [
            29.74
           ],
           "yaxis": "y"
          }
         ],
         "name": "2021-09-10T01:06:02.800"
        },
        {
         "data": [
          {
           "hovertemplate": "team=TB<br>time=2021-09-10T01:06:02.900<br>x=%{x}<br>y=%{y}<extra></extra>",
           "legendgroup": "TB",
           "marker": {
            "color": "#636efa",
            "symbol": "circle"
           },
           "mode": "markers",
           "name": "TB",
           "orientation": "v",
           "showlegend": true,
           "type": "scatter",
           "x": [
            16.14,
            15.71,
            21.5,
            20.23,
            15.72,
            16.02,
            26.49,
            20.69,
            25.08,
            29.63,
            30.97
           ],
           "xaxis": "x",
           "y": [
            32.42,
            34.79,
            20.07,
            37.12,
            25.01,
            29.6,
            9.85,
            28.63,
            45.53,
            36.36,
            20.09
           ],
           "yaxis": "y"
          },
          {
           "hovertemplate": "team=DAL<br>time=2021-09-10T01:06:02.900<br>x=%{x}<br>y=%{y}<extra></extra>",
           "legendgroup": "DAL",
           "marker": {
            "color": "#EF553B",
            "symbol": "circle"
           },
           "mode": "markers",
           "name": "DAL",
           "orientation": "v",
           "showlegend": true,
           "type": "scatter",
           "x": [
            14.25,
            17.14,
            14.39,
            11.29,
            14.71,
            16.56,
            17.01,
            14.72,
            12.14,
            17.94,
            14.98
           ],
           "xaxis": "x",
           "y": [
            33.35,
            46.54,
            26.1,
            29.87,
            31.98,
            8.49,
            38.03,
            28.49,
            27.19,
            18.05,
            29.94
           ],
           "yaxis": "y"
          },
          {
           "hovertemplate": "team=football<br>time=2021-09-10T01:06:02.900<br>x=%{x}<br>y=%{y}<extra></extra>",
           "legendgroup": "football",
           "marker": {
            "color": "#00cc96",
            "symbol": "circle"
           },
           "mode": "markers",
           "name": "football",
           "orientation": "v",
           "showlegend": true,
           "type": "scatter",
           "x": [
            11.93
           ],
           "xaxis": "x",
           "y": [
            29.71
           ],
           "yaxis": "y"
          }
         ],
         "name": "2021-09-10T01:06:02.900"
        },
        {
         "data": [
          {
           "hovertemplate": "team=TB<br>time=2021-09-10T01:06:03.000<br>x=%{x}<br>y=%{y}<extra></extra>",
           "legendgroup": "TB",
           "marker": {
            "color": "#636efa",
            "symbol": "circle"
           },
           "mode": "markers",
           "name": "TB",
           "orientation": "v",
           "showlegend": true,
           "type": "scatter",
           "x": [
            15.85,
            15.33,
            21.63,
            20.3,
            15.35,
            15.72,
            26.66,
            20.73,
            25.29,
            29.76,
            31.07
           ],
           "xaxis": "x",
           "y": [
            32.45,
            34.72,
            19.85,
            37.22,
            25.03,
            29.56,
            9.82,
            28.46,
            45.54,
            36.36,
            20.04
           ],
           "yaxis": "y"
          },
          {
           "hovertemplate": "team=DAL<br>time=2021-09-10T01:06:03.000<br>x=%{x}<br>y=%{y}<extra></extra>",
           "legendgroup": "DAL",
           "marker": {
            "color": "#EF553B",
            "symbol": "circle"
           },
           "mode": "markers",
           "name": "DAL",
           "orientation": "v",
           "showlegend": true,
           "type": "scatter",
           "x": [
            14.03,
            17.52,
            14.17,
            11.05,
            14.53,
            17.04,
            17.48,
            14.53,
            12.18,
            18.39,
            14.83
           ],
           "xaxis": "x",
           "y": [
            33.4,
            46.58,
            25.95,
            29.87,
            32.02,
            8.46,
            38.1,
            28.52,
            27.22,
            17.92,
            29.9
           ],
           "yaxis": "y"
          },
          {
           "hovertemplate": "team=football<br>time=2021-09-10T01:06:03.000<br>x=%{x}<br>y=%{y}<extra></extra>",
           "legendgroup": "football",
           "marker": {
            "color": "#00cc96",
            "symbol": "circle"
           },
           "mode": "markers",
           "name": "football",
           "orientation": "v",
           "showlegend": true,
           "type": "scatter",
           "x": [
            11.67
           ],
           "xaxis": "x",
           "y": [
            29.69
           ],
           "yaxis": "y"
          }
         ],
         "name": "2021-09-10T01:06:03.000"
        },
        {
         "data": [
          {
           "hovertemplate": "team=TB<br>time=2021-09-10T01:06:03.100<br>x=%{x}<br>y=%{y}<extra></extra>",
           "legendgroup": "TB",
           "marker": {
            "color": "#636efa",
            "symbol": "circle"
           },
           "mode": "markers",
           "name": "TB",
           "orientation": "v",
           "showlegend": true,
           "type": "scatter",
           "x": [
            15.56,
            14.96,
            21.78,
            20.38,
            14.98,
            15.43,
            26.84,
            20.79,
            25.53,
            29.93,
            31.21
           ],
           "xaxis": "x",
           "y": [
            32.46,
            34.65,
            19.58,
            37.35,
            25.05,
            29.49,
            9.78,
            28.27,
            45.56,
            36.36,
            19.99
           ],
           "yaxis": "y"
          },
          {
           "hovertemplate": "team=DAL<br>time=2021-09-10T01:06:03.100<br>x=%{x}<br>y=%{y}<extra></extra>",
           "legendgroup": "DAL",
           "marker": {
            "color": "#EF553B",
            "symbol": "circle"
           },
           "mode": "markers",
           "name": "DAL",
           "orientation": "v",
           "showlegend": true,
           "type": "scatter",
           "x": [
            13.82,
            17.95,
            13.93,
            10.83,
            14.34,
            17.57,
            17.97,
            14.35,
            12.24,
            18.89,
            14.65
           ],
           "xaxis": "x",
           "y": [
            33.4,
            46.62,
            25.78,
            29.86,
            32.03,
            8.43,
            38.2,
            28.52,
            27.24,
            17.78,
            29.88
           ],
           "yaxis": "y"
          },
          {
           "hovertemplate": "team=football<br>time=2021-09-10T01:06:03.100<br>x=%{x}<br>y=%{y}<extra></extra>",
           "legendgroup": "football",
           "marker": {
            "color": "#00cc96",
            "symbol": "circle"
           },
           "mode": "markers",
           "name": "football",
           "orientation": "v",
           "showlegend": true,
           "type": "scatter",
           "x": [
            11.44
           ],
           "xaxis": "x",
           "y": [
            29.65
           ],
           "yaxis": "y"
          }
         ],
         "name": "2021-09-10T01:06:03.100"
        },
        {
         "data": [
          {
           "hovertemplate": "team=TB<br>time=2021-09-10T01:06:03.200<br>x=%{x}<br>y=%{y}<extra></extra>",
           "legendgroup": "TB",
           "marker": {
            "color": "#636efa",
            "symbol": "circle"
           },
           "mode": "markers",
           "name": "TB",
           "orientation": "v",
           "showlegend": true,
           "type": "scatter",
           "x": [
            15.25,
            14.55,
            21.95,
            20.48,
            14.65,
            15.15,
            27.04,
            20.88,
            25.8,
            30.13,
            31.37
           ],
           "xaxis": "x",
           "y": [
            32.44,
            34.57,
            19.27,
            37.51,
            25.04,
            29.42,
            9.72,
            28.07,
            45.58,
            36.36,
            19.93
           ],
           "yaxis": "y"
          },
          {
           "hovertemplate": "team=DAL<br>time=2021-09-10T01:06:03.200<br>x=%{x}<br>y=%{y}<extra></extra>",
           "legendgroup": "DAL",
           "marker": {
            "color": "#EF553B",
            "symbol": "circle"
           },
           "mode": "markers",
           "name": "DAL",
           "orientation": "v",
           "showlegend": true,
           "type": "scatter",
           "x": [
            13.6,
            18.41,
            13.69,
            10.61,
            14.16,
            18.14,
            18.49,
            14.16,
            12.35,
            19.4,
            14.48
           ],
           "xaxis": "x",
           "y": [
            33.4,
            46.66,
            25.67,
            29.86,
            32.04,
            8.4,
            38.34,
            28.53,
            27.26,
            17.61,
            29.84
           ],
           "yaxis": "y"
          },
          {
           "hovertemplate": "team=football<br>time=2021-09-10T01:06:03.200<br>x=%{x}<br>y=%{y}<extra></extra>",
           "legendgroup": "football",
           "marker": {
            "color": "#00cc96",
            "symbol": "circle"
           },
           "mode": "markers",
           "name": "football",
           "orientation": "v",
           "showlegend": true,
           "type": "scatter",
           "x": [
            11.15
           ],
           "xaxis": "x",
           "y": [
            29.58
           ],
           "yaxis": "y"
          }
         ],
         "name": "2021-09-10T01:06:03.200"
        },
        {
         "data": [
          {
           "hovertemplate": "team=TB<br>time=2021-09-10T01:06:03.300<br>x=%{x}<br>y=%{y}<extra></extra>",
           "legendgroup": "TB",
           "marker": {
            "color": "#636efa",
            "symbol": "circle"
           },
           "mode": "markers",
           "name": "TB",
           "orientation": "v",
           "showlegend": true,
           "type": "scatter",
           "x": [
            14.95,
            14.14,
            22.15,
            20.61,
            14.3,
            14.89,
            27.24,
            21,
            26.09,
            30.34,
            31.56
           ],
           "xaxis": "x",
           "y": [
            32.41,
            34.5,
            18.91,
            37.69,
            25.03,
            29.35,
            9.66,
            27.85,
            45.62,
            36.35,
            19.84
           ],
           "yaxis": "y"
          },
          {
           "hovertemplate": "team=DAL<br>time=2021-09-10T01:06:03.300<br>x=%{x}<br>y=%{y}<extra></extra>",
           "legendgroup": "DAL",
           "marker": {
            "color": "#EF553B",
            "symbol": "circle"
           },
           "mode": "markers",
           "name": "DAL",
           "orientation": "v",
           "showlegend": true,
           "type": "scatter",
           "x": [
            13.33,
            18.92,
            13.44,
            10.41,
            13.96,
            18.73,
            19.05,
            13.97,
            12.5,
            19.94,
            14.33
           ],
           "xaxis": "x",
           "y": [
            33.44,
            46.72,
            25.57,
            29.84,
            32.03,
            8.35,
            38.48,
            28.53,
            27.26,
            17.41,
            29.79
           ],
           "yaxis": "y"
          },
          {
           "hovertemplate": "team=football<br>time=2021-09-10T01:06:03.300<br>x=%{x}<br>y=%{y}<extra></extra>",
           "legendgroup": "football",
           "marker": {
            "color": "#00cc96",
            "symbol": "circle"
           },
           "mode": "markers",
           "name": "football",
           "orientation": "v",
           "showlegend": true,
           "type": "scatter",
           "x": [
            10.89
           ],
           "xaxis": "x",
           "y": [
            29.5
           ],
           "yaxis": "y"
          }
         ],
         "name": "2021-09-10T01:06:03.300"
        },
        {
         "data": [
          {
           "hovertemplate": "team=TB<br>time=2021-09-10T01:06:03.400<br>x=%{x}<br>y=%{y}<extra></extra>",
           "legendgroup": "TB",
           "marker": {
            "color": "#636efa",
            "symbol": "circle"
           },
           "mode": "markers",
           "name": "TB",
           "orientation": "v",
           "showlegend": true,
           "type": "scatter",
           "x": [
            14.66,
            13.73,
            22.36,
            20.78,
            13.97,
            14.62,
            27.46,
            21.15,
            26.38,
            30.58,
            31.77
           ],
           "xaxis": "x",
           "y": [
            32.36,
            34.42,
            18.54,
            37.88,
            25.02,
            29.26,
            9.56,
            27.63,
            45.66,
            36.35,
            19.74
           ],
           "yaxis": "y"
          },
          {
           "hovertemplate": "team=DAL<br>time=2021-09-10T01:06:03.400<br>x=%{x}<br>y=%{y}<extra></extra>",
           "legendgroup": "DAL",
           "marker": {
            "color": "#EF553B",
            "symbol": "circle"
           },
           "mode": "markers",
           "name": "DAL",
           "orientation": "v",
           "showlegend": true,
           "type": "scatter",
           "x": [
            13.09,
            19.45,
            13.2,
            10.25,
            13.76,
            19.35,
            19.62,
            13.79,
            12.7,
            20.51,
            14.16
           ],
           "xaxis": "x",
           "y": [
            33.43,
            46.78,
            25.49,
            29.82,
            32.01,
            8.3,
            38.65,
            28.53,
            27.24,
            17.16,
            29.77
           ],
           "yaxis": "y"
          },
          {
           "hovertemplate": "team=football<br>time=2021-09-10T01:06:03.400<br>x=%{x}<br>y=%{y}<extra></extra>",
           "legendgroup": "football",
           "marker": {
            "color": "#00cc96",
            "symbol": "circle"
           },
           "mode": "markers",
           "name": "football",
           "orientation": "v",
           "showlegend": true,
           "type": "scatter",
           "x": [
            10.81
           ],
           "xaxis": "x",
           "y": [
            29.5
           ],
           "yaxis": "y"
          }
         ],
         "name": "2021-09-10T01:06:03.400"
        },
        {
         "data": [
          {
           "hovertemplate": "team=TB<br>time=2021-09-10T01:06:03.500<br>x=%{x}<br>y=%{y}<extra></extra>",
           "legendgroup": "TB",
           "marker": {
            "color": "#636efa",
            "symbol": "circle"
           },
           "mode": "markers",
           "name": "TB",
           "orientation": "v",
           "showlegend": true,
           "type": "scatter",
           "x": [
            14.37,
            13.33,
            22.6,
            20.95,
            13.65,
            14.36,
            27.71,
            21.33,
            26.69,
            30.84,
            32
           ],
           "xaxis": "x",
           "y": [
            32.28,
            34.35,
            18.11,
            38.06,
            24.98,
            29.17,
            9.44,
            27.39,
            45.71,
            36.35,
            19.63
           ],
           "yaxis": "y"
          },
          {
           "hovertemplate": "team=DAL<br>time=2021-09-10T01:06:03.500<br>x=%{x}<br>y=%{y}<extra></extra>",
           "legendgroup": "DAL",
           "marker": {
            "color": "#EF553B",
            "symbol": "circle"
           },
           "mode": "markers",
           "name": "DAL",
           "orientation": "v",
           "showlegend": true,
           "type": "scatter",
           "x": [
            12.86,
            20.02,
            12.97,
            10.11,
            13.56,
            19.98,
            20.22,
            13.6,
            12.95,
            21.1,
            13.97
           ],
           "xaxis": "x",
           "y": [
            33.43,
            46.85,
            25.43,
            29.8,
            31.97,
            8.25,
            38.83,
            28.51,
            27.22,
            16.89,
            29.73
           ],
           "yaxis": "y"
          },
          {
           "hovertemplate": "team=football<br>time=2021-09-10T01:06:03.500<br>x=%{x}<br>y=%{y}<extra></extra>",
           "legendgroup": "football",
           "marker": {
            "color": "#00cc96",
            "symbol": "circle"
           },
           "mode": "markers",
           "name": "football",
           "orientation": "v",
           "showlegend": true,
           "type": "scatter",
           "x": [
            10.74
           ],
           "xaxis": "x",
           "y": [
            29.48
           ],
           "yaxis": "y"
          }
         ],
         "name": "2021-09-10T01:06:03.500"
        },
        {
         "data": [
          {
           "hovertemplate": "team=TB<br>time=2021-09-10T01:06:03.600<br>x=%{x}<br>y=%{y}<extra></extra>",
           "legendgroup": "TB",
           "marker": {
            "color": "#636efa",
            "symbol": "circle"
           },
           "mode": "markers",
           "name": "TB",
           "orientation": "v",
           "showlegend": true,
           "type": "scatter",
           "x": [
            14.11,
            12.95,
            22.83,
            21.16,
            13.3,
            14.13,
            27.97,
            21.53,
            27.02,
            31.12,
            32.25
           ],
           "xaxis": "x",
           "y": [
            32.17,
            34.28,
            17.69,
            38.24,
            24.92,
            29.07,
            9.3,
            27.15,
            45.77,
            36.35,
            19.5
           ],
           "yaxis": "y"
          },
          {
           "hovertemplate": "team=DAL<br>time=2021-09-10T01:06:03.600<br>x=%{x}<br>y=%{y}<extra></extra>",
           "legendgroup": "DAL",
           "marker": {
            "color": "#EF553B",
            "symbol": "circle"
           },
           "mode": "markers",
           "name": "DAL",
           "orientation": "v",
           "showlegend": true,
           "type": "scatter",
           "x": [
            12.6,
            20.59,
            12.73,
            10.01,
            13.35,
            20.62,
            20.82,
            13.4,
            13.26,
            21.69,
            13.78
           ],
           "xaxis": "x",
           "y": [
            33.43,
            46.92,
            25.39,
            29.78,
            31.93,
            8.19,
            39.03,
            28.51,
            27.19,
            16.58,
            29.64
           ],
           "yaxis": "y"
          },
          {
           "hovertemplate": "team=football<br>time=2021-09-10T01:06:03.600<br>x=%{x}<br>y=%{y}<extra></extra>",
           "legendgroup": "football",
           "marker": {
            "color": "#00cc96",
            "symbol": "circle"
           },
           "mode": "markers",
           "name": "football",
           "orientation": "v",
           "showlegend": true,
           "type": "scatter",
           "x": [
            10.61
           ],
           "xaxis": "x",
           "y": [
            29.41
           ],
           "yaxis": "y"
          }
         ],
         "name": "2021-09-10T01:06:03.600"
        },
        {
         "data": [
          {
           "hovertemplate": "team=TB<br>time=2021-09-10T01:06:03.700<br>x=%{x}<br>y=%{y}<extra></extra>",
           "legendgroup": "TB",
           "marker": {
            "color": "#636efa",
            "symbol": "circle"
           },
           "mode": "markers",
           "name": "TB",
           "orientation": "v",
           "showlegend": true,
           "type": "scatter",
           "x": [
            13.85,
            12.6,
            23.06,
            21.41,
            12.99,
            13.86,
            28.28,
            21.74,
            27.35,
            31.4,
            32.51
           ],
           "xaxis": "x",
           "y": [
            32.03,
            34.19,
            17.26,
            38.41,
            24.86,
            28.99,
            9.18,
            26.9,
            45.82,
            36.36,
            19.36
           ],
           "yaxis": "y"
          },
          {
           "hovertemplate": "team=DAL<br>time=2021-09-10T01:06:03.700<br>x=%{x}<br>y=%{y}<extra></extra>",
           "legendgroup": "DAL",
           "marker": {
            "color": "#EF553B",
            "symbol": "circle"
           },
           "mode": "markers",
           "name": "DAL",
           "orientation": "v",
           "showlegend": true,
           "type": "scatter",
           "x": [
            12.33,
            21.16,
            12.48,
            9.93,
            13.17,
            21.25,
            21.43,
            13.2,
            13.63,
            22.29,
            13.57
           ],
           "xaxis": "x",
           "y": [
            33.43,
            47,
            25.38,
            29.75,
            31.89,
            8.12,
            39.22,
            28.47,
            27.16,
            16.26,
            29.53
           ],
           "yaxis": "y"
          },
          {
           "hovertemplate": "team=football<br>time=2021-09-10T01:06:03.700<br>x=%{x}<br>y=%{y}<extra></extra>",
           "legendgroup": "football",
           "marker": {
            "color": "#00cc96",
            "symbol": "circle"
           },
           "mode": "markers",
           "name": "football",
           "orientation": "v",
           "showlegend": true,
           "type": "scatter",
           "x": [
            10.57
           ],
           "xaxis": "x",
           "y": [
            29.4
           ],
           "yaxis": "y"
          }
         ],
         "name": "2021-09-10T01:06:03.700"
        },
        {
         "data": [
          {
           "hovertemplate": "team=TB<br>time=2021-09-10T01:06:03.800<br>x=%{x}<br>y=%{y}<extra></extra>",
           "legendgroup": "TB",
           "marker": {
            "color": "#636efa",
            "symbol": "circle"
           },
           "mode": "markers",
           "name": "TB",
           "orientation": "v",
           "showlegend": true,
           "type": "scatter",
           "x": [
            13.62,
            12.29,
            23.3,
            21.68,
            12.68,
            13.6,
            28.58,
            21.96,
            27.69,
            31.7,
            32.78
           ],
           "xaxis": "x",
           "y": [
            31.88,
            34.12,
            16.82,
            38.57,
            24.85,
            28.87,
            9.06,
            26.72,
            45.87,
            36.37,
            19.22
           ],
           "yaxis": "y"
          },
          {
           "hovertemplate": "team=DAL<br>time=2021-09-10T01:06:03.800<br>x=%{x}<br>y=%{y}<extra></extra>",
           "legendgroup": "DAL",
           "marker": {
            "color": "#EF553B",
            "symbol": "circle"
           },
           "mode": "markers",
           "name": "DAL",
           "orientation": "v",
           "showlegend": true,
           "type": "scatter",
           "x": [
            12.09,
            21.64,
            12.24,
            9.87,
            12.99,
            21.89,
            22.06,
            13,
            14.03,
            22.9,
            13.43
           ],
           "xaxis": "x",
           "y": [
            33.42,
            47.1,
            25.41,
            29.72,
            31.85,
            8.04,
            39.4,
            28.45,
            27.13,
            15.92,
            29.46
           ],
           "yaxis": "y"
          },
          {
           "hovertemplate": "team=football<br>time=2021-09-10T01:06:03.800<br>x=%{x}<br>y=%{y}<extra></extra>",
           "legendgroup": "football",
           "marker": {
            "color": "#00cc96",
            "symbol": "circle"
           },
           "mode": "markers",
           "name": "football",
           "orientation": "v",
           "showlegend": true,
           "type": "scatter",
           "x": [
            10.37
           ],
           "xaxis": "x",
           "y": [
            29.34
           ],
           "yaxis": "y"
          }
         ],
         "name": "2021-09-10T01:06:03.800"
        },
        {
         "data": [
          {
           "hovertemplate": "team=TB<br>time=2021-09-10T01:06:03.900<br>x=%{x}<br>y=%{y}<extra></extra>",
           "legendgroup": "TB",
           "marker": {
            "color": "#636efa",
            "symbol": "circle"
           },
           "mode": "markers",
           "name": "TB",
           "orientation": "v",
           "showlegend": true,
           "type": "scatter",
           "x": [
            13.4,
            12.02,
            23.54,
            21.97,
            12.4,
            13.35,
            28.91,
            22.18,
            28.04,
            32,
            33.06
           ],
           "xaxis": "x",
           "y": [
            31.72,
            34,
            16.37,
            38.72,
            24.85,
            28.74,
            8.92,
            26.56,
            45.91,
            36.37,
            19.07
           ],
           "yaxis": "y"
          },
          {
           "hovertemplate": "team=DAL<br>time=2021-09-10T01:06:03.900<br>x=%{x}<br>y=%{y}<extra></extra>",
           "legendgroup": "DAL",
           "marker": {
            "color": "#EF553B",
            "symbol": "circle"
           },
           "mode": "markers",
           "name": "DAL",
           "orientation": "v",
           "showlegend": true,
           "type": "scatter",
           "x": [
            11.81,
            22.09,
            12.01,
            9.82,
            12.87,
            22.49,
            22.69,
            12.8,
            14.47,
            23.5,
            13.27
           ],
           "xaxis": "x",
           "y": [
            33.38,
            47.2,
            25.44,
            29.7,
            31.81,
            7.94,
            39.57,
            28.42,
            27.12,
            15.57,
            29.38
           ],
           "yaxis": "y"
          },
          {
           "hovertemplate": "team=football<br>time=2021-09-10T01:06:03.900<br>x=%{x}<br>y=%{y}<extra></extra>",
           "legendgroup": "football",
           "marker": {
            "color": "#00cc96",
            "symbol": "circle"
           },
           "mode": "markers",
           "name": "football",
           "orientation": "v",
           "showlegend": true,
           "type": "scatter",
           "x": [
            10.3
           ],
           "xaxis": "x",
           "y": [
            29.33
           ],
           "yaxis": "y"
          }
         ],
         "name": "2021-09-10T01:06:03.900"
        },
        {
         "data": [
          {
           "hovertemplate": "team=TB<br>time=2021-09-10T01:06:04.000<br>x=%{x}<br>y=%{y}<extra></extra>",
           "legendgroup": "TB",
           "marker": {
            "color": "#636efa",
            "symbol": "circle"
           },
           "mode": "markers",
           "name": "TB",
           "orientation": "v",
           "showlegend": true,
           "type": "scatter",
           "x": [
            13.22,
            11.77,
            23.76,
            22.28,
            12.12,
            13.12,
            29.25,
            22.4,
            28.39,
            32.32,
            33.35
           ],
           "xaxis": "x",
           "y": [
            31.53,
            33.86,
            15.93,
            38.84,
            24.85,
            28.67,
            8.77,
            26.41,
            45.94,
            36.36,
            18.89
           ],
           "yaxis": "y"
          },
          {
           "hovertemplate": "team=DAL<br>time=2021-09-10T01:06:04.000<br>x=%{x}<br>y=%{y}<extra></extra>",
           "legendgroup": "DAL",
           "marker": {
            "color": "#EF553B",
            "symbol": "circle"
           },
           "mode": "markers",
           "name": "DAL",
           "orientation": "v",
           "showlegend": true,
           "type": "scatter",
           "x": [
            11.57,
            22.47,
            11.79,
            9.76,
            12.73,
            23.04,
            23.34,
            12.61,
            14.94,
            24.11,
            13.09
           ],
           "xaxis": "x",
           "y": [
            33.22,
            47.3,
            25.48,
            29.67,
            31.75,
            7.83,
            39.71,
            28.38,
            27.16,
            15.2,
            29.28
           ],
           "yaxis": "y"
          },
          {
           "hovertemplate": "team=football<br>time=2021-09-10T01:06:04.000<br>x=%{x}<br>y=%{y}<extra></extra>",
           "legendgroup": "football",
           "marker": {
            "color": "#00cc96",
            "symbol": "circle"
           },
           "mode": "markers",
           "name": "football",
           "orientation": "v",
           "showlegend": true,
           "type": "scatter",
           "x": [
            10.26
           ],
           "xaxis": "x",
           "y": [
            29.32
           ],
           "yaxis": "y"
          }
         ],
         "name": "2021-09-10T01:06:04.000"
        },
        {
         "data": [
          {
           "hovertemplate": "team=TB<br>time=2021-09-10T01:06:04.100<br>x=%{x}<br>y=%{y}<extra></extra>",
           "legendgroup": "TB",
           "marker": {
            "color": "#636efa",
            "symbol": "circle"
           },
           "mode": "markers",
           "name": "TB",
           "orientation": "v",
           "showlegend": true,
           "type": "scatter",
           "x": [
            13.07,
            11.56,
            23.96,
            22.61,
            11.92,
            12.89,
            29.61,
            22.61,
            28.75,
            32.64,
            33.66
           ],
           "xaxis": "x",
           "y": [
            31.33,
            33.73,
            15.5,
            38.92,
            24.96,
            28.59,
            8.63,
            26.32,
            45.95,
            36.36,
            18.7
           ],
           "yaxis": "y"
          },
          {
           "hovertemplate": "team=DAL<br>time=2021-09-10T01:06:04.100<br>x=%{x}<br>y=%{y}<extra></extra>",
           "legendgroup": "DAL",
           "marker": {
            "color": "#EF553B",
            "symbol": "circle"
           },
           "mode": "markers",
           "name": "DAL",
           "orientation": "v",
           "showlegend": true,
           "type": "scatter",
           "x": [
            11.33,
            22.83,
            11.59,
            9.7,
            12.66,
            23.58,
            24,
            12.41,
            15.43,
            24.73,
            12.91
           ],
           "xaxis": "x",
           "y": [
            33.16,
            47.4,
            25.54,
            29.66,
            31.65,
            7.73,
            39.77,
            28.34,
            27.26,
            14.85,
            29.2
           ],
           "yaxis": "y"
          },
          {
           "hovertemplate": "team=football<br>time=2021-09-10T01:06:04.100<br>x=%{x}<br>y=%{y}<extra></extra>",
           "legendgroup": "football",
           "marker": {
            "color": "#00cc96",
            "symbol": "circle"
           },
           "mode": "markers",
           "name": "football",
           "orientation": "v",
           "showlegend": true,
           "type": "scatter",
           "x": [
            10.11
           ],
           "xaxis": "x",
           "y": [
            29.31
           ],
           "yaxis": "y"
          }
         ],
         "name": "2021-09-10T01:06:04.100"
        },
        {
         "data": [
          {
           "hovertemplate": "team=TB<br>time=2021-09-10T01:06:04.200<br>x=%{x}<br>y=%{y}<extra></extra>",
           "legendgroup": "TB",
           "marker": {
            "color": "#636efa",
            "symbol": "circle"
           },
           "mode": "markers",
           "name": "TB",
           "orientation": "v",
           "showlegend": true,
           "type": "scatter",
           "x": [
            12.95,
            11.38,
            24.14,
            22.96,
            11.74,
            12.68,
            30,
            22.81,
            29.1,
            32.95,
            33.96
           ],
           "xaxis": "x",
           "y": [
            31.13,
            33.6,
            15.07,
            38.99,
            25.05,
            28.49,
            8.5,
            26.27,
            45.95,
            36.35,
            18.51
           ],
           "yaxis": "y"
          },
          {
           "hovertemplate": "team=DAL<br>time=2021-09-10T01:06:04.200<br>x=%{x}<br>y=%{y}<extra></extra>",
           "legendgroup": "DAL",
           "marker": {
            "color": "#EF553B",
            "symbol": "circle"
           },
           "mode": "markers",
           "name": "DAL",
           "orientation": "v",
           "showlegend": true,
           "type": "scatter",
           "x": [
            11.12,
            23.11,
            11.4,
            9.64,
            12.61,
            24.08,
            24.65,
            12.23,
            15.94,
            25.35,
            12.74
           ],
           "xaxis": "x",
           "y": [
            33.09,
            47.52,
            25.61,
            29.65,
            31.54,
            7.63,
            39.79,
            28.29,
            27.41,
            14.51,
            29.11
           ],
           "yaxis": "y"
          },
          {
           "hovertemplate": "team=football<br>time=2021-09-10T01:06:04.200<br>x=%{x}<br>y=%{y}<extra></extra>",
           "legendgroup": "football",
           "marker": {
            "color": "#00cc96",
            "symbol": "circle"
           },
           "mode": "markers",
           "name": "football",
           "orientation": "v",
           "showlegend": true,
           "type": "scatter",
           "x": [
            9.98
           ],
           "xaxis": "x",
           "y": [
            29.32
           ],
           "yaxis": "y"
          }
         ],
         "name": "2021-09-10T01:06:04.200"
        },
        {
         "data": [
          {
           "hovertemplate": "team=TB<br>time=2021-09-10T01:06:04.300<br>x=%{x}<br>y=%{y}<extra></extra>",
           "legendgroup": "TB",
           "marker": {
            "color": "#636efa",
            "symbol": "circle"
           },
           "mode": "markers",
           "name": "TB",
           "orientation": "v",
           "showlegend": true,
           "type": "scatter",
           "x": [
            12.88,
            11.24,
            24.32,
            23.31,
            11.56,
            12.49,
            30.42,
            22.99,
            29.47,
            33.24,
            34.27
           ],
           "xaxis": "x",
           "y": [
            30.91,
            33.46,
            14.64,
            39.03,
            25.14,
            28.4,
            8.38,
            26.31,
            45.94,
            36.33,
            18.32
           ],
           "yaxis": "y"
          },
          {
           "hovertemplate": "team=DAL<br>time=2021-09-10T01:06:04.300<br>x=%{x}<br>y=%{y}<extra></extra>",
           "legendgroup": "DAL",
           "marker": {
            "color": "#EF553B",
            "symbol": "circle"
           },
           "mode": "markers",
           "name": "DAL",
           "orientation": "v",
           "showlegend": true,
           "type": "scatter",
           "x": [
            10.92,
            23.34,
            11.21,
            9.58,
            12.59,
            24.53,
            25.29,
            12.03,
            16.44,
            25.98,
            12.58
           ],
           "xaxis": "x",
           "y": [
            33.01,
            47.64,
            25.69,
            29.65,
            31.42,
            7.53,
            39.76,
            28.22,
            27.67,
            14.24,
            29.02
           ],
           "yaxis": "y"
          },
          {
           "hovertemplate": "team=football<br>time=2021-09-10T01:06:04.300<br>x=%{x}<br>y=%{y}<extra></extra>",
           "legendgroup": "football",
           "marker": {
            "color": "#00cc96",
            "symbol": "circle"
           },
           "mode": "markers",
           "name": "football",
           "orientation": "v",
           "showlegend": true,
           "type": "scatter",
           "x": [
            9.91
           ],
           "xaxis": "x",
           "y": [
            29.32
           ],
           "yaxis": "y"
          }
         ],
         "name": "2021-09-10T01:06:04.300"
        },
        {
         "data": [
          {
           "hovertemplate": "team=TB<br>time=2021-09-10T01:06:04.400<br>x=%{x}<br>y=%{y}<extra></extra>",
           "legendgroup": "TB",
           "marker": {
            "color": "#636efa",
            "symbol": "circle"
           },
           "mode": "markers",
           "name": "TB",
           "orientation": "v",
           "showlegend": true,
           "type": "scatter",
           "x": [
            12.83,
            11.13,
            24.47,
            23.66,
            11.38,
            12.31,
            30.87,
            23.14,
            29.85,
            33.51,
            34.58
           ],
           "xaxis": "x",
           "y": [
            30.7,
            33.31,
            14.22,
            39.04,
            25.23,
            28.32,
            8.31,
            26.39,
            45.92,
            36.28,
            18.15
           ],
           "yaxis": "y"
          },
          {
           "hovertemplate": "team=DAL<br>time=2021-09-10T01:06:04.400<br>x=%{x}<br>y=%{y}<extra></extra>",
           "legendgroup": "DAL",
           "marker": {
            "color": "#EF553B",
            "symbol": "circle"
           },
           "mode": "markers",
           "name": "DAL",
           "orientation": "v",
           "showlegend": true,
           "type": "scatter",
           "x": [
            10.74,
            23.49,
            11.04,
            9.53,
            12.59,
            24.93,
            25.94,
            11.85,
            16.95,
            26.6,
            12.42
           ],
           "xaxis": "x",
           "y": [
            32.94,
            47.79,
            25.8,
            29.67,
            31.26,
            7.42,
            39.67,
            28.13,
            27.89,
            14.02,
            28.93
           ],
           "yaxis": "y"
          },
          {
           "hovertemplate": "team=football<br>time=2021-09-10T01:06:04.400<br>x=%{x}<br>y=%{y}<extra></extra>",
           "legendgroup": "football",
           "marker": {
            "color": "#00cc96",
            "symbol": "circle"
           },
           "mode": "markers",
           "name": "football",
           "orientation": "v",
           "showlegend": true,
           "type": "scatter",
           "x": [
            9.83
           ],
           "xaxis": "x",
           "y": [
            29.32
           ],
           "yaxis": "y"
          }
         ],
         "name": "2021-09-10T01:06:04.400"
        },
        {
         "data": [
          {
           "hovertemplate": "team=TB<br>time=2021-09-10T01:06:04.500<br>x=%{x}<br>y=%{y}<extra></extra>",
           "legendgroup": "TB",
           "marker": {
            "color": "#636efa",
            "symbol": "circle"
           },
           "mode": "markers",
           "name": "TB",
           "orientation": "v",
           "showlegend": true,
           "type": "scatter",
           "x": [
            12.83,
            11.04,
            24.61,
            24,
            11.22,
            12.15,
            31.34,
            23.25,
            30.24,
            33.75,
            34.87
           ],
           "xaxis": "x",
           "y": [
            30.49,
            33.18,
            13.8,
            39.01,
            25.33,
            28.22,
            8.26,
            26.56,
            45.89,
            36.21,
            17.98
           ],
           "yaxis": "y"
          },
          {
           "hovertemplate": "team=DAL<br>time=2021-09-10T01:06:04.500<br>x=%{x}<br>y=%{y}<extra></extra>",
           "legendgroup": "DAL",
           "marker": {
            "color": "#EF553B",
            "symbol": "circle"
           },
           "mode": "markers",
           "name": "DAL",
           "orientation": "v",
           "showlegend": true,
           "type": "scatter",
           "x": [
            10.6,
            23.57,
            10.87,
            9.48,
            12.61,
            25.27,
            26.57,
            11.67,
            17.44,
            27.22,
            12.28
           ],
           "xaxis": "x",
           "y": [
            32.86,
            47.96,
            25.9,
            29.7,
            31.09,
            7.33,
            39.49,
            28.06,
            28.16,
            13.89,
            28.82
           ],
           "yaxis": "y"
          },
          {
           "hovertemplate": "team=football<br>time=2021-09-10T01:06:04.500<br>x=%{x}<br>y=%{y}<extra></extra>",
           "legendgroup": "football",
           "marker": {
            "color": "#00cc96",
            "symbol": "circle"
           },
           "mode": "markers",
           "name": "football",
           "orientation": "v",
           "showlegend": true,
           "type": "scatter",
           "x": [
            9.73
           ],
           "xaxis": "x",
           "y": [
            29.33
           ],
           "yaxis": "y"
          }
         ],
         "name": "2021-09-10T01:06:04.500"
        },
        {
         "data": [
          {
           "hovertemplate": "team=TB<br>time=2021-09-10T01:06:04.600<br>x=%{x}<br>y=%{y}<extra></extra>",
           "legendgroup": "TB",
           "marker": {
            "color": "#636efa",
            "symbol": "circle"
           },
           "mode": "markers",
           "name": "TB",
           "orientation": "v",
           "showlegend": true,
           "type": "scatter",
           "x": [
            12.82,
            10.98,
            24.73,
            24.32,
            11.08,
            12,
            31.82,
            23.33,
            30.64,
            33.96,
            35.1
           ],
           "xaxis": "x",
           "y": [
            30.26,
            33.02,
            13.37,
            38.95,
            25.45,
            28.11,
            8.26,
            26.79,
            45.84,
            36.11,
            17.84
           ],
           "yaxis": "y"
          },
          {
           "hovertemplate": "team=DAL<br>time=2021-09-10T01:06:04.600<br>x=%{x}<br>y=%{y}<extra></extra>",
           "legendgroup": "DAL",
           "marker": {
            "color": "#EF553B",
            "symbol": "circle"
           },
           "mode": "markers",
           "name": "DAL",
           "orientation": "v",
           "showlegend": true,
           "type": "scatter",
           "x": [
            10.53,
            23.58,
            10.72,
            9.43,
            12.65,
            25.57,
            27.17,
            11.5,
            17.92,
            27.82,
            12.15
           ],
           "xaxis": "x",
           "y": [
            32.75,
            48.13,
            26.01,
            29.73,
            30.9,
            7.22,
            39.25,
            27.97,
            28.45,
            13.82,
            28.73
           ],
           "yaxis": "y"
          },
          {
           "hovertemplate": "team=football<br>time=2021-09-10T01:06:04.600<br>x=%{x}<br>y=%{y}<extra></extra>",
           "legendgroup": "football",
           "marker": {
            "color": "#00cc96",
            "symbol": "circle"
           },
           "mode": "markers",
           "name": "football",
           "orientation": "v",
           "showlegend": true,
           "type": "scatter",
           "x": [
            9.62
           ],
           "xaxis": "x",
           "y": [
            29.35
           ],
           "yaxis": "y"
          }
         ],
         "name": "2021-09-10T01:06:04.600"
        },
        {
         "data": [
          {
           "hovertemplate": "team=TB<br>time=2021-09-10T01:06:04.700<br>x=%{x}<br>y=%{y}<extra></extra>",
           "legendgroup": "TB",
           "marker": {
            "color": "#636efa",
            "symbol": "circle"
           },
           "mode": "markers",
           "name": "TB",
           "orientation": "v",
           "showlegend": true,
           "type": "scatter",
           "x": [
            12.84,
            10.97,
            24.83,
            24.63,
            10.96,
            11.88,
            32.3,
            23.37,
            31.05,
            34.12,
            35.3
           ],
           "xaxis": "x",
           "y": [
            30.03,
            32.87,
            12.95,
            38.85,
            25.57,
            27.99,
            8.3,
            27.1,
            45.78,
            35.97,
            17.72
           ],
           "yaxis": "y"
          },
          {
           "hovertemplate": "team=DAL<br>time=2021-09-10T01:06:04.700<br>x=%{x}<br>y=%{y}<extra></extra>",
           "legendgroup": "DAL",
           "marker": {
            "color": "#EF553B",
            "symbol": "circle"
           },
           "mode": "markers",
           "name": "DAL",
           "orientation": "v",
           "showlegend": true,
           "type": "scatter",
           "x": [
            10.49,
            23.55,
            10.58,
            9.38,
            12.72,
            25.8,
            27.76,
            11.36,
            18.38,
            28.41,
            12.03
           ],
           "xaxis": "x",
           "y": [
            32.6,
            48.34,
            26.12,
            29.77,
            30.7,
            7.12,
            38.94,
            27.87,
            28.77,
            13.84,
            28.64
           ],
           "yaxis": "y"
          },
          {
           "hovertemplate": "team=football<br>time=2021-09-10T01:06:04.700<br>x=%{x}<br>y=%{y}<extra></extra>",
           "legendgroup": "football",
           "marker": {
            "color": "#00cc96",
            "symbol": "circle"
           },
           "mode": "markers",
           "name": "football",
           "orientation": "v",
           "showlegend": true,
           "type": "scatter",
           "x": [
            9.49
           ],
           "xaxis": "x",
           "y": [
            29.37
           ],
           "yaxis": "y"
          }
         ],
         "name": "2021-09-10T01:06:04.700"
        },
        {
         "data": [
          {
           "hovertemplate": "team=TB<br>time=2021-09-10T01:06:04.800<br>x=%{x}<br>y=%{y}<extra></extra>",
           "legendgroup": "TB",
           "marker": {
            "color": "#636efa",
            "symbol": "circle"
           },
           "mode": "markers",
           "name": "TB",
           "orientation": "v",
           "showlegend": true,
           "type": "scatter",
           "x": [
            12.88,
            10.97,
            24.92,
            24.88,
            10.87,
            11.78,
            32.78,
            23.36,
            31.46,
            34.22,
            35.47
           ],
           "xaxis": "x",
           "y": [
            29.8,
            32.73,
            12.53,
            38.71,
            25.69,
            27.88,
            8.39,
            27.47,
            45.7,
            35.78,
            17.66
           ],
           "yaxis": "y"
          },
          {
           "hovertemplate": "team=DAL<br>time=2021-09-10T01:06:04.800<br>x=%{x}<br>y=%{y}<extra></extra>",
           "legendgroup": "DAL",
           "marker": {
            "color": "#EF553B",
            "symbol": "circle"
           },
           "mode": "markers",
           "name": "DAL",
           "orientation": "v",
           "showlegend": true,
           "type": "scatter",
           "x": [
            10.48,
            23.49,
            10.45,
            9.33,
            12.81,
            25.97,
            28.3,
            11.28,
            18.82,
            28.98,
            11.93
           ],
           "xaxis": "x",
           "y": [
            32.46,
            48.55,
            26.24,
            29.82,
            30.52,
            7.03,
            38.55,
            27.82,
            29.11,
            13.93,
            28.55
           ],
           "yaxis": "y"
          },
          {
           "hovertemplate": "team=football<br>time=2021-09-10T01:06:04.800<br>x=%{x}<br>y=%{y}<extra></extra>",
           "legendgroup": "football",
           "marker": {
            "color": "#00cc96",
            "symbol": "circle"
           },
           "mode": "markers",
           "name": "football",
           "orientation": "v",
           "showlegend": true,
           "type": "scatter",
           "x": [
            9.36
           ],
           "xaxis": "x",
           "y": [
            29.39
           ],
           "yaxis": "y"
          }
         ],
         "name": "2021-09-10T01:06:04.800"
        },
        {
         "data": [
          {
           "hovertemplate": "team=TB<br>time=2021-09-10T01:06:04.900<br>x=%{x}<br>y=%{y}<extra></extra>",
           "legendgroup": "TB",
           "marker": {
            "color": "#636efa",
            "symbol": "circle"
           },
           "mode": "markers",
           "name": "TB",
           "orientation": "v",
           "showlegend": true,
           "type": "scatter",
           "x": [
            12.93,
            11.01,
            25,
            25.08,
            10.78,
            11.72,
            33.26,
            23.31,
            31.86,
            34.28,
            35.61
           ],
           "xaxis": "x",
           "y": [
            29.57,
            32.58,
            12.1,
            38.54,
            25.8,
            27.79,
            8.53,
            27.9,
            45.6,
            35.55,
            17.61
           ],
           "yaxis": "y"
          },
          {
           "hovertemplate": "team=DAL<br>time=2021-09-10T01:06:04.900<br>x=%{x}<br>y=%{y}<extra></extra>",
           "legendgroup": "DAL",
           "marker": {
            "color": "#EF553B",
            "symbol": "circle"
           },
           "mode": "markers",
           "name": "DAL",
           "orientation": "v",
           "showlegend": true,
           "type": "scatter",
           "x": [
            10.5,
            23.4,
            10.33,
            9.28,
            12.86,
            26.08,
            28.79,
            11.21,
            19.23,
            29.51,
            11.84
           ],
           "xaxis": "x",
           "y": [
            32.31,
            48.77,
            26.35,
            29.87,
            30.32,
            6.95,
            38.1,
            27.77,
            29.46,
            14.1,
            28.49
           ],
           "yaxis": "y"
          },
          {
           "hovertemplate": "team=football<br>time=2021-09-10T01:06:04.900<br>x=%{x}<br>y=%{y}<extra></extra>",
           "legendgroup": "football",
           "marker": {
            "color": "#00cc96",
            "symbol": "circle"
           },
           "mode": "markers",
           "name": "football",
           "orientation": "v",
           "showlegend": true,
           "type": "scatter",
           "x": [
            11.83
           ],
           "xaxis": "x",
           "y": [
            30.01
           ],
           "yaxis": "y"
          }
         ],
         "name": "2021-09-10T01:06:04.900"
        },
        {
         "data": [
          {
           "hovertemplate": "team=TB<br>time=2021-09-10T01:06:05.000<br>x=%{x}<br>y=%{y}<extra></extra>",
           "legendgroup": "TB",
           "marker": {
            "color": "#636efa",
            "symbol": "circle"
           },
           "mode": "markers",
           "name": "TB",
           "orientation": "v",
           "showlegend": true,
           "type": "scatter",
           "x": [
            12.99,
            11.08,
            25.1,
            25.23,
            10.7,
            11.69,
            33.75,
            23.2,
            32.26,
            34.28,
            35.72
           ],
           "xaxis": "x",
           "y": [
            29.34,
            32.44,
            11.71,
            38.35,
            25.9,
            27.73,
            8.72,
            28.34,
            45.48,
            35.29,
            17.6
           ],
           "yaxis": "y"
          },
          {
           "hovertemplate": "team=DAL<br>time=2021-09-10T01:06:05.000<br>x=%{x}<br>y=%{y}<extra></extra>",
           "legendgroup": "DAL",
           "marker": {
            "color": "#EF553B",
            "symbol": "circle"
           },
           "mode": "markers",
           "name": "DAL",
           "orientation": "v",
           "showlegend": true,
           "type": "scatter",
           "x": [
            10.54,
            23.31,
            10.23,
            9.23,
            12.92,
            26.16,
            29.23,
            11.16,
            19.63,
            30,
            11.75
           ],
           "xaxis": "x",
           "y": [
            32.18,
            48.99,
            26.44,
            29.92,
            30.13,
            6.89,
            37.61,
            27.71,
            29.83,
            14.34,
            28.46
           ],
           "yaxis": "y"
          },
          {
           "hovertemplate": "team=football<br>time=2021-09-10T01:06:05.000<br>x=%{x}<br>y=%{y}<extra></extra>",
           "legendgroup": "football",
           "marker": {
            "color": "#00cc96",
            "symbol": "circle"
           },
           "mode": "markers",
           "name": "football",
           "orientation": "v",
           "showlegend": true,
           "type": "scatter",
           "x": [
            13.72
           ],
           "xaxis": "x",
           "y": [
            30.35
           ],
           "yaxis": "y"
          }
         ],
         "name": "2021-09-10T01:06:05.000"
        },
        {
         "data": [
          {
           "hovertemplate": "team=TB<br>time=2021-09-10T01:06:05.100<br>x=%{x}<br>y=%{y}<extra></extra>",
           "legendgroup": "TB",
           "marker": {
            "color": "#636efa",
            "symbol": "circle"
           },
           "mode": "markers",
           "name": "TB",
           "orientation": "v",
           "showlegend": true,
           "type": "scatter",
           "x": [
            13.05,
            11.18,
            25.2,
            25.3,
            10.63,
            11.71,
            34.23,
            23.04,
            32.64,
            34.23,
            35.78
           ],
           "xaxis": "x",
           "y": [
            29.12,
            32.32,
            11.33,
            38.12,
            25.97,
            27.68,
            8.94,
            28.8,
            45.34,
            35.02,
            17.64
           ],
           "yaxis": "y"
          },
          {
           "hovertemplate": "team=DAL<br>time=2021-09-10T01:06:05.100<br>x=%{x}<br>y=%{y}<extra></extra>",
           "legendgroup": "DAL",
           "marker": {
            "color": "#EF553B",
            "symbol": "circle"
           },
           "mode": "markers",
           "name": "DAL",
           "orientation": "v",
           "showlegend": true,
           "type": "scatter",
           "x": [
            10.61,
            23.22,
            10.13,
            9.17,
            12.97,
            26.2,
            29.62,
            11.13,
            20,
            30.46,
            11.68
           ],
           "xaxis": "x",
           "y": [
            32.07,
            49.2,
            26.51,
            29.97,
            29.97,
            6.86,
            37.08,
            27.65,
            30.2,
            14.64,
            28.41
           ],
           "yaxis": "y"
          },
          {
           "hovertemplate": "team=football<br>time=2021-09-10T01:06:05.100<br>x=%{x}<br>y=%{y}<extra></extra>",
           "legendgroup": "football",
           "marker": {
            "color": "#00cc96",
            "symbol": "circle"
           },
           "mode": "markers",
           "name": "football",
           "orientation": "v",
           "showlegend": true,
           "type": "scatter",
           "x": [
            15.58
           ],
           "xaxis": "x",
           "y": [
            30.69
           ],
           "yaxis": "y"
          }
         ],
         "name": "2021-09-10T01:06:05.100"
        },
        {
         "data": [
          {
           "hovertemplate": "team=TB<br>time=2021-09-10T01:06:05.200<br>x=%{x}<br>y=%{y}<extra></extra>",
           "legendgroup": "TB",
           "marker": {
            "color": "#636efa",
            "symbol": "circle"
           },
           "mode": "markers",
           "name": "TB",
           "orientation": "v",
           "showlegend": true,
           "type": "scatter",
           "x": [
            13.15,
            11.32,
            25.3,
            25.31,
            10.58,
            11.75,
            34.7,
            22.84,
            33,
            34.09,
            35.78
           ],
           "xaxis": "x",
           "y": [
            28.9,
            32.22,
            10.97,
            37.86,
            26.01,
            27.64,
            9.2,
            29.27,
            45.17,
            34.73,
            17.81
           ],
           "yaxis": "y"
          },
          {
           "hovertemplate": "team=DAL<br>time=2021-09-10T01:06:05.200<br>x=%{x}<br>y=%{y}<extra></extra>",
           "legendgroup": "DAL",
           "marker": {
            "color": "#EF553B",
            "symbol": "circle"
           },
           "mode": "markers",
           "name": "DAL",
           "orientation": "v",
           "showlegend": true,
           "type": "scatter",
           "x": [
            10.71,
            23.14,
            10.04,
            9.09,
            13.03,
            26.21,
            29.93,
            11.15,
            20.37,
            30.87,
            11.65
           ],
           "xaxis": "x",
           "y": [
            31.96,
            49.39,
            26.57,
            30.04,
            29.84,
            6.84,
            36.5,
            27.6,
            30.56,
            14.98,
            28.36
           ],
           "yaxis": "y"
          },
          {
           "hovertemplate": "team=football<br>time=2021-09-10T01:06:05.200<br>x=%{x}<br>y=%{y}<extra></extra>",
           "legendgroup": "football",
           "marker": {
            "color": "#00cc96",
            "symbol": "circle"
           },
           "mode": "markers",
           "name": "football",
           "orientation": "v",
           "showlegend": true,
           "type": "scatter",
           "x": [
            17.43
           ],
           "xaxis": "x",
           "y": [
            31.03
           ],
           "yaxis": "y"
          }
         ],
         "name": "2021-09-10T01:06:05.200"
        }
       ],
       "layout": {
        "annotations": [
         {
          "align": "center",
          "font": {
           "color": "#e9ece7",
           "size": 16
          },
          "showarrow": false,
          "text": "HOME ENDZONE",
          "textangle": -90,
          "x": -5,
          "xref": "x",
          "y": 12,
          "yanchor": "bottom",
          "yref": "y"
         },
         {
          "align": "center",
          "font": {
           "color": "#e9ece7",
           "size": 16
          },
          "showarrow": false,
          "text": "VISITOR ENDZONE",
          "textangle": 90,
          "x": 105,
          "xref": "x",
          "y": 10,
          "yanchor": "bottom",
          "yref": "y"
         }
        ],
        "font": {
         "color": "white"
        },
        "height": 600,
        "legend": {
         "font": {
          "family": "sans-serif",
          "size": 12
         },
         "orientation": "h",
         "title": {
          "text": ""
         },
         "tracegroupgap": 0,
         "traceorder": "normal",
         "x": 0.5,
         "xanchor": "center",
         "y": 1,
         "yanchor": "bottom"
        },
        "margin": {
         "t": 60
        },
        "paper_bgcolor": "#29a500",
        "plot_bgcolor": "#29a500",
        "shapes": [
         {
          "fillcolor": "#217b00",
          "layer": "below",
          "line": {
           "color": "#c8ddc0",
           "width": 3
          },
          "type": "rect",
          "x0": -10,
          "x1": 0,
          "y0": 0,
          "y1": 53.3
         },
         {
          "fillcolor": "#217b00",
          "layer": "below",
          "line": {
           "color": "#c8ddc0",
           "width": 3
          },
          "type": "rect",
          "x0": 100,
          "x1": 110,
          "y0": 0,
          "y1": 53.3
         },
         {
          "fillcolor": "#29a500",
          "layer": "below",
          "line": {
           "color": "#c8ddc0",
           "width": 3
          },
          "type": "rect",
          "x0": 0,
          "x1": 10,
          "y0": 0,
          "y1": 53.3
         },
         {
          "fillcolor": "#29a500",
          "layer": "below",
          "line": {
           "color": "#c8ddc0",
           "width": 3
          },
          "type": "rect",
          "x0": 10,
          "x1": 20,
          "y0": 0,
          "y1": 53.3
         },
         {
          "fillcolor": "#29a500",
          "layer": "below",
          "line": {
           "color": "#c8ddc0",
           "width": 3
          },
          "type": "rect",
          "x0": 20,
          "x1": 30,
          "y0": 0,
          "y1": 53.3
         },
         {
          "fillcolor": "#29a500",
          "layer": "below",
          "line": {
           "color": "#c8ddc0",
           "width": 3
          },
          "type": "rect",
          "x0": 30,
          "x1": 40,
          "y0": 0,
          "y1": 53.3
         },
         {
          "fillcolor": "#29a500",
          "layer": "below",
          "line": {
           "color": "#c8ddc0",
           "width": 3
          },
          "type": "rect",
          "x0": 40,
          "x1": 50,
          "y0": 0,
          "y1": 53.3
         },
         {
          "fillcolor": "#29a500",
          "layer": "below",
          "line": {
           "color": "#c8ddc0",
           "width": 3
          },
          "type": "rect",
          "x0": 50,
          "x1": 60,
          "y0": 0,
          "y1": 53.3
         },
         {
          "fillcolor": "#29a500",
          "layer": "below",
          "line": {
           "color": "#c8ddc0",
           "width": 3
          },
          "type": "rect",
          "x0": 60,
          "x1": 70,
          "y0": 0,
          "y1": 53.3
         },
         {
          "fillcolor": "#29a500",
          "layer": "below",
          "line": {
           "color": "#c8ddc0",
           "width": 3
          },
          "type": "rect",
          "x0": 70,
          "x1": 80,
          "y0": 0,
          "y1": 53.3
         },
         {
          "fillcolor": "#29a500",
          "layer": "below",
          "line": {
           "color": "#c8ddc0",
           "width": 3
          },
          "type": "rect",
          "x0": 80,
          "x1": 90,
          "y0": 0,
          "y1": 53.3
         },
         {
          "fillcolor": "#29a500",
          "layer": "below",
          "line": {
           "color": "#c8ddc0",
           "width": 3
          },
          "type": "rect",
          "x0": 90,
          "x1": 100,
          "y0": 0,
          "y1": 53.3
         },
         {
          "layer": "below",
          "line": {
           "color": "#c8ddc0",
           "width": 2
          },
          "type": "line",
          "x0": 0,
          "x1": 0,
          "y0": 1,
          "y1": 2
         },
         {
          "layer": "below",
          "line": {
           "color": "#c8ddc0",
           "width": 2
          },
          "type": "line",
          "x0": 1,
          "x1": 1,
          "y0": 1,
          "y1": 2
         },
         {
          "layer": "below",
          "line": {
           "color": "#c8ddc0",
           "width": 2
          },
          "type": "line",
          "x0": 2,
          "x1": 2,
          "y0": 1,
          "y1": 2
         },
         {
          "layer": "below",
          "line": {
           "color": "#c8ddc0",
           "width": 2
          },
          "type": "line",
          "x0": 3,
          "x1": 3,
          "y0": 1,
          "y1": 2
         },
         {
          "layer": "below",
          "line": {
           "color": "#c8ddc0",
           "width": 2
          },
          "type": "line",
          "x0": 4,
          "x1": 4,
          "y0": 1,
          "y1": 2
         },
         {
          "layer": "below",
          "line": {
           "color": "#c8ddc0",
           "width": 2
          },
          "type": "line",
          "x0": 5,
          "x1": 5,
          "y0": 1,
          "y1": 2
         },
         {
          "layer": "below",
          "line": {
           "color": "#c8ddc0",
           "width": 2
          },
          "type": "line",
          "x0": 6,
          "x1": 6,
          "y0": 1,
          "y1": 2
         },
         {
          "layer": "below",
          "line": {
           "color": "#c8ddc0",
           "width": 2
          },
          "type": "line",
          "x0": 7,
          "x1": 7,
          "y0": 1,
          "y1": 2
         },
         {
          "layer": "below",
          "line": {
           "color": "#c8ddc0",
           "width": 2
          },
          "type": "line",
          "x0": 8,
          "x1": 8,
          "y0": 1,
          "y1": 2
         },
         {
          "layer": "below",
          "line": {
           "color": "#c8ddc0",
           "width": 2
          },
          "type": "line",
          "x0": 9,
          "x1": 9,
          "y0": 1,
          "y1": 2
         },
         {
          "layer": "below",
          "line": {
           "color": "#c8ddc0",
           "width": 2
          },
          "type": "line",
          "x0": 10,
          "x1": 10,
          "y0": 1,
          "y1": 2
         },
         {
          "layer": "below",
          "line": {
           "color": "#c8ddc0",
           "width": 2
          },
          "type": "line",
          "x0": 11,
          "x1": 11,
          "y0": 1,
          "y1": 2
         },
         {
          "layer": "below",
          "line": {
           "color": "#c8ddc0",
           "width": 2
          },
          "type": "line",
          "x0": 12,
          "x1": 12,
          "y0": 1,
          "y1": 2
         },
         {
          "layer": "below",
          "line": {
           "color": "#c8ddc0",
           "width": 2
          },
          "type": "line",
          "x0": 13,
          "x1": 13,
          "y0": 1,
          "y1": 2
         },
         {
          "layer": "below",
          "line": {
           "color": "#c8ddc0",
           "width": 2
          },
          "type": "line",
          "x0": 14,
          "x1": 14,
          "y0": 1,
          "y1": 2
         },
         {
          "layer": "below",
          "line": {
           "color": "#c8ddc0",
           "width": 2
          },
          "type": "line",
          "x0": 15,
          "x1": 15,
          "y0": 1,
          "y1": 2
         },
         {
          "layer": "below",
          "line": {
           "color": "#c8ddc0",
           "width": 2
          },
          "type": "line",
          "x0": 16,
          "x1": 16,
          "y0": 1,
          "y1": 2
         },
         {
          "layer": "below",
          "line": {
           "color": "#c8ddc0",
           "width": 2
          },
          "type": "line",
          "x0": 17,
          "x1": 17,
          "y0": 1,
          "y1": 2
         },
         {
          "layer": "below",
          "line": {
           "color": "#c8ddc0",
           "width": 2
          },
          "type": "line",
          "x0": 18,
          "x1": 18,
          "y0": 1,
          "y1": 2
         },
         {
          "layer": "below",
          "line": {
           "color": "#c8ddc0",
           "width": 2
          },
          "type": "line",
          "x0": 19,
          "x1": 19,
          "y0": 1,
          "y1": 2
         },
         {
          "layer": "below",
          "line": {
           "color": "#c8ddc0",
           "width": 2
          },
          "type": "line",
          "x0": 20,
          "x1": 20,
          "y0": 1,
          "y1": 2
         },
         {
          "layer": "below",
          "line": {
           "color": "#c8ddc0",
           "width": 2
          },
          "type": "line",
          "x0": 21,
          "x1": 21,
          "y0": 1,
          "y1": 2
         },
         {
          "layer": "below",
          "line": {
           "color": "#c8ddc0",
           "width": 2
          },
          "type": "line",
          "x0": 22,
          "x1": 22,
          "y0": 1,
          "y1": 2
         },
         {
          "layer": "below",
          "line": {
           "color": "#c8ddc0",
           "width": 2
          },
          "type": "line",
          "x0": 23,
          "x1": 23,
          "y0": 1,
          "y1": 2
         },
         {
          "layer": "below",
          "line": {
           "color": "#c8ddc0",
           "width": 2
          },
          "type": "line",
          "x0": 24,
          "x1": 24,
          "y0": 1,
          "y1": 2
         },
         {
          "layer": "below",
          "line": {
           "color": "#c8ddc0",
           "width": 2
          },
          "type": "line",
          "x0": 25,
          "x1": 25,
          "y0": 1,
          "y1": 2
         },
         {
          "layer": "below",
          "line": {
           "color": "#c8ddc0",
           "width": 2
          },
          "type": "line",
          "x0": 26,
          "x1": 26,
          "y0": 1,
          "y1": 2
         },
         {
          "layer": "below",
          "line": {
           "color": "#c8ddc0",
           "width": 2
          },
          "type": "line",
          "x0": 27,
          "x1": 27,
          "y0": 1,
          "y1": 2
         },
         {
          "layer": "below",
          "line": {
           "color": "#c8ddc0",
           "width": 2
          },
          "type": "line",
          "x0": 28,
          "x1": 28,
          "y0": 1,
          "y1": 2
         },
         {
          "layer": "below",
          "line": {
           "color": "#c8ddc0",
           "width": 2
          },
          "type": "line",
          "x0": 29,
          "x1": 29,
          "y0": 1,
          "y1": 2
         },
         {
          "layer": "below",
          "line": {
           "color": "#c8ddc0",
           "width": 2
          },
          "type": "line",
          "x0": 30,
          "x1": 30,
          "y0": 1,
          "y1": 2
         },
         {
          "layer": "below",
          "line": {
           "color": "#c8ddc0",
           "width": 2
          },
          "type": "line",
          "x0": 31,
          "x1": 31,
          "y0": 1,
          "y1": 2
         },
         {
          "layer": "below",
          "line": {
           "color": "#c8ddc0",
           "width": 2
          },
          "type": "line",
          "x0": 32,
          "x1": 32,
          "y0": 1,
          "y1": 2
         },
         {
          "layer": "below",
          "line": {
           "color": "#c8ddc0",
           "width": 2
          },
          "type": "line",
          "x0": 33,
          "x1": 33,
          "y0": 1,
          "y1": 2
         },
         {
          "layer": "below",
          "line": {
           "color": "#c8ddc0",
           "width": 2
          },
          "type": "line",
          "x0": 34,
          "x1": 34,
          "y0": 1,
          "y1": 2
         },
         {
          "layer": "below",
          "line": {
           "color": "#c8ddc0",
           "width": 2
          },
          "type": "line",
          "x0": 35,
          "x1": 35,
          "y0": 1,
          "y1": 2
         },
         {
          "layer": "below",
          "line": {
           "color": "#c8ddc0",
           "width": 2
          },
          "type": "line",
          "x0": 36,
          "x1": 36,
          "y0": 1,
          "y1": 2
         },
         {
          "layer": "below",
          "line": {
           "color": "#c8ddc0",
           "width": 2
          },
          "type": "line",
          "x0": 37,
          "x1": 37,
          "y0": 1,
          "y1": 2
         },
         {
          "layer": "below",
          "line": {
           "color": "#c8ddc0",
           "width": 2
          },
          "type": "line",
          "x0": 38,
          "x1": 38,
          "y0": 1,
          "y1": 2
         },
         {
          "layer": "below",
          "line": {
           "color": "#c8ddc0",
           "width": 2
          },
          "type": "line",
          "x0": 39,
          "x1": 39,
          "y0": 1,
          "y1": 2
         },
         {
          "layer": "below",
          "line": {
           "color": "#c8ddc0",
           "width": 2
          },
          "type": "line",
          "x0": 40,
          "x1": 40,
          "y0": 1,
          "y1": 2
         },
         {
          "layer": "below",
          "line": {
           "color": "#c8ddc0",
           "width": 2
          },
          "type": "line",
          "x0": 41,
          "x1": 41,
          "y0": 1,
          "y1": 2
         },
         {
          "layer": "below",
          "line": {
           "color": "#c8ddc0",
           "width": 2
          },
          "type": "line",
          "x0": 42,
          "x1": 42,
          "y0": 1,
          "y1": 2
         },
         {
          "layer": "below",
          "line": {
           "color": "#c8ddc0",
           "width": 2
          },
          "type": "line",
          "x0": 43,
          "x1": 43,
          "y0": 1,
          "y1": 2
         },
         {
          "layer": "below",
          "line": {
           "color": "#c8ddc0",
           "width": 2
          },
          "type": "line",
          "x0": 44,
          "x1": 44,
          "y0": 1,
          "y1": 2
         },
         {
          "layer": "below",
          "line": {
           "color": "#c8ddc0",
           "width": 2
          },
          "type": "line",
          "x0": 45,
          "x1": 45,
          "y0": 1,
          "y1": 2
         },
         {
          "layer": "below",
          "line": {
           "color": "#c8ddc0",
           "width": 2
          },
          "type": "line",
          "x0": 46,
          "x1": 46,
          "y0": 1,
          "y1": 2
         },
         {
          "layer": "below",
          "line": {
           "color": "#c8ddc0",
           "width": 2
          },
          "type": "line",
          "x0": 47,
          "x1": 47,
          "y0": 1,
          "y1": 2
         },
         {
          "layer": "below",
          "line": {
           "color": "#c8ddc0",
           "width": 2
          },
          "type": "line",
          "x0": 48,
          "x1": 48,
          "y0": 1,
          "y1": 2
         },
         {
          "layer": "below",
          "line": {
           "color": "#c8ddc0",
           "width": 2
          },
          "type": "line",
          "x0": 49,
          "x1": 49,
          "y0": 1,
          "y1": 2
         },
         {
          "layer": "below",
          "line": {
           "color": "#c8ddc0",
           "width": 2
          },
          "type": "line",
          "x0": 50,
          "x1": 50,
          "y0": 1,
          "y1": 2
         },
         {
          "layer": "below",
          "line": {
           "color": "#c8ddc0",
           "width": 2
          },
          "type": "line",
          "x0": 51,
          "x1": 51,
          "y0": 1,
          "y1": 2
         },
         {
          "layer": "below",
          "line": {
           "color": "#c8ddc0",
           "width": 2
          },
          "type": "line",
          "x0": 52,
          "x1": 52,
          "y0": 1,
          "y1": 2
         },
         {
          "layer": "below",
          "line": {
           "color": "#c8ddc0",
           "width": 2
          },
          "type": "line",
          "x0": 53,
          "x1": 53,
          "y0": 1,
          "y1": 2
         },
         {
          "layer": "below",
          "line": {
           "color": "#c8ddc0",
           "width": 2
          },
          "type": "line",
          "x0": 54,
          "x1": 54,
          "y0": 1,
          "y1": 2
         },
         {
          "layer": "below",
          "line": {
           "color": "#c8ddc0",
           "width": 2
          },
          "type": "line",
          "x0": 55,
          "x1": 55,
          "y0": 1,
          "y1": 2
         },
         {
          "layer": "below",
          "line": {
           "color": "#c8ddc0",
           "width": 2
          },
          "type": "line",
          "x0": 56,
          "x1": 56,
          "y0": 1,
          "y1": 2
         },
         {
          "layer": "below",
          "line": {
           "color": "#c8ddc0",
           "width": 2
          },
          "type": "line",
          "x0": 57,
          "x1": 57,
          "y0": 1,
          "y1": 2
         },
         {
          "layer": "below",
          "line": {
           "color": "#c8ddc0",
           "width": 2
          },
          "type": "line",
          "x0": 58,
          "x1": 58,
          "y0": 1,
          "y1": 2
         },
         {
          "layer": "below",
          "line": {
           "color": "#c8ddc0",
           "width": 2
          },
          "type": "line",
          "x0": 59,
          "x1": 59,
          "y0": 1,
          "y1": 2
         },
         {
          "layer": "below",
          "line": {
           "color": "#c8ddc0",
           "width": 2
          },
          "type": "line",
          "x0": 60,
          "x1": 60,
          "y0": 1,
          "y1": 2
         },
         {
          "layer": "below",
          "line": {
           "color": "#c8ddc0",
           "width": 2
          },
          "type": "line",
          "x0": 61,
          "x1": 61,
          "y0": 1,
          "y1": 2
         },
         {
          "layer": "below",
          "line": {
           "color": "#c8ddc0",
           "width": 2
          },
          "type": "line",
          "x0": 62,
          "x1": 62,
          "y0": 1,
          "y1": 2
         },
         {
          "layer": "below",
          "line": {
           "color": "#c8ddc0",
           "width": 2
          },
          "type": "line",
          "x0": 63,
          "x1": 63,
          "y0": 1,
          "y1": 2
         },
         {
          "layer": "below",
          "line": {
           "color": "#c8ddc0",
           "width": 2
          },
          "type": "line",
          "x0": 64,
          "x1": 64,
          "y0": 1,
          "y1": 2
         },
         {
          "layer": "below",
          "line": {
           "color": "#c8ddc0",
           "width": 2
          },
          "type": "line",
          "x0": 65,
          "x1": 65,
          "y0": 1,
          "y1": 2
         },
         {
          "layer": "below",
          "line": {
           "color": "#c8ddc0",
           "width": 2
          },
          "type": "line",
          "x0": 66,
          "x1": 66,
          "y0": 1,
          "y1": 2
         },
         {
          "layer": "below",
          "line": {
           "color": "#c8ddc0",
           "width": 2
          },
          "type": "line",
          "x0": 67,
          "x1": 67,
          "y0": 1,
          "y1": 2
         },
         {
          "layer": "below",
          "line": {
           "color": "#c8ddc0",
           "width": 2
          },
          "type": "line",
          "x0": 68,
          "x1": 68,
          "y0": 1,
          "y1": 2
         },
         {
          "layer": "below",
          "line": {
           "color": "#c8ddc0",
           "width": 2
          },
          "type": "line",
          "x0": 69,
          "x1": 69,
          "y0": 1,
          "y1": 2
         },
         {
          "layer": "below",
          "line": {
           "color": "#c8ddc0",
           "width": 2
          },
          "type": "line",
          "x0": 70,
          "x1": 70,
          "y0": 1,
          "y1": 2
         },
         {
          "layer": "below",
          "line": {
           "color": "#c8ddc0",
           "width": 2
          },
          "type": "line",
          "x0": 71,
          "x1": 71,
          "y0": 1,
          "y1": 2
         },
         {
          "layer": "below",
          "line": {
           "color": "#c8ddc0",
           "width": 2
          },
          "type": "line",
          "x0": 72,
          "x1": 72,
          "y0": 1,
          "y1": 2
         },
         {
          "layer": "below",
          "line": {
           "color": "#c8ddc0",
           "width": 2
          },
          "type": "line",
          "x0": 73,
          "x1": 73,
          "y0": 1,
          "y1": 2
         },
         {
          "layer": "below",
          "line": {
           "color": "#c8ddc0",
           "width": 2
          },
          "type": "line",
          "x0": 74,
          "x1": 74,
          "y0": 1,
          "y1": 2
         },
         {
          "layer": "below",
          "line": {
           "color": "#c8ddc0",
           "width": 2
          },
          "type": "line",
          "x0": 75,
          "x1": 75,
          "y0": 1,
          "y1": 2
         },
         {
          "layer": "below",
          "line": {
           "color": "#c8ddc0",
           "width": 2
          },
          "type": "line",
          "x0": 76,
          "x1": 76,
          "y0": 1,
          "y1": 2
         },
         {
          "layer": "below",
          "line": {
           "color": "#c8ddc0",
           "width": 2
          },
          "type": "line",
          "x0": 77,
          "x1": 77,
          "y0": 1,
          "y1": 2
         },
         {
          "layer": "below",
          "line": {
           "color": "#c8ddc0",
           "width": 2
          },
          "type": "line",
          "x0": 78,
          "x1": 78,
          "y0": 1,
          "y1": 2
         },
         {
          "layer": "below",
          "line": {
           "color": "#c8ddc0",
           "width": 2
          },
          "type": "line",
          "x0": 79,
          "x1": 79,
          "y0": 1,
          "y1": 2
         },
         {
          "layer": "below",
          "line": {
           "color": "#c8ddc0",
           "width": 2
          },
          "type": "line",
          "x0": 80,
          "x1": 80,
          "y0": 1,
          "y1": 2
         },
         {
          "layer": "below",
          "line": {
           "color": "#c8ddc0",
           "width": 2
          },
          "type": "line",
          "x0": 81,
          "x1": 81,
          "y0": 1,
          "y1": 2
         },
         {
          "layer": "below",
          "line": {
           "color": "#c8ddc0",
           "width": 2
          },
          "type": "line",
          "x0": 82,
          "x1": 82,
          "y0": 1,
          "y1": 2
         },
         {
          "layer": "below",
          "line": {
           "color": "#c8ddc0",
           "width": 2
          },
          "type": "line",
          "x0": 83,
          "x1": 83,
          "y0": 1,
          "y1": 2
         },
         {
          "layer": "below",
          "line": {
           "color": "#c8ddc0",
           "width": 2
          },
          "type": "line",
          "x0": 84,
          "x1": 84,
          "y0": 1,
          "y1": 2
         },
         {
          "layer": "below",
          "line": {
           "color": "#c8ddc0",
           "width": 2
          },
          "type": "line",
          "x0": 85,
          "x1": 85,
          "y0": 1,
          "y1": 2
         },
         {
          "layer": "below",
          "line": {
           "color": "#c8ddc0",
           "width": 2
          },
          "type": "line",
          "x0": 86,
          "x1": 86,
          "y0": 1,
          "y1": 2
         },
         {
          "layer": "below",
          "line": {
           "color": "#c8ddc0",
           "width": 2
          },
          "type": "line",
          "x0": 87,
          "x1": 87,
          "y0": 1,
          "y1": 2
         },
         {
          "layer": "below",
          "line": {
           "color": "#c8ddc0",
           "width": 2
          },
          "type": "line",
          "x0": 88,
          "x1": 88,
          "y0": 1,
          "y1": 2
         },
         {
          "layer": "below",
          "line": {
           "color": "#c8ddc0",
           "width": 2
          },
          "type": "line",
          "x0": 89,
          "x1": 89,
          "y0": 1,
          "y1": 2
         },
         {
          "layer": "below",
          "line": {
           "color": "#c8ddc0",
           "width": 2
          },
          "type": "line",
          "x0": 90,
          "x1": 90,
          "y0": 1,
          "y1": 2
         },
         {
          "layer": "below",
          "line": {
           "color": "#c8ddc0",
           "width": 2
          },
          "type": "line",
          "x0": 91,
          "x1": 91,
          "y0": 1,
          "y1": 2
         },
         {
          "layer": "below",
          "line": {
           "color": "#c8ddc0",
           "width": 2
          },
          "type": "line",
          "x0": 92,
          "x1": 92,
          "y0": 1,
          "y1": 2
         },
         {
          "layer": "below",
          "line": {
           "color": "#c8ddc0",
           "width": 2
          },
          "type": "line",
          "x0": 93,
          "x1": 93,
          "y0": 1,
          "y1": 2
         },
         {
          "layer": "below",
          "line": {
           "color": "#c8ddc0",
           "width": 2
          },
          "type": "line",
          "x0": 94,
          "x1": 94,
          "y0": 1,
          "y1": 2
         },
         {
          "layer": "below",
          "line": {
           "color": "#c8ddc0",
           "width": 2
          },
          "type": "line",
          "x0": 95,
          "x1": 95,
          "y0": 1,
          "y1": 2
         },
         {
          "layer": "below",
          "line": {
           "color": "#c8ddc0",
           "width": 2
          },
          "type": "line",
          "x0": 96,
          "x1": 96,
          "y0": 1,
          "y1": 2
         },
         {
          "layer": "below",
          "line": {
           "color": "#c8ddc0",
           "width": 2
          },
          "type": "line",
          "x0": 97,
          "x1": 97,
          "y0": 1,
          "y1": 2
         },
         {
          "layer": "below",
          "line": {
           "color": "#c8ddc0",
           "width": 2
          },
          "type": "line",
          "x0": 98,
          "x1": 98,
          "y0": 1,
          "y1": 2
         },
         {
          "layer": "below",
          "line": {
           "color": "#c8ddc0",
           "width": 2
          },
          "type": "line",
          "x0": 99,
          "x1": 99,
          "y0": 1,
          "y1": 2
         },
         {
          "layer": "below",
          "line": {
           "color": "#c8ddc0",
           "width": 2
          },
          "type": "line",
          "x0": 0,
          "x1": 0,
          "y0": 51.3,
          "y1": 52.3
         },
         {
          "layer": "below",
          "line": {
           "color": "#c8ddc0",
           "width": 2
          },
          "type": "line",
          "x0": 1,
          "x1": 1,
          "y0": 51.3,
          "y1": 52.3
         },
         {
          "layer": "below",
          "line": {
           "color": "#c8ddc0",
           "width": 2
          },
          "type": "line",
          "x0": 2,
          "x1": 2,
          "y0": 51.3,
          "y1": 52.3
         },
         {
          "layer": "below",
          "line": {
           "color": "#c8ddc0",
           "width": 2
          },
          "type": "line",
          "x0": 3,
          "x1": 3,
          "y0": 51.3,
          "y1": 52.3
         },
         {
          "layer": "below",
          "line": {
           "color": "#c8ddc0",
           "width": 2
          },
          "type": "line",
          "x0": 4,
          "x1": 4,
          "y0": 51.3,
          "y1": 52.3
         },
         {
          "layer": "below",
          "line": {
           "color": "#c8ddc0",
           "width": 2
          },
          "type": "line",
          "x0": 5,
          "x1": 5,
          "y0": 51.3,
          "y1": 52.3
         },
         {
          "layer": "below",
          "line": {
           "color": "#c8ddc0",
           "width": 2
          },
          "type": "line",
          "x0": 6,
          "x1": 6,
          "y0": 51.3,
          "y1": 52.3
         },
         {
          "layer": "below",
          "line": {
           "color": "#c8ddc0",
           "width": 2
          },
          "type": "line",
          "x0": 7,
          "x1": 7,
          "y0": 51.3,
          "y1": 52.3
         },
         {
          "layer": "below",
          "line": {
           "color": "#c8ddc0",
           "width": 2
          },
          "type": "line",
          "x0": 8,
          "x1": 8,
          "y0": 51.3,
          "y1": 52.3
         },
         {
          "layer": "below",
          "line": {
           "color": "#c8ddc0",
           "width": 2
          },
          "type": "line",
          "x0": 9,
          "x1": 9,
          "y0": 51.3,
          "y1": 52.3
         },
         {
          "layer": "below",
          "line": {
           "color": "#c8ddc0",
           "width": 2
          },
          "type": "line",
          "x0": 10,
          "x1": 10,
          "y0": 51.3,
          "y1": 52.3
         },
         {
          "layer": "below",
          "line": {
           "color": "#c8ddc0",
           "width": 2
          },
          "type": "line",
          "x0": 11,
          "x1": 11,
          "y0": 51.3,
          "y1": 52.3
         },
         {
          "layer": "below",
          "line": {
           "color": "#c8ddc0",
           "width": 2
          },
          "type": "line",
          "x0": 12,
          "x1": 12,
          "y0": 51.3,
          "y1": 52.3
         },
         {
          "layer": "below",
          "line": {
           "color": "#c8ddc0",
           "width": 2
          },
          "type": "line",
          "x0": 13,
          "x1": 13,
          "y0": 51.3,
          "y1": 52.3
         },
         {
          "layer": "below",
          "line": {
           "color": "#c8ddc0",
           "width": 2
          },
          "type": "line",
          "x0": 14,
          "x1": 14,
          "y0": 51.3,
          "y1": 52.3
         },
         {
          "layer": "below",
          "line": {
           "color": "#c8ddc0",
           "width": 2
          },
          "type": "line",
          "x0": 15,
          "x1": 15,
          "y0": 51.3,
          "y1": 52.3
         },
         {
          "layer": "below",
          "line": {
           "color": "#c8ddc0",
           "width": 2
          },
          "type": "line",
          "x0": 16,
          "x1": 16,
          "y0": 51.3,
          "y1": 52.3
         },
         {
          "layer": "below",
          "line": {
           "color": "#c8ddc0",
           "width": 2
          },
          "type": "line",
          "x0": 17,
          "x1": 17,
          "y0": 51.3,
          "y1": 52.3
         },
         {
          "layer": "below",
          "line": {
           "color": "#c8ddc0",
           "width": 2
          },
          "type": "line",
          "x0": 18,
          "x1": 18,
          "y0": 51.3,
          "y1": 52.3
         },
         {
          "layer": "below",
          "line": {
           "color": "#c8ddc0",
           "width": 2
          },
          "type": "line",
          "x0": 19,
          "x1": 19,
          "y0": 51.3,
          "y1": 52.3
         },
         {
          "layer": "below",
          "line": {
           "color": "#c8ddc0",
           "width": 2
          },
          "type": "line",
          "x0": 20,
          "x1": 20,
          "y0": 51.3,
          "y1": 52.3
         },
         {
          "layer": "below",
          "line": {
           "color": "#c8ddc0",
           "width": 2
          },
          "type": "line",
          "x0": 21,
          "x1": 21,
          "y0": 51.3,
          "y1": 52.3
         },
         {
          "layer": "below",
          "line": {
           "color": "#c8ddc0",
           "width": 2
          },
          "type": "line",
          "x0": 22,
          "x1": 22,
          "y0": 51.3,
          "y1": 52.3
         },
         {
          "layer": "below",
          "line": {
           "color": "#c8ddc0",
           "width": 2
          },
          "type": "line",
          "x0": 23,
          "x1": 23,
          "y0": 51.3,
          "y1": 52.3
         },
         {
          "layer": "below",
          "line": {
           "color": "#c8ddc0",
           "width": 2
          },
          "type": "line",
          "x0": 24,
          "x1": 24,
          "y0": 51.3,
          "y1": 52.3
         },
         {
          "layer": "below",
          "line": {
           "color": "#c8ddc0",
           "width": 2
          },
          "type": "line",
          "x0": 25,
          "x1": 25,
          "y0": 51.3,
          "y1": 52.3
         },
         {
          "layer": "below",
          "line": {
           "color": "#c8ddc0",
           "width": 2
          },
          "type": "line",
          "x0": 26,
          "x1": 26,
          "y0": 51.3,
          "y1": 52.3
         },
         {
          "layer": "below",
          "line": {
           "color": "#c8ddc0",
           "width": 2
          },
          "type": "line",
          "x0": 27,
          "x1": 27,
          "y0": 51.3,
          "y1": 52.3
         },
         {
          "layer": "below",
          "line": {
           "color": "#c8ddc0",
           "width": 2
          },
          "type": "line",
          "x0": 28,
          "x1": 28,
          "y0": 51.3,
          "y1": 52.3
         },
         {
          "layer": "below",
          "line": {
           "color": "#c8ddc0",
           "width": 2
          },
          "type": "line",
          "x0": 29,
          "x1": 29,
          "y0": 51.3,
          "y1": 52.3
         },
         {
          "layer": "below",
          "line": {
           "color": "#c8ddc0",
           "width": 2
          },
          "type": "line",
          "x0": 30,
          "x1": 30,
          "y0": 51.3,
          "y1": 52.3
         },
         {
          "layer": "below",
          "line": {
           "color": "#c8ddc0",
           "width": 2
          },
          "type": "line",
          "x0": 31,
          "x1": 31,
          "y0": 51.3,
          "y1": 52.3
         },
         {
          "layer": "below",
          "line": {
           "color": "#c8ddc0",
           "width": 2
          },
          "type": "line",
          "x0": 32,
          "x1": 32,
          "y0": 51.3,
          "y1": 52.3
         },
         {
          "layer": "below",
          "line": {
           "color": "#c8ddc0",
           "width": 2
          },
          "type": "line",
          "x0": 33,
          "x1": 33,
          "y0": 51.3,
          "y1": 52.3
         },
         {
          "layer": "below",
          "line": {
           "color": "#c8ddc0",
           "width": 2
          },
          "type": "line",
          "x0": 34,
          "x1": 34,
          "y0": 51.3,
          "y1": 52.3
         },
         {
          "layer": "below",
          "line": {
           "color": "#c8ddc0",
           "width": 2
          },
          "type": "line",
          "x0": 35,
          "x1": 35,
          "y0": 51.3,
          "y1": 52.3
         },
         {
          "layer": "below",
          "line": {
           "color": "#c8ddc0",
           "width": 2
          },
          "type": "line",
          "x0": 36,
          "x1": 36,
          "y0": 51.3,
          "y1": 52.3
         },
         {
          "layer": "below",
          "line": {
           "color": "#c8ddc0",
           "width": 2
          },
          "type": "line",
          "x0": 37,
          "x1": 37,
          "y0": 51.3,
          "y1": 52.3
         },
         {
          "layer": "below",
          "line": {
           "color": "#c8ddc0",
           "width": 2
          },
          "type": "line",
          "x0": 38,
          "x1": 38,
          "y0": 51.3,
          "y1": 52.3
         },
         {
          "layer": "below",
          "line": {
           "color": "#c8ddc0",
           "width": 2
          },
          "type": "line",
          "x0": 39,
          "x1": 39,
          "y0": 51.3,
          "y1": 52.3
         },
         {
          "layer": "below",
          "line": {
           "color": "#c8ddc0",
           "width": 2
          },
          "type": "line",
          "x0": 40,
          "x1": 40,
          "y0": 51.3,
          "y1": 52.3
         },
         {
          "layer": "below",
          "line": {
           "color": "#c8ddc0",
           "width": 2
          },
          "type": "line",
          "x0": 41,
          "x1": 41,
          "y0": 51.3,
          "y1": 52.3
         },
         {
          "layer": "below",
          "line": {
           "color": "#c8ddc0",
           "width": 2
          },
          "type": "line",
          "x0": 42,
          "x1": 42,
          "y0": 51.3,
          "y1": 52.3
         },
         {
          "layer": "below",
          "line": {
           "color": "#c8ddc0",
           "width": 2
          },
          "type": "line",
          "x0": 43,
          "x1": 43,
          "y0": 51.3,
          "y1": 52.3
         },
         {
          "layer": "below",
          "line": {
           "color": "#c8ddc0",
           "width": 2
          },
          "type": "line",
          "x0": 44,
          "x1": 44,
          "y0": 51.3,
          "y1": 52.3
         },
         {
          "layer": "below",
          "line": {
           "color": "#c8ddc0",
           "width": 2
          },
          "type": "line",
          "x0": 45,
          "x1": 45,
          "y0": 51.3,
          "y1": 52.3
         },
         {
          "layer": "below",
          "line": {
           "color": "#c8ddc0",
           "width": 2
          },
          "type": "line",
          "x0": 46,
          "x1": 46,
          "y0": 51.3,
          "y1": 52.3
         },
         {
          "layer": "below",
          "line": {
           "color": "#c8ddc0",
           "width": 2
          },
          "type": "line",
          "x0": 47,
          "x1": 47,
          "y0": 51.3,
          "y1": 52.3
         },
         {
          "layer": "below",
          "line": {
           "color": "#c8ddc0",
           "width": 2
          },
          "type": "line",
          "x0": 48,
          "x1": 48,
          "y0": 51.3,
          "y1": 52.3
         },
         {
          "layer": "below",
          "line": {
           "color": "#c8ddc0",
           "width": 2
          },
          "type": "line",
          "x0": 49,
          "x1": 49,
          "y0": 51.3,
          "y1": 52.3
         },
         {
          "layer": "below",
          "line": {
           "color": "#c8ddc0",
           "width": 2
          },
          "type": "line",
          "x0": 50,
          "x1": 50,
          "y0": 51.3,
          "y1": 52.3
         },
         {
          "layer": "below",
          "line": {
           "color": "#c8ddc0",
           "width": 2
          },
          "type": "line",
          "x0": 51,
          "x1": 51,
          "y0": 51.3,
          "y1": 52.3
         },
         {
          "layer": "below",
          "line": {
           "color": "#c8ddc0",
           "width": 2
          },
          "type": "line",
          "x0": 52,
          "x1": 52,
          "y0": 51.3,
          "y1": 52.3
         },
         {
          "layer": "below",
          "line": {
           "color": "#c8ddc0",
           "width": 2
          },
          "type": "line",
          "x0": 53,
          "x1": 53,
          "y0": 51.3,
          "y1": 52.3
         },
         {
          "layer": "below",
          "line": {
           "color": "#c8ddc0",
           "width": 2
          },
          "type": "line",
          "x0": 54,
          "x1": 54,
          "y0": 51.3,
          "y1": 52.3
         },
         {
          "layer": "below",
          "line": {
           "color": "#c8ddc0",
           "width": 2
          },
          "type": "line",
          "x0": 55,
          "x1": 55,
          "y0": 51.3,
          "y1": 52.3
         },
         {
          "layer": "below",
          "line": {
           "color": "#c8ddc0",
           "width": 2
          },
          "type": "line",
          "x0": 56,
          "x1": 56,
          "y0": 51.3,
          "y1": 52.3
         },
         {
          "layer": "below",
          "line": {
           "color": "#c8ddc0",
           "width": 2
          },
          "type": "line",
          "x0": 57,
          "x1": 57,
          "y0": 51.3,
          "y1": 52.3
         },
         {
          "layer": "below",
          "line": {
           "color": "#c8ddc0",
           "width": 2
          },
          "type": "line",
          "x0": 58,
          "x1": 58,
          "y0": 51.3,
          "y1": 52.3
         },
         {
          "layer": "below",
          "line": {
           "color": "#c8ddc0",
           "width": 2
          },
          "type": "line",
          "x0": 59,
          "x1": 59,
          "y0": 51.3,
          "y1": 52.3
         },
         {
          "layer": "below",
          "line": {
           "color": "#c8ddc0",
           "width": 2
          },
          "type": "line",
          "x0": 60,
          "x1": 60,
          "y0": 51.3,
          "y1": 52.3
         },
         {
          "layer": "below",
          "line": {
           "color": "#c8ddc0",
           "width": 2
          },
          "type": "line",
          "x0": 61,
          "x1": 61,
          "y0": 51.3,
          "y1": 52.3
         },
         {
          "layer": "below",
          "line": {
           "color": "#c8ddc0",
           "width": 2
          },
          "type": "line",
          "x0": 62,
          "x1": 62,
          "y0": 51.3,
          "y1": 52.3
         },
         {
          "layer": "below",
          "line": {
           "color": "#c8ddc0",
           "width": 2
          },
          "type": "line",
          "x0": 63,
          "x1": 63,
          "y0": 51.3,
          "y1": 52.3
         },
         {
          "layer": "below",
          "line": {
           "color": "#c8ddc0",
           "width": 2
          },
          "type": "line",
          "x0": 64,
          "x1": 64,
          "y0": 51.3,
          "y1": 52.3
         },
         {
          "layer": "below",
          "line": {
           "color": "#c8ddc0",
           "width": 2
          },
          "type": "line",
          "x0": 65,
          "x1": 65,
          "y0": 51.3,
          "y1": 52.3
         },
         {
          "layer": "below",
          "line": {
           "color": "#c8ddc0",
           "width": 2
          },
          "type": "line",
          "x0": 66,
          "x1": 66,
          "y0": 51.3,
          "y1": 52.3
         },
         {
          "layer": "below",
          "line": {
           "color": "#c8ddc0",
           "width": 2
          },
          "type": "line",
          "x0": 67,
          "x1": 67,
          "y0": 51.3,
          "y1": 52.3
         },
         {
          "layer": "below",
          "line": {
           "color": "#c8ddc0",
           "width": 2
          },
          "type": "line",
          "x0": 68,
          "x1": 68,
          "y0": 51.3,
          "y1": 52.3
         },
         {
          "layer": "below",
          "line": {
           "color": "#c8ddc0",
           "width": 2
          },
          "type": "line",
          "x0": 69,
          "x1": 69,
          "y0": 51.3,
          "y1": 52.3
         },
         {
          "layer": "below",
          "line": {
           "color": "#c8ddc0",
           "width": 2
          },
          "type": "line",
          "x0": 70,
          "x1": 70,
          "y0": 51.3,
          "y1": 52.3
         },
         {
          "layer": "below",
          "line": {
           "color": "#c8ddc0",
           "width": 2
          },
          "type": "line",
          "x0": 71,
          "x1": 71,
          "y0": 51.3,
          "y1": 52.3
         },
         {
          "layer": "below",
          "line": {
           "color": "#c8ddc0",
           "width": 2
          },
          "type": "line",
          "x0": 72,
          "x1": 72,
          "y0": 51.3,
          "y1": 52.3
         },
         {
          "layer": "below",
          "line": {
           "color": "#c8ddc0",
           "width": 2
          },
          "type": "line",
          "x0": 73,
          "x1": 73,
          "y0": 51.3,
          "y1": 52.3
         },
         {
          "layer": "below",
          "line": {
           "color": "#c8ddc0",
           "width": 2
          },
          "type": "line",
          "x0": 74,
          "x1": 74,
          "y0": 51.3,
          "y1": 52.3
         },
         {
          "layer": "below",
          "line": {
           "color": "#c8ddc0",
           "width": 2
          },
          "type": "line",
          "x0": 75,
          "x1": 75,
          "y0": 51.3,
          "y1": 52.3
         },
         {
          "layer": "below",
          "line": {
           "color": "#c8ddc0",
           "width": 2
          },
          "type": "line",
          "x0": 76,
          "x1": 76,
          "y0": 51.3,
          "y1": 52.3
         },
         {
          "layer": "below",
          "line": {
           "color": "#c8ddc0",
           "width": 2
          },
          "type": "line",
          "x0": 77,
          "x1": 77,
          "y0": 51.3,
          "y1": 52.3
         },
         {
          "layer": "below",
          "line": {
           "color": "#c8ddc0",
           "width": 2
          },
          "type": "line",
          "x0": 78,
          "x1": 78,
          "y0": 51.3,
          "y1": 52.3
         },
         {
          "layer": "below",
          "line": {
           "color": "#c8ddc0",
           "width": 2
          },
          "type": "line",
          "x0": 79,
          "x1": 79,
          "y0": 51.3,
          "y1": 52.3
         },
         {
          "layer": "below",
          "line": {
           "color": "#c8ddc0",
           "width": 2
          },
          "type": "line",
          "x0": 80,
          "x1": 80,
          "y0": 51.3,
          "y1": 52.3
         },
         {
          "layer": "below",
          "line": {
           "color": "#c8ddc0",
           "width": 2
          },
          "type": "line",
          "x0": 81,
          "x1": 81,
          "y0": 51.3,
          "y1": 52.3
         },
         {
          "layer": "below",
          "line": {
           "color": "#c8ddc0",
           "width": 2
          },
          "type": "line",
          "x0": 82,
          "x1": 82,
          "y0": 51.3,
          "y1": 52.3
         },
         {
          "layer": "below",
          "line": {
           "color": "#c8ddc0",
           "width": 2
          },
          "type": "line",
          "x0": 83,
          "x1": 83,
          "y0": 51.3,
          "y1": 52.3
         },
         {
          "layer": "below",
          "line": {
           "color": "#c8ddc0",
           "width": 2
          },
          "type": "line",
          "x0": 84,
          "x1": 84,
          "y0": 51.3,
          "y1": 52.3
         },
         {
          "layer": "below",
          "line": {
           "color": "#c8ddc0",
           "width": 2
          },
          "type": "line",
          "x0": 85,
          "x1": 85,
          "y0": 51.3,
          "y1": 52.3
         },
         {
          "layer": "below",
          "line": {
           "color": "#c8ddc0",
           "width": 2
          },
          "type": "line",
          "x0": 86,
          "x1": 86,
          "y0": 51.3,
          "y1": 52.3
         },
         {
          "layer": "below",
          "line": {
           "color": "#c8ddc0",
           "width": 2
          },
          "type": "line",
          "x0": 87,
          "x1": 87,
          "y0": 51.3,
          "y1": 52.3
         },
         {
          "layer": "below",
          "line": {
           "color": "#c8ddc0",
           "width": 2
          },
          "type": "line",
          "x0": 88,
          "x1": 88,
          "y0": 51.3,
          "y1": 52.3
         },
         {
          "layer": "below",
          "line": {
           "color": "#c8ddc0",
           "width": 2
          },
          "type": "line",
          "x0": 89,
          "x1": 89,
          "y0": 51.3,
          "y1": 52.3
         },
         {
          "layer": "below",
          "line": {
           "color": "#c8ddc0",
           "width": 2
          },
          "type": "line",
          "x0": 90,
          "x1": 90,
          "y0": 51.3,
          "y1": 52.3
         },
         {
          "layer": "below",
          "line": {
           "color": "#c8ddc0",
           "width": 2
          },
          "type": "line",
          "x0": 91,
          "x1": 91,
          "y0": 51.3,
          "y1": 52.3
         },
         {
          "layer": "below",
          "line": {
           "color": "#c8ddc0",
           "width": 2
          },
          "type": "line",
          "x0": 92,
          "x1": 92,
          "y0": 51.3,
          "y1": 52.3
         },
         {
          "layer": "below",
          "line": {
           "color": "#c8ddc0",
           "width": 2
          },
          "type": "line",
          "x0": 93,
          "x1": 93,
          "y0": 51.3,
          "y1": 52.3
         },
         {
          "layer": "below",
          "line": {
           "color": "#c8ddc0",
           "width": 2
          },
          "type": "line",
          "x0": 94,
          "x1": 94,
          "y0": 51.3,
          "y1": 52.3
         },
         {
          "layer": "below",
          "line": {
           "color": "#c8ddc0",
           "width": 2
          },
          "type": "line",
          "x0": 95,
          "x1": 95,
          "y0": 51.3,
          "y1": 52.3
         },
         {
          "layer": "below",
          "line": {
           "color": "#c8ddc0",
           "width": 2
          },
          "type": "line",
          "x0": 96,
          "x1": 96,
          "y0": 51.3,
          "y1": 52.3
         },
         {
          "layer": "below",
          "line": {
           "color": "#c8ddc0",
           "width": 2
          },
          "type": "line",
          "x0": 97,
          "x1": 97,
          "y0": 51.3,
          "y1": 52.3
         },
         {
          "layer": "below",
          "line": {
           "color": "#c8ddc0",
           "width": 2
          },
          "type": "line",
          "x0": 98,
          "x1": 98,
          "y0": 51.3,
          "y1": 52.3
         },
         {
          "layer": "below",
          "line": {
           "color": "#c8ddc0",
           "width": 2
          },
          "type": "line",
          "x0": 99,
          "x1": 99,
          "y0": 51.3,
          "y1": 52.3
         },
         {
          "layer": "below",
          "line": {
           "color": "#c8ddc0",
           "width": 2
          },
          "type": "line",
          "x0": 0,
          "x1": 0,
          "y0": 20,
          "y1": 21
         },
         {
          "layer": "below",
          "line": {
           "color": "#c8ddc0",
           "width": 2
          },
          "type": "line",
          "x0": 1,
          "x1": 1,
          "y0": 20,
          "y1": 21
         },
         {
          "layer": "below",
          "line": {
           "color": "#c8ddc0",
           "width": 2
          },
          "type": "line",
          "x0": 2,
          "x1": 2,
          "y0": 20,
          "y1": 21
         },
         {
          "layer": "below",
          "line": {
           "color": "#c8ddc0",
           "width": 2
          },
          "type": "line",
          "x0": 3,
          "x1": 3,
          "y0": 20,
          "y1": 21
         },
         {
          "layer": "below",
          "line": {
           "color": "#c8ddc0",
           "width": 2
          },
          "type": "line",
          "x0": 4,
          "x1": 4,
          "y0": 20,
          "y1": 21
         },
         {
          "layer": "below",
          "line": {
           "color": "#c8ddc0",
           "width": 2
          },
          "type": "line",
          "x0": 5,
          "x1": 5,
          "y0": 20,
          "y1": 21
         },
         {
          "layer": "below",
          "line": {
           "color": "#c8ddc0",
           "width": 2
          },
          "type": "line",
          "x0": 6,
          "x1": 6,
          "y0": 20,
          "y1": 21
         },
         {
          "layer": "below",
          "line": {
           "color": "#c8ddc0",
           "width": 2
          },
          "type": "line",
          "x0": 7,
          "x1": 7,
          "y0": 20,
          "y1": 21
         },
         {
          "layer": "below",
          "line": {
           "color": "#c8ddc0",
           "width": 2
          },
          "type": "line",
          "x0": 8,
          "x1": 8,
          "y0": 20,
          "y1": 21
         },
         {
          "layer": "below",
          "line": {
           "color": "#c8ddc0",
           "width": 2
          },
          "type": "line",
          "x0": 9,
          "x1": 9,
          "y0": 20,
          "y1": 21
         },
         {
          "layer": "below",
          "line": {
           "color": "#c8ddc0",
           "width": 2
          },
          "type": "line",
          "x0": 10,
          "x1": 10,
          "y0": 20,
          "y1": 21
         },
         {
          "layer": "below",
          "line": {
           "color": "#c8ddc0",
           "width": 2
          },
          "type": "line",
          "x0": 11,
          "x1": 11,
          "y0": 20,
          "y1": 21
         },
         {
          "layer": "below",
          "line": {
           "color": "#c8ddc0",
           "width": 2
          },
          "type": "line",
          "x0": 12,
          "x1": 12,
          "y0": 20,
          "y1": 21
         },
         {
          "layer": "below",
          "line": {
           "color": "#c8ddc0",
           "width": 2
          },
          "type": "line",
          "x0": 13,
          "x1": 13,
          "y0": 20,
          "y1": 21
         },
         {
          "layer": "below",
          "line": {
           "color": "#c8ddc0",
           "width": 2
          },
          "type": "line",
          "x0": 14,
          "x1": 14,
          "y0": 20,
          "y1": 21
         },
         {
          "layer": "below",
          "line": {
           "color": "#c8ddc0",
           "width": 2
          },
          "type": "line",
          "x0": 15,
          "x1": 15,
          "y0": 20,
          "y1": 21
         },
         {
          "layer": "below",
          "line": {
           "color": "#c8ddc0",
           "width": 2
          },
          "type": "line",
          "x0": 16,
          "x1": 16,
          "y0": 20,
          "y1": 21
         },
         {
          "layer": "below",
          "line": {
           "color": "#c8ddc0",
           "width": 2
          },
          "type": "line",
          "x0": 17,
          "x1": 17,
          "y0": 20,
          "y1": 21
         },
         {
          "layer": "below",
          "line": {
           "color": "#c8ddc0",
           "width": 2
          },
          "type": "line",
          "x0": 18,
          "x1": 18,
          "y0": 20,
          "y1": 21
         },
         {
          "layer": "below",
          "line": {
           "color": "#c8ddc0",
           "width": 2
          },
          "type": "line",
          "x0": 19,
          "x1": 19,
          "y0": 20,
          "y1": 21
         },
         {
          "layer": "below",
          "line": {
           "color": "#c8ddc0",
           "width": 2
          },
          "type": "line",
          "x0": 20,
          "x1": 20,
          "y0": 20,
          "y1": 21
         },
         {
          "layer": "below",
          "line": {
           "color": "#c8ddc0",
           "width": 2
          },
          "type": "line",
          "x0": 21,
          "x1": 21,
          "y0": 20,
          "y1": 21
         },
         {
          "layer": "below",
          "line": {
           "color": "#c8ddc0",
           "width": 2
          },
          "type": "line",
          "x0": 22,
          "x1": 22,
          "y0": 20,
          "y1": 21
         },
         {
          "layer": "below",
          "line": {
           "color": "#c8ddc0",
           "width": 2
          },
          "type": "line",
          "x0": 23,
          "x1": 23,
          "y0": 20,
          "y1": 21
         },
         {
          "layer": "below",
          "line": {
           "color": "#c8ddc0",
           "width": 2
          },
          "type": "line",
          "x0": 24,
          "x1": 24,
          "y0": 20,
          "y1": 21
         },
         {
          "layer": "below",
          "line": {
           "color": "#c8ddc0",
           "width": 2
          },
          "type": "line",
          "x0": 25,
          "x1": 25,
          "y0": 20,
          "y1": 21
         },
         {
          "layer": "below",
          "line": {
           "color": "#c8ddc0",
           "width": 2
          },
          "type": "line",
          "x0": 26,
          "x1": 26,
          "y0": 20,
          "y1": 21
         },
         {
          "layer": "below",
          "line": {
           "color": "#c8ddc0",
           "width": 2
          },
          "type": "line",
          "x0": 27,
          "x1": 27,
          "y0": 20,
          "y1": 21
         },
         {
          "layer": "below",
          "line": {
           "color": "#c8ddc0",
           "width": 2
          },
          "type": "line",
          "x0": 28,
          "x1": 28,
          "y0": 20,
          "y1": 21
         },
         {
          "layer": "below",
          "line": {
           "color": "#c8ddc0",
           "width": 2
          },
          "type": "line",
          "x0": 29,
          "x1": 29,
          "y0": 20,
          "y1": 21
         },
         {
          "layer": "below",
          "line": {
           "color": "#c8ddc0",
           "width": 2
          },
          "type": "line",
          "x0": 30,
          "x1": 30,
          "y0": 20,
          "y1": 21
         },
         {
          "layer": "below",
          "line": {
           "color": "#c8ddc0",
           "width": 2
          },
          "type": "line",
          "x0": 31,
          "x1": 31,
          "y0": 20,
          "y1": 21
         },
         {
          "layer": "below",
          "line": {
           "color": "#c8ddc0",
           "width": 2
          },
          "type": "line",
          "x0": 32,
          "x1": 32,
          "y0": 20,
          "y1": 21
         },
         {
          "layer": "below",
          "line": {
           "color": "#c8ddc0",
           "width": 2
          },
          "type": "line",
          "x0": 33,
          "x1": 33,
          "y0": 20,
          "y1": 21
         },
         {
          "layer": "below",
          "line": {
           "color": "#c8ddc0",
           "width": 2
          },
          "type": "line",
          "x0": 34,
          "x1": 34,
          "y0": 20,
          "y1": 21
         },
         {
          "layer": "below",
          "line": {
           "color": "#c8ddc0",
           "width": 2
          },
          "type": "line",
          "x0": 35,
          "x1": 35,
          "y0": 20,
          "y1": 21
         },
         {
          "layer": "below",
          "line": {
           "color": "#c8ddc0",
           "width": 2
          },
          "type": "line",
          "x0": 36,
          "x1": 36,
          "y0": 20,
          "y1": 21
         },
         {
          "layer": "below",
          "line": {
           "color": "#c8ddc0",
           "width": 2
          },
          "type": "line",
          "x0": 37,
          "x1": 37,
          "y0": 20,
          "y1": 21
         },
         {
          "layer": "below",
          "line": {
           "color": "#c8ddc0",
           "width": 2
          },
          "type": "line",
          "x0": 38,
          "x1": 38,
          "y0": 20,
          "y1": 21
         },
         {
          "layer": "below",
          "line": {
           "color": "#c8ddc0",
           "width": 2
          },
          "type": "line",
          "x0": 39,
          "x1": 39,
          "y0": 20,
          "y1": 21
         },
         {
          "layer": "below",
          "line": {
           "color": "#c8ddc0",
           "width": 2
          },
          "type": "line",
          "x0": 40,
          "x1": 40,
          "y0": 20,
          "y1": 21
         },
         {
          "layer": "below",
          "line": {
           "color": "#c8ddc0",
           "width": 2
          },
          "type": "line",
          "x0": 41,
          "x1": 41,
          "y0": 20,
          "y1": 21
         },
         {
          "layer": "below",
          "line": {
           "color": "#c8ddc0",
           "width": 2
          },
          "type": "line",
          "x0": 42,
          "x1": 42,
          "y0": 20,
          "y1": 21
         },
         {
          "layer": "below",
          "line": {
           "color": "#c8ddc0",
           "width": 2
          },
          "type": "line",
          "x0": 43,
          "x1": 43,
          "y0": 20,
          "y1": 21
         },
         {
          "layer": "below",
          "line": {
           "color": "#c8ddc0",
           "width": 2
          },
          "type": "line",
          "x0": 44,
          "x1": 44,
          "y0": 20,
          "y1": 21
         },
         {
          "layer": "below",
          "line": {
           "color": "#c8ddc0",
           "width": 2
          },
          "type": "line",
          "x0": 45,
          "x1": 45,
          "y0": 20,
          "y1": 21
         },
         {
          "layer": "below",
          "line": {
           "color": "#c8ddc0",
           "width": 2
          },
          "type": "line",
          "x0": 46,
          "x1": 46,
          "y0": 20,
          "y1": 21
         },
         {
          "layer": "below",
          "line": {
           "color": "#c8ddc0",
           "width": 2
          },
          "type": "line",
          "x0": 47,
          "x1": 47,
          "y0": 20,
          "y1": 21
         },
         {
          "layer": "below",
          "line": {
           "color": "#c8ddc0",
           "width": 2
          },
          "type": "line",
          "x0": 48,
          "x1": 48,
          "y0": 20,
          "y1": 21
         },
         {
          "layer": "below",
          "line": {
           "color": "#c8ddc0",
           "width": 2
          },
          "type": "line",
          "x0": 49,
          "x1": 49,
          "y0": 20,
          "y1": 21
         },
         {
          "layer": "below",
          "line": {
           "color": "#c8ddc0",
           "width": 2
          },
          "type": "line",
          "x0": 50,
          "x1": 50,
          "y0": 20,
          "y1": 21
         },
         {
          "layer": "below",
          "line": {
           "color": "#c8ddc0",
           "width": 2
          },
          "type": "line",
          "x0": 51,
          "x1": 51,
          "y0": 20,
          "y1": 21
         },
         {
          "layer": "below",
          "line": {
           "color": "#c8ddc0",
           "width": 2
          },
          "type": "line",
          "x0": 52,
          "x1": 52,
          "y0": 20,
          "y1": 21
         },
         {
          "layer": "below",
          "line": {
           "color": "#c8ddc0",
           "width": 2
          },
          "type": "line",
          "x0": 53,
          "x1": 53,
          "y0": 20,
          "y1": 21
         },
         {
          "layer": "below",
          "line": {
           "color": "#c8ddc0",
           "width": 2
          },
          "type": "line",
          "x0": 54,
          "x1": 54,
          "y0": 20,
          "y1": 21
         },
         {
          "layer": "below",
          "line": {
           "color": "#c8ddc0",
           "width": 2
          },
          "type": "line",
          "x0": 55,
          "x1": 55,
          "y0": 20,
          "y1": 21
         },
         {
          "layer": "below",
          "line": {
           "color": "#c8ddc0",
           "width": 2
          },
          "type": "line",
          "x0": 56,
          "x1": 56,
          "y0": 20,
          "y1": 21
         },
         {
          "layer": "below",
          "line": {
           "color": "#c8ddc0",
           "width": 2
          },
          "type": "line",
          "x0": 57,
          "x1": 57,
          "y0": 20,
          "y1": 21
         },
         {
          "layer": "below",
          "line": {
           "color": "#c8ddc0",
           "width": 2
          },
          "type": "line",
          "x0": 58,
          "x1": 58,
          "y0": 20,
          "y1": 21
         },
         {
          "layer": "below",
          "line": {
           "color": "#c8ddc0",
           "width": 2
          },
          "type": "line",
          "x0": 59,
          "x1": 59,
          "y0": 20,
          "y1": 21
         },
         {
          "layer": "below",
          "line": {
           "color": "#c8ddc0",
           "width": 2
          },
          "type": "line",
          "x0": 60,
          "x1": 60,
          "y0": 20,
          "y1": 21
         },
         {
          "layer": "below",
          "line": {
           "color": "#c8ddc0",
           "width": 2
          },
          "type": "line",
          "x0": 61,
          "x1": 61,
          "y0": 20,
          "y1": 21
         },
         {
          "layer": "below",
          "line": {
           "color": "#c8ddc0",
           "width": 2
          },
          "type": "line",
          "x0": 62,
          "x1": 62,
          "y0": 20,
          "y1": 21
         },
         {
          "layer": "below",
          "line": {
           "color": "#c8ddc0",
           "width": 2
          },
          "type": "line",
          "x0": 63,
          "x1": 63,
          "y0": 20,
          "y1": 21
         },
         {
          "layer": "below",
          "line": {
           "color": "#c8ddc0",
           "width": 2
          },
          "type": "line",
          "x0": 64,
          "x1": 64,
          "y0": 20,
          "y1": 21
         },
         {
          "layer": "below",
          "line": {
           "color": "#c8ddc0",
           "width": 2
          },
          "type": "line",
          "x0": 65,
          "x1": 65,
          "y0": 20,
          "y1": 21
         },
         {
          "layer": "below",
          "line": {
           "color": "#c8ddc0",
           "width": 2
          },
          "type": "line",
          "x0": 66,
          "x1": 66,
          "y0": 20,
          "y1": 21
         },
         {
          "layer": "below",
          "line": {
           "color": "#c8ddc0",
           "width": 2
          },
          "type": "line",
          "x0": 67,
          "x1": 67,
          "y0": 20,
          "y1": 21
         },
         {
          "layer": "below",
          "line": {
           "color": "#c8ddc0",
           "width": 2
          },
          "type": "line",
          "x0": 68,
          "x1": 68,
          "y0": 20,
          "y1": 21
         },
         {
          "layer": "below",
          "line": {
           "color": "#c8ddc0",
           "width": 2
          },
          "type": "line",
          "x0": 69,
          "x1": 69,
          "y0": 20,
          "y1": 21
         },
         {
          "layer": "below",
          "line": {
           "color": "#c8ddc0",
           "width": 2
          },
          "type": "line",
          "x0": 70,
          "x1": 70,
          "y0": 20,
          "y1": 21
         },
         {
          "layer": "below",
          "line": {
           "color": "#c8ddc0",
           "width": 2
          },
          "type": "line",
          "x0": 71,
          "x1": 71,
          "y0": 20,
          "y1": 21
         },
         {
          "layer": "below",
          "line": {
           "color": "#c8ddc0",
           "width": 2
          },
          "type": "line",
          "x0": 72,
          "x1": 72,
          "y0": 20,
          "y1": 21
         },
         {
          "layer": "below",
          "line": {
           "color": "#c8ddc0",
           "width": 2
          },
          "type": "line",
          "x0": 73,
          "x1": 73,
          "y0": 20,
          "y1": 21
         },
         {
          "layer": "below",
          "line": {
           "color": "#c8ddc0",
           "width": 2
          },
          "type": "line",
          "x0": 74,
          "x1": 74,
          "y0": 20,
          "y1": 21
         },
         {
          "layer": "below",
          "line": {
           "color": "#c8ddc0",
           "width": 2
          },
          "type": "line",
          "x0": 75,
          "x1": 75,
          "y0": 20,
          "y1": 21
         },
         {
          "layer": "below",
          "line": {
           "color": "#c8ddc0",
           "width": 2
          },
          "type": "line",
          "x0": 76,
          "x1": 76,
          "y0": 20,
          "y1": 21
         },
         {
          "layer": "below",
          "line": {
           "color": "#c8ddc0",
           "width": 2
          },
          "type": "line",
          "x0": 77,
          "x1": 77,
          "y0": 20,
          "y1": 21
         },
         {
          "layer": "below",
          "line": {
           "color": "#c8ddc0",
           "width": 2
          },
          "type": "line",
          "x0": 78,
          "x1": 78,
          "y0": 20,
          "y1": 21
         },
         {
          "layer": "below",
          "line": {
           "color": "#c8ddc0",
           "width": 2
          },
          "type": "line",
          "x0": 79,
          "x1": 79,
          "y0": 20,
          "y1": 21
         },
         {
          "layer": "below",
          "line": {
           "color": "#c8ddc0",
           "width": 2
          },
          "type": "line",
          "x0": 80,
          "x1": 80,
          "y0": 20,
          "y1": 21
         },
         {
          "layer": "below",
          "line": {
           "color": "#c8ddc0",
           "width": 2
          },
          "type": "line",
          "x0": 81,
          "x1": 81,
          "y0": 20,
          "y1": 21
         },
         {
          "layer": "below",
          "line": {
           "color": "#c8ddc0",
           "width": 2
          },
          "type": "line",
          "x0": 82,
          "x1": 82,
          "y0": 20,
          "y1": 21
         },
         {
          "layer": "below",
          "line": {
           "color": "#c8ddc0",
           "width": 2
          },
          "type": "line",
          "x0": 83,
          "x1": 83,
          "y0": 20,
          "y1": 21
         },
         {
          "layer": "below",
          "line": {
           "color": "#c8ddc0",
           "width": 2
          },
          "type": "line",
          "x0": 84,
          "x1": 84,
          "y0": 20,
          "y1": 21
         },
         {
          "layer": "below",
          "line": {
           "color": "#c8ddc0",
           "width": 2
          },
          "type": "line",
          "x0": 85,
          "x1": 85,
          "y0": 20,
          "y1": 21
         },
         {
          "layer": "below",
          "line": {
           "color": "#c8ddc0",
           "width": 2
          },
          "type": "line",
          "x0": 86,
          "x1": 86,
          "y0": 20,
          "y1": 21
         },
         {
          "layer": "below",
          "line": {
           "color": "#c8ddc0",
           "width": 2
          },
          "type": "line",
          "x0": 87,
          "x1": 87,
          "y0": 20,
          "y1": 21
         },
         {
          "layer": "below",
          "line": {
           "color": "#c8ddc0",
           "width": 2
          },
          "type": "line",
          "x0": 88,
          "x1": 88,
          "y0": 20,
          "y1": 21
         },
         {
          "layer": "below",
          "line": {
           "color": "#c8ddc0",
           "width": 2
          },
          "type": "line",
          "x0": 89,
          "x1": 89,
          "y0": 20,
          "y1": 21
         },
         {
          "layer": "below",
          "line": {
           "color": "#c8ddc0",
           "width": 2
          },
          "type": "line",
          "x0": 90,
          "x1": 90,
          "y0": 20,
          "y1": 21
         },
         {
          "layer": "below",
          "line": {
           "color": "#c8ddc0",
           "width": 2
          },
          "type": "line",
          "x0": 91,
          "x1": 91,
          "y0": 20,
          "y1": 21
         },
         {
          "layer": "below",
          "line": {
           "color": "#c8ddc0",
           "width": 2
          },
          "type": "line",
          "x0": 92,
          "x1": 92,
          "y0": 20,
          "y1": 21
         },
         {
          "layer": "below",
          "line": {
           "color": "#c8ddc0",
           "width": 2
          },
          "type": "line",
          "x0": 93,
          "x1": 93,
          "y0": 20,
          "y1": 21
         },
         {
          "layer": "below",
          "line": {
           "color": "#c8ddc0",
           "width": 2
          },
          "type": "line",
          "x0": 94,
          "x1": 94,
          "y0": 20,
          "y1": 21
         },
         {
          "layer": "below",
          "line": {
           "color": "#c8ddc0",
           "width": 2
          },
          "type": "line",
          "x0": 95,
          "x1": 95,
          "y0": 20,
          "y1": 21
         },
         {
          "layer": "below",
          "line": {
           "color": "#c8ddc0",
           "width": 2
          },
          "type": "line",
          "x0": 96,
          "x1": 96,
          "y0": 20,
          "y1": 21
         },
         {
          "layer": "below",
          "line": {
           "color": "#c8ddc0",
           "width": 2
          },
          "type": "line",
          "x0": 97,
          "x1": 97,
          "y0": 20,
          "y1": 21
         },
         {
          "layer": "below",
          "line": {
           "color": "#c8ddc0",
           "width": 2
          },
          "type": "line",
          "x0": 98,
          "x1": 98,
          "y0": 20,
          "y1": 21
         },
         {
          "layer": "below",
          "line": {
           "color": "#c8ddc0",
           "width": 2
          },
          "type": "line",
          "x0": 99,
          "x1": 99,
          "y0": 20,
          "y1": 21
         },
         {
          "layer": "below",
          "line": {
           "color": "#c8ddc0",
           "width": 2
          },
          "type": "line",
          "x0": 0,
          "x1": 0,
          "y0": 32.3,
          "y1": 33.3
         },
         {
          "layer": "below",
          "line": {
           "color": "#c8ddc0",
           "width": 2
          },
          "type": "line",
          "x0": 1,
          "x1": 1,
          "y0": 32.3,
          "y1": 33.3
         },
         {
          "layer": "below",
          "line": {
           "color": "#c8ddc0",
           "width": 2
          },
          "type": "line",
          "x0": 2,
          "x1": 2,
          "y0": 32.3,
          "y1": 33.3
         },
         {
          "layer": "below",
          "line": {
           "color": "#c8ddc0",
           "width": 2
          },
          "type": "line",
          "x0": 3,
          "x1": 3,
          "y0": 32.3,
          "y1": 33.3
         },
         {
          "layer": "below",
          "line": {
           "color": "#c8ddc0",
           "width": 2
          },
          "type": "line",
          "x0": 4,
          "x1": 4,
          "y0": 32.3,
          "y1": 33.3
         },
         {
          "layer": "below",
          "line": {
           "color": "#c8ddc0",
           "width": 2
          },
          "type": "line",
          "x0": 5,
          "x1": 5,
          "y0": 32.3,
          "y1": 33.3
         },
         {
          "layer": "below",
          "line": {
           "color": "#c8ddc0",
           "width": 2
          },
          "type": "line",
          "x0": 6,
          "x1": 6,
          "y0": 32.3,
          "y1": 33.3
         },
         {
          "layer": "below",
          "line": {
           "color": "#c8ddc0",
           "width": 2
          },
          "type": "line",
          "x0": 7,
          "x1": 7,
          "y0": 32.3,
          "y1": 33.3
         },
         {
          "layer": "below",
          "line": {
           "color": "#c8ddc0",
           "width": 2
          },
          "type": "line",
          "x0": 8,
          "x1": 8,
          "y0": 32.3,
          "y1": 33.3
         },
         {
          "layer": "below",
          "line": {
           "color": "#c8ddc0",
           "width": 2
          },
          "type": "line",
          "x0": 9,
          "x1": 9,
          "y0": 32.3,
          "y1": 33.3
         },
         {
          "layer": "below",
          "line": {
           "color": "#c8ddc0",
           "width": 2
          },
          "type": "line",
          "x0": 10,
          "x1": 10,
          "y0": 32.3,
          "y1": 33.3
         },
         {
          "layer": "below",
          "line": {
           "color": "#c8ddc0",
           "width": 2
          },
          "type": "line",
          "x0": 11,
          "x1": 11,
          "y0": 32.3,
          "y1": 33.3
         },
         {
          "layer": "below",
          "line": {
           "color": "#c8ddc0",
           "width": 2
          },
          "type": "line",
          "x0": 12,
          "x1": 12,
          "y0": 32.3,
          "y1": 33.3
         },
         {
          "layer": "below",
          "line": {
           "color": "#c8ddc0",
           "width": 2
          },
          "type": "line",
          "x0": 13,
          "x1": 13,
          "y0": 32.3,
          "y1": 33.3
         },
         {
          "layer": "below",
          "line": {
           "color": "#c8ddc0",
           "width": 2
          },
          "type": "line",
          "x0": 14,
          "x1": 14,
          "y0": 32.3,
          "y1": 33.3
         },
         {
          "layer": "below",
          "line": {
           "color": "#c8ddc0",
           "width": 2
          },
          "type": "line",
          "x0": 15,
          "x1": 15,
          "y0": 32.3,
          "y1": 33.3
         },
         {
          "layer": "below",
          "line": {
           "color": "#c8ddc0",
           "width": 2
          },
          "type": "line",
          "x0": 16,
          "x1": 16,
          "y0": 32.3,
          "y1": 33.3
         },
         {
          "layer": "below",
          "line": {
           "color": "#c8ddc0",
           "width": 2
          },
          "type": "line",
          "x0": 17,
          "x1": 17,
          "y0": 32.3,
          "y1": 33.3
         },
         {
          "layer": "below",
          "line": {
           "color": "#c8ddc0",
           "width": 2
          },
          "type": "line",
          "x0": 18,
          "x1": 18,
          "y0": 32.3,
          "y1": 33.3
         },
         {
          "layer": "below",
          "line": {
           "color": "#c8ddc0",
           "width": 2
          },
          "type": "line",
          "x0": 19,
          "x1": 19,
          "y0": 32.3,
          "y1": 33.3
         },
         {
          "layer": "below",
          "line": {
           "color": "#c8ddc0",
           "width": 2
          },
          "type": "line",
          "x0": 20,
          "x1": 20,
          "y0": 32.3,
          "y1": 33.3
         },
         {
          "layer": "below",
          "line": {
           "color": "#c8ddc0",
           "width": 2
          },
          "type": "line",
          "x0": 21,
          "x1": 21,
          "y0": 32.3,
          "y1": 33.3
         },
         {
          "layer": "below",
          "line": {
           "color": "#c8ddc0",
           "width": 2
          },
          "type": "line",
          "x0": 22,
          "x1": 22,
          "y0": 32.3,
          "y1": 33.3
         },
         {
          "layer": "below",
          "line": {
           "color": "#c8ddc0",
           "width": 2
          },
          "type": "line",
          "x0": 23,
          "x1": 23,
          "y0": 32.3,
          "y1": 33.3
         },
         {
          "layer": "below",
          "line": {
           "color": "#c8ddc0",
           "width": 2
          },
          "type": "line",
          "x0": 24,
          "x1": 24,
          "y0": 32.3,
          "y1": 33.3
         },
         {
          "layer": "below",
          "line": {
           "color": "#c8ddc0",
           "width": 2
          },
          "type": "line",
          "x0": 25,
          "x1": 25,
          "y0": 32.3,
          "y1": 33.3
         },
         {
          "layer": "below",
          "line": {
           "color": "#c8ddc0",
           "width": 2
          },
          "type": "line",
          "x0": 26,
          "x1": 26,
          "y0": 32.3,
          "y1": 33.3
         },
         {
          "layer": "below",
          "line": {
           "color": "#c8ddc0",
           "width": 2
          },
          "type": "line",
          "x0": 27,
          "x1": 27,
          "y0": 32.3,
          "y1": 33.3
         },
         {
          "layer": "below",
          "line": {
           "color": "#c8ddc0",
           "width": 2
          },
          "type": "line",
          "x0": 28,
          "x1": 28,
          "y0": 32.3,
          "y1": 33.3
         },
         {
          "layer": "below",
          "line": {
           "color": "#c8ddc0",
           "width": 2
          },
          "type": "line",
          "x0": 29,
          "x1": 29,
          "y0": 32.3,
          "y1": 33.3
         },
         {
          "layer": "below",
          "line": {
           "color": "#c8ddc0",
           "width": 2
          },
          "type": "line",
          "x0": 30,
          "x1": 30,
          "y0": 32.3,
          "y1": 33.3
         },
         {
          "layer": "below",
          "line": {
           "color": "#c8ddc0",
           "width": 2
          },
          "type": "line",
          "x0": 31,
          "x1": 31,
          "y0": 32.3,
          "y1": 33.3
         },
         {
          "layer": "below",
          "line": {
           "color": "#c8ddc0",
           "width": 2
          },
          "type": "line",
          "x0": 32,
          "x1": 32,
          "y0": 32.3,
          "y1": 33.3
         },
         {
          "layer": "below",
          "line": {
           "color": "#c8ddc0",
           "width": 2
          },
          "type": "line",
          "x0": 33,
          "x1": 33,
          "y0": 32.3,
          "y1": 33.3
         },
         {
          "layer": "below",
          "line": {
           "color": "#c8ddc0",
           "width": 2
          },
          "type": "line",
          "x0": 34,
          "x1": 34,
          "y0": 32.3,
          "y1": 33.3
         },
         {
          "layer": "below",
          "line": {
           "color": "#c8ddc0",
           "width": 2
          },
          "type": "line",
          "x0": 35,
          "x1": 35,
          "y0": 32.3,
          "y1": 33.3
         },
         {
          "layer": "below",
          "line": {
           "color": "#c8ddc0",
           "width": 2
          },
          "type": "line",
          "x0": 36,
          "x1": 36,
          "y0": 32.3,
          "y1": 33.3
         },
         {
          "layer": "below",
          "line": {
           "color": "#c8ddc0",
           "width": 2
          },
          "type": "line",
          "x0": 37,
          "x1": 37,
          "y0": 32.3,
          "y1": 33.3
         },
         {
          "layer": "below",
          "line": {
           "color": "#c8ddc0",
           "width": 2
          },
          "type": "line",
          "x0": 38,
          "x1": 38,
          "y0": 32.3,
          "y1": 33.3
         },
         {
          "layer": "below",
          "line": {
           "color": "#c8ddc0",
           "width": 2
          },
          "type": "line",
          "x0": 39,
          "x1": 39,
          "y0": 32.3,
          "y1": 33.3
         },
         {
          "layer": "below",
          "line": {
           "color": "#c8ddc0",
           "width": 2
          },
          "type": "line",
          "x0": 40,
          "x1": 40,
          "y0": 32.3,
          "y1": 33.3
         },
         {
          "layer": "below",
          "line": {
           "color": "#c8ddc0",
           "width": 2
          },
          "type": "line",
          "x0": 41,
          "x1": 41,
          "y0": 32.3,
          "y1": 33.3
         },
         {
          "layer": "below",
          "line": {
           "color": "#c8ddc0",
           "width": 2
          },
          "type": "line",
          "x0": 42,
          "x1": 42,
          "y0": 32.3,
          "y1": 33.3
         },
         {
          "layer": "below",
          "line": {
           "color": "#c8ddc0",
           "width": 2
          },
          "type": "line",
          "x0": 43,
          "x1": 43,
          "y0": 32.3,
          "y1": 33.3
         },
         {
          "layer": "below",
          "line": {
           "color": "#c8ddc0",
           "width": 2
          },
          "type": "line",
          "x0": 44,
          "x1": 44,
          "y0": 32.3,
          "y1": 33.3
         },
         {
          "layer": "below",
          "line": {
           "color": "#c8ddc0",
           "width": 2
          },
          "type": "line",
          "x0": 45,
          "x1": 45,
          "y0": 32.3,
          "y1": 33.3
         },
         {
          "layer": "below",
          "line": {
           "color": "#c8ddc0",
           "width": 2
          },
          "type": "line",
          "x0": 46,
          "x1": 46,
          "y0": 32.3,
          "y1": 33.3
         },
         {
          "layer": "below",
          "line": {
           "color": "#c8ddc0",
           "width": 2
          },
          "type": "line",
          "x0": 47,
          "x1": 47,
          "y0": 32.3,
          "y1": 33.3
         },
         {
          "layer": "below",
          "line": {
           "color": "#c8ddc0",
           "width": 2
          },
          "type": "line",
          "x0": 48,
          "x1": 48,
          "y0": 32.3,
          "y1": 33.3
         },
         {
          "layer": "below",
          "line": {
           "color": "#c8ddc0",
           "width": 2
          },
          "type": "line",
          "x0": 49,
          "x1": 49,
          "y0": 32.3,
          "y1": 33.3
         },
         {
          "layer": "below",
          "line": {
           "color": "#c8ddc0",
           "width": 2
          },
          "type": "line",
          "x0": 50,
          "x1": 50,
          "y0": 32.3,
          "y1": 33.3
         },
         {
          "layer": "below",
          "line": {
           "color": "#c8ddc0",
           "width": 2
          },
          "type": "line",
          "x0": 51,
          "x1": 51,
          "y0": 32.3,
          "y1": 33.3
         },
         {
          "layer": "below",
          "line": {
           "color": "#c8ddc0",
           "width": 2
          },
          "type": "line",
          "x0": 52,
          "x1": 52,
          "y0": 32.3,
          "y1": 33.3
         },
         {
          "layer": "below",
          "line": {
           "color": "#c8ddc0",
           "width": 2
          },
          "type": "line",
          "x0": 53,
          "x1": 53,
          "y0": 32.3,
          "y1": 33.3
         },
         {
          "layer": "below",
          "line": {
           "color": "#c8ddc0",
           "width": 2
          },
          "type": "line",
          "x0": 54,
          "x1": 54,
          "y0": 32.3,
          "y1": 33.3
         },
         {
          "layer": "below",
          "line": {
           "color": "#c8ddc0",
           "width": 2
          },
          "type": "line",
          "x0": 55,
          "x1": 55,
          "y0": 32.3,
          "y1": 33.3
         },
         {
          "layer": "below",
          "line": {
           "color": "#c8ddc0",
           "width": 2
          },
          "type": "line",
          "x0": 56,
          "x1": 56,
          "y0": 32.3,
          "y1": 33.3
         },
         {
          "layer": "below",
          "line": {
           "color": "#c8ddc0",
           "width": 2
          },
          "type": "line",
          "x0": 57,
          "x1": 57,
          "y0": 32.3,
          "y1": 33.3
         },
         {
          "layer": "below",
          "line": {
           "color": "#c8ddc0",
           "width": 2
          },
          "type": "line",
          "x0": 58,
          "x1": 58,
          "y0": 32.3,
          "y1": 33.3
         },
         {
          "layer": "below",
          "line": {
           "color": "#c8ddc0",
           "width": 2
          },
          "type": "line",
          "x0": 59,
          "x1": 59,
          "y0": 32.3,
          "y1": 33.3
         },
         {
          "layer": "below",
          "line": {
           "color": "#c8ddc0",
           "width": 2
          },
          "type": "line",
          "x0": 60,
          "x1": 60,
          "y0": 32.3,
          "y1": 33.3
         },
         {
          "layer": "below",
          "line": {
           "color": "#c8ddc0",
           "width": 2
          },
          "type": "line",
          "x0": 61,
          "x1": 61,
          "y0": 32.3,
          "y1": 33.3
         },
         {
          "layer": "below",
          "line": {
           "color": "#c8ddc0",
           "width": 2
          },
          "type": "line",
          "x0": 62,
          "x1": 62,
          "y0": 32.3,
          "y1": 33.3
         },
         {
          "layer": "below",
          "line": {
           "color": "#c8ddc0",
           "width": 2
          },
          "type": "line",
          "x0": 63,
          "x1": 63,
          "y0": 32.3,
          "y1": 33.3
         },
         {
          "layer": "below",
          "line": {
           "color": "#c8ddc0",
           "width": 2
          },
          "type": "line",
          "x0": 64,
          "x1": 64,
          "y0": 32.3,
          "y1": 33.3
         },
         {
          "layer": "below",
          "line": {
           "color": "#c8ddc0",
           "width": 2
          },
          "type": "line",
          "x0": 65,
          "x1": 65,
          "y0": 32.3,
          "y1": 33.3
         },
         {
          "layer": "below",
          "line": {
           "color": "#c8ddc0",
           "width": 2
          },
          "type": "line",
          "x0": 66,
          "x1": 66,
          "y0": 32.3,
          "y1": 33.3
         },
         {
          "layer": "below",
          "line": {
           "color": "#c8ddc0",
           "width": 2
          },
          "type": "line",
          "x0": 67,
          "x1": 67,
          "y0": 32.3,
          "y1": 33.3
         },
         {
          "layer": "below",
          "line": {
           "color": "#c8ddc0",
           "width": 2
          },
          "type": "line",
          "x0": 68,
          "x1": 68,
          "y0": 32.3,
          "y1": 33.3
         },
         {
          "layer": "below",
          "line": {
           "color": "#c8ddc0",
           "width": 2
          },
          "type": "line",
          "x0": 69,
          "x1": 69,
          "y0": 32.3,
          "y1": 33.3
         },
         {
          "layer": "below",
          "line": {
           "color": "#c8ddc0",
           "width": 2
          },
          "type": "line",
          "x0": 70,
          "x1": 70,
          "y0": 32.3,
          "y1": 33.3
         },
         {
          "layer": "below",
          "line": {
           "color": "#c8ddc0",
           "width": 2
          },
          "type": "line",
          "x0": 71,
          "x1": 71,
          "y0": 32.3,
          "y1": 33.3
         },
         {
          "layer": "below",
          "line": {
           "color": "#c8ddc0",
           "width": 2
          },
          "type": "line",
          "x0": 72,
          "x1": 72,
          "y0": 32.3,
          "y1": 33.3
         },
         {
          "layer": "below",
          "line": {
           "color": "#c8ddc0",
           "width": 2
          },
          "type": "line",
          "x0": 73,
          "x1": 73,
          "y0": 32.3,
          "y1": 33.3
         },
         {
          "layer": "below",
          "line": {
           "color": "#c8ddc0",
           "width": 2
          },
          "type": "line",
          "x0": 74,
          "x1": 74,
          "y0": 32.3,
          "y1": 33.3
         },
         {
          "layer": "below",
          "line": {
           "color": "#c8ddc0",
           "width": 2
          },
          "type": "line",
          "x0": 75,
          "x1": 75,
          "y0": 32.3,
          "y1": 33.3
         },
         {
          "layer": "below",
          "line": {
           "color": "#c8ddc0",
           "width": 2
          },
          "type": "line",
          "x0": 76,
          "x1": 76,
          "y0": 32.3,
          "y1": 33.3
         },
         {
          "layer": "below",
          "line": {
           "color": "#c8ddc0",
           "width": 2
          },
          "type": "line",
          "x0": 77,
          "x1": 77,
          "y0": 32.3,
          "y1": 33.3
         },
         {
          "layer": "below",
          "line": {
           "color": "#c8ddc0",
           "width": 2
          },
          "type": "line",
          "x0": 78,
          "x1": 78,
          "y0": 32.3,
          "y1": 33.3
         },
         {
          "layer": "below",
          "line": {
           "color": "#c8ddc0",
           "width": 2
          },
          "type": "line",
          "x0": 79,
          "x1": 79,
          "y0": 32.3,
          "y1": 33.3
         },
         {
          "layer": "below",
          "line": {
           "color": "#c8ddc0",
           "width": 2
          },
          "type": "line",
          "x0": 80,
          "x1": 80,
          "y0": 32.3,
          "y1": 33.3
         },
         {
          "layer": "below",
          "line": {
           "color": "#c8ddc0",
           "width": 2
          },
          "type": "line",
          "x0": 81,
          "x1": 81,
          "y0": 32.3,
          "y1": 33.3
         },
         {
          "layer": "below",
          "line": {
           "color": "#c8ddc0",
           "width": 2
          },
          "type": "line",
          "x0": 82,
          "x1": 82,
          "y0": 32.3,
          "y1": 33.3
         },
         {
          "layer": "below",
          "line": {
           "color": "#c8ddc0",
           "width": 2
          },
          "type": "line",
          "x0": 83,
          "x1": 83,
          "y0": 32.3,
          "y1": 33.3
         },
         {
          "layer": "below",
          "line": {
           "color": "#c8ddc0",
           "width": 2
          },
          "type": "line",
          "x0": 84,
          "x1": 84,
          "y0": 32.3,
          "y1": 33.3
         },
         {
          "layer": "below",
          "line": {
           "color": "#c8ddc0",
           "width": 2
          },
          "type": "line",
          "x0": 85,
          "x1": 85,
          "y0": 32.3,
          "y1": 33.3
         },
         {
          "layer": "below",
          "line": {
           "color": "#c8ddc0",
           "width": 2
          },
          "type": "line",
          "x0": 86,
          "x1": 86,
          "y0": 32.3,
          "y1": 33.3
         },
         {
          "layer": "below",
          "line": {
           "color": "#c8ddc0",
           "width": 2
          },
          "type": "line",
          "x0": 87,
          "x1": 87,
          "y0": 32.3,
          "y1": 33.3
         },
         {
          "layer": "below",
          "line": {
           "color": "#c8ddc0",
           "width": 2
          },
          "type": "line",
          "x0": 88,
          "x1": 88,
          "y0": 32.3,
          "y1": 33.3
         },
         {
          "layer": "below",
          "line": {
           "color": "#c8ddc0",
           "width": 2
          },
          "type": "line",
          "x0": 89,
          "x1": 89,
          "y0": 32.3,
          "y1": 33.3
         },
         {
          "layer": "below",
          "line": {
           "color": "#c8ddc0",
           "width": 2
          },
          "type": "line",
          "x0": 90,
          "x1": 90,
          "y0": 32.3,
          "y1": 33.3
         },
         {
          "layer": "below",
          "line": {
           "color": "#c8ddc0",
           "width": 2
          },
          "type": "line",
          "x0": 91,
          "x1": 91,
          "y0": 32.3,
          "y1": 33.3
         },
         {
          "layer": "below",
          "line": {
           "color": "#c8ddc0",
           "width": 2
          },
          "type": "line",
          "x0": 92,
          "x1": 92,
          "y0": 32.3,
          "y1": 33.3
         },
         {
          "layer": "below",
          "line": {
           "color": "#c8ddc0",
           "width": 2
          },
          "type": "line",
          "x0": 93,
          "x1": 93,
          "y0": 32.3,
          "y1": 33.3
         },
         {
          "layer": "below",
          "line": {
           "color": "#c8ddc0",
           "width": 2
          },
          "type": "line",
          "x0": 94,
          "x1": 94,
          "y0": 32.3,
          "y1": 33.3
         },
         {
          "layer": "below",
          "line": {
           "color": "#c8ddc0",
           "width": 2
          },
          "type": "line",
          "x0": 95,
          "x1": 95,
          "y0": 32.3,
          "y1": 33.3
         },
         {
          "layer": "below",
          "line": {
           "color": "#c8ddc0",
           "width": 2
          },
          "type": "line",
          "x0": 96,
          "x1": 96,
          "y0": 32.3,
          "y1": 33.3
         },
         {
          "layer": "below",
          "line": {
           "color": "#c8ddc0",
           "width": 2
          },
          "type": "line",
          "x0": 97,
          "x1": 97,
          "y0": 32.3,
          "y1": 33.3
         },
         {
          "layer": "below",
          "line": {
           "color": "#c8ddc0",
           "width": 2
          },
          "type": "line",
          "x0": 98,
          "x1": 98,
          "y0": 32.3,
          "y1": 33.3
         },
         {
          "layer": "below",
          "line": {
           "color": "#c8ddc0",
           "width": 2
          },
          "type": "line",
          "x0": 99,
          "x1": 99,
          "y0": 32.3,
          "y1": 33.3
         }
        ],
        "showlegend": true,
        "sliders": [
         {
          "active": 0,
          "currentvalue": {
           "prefix": "time="
          },
          "len": 0.9,
          "pad": {
           "b": 10,
           "t": 60
          },
          "steps": [
           {
            "args": [
             [
              "2021-09-10T01:06:01.500"
             ],
             {
              "frame": {
               "duration": 0,
               "redraw": false
              },
              "fromcurrent": true,
              "mode": "immediate",
              "transition": {
               "duration": 0,
               "easing": "linear"
              }
             }
            ],
            "label": "2021-09-10T01:06:01.500",
            "method": "animate"
           },
           {
            "args": [
             [
              "2021-09-10T01:06:01.600"
             ],
             {
              "frame": {
               "duration": 0,
               "redraw": false
              },
              "fromcurrent": true,
              "mode": "immediate",
              "transition": {
               "duration": 0,
               "easing": "linear"
              }
             }
            ],
            "label": "2021-09-10T01:06:01.600",
            "method": "animate"
           },
           {
            "args": [
             [
              "2021-09-10T01:06:01.700"
             ],
             {
              "frame": {
               "duration": 0,
               "redraw": false
              },
              "fromcurrent": true,
              "mode": "immediate",
              "transition": {
               "duration": 0,
               "easing": "linear"
              }
             }
            ],
            "label": "2021-09-10T01:06:01.700",
            "method": "animate"
           },
           {
            "args": [
             [
              "2021-09-10T01:06:01.800"
             ],
             {
              "frame": {
               "duration": 0,
               "redraw": false
              },
              "fromcurrent": true,
              "mode": "immediate",
              "transition": {
               "duration": 0,
               "easing": "linear"
              }
             }
            ],
            "label": "2021-09-10T01:06:01.800",
            "method": "animate"
           },
           {
            "args": [
             [
              "2021-09-10T01:06:01.900"
             ],
             {
              "frame": {
               "duration": 0,
               "redraw": false
              },
              "fromcurrent": true,
              "mode": "immediate",
              "transition": {
               "duration": 0,
               "easing": "linear"
              }
             }
            ],
            "label": "2021-09-10T01:06:01.900",
            "method": "animate"
           },
           {
            "args": [
             [
              "2021-09-10T01:06:02.000"
             ],
             {
              "frame": {
               "duration": 0,
               "redraw": false
              },
              "fromcurrent": true,
              "mode": "immediate",
              "transition": {
               "duration": 0,
               "easing": "linear"
              }
             }
            ],
            "label": "2021-09-10T01:06:02.000",
            "method": "animate"
           },
           {
            "args": [
             [
              "2021-09-10T01:06:02.100"
             ],
             {
              "frame": {
               "duration": 0,
               "redraw": false
              },
              "fromcurrent": true,
              "mode": "immediate",
              "transition": {
               "duration": 0,
               "easing": "linear"
              }
             }
            ],
            "label": "2021-09-10T01:06:02.100",
            "method": "animate"
           },
           {
            "args": [
             [
              "2021-09-10T01:06:02.200"
             ],
             {
              "frame": {
               "duration": 0,
               "redraw": false
              },
              "fromcurrent": true,
              "mode": "immediate",
              "transition": {
               "duration": 0,
               "easing": "linear"
              }
             }
            ],
            "label": "2021-09-10T01:06:02.200",
            "method": "animate"
           },
           {
            "args": [
             [
              "2021-09-10T01:06:02.300"
             ],
             {
              "frame": {
               "duration": 0,
               "redraw": false
              },
              "fromcurrent": true,
              "mode": "immediate",
              "transition": {
               "duration": 0,
               "easing": "linear"
              }
             }
            ],
            "label": "2021-09-10T01:06:02.300",
            "method": "animate"
           },
           {
            "args": [
             [
              "2021-09-10T01:06:02.400"
             ],
             {
              "frame": {
               "duration": 0,
               "redraw": false
              },
              "fromcurrent": true,
              "mode": "immediate",
              "transition": {
               "duration": 0,
               "easing": "linear"
              }
             }
            ],
            "label": "2021-09-10T01:06:02.400",
            "method": "animate"
           },
           {
            "args": [
             [
              "2021-09-10T01:06:02.500"
             ],
             {
              "frame": {
               "duration": 0,
               "redraw": false
              },
              "fromcurrent": true,
              "mode": "immediate",
              "transition": {
               "duration": 0,
               "easing": "linear"
              }
             }
            ],
            "label": "2021-09-10T01:06:02.500",
            "method": "animate"
           },
           {
            "args": [
             [
              "2021-09-10T01:06:02.600"
             ],
             {
              "frame": {
               "duration": 0,
               "redraw": false
              },
              "fromcurrent": true,
              "mode": "immediate",
              "transition": {
               "duration": 0,
               "easing": "linear"
              }
             }
            ],
            "label": "2021-09-10T01:06:02.600",
            "method": "animate"
           },
           {
            "args": [
             [
              "2021-09-10T01:06:02.700"
             ],
             {
              "frame": {
               "duration": 0,
               "redraw": false
              },
              "fromcurrent": true,
              "mode": "immediate",
              "transition": {
               "duration": 0,
               "easing": "linear"
              }
             }
            ],
            "label": "2021-09-10T01:06:02.700",
            "method": "animate"
           },
           {
            "args": [
             [
              "2021-09-10T01:06:02.800"
             ],
             {
              "frame": {
               "duration": 0,
               "redraw": false
              },
              "fromcurrent": true,
              "mode": "immediate",
              "transition": {
               "duration": 0,
               "easing": "linear"
              }
             }
            ],
            "label": "2021-09-10T01:06:02.800",
            "method": "animate"
           },
           {
            "args": [
             [
              "2021-09-10T01:06:02.900"
             ],
             {
              "frame": {
               "duration": 0,
               "redraw": false
              },
              "fromcurrent": true,
              "mode": "immediate",
              "transition": {
               "duration": 0,
               "easing": "linear"
              }
             }
            ],
            "label": "2021-09-10T01:06:02.900",
            "method": "animate"
           },
           {
            "args": [
             [
              "2021-09-10T01:06:03.000"
             ],
             {
              "frame": {
               "duration": 0,
               "redraw": false
              },
              "fromcurrent": true,
              "mode": "immediate",
              "transition": {
               "duration": 0,
               "easing": "linear"
              }
             }
            ],
            "label": "2021-09-10T01:06:03.000",
            "method": "animate"
           },
           {
            "args": [
             [
              "2021-09-10T01:06:03.100"
             ],
             {
              "frame": {
               "duration": 0,
               "redraw": false
              },
              "fromcurrent": true,
              "mode": "immediate",
              "transition": {
               "duration": 0,
               "easing": "linear"
              }
             }
            ],
            "label": "2021-09-10T01:06:03.100",
            "method": "animate"
           },
           {
            "args": [
             [
              "2021-09-10T01:06:03.200"
             ],
             {
              "frame": {
               "duration": 0,
               "redraw": false
              },
              "fromcurrent": true,
              "mode": "immediate",
              "transition": {
               "duration": 0,
               "easing": "linear"
              }
             }
            ],
            "label": "2021-09-10T01:06:03.200",
            "method": "animate"
           },
           {
            "args": [
             [
              "2021-09-10T01:06:03.300"
             ],
             {
              "frame": {
               "duration": 0,
               "redraw": false
              },
              "fromcurrent": true,
              "mode": "immediate",
              "transition": {
               "duration": 0,
               "easing": "linear"
              }
             }
            ],
            "label": "2021-09-10T01:06:03.300",
            "method": "animate"
           },
           {
            "args": [
             [
              "2021-09-10T01:06:03.400"
             ],
             {
              "frame": {
               "duration": 0,
               "redraw": false
              },
              "fromcurrent": true,
              "mode": "immediate",
              "transition": {
               "duration": 0,
               "easing": "linear"
              }
             }
            ],
            "label": "2021-09-10T01:06:03.400",
            "method": "animate"
           },
           {
            "args": [
             [
              "2021-09-10T01:06:03.500"
             ],
             {
              "frame": {
               "duration": 0,
               "redraw": false
              },
              "fromcurrent": true,
              "mode": "immediate",
              "transition": {
               "duration": 0,
               "easing": "linear"
              }
             }
            ],
            "label": "2021-09-10T01:06:03.500",
            "method": "animate"
           },
           {
            "args": [
             [
              "2021-09-10T01:06:03.600"
             ],
             {
              "frame": {
               "duration": 0,
               "redraw": false
              },
              "fromcurrent": true,
              "mode": "immediate",
              "transition": {
               "duration": 0,
               "easing": "linear"
              }
             }
            ],
            "label": "2021-09-10T01:06:03.600",
            "method": "animate"
           },
           {
            "args": [
             [
              "2021-09-10T01:06:03.700"
             ],
             {
              "frame": {
               "duration": 0,
               "redraw": false
              },
              "fromcurrent": true,
              "mode": "immediate",
              "transition": {
               "duration": 0,
               "easing": "linear"
              }
             }
            ],
            "label": "2021-09-10T01:06:03.700",
            "method": "animate"
           },
           {
            "args": [
             [
              "2021-09-10T01:06:03.800"
             ],
             {
              "frame": {
               "duration": 0,
               "redraw": false
              },
              "fromcurrent": true,
              "mode": "immediate",
              "transition": {
               "duration": 0,
               "easing": "linear"
              }
             }
            ],
            "label": "2021-09-10T01:06:03.800",
            "method": "animate"
           },
           {
            "args": [
             [
              "2021-09-10T01:06:03.900"
             ],
             {
              "frame": {
               "duration": 0,
               "redraw": false
              },
              "fromcurrent": true,
              "mode": "immediate",
              "transition": {
               "duration": 0,
               "easing": "linear"
              }
             }
            ],
            "label": "2021-09-10T01:06:03.900",
            "method": "animate"
           },
           {
            "args": [
             [
              "2021-09-10T01:06:04.000"
             ],
             {
              "frame": {
               "duration": 0,
               "redraw": false
              },
              "fromcurrent": true,
              "mode": "immediate",
              "transition": {
               "duration": 0,
               "easing": "linear"
              }
             }
            ],
            "label": "2021-09-10T01:06:04.000",
            "method": "animate"
           },
           {
            "args": [
             [
              "2021-09-10T01:06:04.100"
             ],
             {
              "frame": {
               "duration": 0,
               "redraw": false
              },
              "fromcurrent": true,
              "mode": "immediate",
              "transition": {
               "duration": 0,
               "easing": "linear"
              }
             }
            ],
            "label": "2021-09-10T01:06:04.100",
            "method": "animate"
           },
           {
            "args": [
             [
              "2021-09-10T01:06:04.200"
             ],
             {
              "frame": {
               "duration": 0,
               "redraw": false
              },
              "fromcurrent": true,
              "mode": "immediate",
              "transition": {
               "duration": 0,
               "easing": "linear"
              }
             }
            ],
            "label": "2021-09-10T01:06:04.200",
            "method": "animate"
           },
           {
            "args": [
             [
              "2021-09-10T01:06:04.300"
             ],
             {
              "frame": {
               "duration": 0,
               "redraw": false
              },
              "fromcurrent": true,
              "mode": "immediate",
              "transition": {
               "duration": 0,
               "easing": "linear"
              }
             }
            ],
            "label": "2021-09-10T01:06:04.300",
            "method": "animate"
           },
           {
            "args": [
             [
              "2021-09-10T01:06:04.400"
             ],
             {
              "frame": {
               "duration": 0,
               "redraw": false
              },
              "fromcurrent": true,
              "mode": "immediate",
              "transition": {
               "duration": 0,
               "easing": "linear"
              }
             }
            ],
            "label": "2021-09-10T01:06:04.400",
            "method": "animate"
           },
           {
            "args": [
             [
              "2021-09-10T01:06:04.500"
             ],
             {
              "frame": {
               "duration": 0,
               "redraw": false
              },
              "fromcurrent": true,
              "mode": "immediate",
              "transition": {
               "duration": 0,
               "easing": "linear"
              }
             }
            ],
            "label": "2021-09-10T01:06:04.500",
            "method": "animate"
           },
           {
            "args": [
             [
              "2021-09-10T01:06:04.600"
             ],
             {
              "frame": {
               "duration": 0,
               "redraw": false
              },
              "fromcurrent": true,
              "mode": "immediate",
              "transition": {
               "duration": 0,
               "easing": "linear"
              }
             }
            ],
            "label": "2021-09-10T01:06:04.600",
            "method": "animate"
           },
           {
            "args": [
             [
              "2021-09-10T01:06:04.700"
             ],
             {
              "frame": {
               "duration": 0,
               "redraw": false
              },
              "fromcurrent": true,
              "mode": "immediate",
              "transition": {
               "duration": 0,
               "easing": "linear"
              }
             }
            ],
            "label": "2021-09-10T01:06:04.700",
            "method": "animate"
           },
           {
            "args": [
             [
              "2021-09-10T01:06:04.800"
             ],
             {
              "frame": {
               "duration": 0,
               "redraw": false
              },
              "fromcurrent": true,
              "mode": "immediate",
              "transition": {
               "duration": 0,
               "easing": "linear"
              }
             }
            ],
            "label": "2021-09-10T01:06:04.800",
            "method": "animate"
           },
           {
            "args": [
             [
              "2021-09-10T01:06:04.900"
             ],
             {
              "frame": {
               "duration": 0,
               "redraw": false
              },
              "fromcurrent": true,
              "mode": "immediate",
              "transition": {
               "duration": 0,
               "easing": "linear"
              }
             }
            ],
            "label": "2021-09-10T01:06:04.900",
            "method": "animate"
           },
           {
            "args": [
             [
              "2021-09-10T01:06:05.000"
             ],
             {
              "frame": {
               "duration": 0,
               "redraw": false
              },
              "fromcurrent": true,
              "mode": "immediate",
              "transition": {
               "duration": 0,
               "easing": "linear"
              }
             }
            ],
            "label": "2021-09-10T01:06:05.000",
            "method": "animate"
           },
           {
            "args": [
             [
              "2021-09-10T01:06:05.100"
             ],
             {
              "frame": {
               "duration": 0,
               "redraw": false
              },
              "fromcurrent": true,
              "mode": "immediate",
              "transition": {
               "duration": 0,
               "easing": "linear"
              }
             }
            ],
            "label": "2021-09-10T01:06:05.100",
            "method": "animate"
           },
           {
            "args": [
             [
              "2021-09-10T01:06:05.200"
             ],
             {
              "frame": {
               "duration": 0,
               "redraw": false
              },
              "fromcurrent": true,
              "mode": "immediate",
              "transition": {
               "duration": 0,
               "easing": "linear"
              }
             }
            ],
            "label": "2021-09-10T01:06:05.200",
            "method": "animate"
           }
          ],
          "x": 0.1,
          "xanchor": "left",
          "y": 0,
          "yanchor": "top"
         }
        ],
        "template": {
         "data": {
          "bar": [
           {
            "error_x": {
             "color": "#2a3f5f"
            },
            "error_y": {
             "color": "#2a3f5f"
            },
            "marker": {
             "line": {
              "color": "#E5ECF6",
              "width": 0.5
             },
             "pattern": {
              "fillmode": "overlay",
              "size": 10,
              "solidity": 0.2
             }
            },
            "type": "bar"
           }
          ],
          "barpolar": [
           {
            "marker": {
             "line": {
              "color": "#E5ECF6",
              "width": 0.5
             },
             "pattern": {
              "fillmode": "overlay",
              "size": 10,
              "solidity": 0.2
             }
            },
            "type": "barpolar"
           }
          ],
          "carpet": [
           {
            "aaxis": {
             "endlinecolor": "#2a3f5f",
             "gridcolor": "white",
             "linecolor": "white",
             "minorgridcolor": "white",
             "startlinecolor": "#2a3f5f"
            },
            "baxis": {
             "endlinecolor": "#2a3f5f",
             "gridcolor": "white",
             "linecolor": "white",
             "minorgridcolor": "white",
             "startlinecolor": "#2a3f5f"
            },
            "type": "carpet"
           }
          ],
          "choropleth": [
           {
            "colorbar": {
             "outlinewidth": 0,
             "ticks": ""
            },
            "type": "choropleth"
           }
          ],
          "contour": [
           {
            "colorbar": {
             "outlinewidth": 0,
             "ticks": ""
            },
            "colorscale": [
             [
              0,
              "#0d0887"
             ],
             [
              0.1111111111111111,
              "#46039f"
             ],
             [
              0.2222222222222222,
              "#7201a8"
             ],
             [
              0.3333333333333333,
              "#9c179e"
             ],
             [
              0.4444444444444444,
              "#bd3786"
             ],
             [
              0.5555555555555556,
              "#d8576b"
             ],
             [
              0.6666666666666666,
              "#ed7953"
             ],
             [
              0.7777777777777778,
              "#fb9f3a"
             ],
             [
              0.8888888888888888,
              "#fdca26"
             ],
             [
              1,
              "#f0f921"
             ]
            ],
            "type": "contour"
           }
          ],
          "contourcarpet": [
           {
            "colorbar": {
             "outlinewidth": 0,
             "ticks": ""
            },
            "type": "contourcarpet"
           }
          ],
          "heatmap": [
           {
            "colorbar": {
             "outlinewidth": 0,
             "ticks": ""
            },
            "colorscale": [
             [
              0,
              "#0d0887"
             ],
             [
              0.1111111111111111,
              "#46039f"
             ],
             [
              0.2222222222222222,
              "#7201a8"
             ],
             [
              0.3333333333333333,
              "#9c179e"
             ],
             [
              0.4444444444444444,
              "#bd3786"
             ],
             [
              0.5555555555555556,
              "#d8576b"
             ],
             [
              0.6666666666666666,
              "#ed7953"
             ],
             [
              0.7777777777777778,
              "#fb9f3a"
             ],
             [
              0.8888888888888888,
              "#fdca26"
             ],
             [
              1,
              "#f0f921"
             ]
            ],
            "type": "heatmap"
           }
          ],
          "heatmapgl": [
           {
            "colorbar": {
             "outlinewidth": 0,
             "ticks": ""
            },
            "colorscale": [
             [
              0,
              "#0d0887"
             ],
             [
              0.1111111111111111,
              "#46039f"
             ],
             [
              0.2222222222222222,
              "#7201a8"
             ],
             [
              0.3333333333333333,
              "#9c179e"
             ],
             [
              0.4444444444444444,
              "#bd3786"
             ],
             [
              0.5555555555555556,
              "#d8576b"
             ],
             [
              0.6666666666666666,
              "#ed7953"
             ],
             [
              0.7777777777777778,
              "#fb9f3a"
             ],
             [
              0.8888888888888888,
              "#fdca26"
             ],
             [
              1,
              "#f0f921"
             ]
            ],
            "type": "heatmapgl"
           }
          ],
          "histogram": [
           {
            "marker": {
             "pattern": {
              "fillmode": "overlay",
              "size": 10,
              "solidity": 0.2
             }
            },
            "type": "histogram"
           }
          ],
          "histogram2d": [
           {
            "colorbar": {
             "outlinewidth": 0,
             "ticks": ""
            },
            "colorscale": [
             [
              0,
              "#0d0887"
             ],
             [
              0.1111111111111111,
              "#46039f"
             ],
             [
              0.2222222222222222,
              "#7201a8"
             ],
             [
              0.3333333333333333,
              "#9c179e"
             ],
             [
              0.4444444444444444,
              "#bd3786"
             ],
             [
              0.5555555555555556,
              "#d8576b"
             ],
             [
              0.6666666666666666,
              "#ed7953"
             ],
             [
              0.7777777777777778,
              "#fb9f3a"
             ],
             [
              0.8888888888888888,
              "#fdca26"
             ],
             [
              1,
              "#f0f921"
             ]
            ],
            "type": "histogram2d"
           }
          ],
          "histogram2dcontour": [
           {
            "colorbar": {
             "outlinewidth": 0,
             "ticks": ""
            },
            "colorscale": [
             [
              0,
              "#0d0887"
             ],
             [
              0.1111111111111111,
              "#46039f"
             ],
             [
              0.2222222222222222,
              "#7201a8"
             ],
             [
              0.3333333333333333,
              "#9c179e"
             ],
             [
              0.4444444444444444,
              "#bd3786"
             ],
             [
              0.5555555555555556,
              "#d8576b"
             ],
             [
              0.6666666666666666,
              "#ed7953"
             ],
             [
              0.7777777777777778,
              "#fb9f3a"
             ],
             [
              0.8888888888888888,
              "#fdca26"
             ],
             [
              1,
              "#f0f921"
             ]
            ],
            "type": "histogram2dcontour"
           }
          ],
          "mesh3d": [
           {
            "colorbar": {
             "outlinewidth": 0,
             "ticks": ""
            },
            "type": "mesh3d"
           }
          ],
          "parcoords": [
           {
            "line": {
             "colorbar": {
              "outlinewidth": 0,
              "ticks": ""
             }
            },
            "type": "parcoords"
           }
          ],
          "pie": [
           {
            "automargin": true,
            "type": "pie"
           }
          ],
          "scatter": [
           {
            "marker": {
             "colorbar": {
              "outlinewidth": 0,
              "ticks": ""
             }
            },
            "type": "scatter"
           }
          ],
          "scatter3d": [
           {
            "line": {
             "colorbar": {
              "outlinewidth": 0,
              "ticks": ""
             }
            },
            "marker": {
             "colorbar": {
              "outlinewidth": 0,
              "ticks": ""
             }
            },
            "type": "scatter3d"
           }
          ],
          "scattercarpet": [
           {
            "marker": {
             "colorbar": {
              "outlinewidth": 0,
              "ticks": ""
             }
            },
            "type": "scattercarpet"
           }
          ],
          "scattergeo": [
           {
            "marker": {
             "colorbar": {
              "outlinewidth": 0,
              "ticks": ""
             }
            },
            "type": "scattergeo"
           }
          ],
          "scattergl": [
           {
            "marker": {
             "colorbar": {
              "outlinewidth": 0,
              "ticks": ""
             }
            },
            "type": "scattergl"
           }
          ],
          "scattermapbox": [
           {
            "marker": {
             "colorbar": {
              "outlinewidth": 0,
              "ticks": ""
             }
            },
            "type": "scattermapbox"
           }
          ],
          "scatterpolar": [
           {
            "marker": {
             "colorbar": {
              "outlinewidth": 0,
              "ticks": ""
             }
            },
            "type": "scatterpolar"
           }
          ],
          "scatterpolargl": [
           {
            "marker": {
             "colorbar": {
              "outlinewidth": 0,
              "ticks": ""
             }
            },
            "type": "scatterpolargl"
           }
          ],
          "scatterternary": [
           {
            "marker": {
             "colorbar": {
              "outlinewidth": 0,
              "ticks": ""
             }
            },
            "type": "scatterternary"
           }
          ],
          "surface": [
           {
            "colorbar": {
             "outlinewidth": 0,
             "ticks": ""
            },
            "colorscale": [
             [
              0,
              "#0d0887"
             ],
             [
              0.1111111111111111,
              "#46039f"
             ],
             [
              0.2222222222222222,
              "#7201a8"
             ],
             [
              0.3333333333333333,
              "#9c179e"
             ],
             [
              0.4444444444444444,
              "#bd3786"
             ],
             [
              0.5555555555555556,
              "#d8576b"
             ],
             [
              0.6666666666666666,
              "#ed7953"
             ],
             [
              0.7777777777777778,
              "#fb9f3a"
             ],
             [
              0.8888888888888888,
              "#fdca26"
             ],
             [
              1,
              "#f0f921"
             ]
            ],
            "type": "surface"
           }
          ],
          "table": [
           {
            "cells": {
             "fill": {
              "color": "#EBF0F8"
             },
             "line": {
              "color": "white"
             }
            },
            "header": {
             "fill": {
              "color": "#C8D4E3"
             },
             "line": {
              "color": "white"
             }
            },
            "type": "table"
           }
          ]
         },
         "layout": {
          "annotationdefaults": {
           "arrowcolor": "#2a3f5f",
           "arrowhead": 0,
           "arrowwidth": 1
          },
          "autotypenumbers": "strict",
          "coloraxis": {
           "colorbar": {
            "outlinewidth": 0,
            "ticks": ""
           }
          },
          "colorscale": {
           "diverging": [
            [
             0,
             "#8e0152"
            ],
            [
             0.1,
             "#c51b7d"
            ],
            [
             0.2,
             "#de77ae"
            ],
            [
             0.3,
             "#f1b6da"
            ],
            [
             0.4,
             "#fde0ef"
            ],
            [
             0.5,
             "#f7f7f7"
            ],
            [
             0.6,
             "#e6f5d0"
            ],
            [
             0.7,
             "#b8e186"
            ],
            [
             0.8,
             "#7fbc41"
            ],
            [
             0.9,
             "#4d9221"
            ],
            [
             1,
             "#276419"
            ]
           ],
           "sequential": [
            [
             0,
             "#0d0887"
            ],
            [
             0.1111111111111111,
             "#46039f"
            ],
            [
             0.2222222222222222,
             "#7201a8"
            ],
            [
             0.3333333333333333,
             "#9c179e"
            ],
            [
             0.4444444444444444,
             "#bd3786"
            ],
            [
             0.5555555555555556,
             "#d8576b"
            ],
            [
             0.6666666666666666,
             "#ed7953"
            ],
            [
             0.7777777777777778,
             "#fb9f3a"
            ],
            [
             0.8888888888888888,
             "#fdca26"
            ],
            [
             1,
             "#f0f921"
            ]
           ],
           "sequentialminus": [
            [
             0,
             "#0d0887"
            ],
            [
             0.1111111111111111,
             "#46039f"
            ],
            [
             0.2222222222222222,
             "#7201a8"
            ],
            [
             0.3333333333333333,
             "#9c179e"
            ],
            [
             0.4444444444444444,
             "#bd3786"
            ],
            [
             0.5555555555555556,
             "#d8576b"
            ],
            [
             0.6666666666666666,
             "#ed7953"
            ],
            [
             0.7777777777777778,
             "#fb9f3a"
            ],
            [
             0.8888888888888888,
             "#fdca26"
            ],
            [
             1,
             "#f0f921"
            ]
           ]
          },
          "colorway": [
           "#636efa",
           "#EF553B",
           "#00cc96",
           "#ab63fa",
           "#FFA15A",
           "#19d3f3",
           "#FF6692",
           "#B6E880",
           "#FF97FF",
           "#FECB52"
          ],
          "font": {
           "color": "#2a3f5f"
          },
          "geo": {
           "bgcolor": "white",
           "lakecolor": "white",
           "landcolor": "#E5ECF6",
           "showlakes": true,
           "showland": true,
           "subunitcolor": "white"
          },
          "hoverlabel": {
           "align": "left"
          },
          "hovermode": "closest",
          "mapbox": {
           "style": "light"
          },
          "paper_bgcolor": "white",
          "plot_bgcolor": "#E5ECF6",
          "polar": {
           "angularaxis": {
            "gridcolor": "white",
            "linecolor": "white",
            "ticks": ""
           },
           "bgcolor": "#E5ECF6",
           "radialaxis": {
            "gridcolor": "white",
            "linecolor": "white",
            "ticks": ""
           }
          },
          "scene": {
           "xaxis": {
            "backgroundcolor": "#E5ECF6",
            "gridcolor": "white",
            "gridwidth": 2,
            "linecolor": "white",
            "showbackground": true,
            "ticks": "",
            "zerolinecolor": "white"
           },
           "yaxis": {
            "backgroundcolor": "#E5ECF6",
            "gridcolor": "white",
            "gridwidth": 2,
            "linecolor": "white",
            "showbackground": true,
            "ticks": "",
            "zerolinecolor": "white"
           },
           "zaxis": {
            "backgroundcolor": "#E5ECF6",
            "gridcolor": "white",
            "gridwidth": 2,
            "linecolor": "white",
            "showbackground": true,
            "ticks": "",
            "zerolinecolor": "white"
           }
          },
          "shapedefaults": {
           "line": {
            "color": "#2a3f5f"
           }
          },
          "ternary": {
           "aaxis": {
            "gridcolor": "white",
            "linecolor": "white",
            "ticks": ""
           },
           "baxis": {
            "gridcolor": "white",
            "linecolor": "white",
            "ticks": ""
           },
           "bgcolor": "#E5ECF6",
           "caxis": {
            "gridcolor": "white",
            "linecolor": "white",
            "ticks": ""
           }
          },
          "title": {
           "x": 0.05
          },
          "xaxis": {
           "automargin": true,
           "gridcolor": "white",
           "linecolor": "white",
           "ticks": "",
           "title": {
            "standoff": 15
           },
           "zerolinecolor": "white",
           "zerolinewidth": 2
          },
          "yaxis": {
           "automargin": true,
           "gridcolor": "white",
           "linecolor": "white",
           "ticks": "",
           "title": {
            "standoff": 15
           },
           "zerolinecolor": "white",
           "zerolinewidth": 2
          }
         }
        },
        "title": {
         "text": ""
        },
        "updatemenus": [
         {
          "buttons": [
           {
            "args": [
             null,
             {
              "frame": {
               "duration": 500,
               "redraw": false
              },
              "fromcurrent": true,
              "mode": "immediate",
              "transition": {
               "duration": 500,
               "easing": "linear"
              }
             }
            ],
            "label": "&#9654;",
            "method": "animate"
           },
           {
            "args": [
             [
              null
             ],
             {
              "frame": {
               "duration": 0,
               "redraw": false
              },
              "fromcurrent": true,
              "mode": "immediate",
              "transition": {
               "duration": 0,
               "easing": "linear"
              }
             }
            ],
            "label": "&#9724;",
            "method": "animate"
           }
          ],
          "direction": "left",
          "pad": {
           "r": 10,
           "t": 70
          },
          "showactive": false,
          "type": "buttons",
          "x": 0.1,
          "xanchor": "right",
          "y": 0,
          "yanchor": "top"
         }
        ],
        "width": 800,
        "xaxis": {
         "anchor": "y",
         "domain": [
          0,
          1
         ],
         "nticks": 10,
         "range": [
          -10,
          110
         ],
         "title": {
          "text": ""
         },
         "visible": false
        },
        "yaxis": {
         "anchor": "x",
         "domain": [
          0,
          1
         ],
         "range": [
          -10,
          53.3
         ],
         "scaleanchor": "x",
         "title": {
          "text": "Temp"
         },
         "visible": false
        }
       }
      },
      "text/html": [
       "<div>                            <div id=\"28dac8cb-50d5-4756-8e90-8604fec5907e\" class=\"plotly-graph-div\" style=\"height:600px; width:800px;\"></div>            <script type=\"text/javascript\">                require([\"plotly\"], function(Plotly) {                    window.PLOTLYENV=window.PLOTLYENV || {};                                    if (document.getElementById(\"28dac8cb-50d5-4756-8e90-8604fec5907e\")) {                    Plotly.newPlot(                        \"28dac8cb-50d5-4756-8e90-8604fec5907e\",                        [{\"hovertemplate\":\"team=TB<br>time=2021-09-10T01:06:01.500<br>x=%{x}<br>y=%{y}<extra></extra>\",\"legendgroup\":\"TB\",\"marker\":{\"color\":\"#636efa\",\"symbol\":\"circle\",\"size\":9},\"mode\":\"markers\",\"name\":\"TB\",\"orientation\":\"v\",\"showlegend\":true,\"x\":[17.25,17.33,21.07,20.0,17.59,17.63,25.76,20.78,24.09,28.68,30.15],\"xaxis\":\"x\",\"y\":[31.71,35.06,22.28,37.19,24.71,29.42,9.85,29.29,45.57,35.9,20.45],\"yaxis\":\"y\",\"type\":\"scatter\"},{\"hovertemplate\":\"team=DAL<br>time=2021-09-10T01:06:01.500<br>x=%{x}<br>y=%{y}<extra></extra>\",\"legendgroup\":\"DAL\",\"marker\":{\"color\":\"#EF553B\",\"symbol\":\"circle\",\"size\":9},\"mode\":\"markers\",\"name\":\"DAL\",\"orientation\":\"v\",\"showlegend\":true,\"x\":[15.36,16.15,15.36,12.26,15.83,14.97,15.19,15.69,12.11,16.25,16.06],\"xaxis\":\"x\",\"y\":[33.05,46.56,26.93,29.8,31.47,8.52,37.81,28.48,27.02,18.29,29.55],\"yaxis\":\"y\",\"type\":\"scatter\"},{\"hovertemplate\":\"team=football<br>time=2021-09-10T01:06:01.500<br>x=%{x}<br>y=%{y}<extra></extra>\",\"legendgroup\":\"football\",\"marker\":{\"color\":\"#00cc96\",\"symbol\":\"circle\",\"size\":9},\"mode\":\"markers\",\"name\":\"football\",\"orientation\":\"v\",\"showlegend\":true,\"x\":[17.14],\"xaxis\":\"x\",\"y\":[30.0],\"yaxis\":\"y\",\"type\":\"scatter\"},{\"mode\":\"text\",\"showlegend\":false,\"text\":[\"G\",\"1 0\",\"2 0\",\"3 0\",\"4 0\",\"5 0\",\"4 0\",\"3 0\",\"2 0\",\"1 0\",\"G\"],\"textfont\":{\"family\":\"Arial\",\"size\":20},\"x\":[2,10,20,30,40,50,60,70,80,90,98],\"y\":[5,5,5,5,5,5,5,5,5,5,5],\"type\":\"scatter\"},{\"mode\":\"text\",\"showlegend\":false,\"text\":[\"G\",\"1 0\",\"2 0\",\"3 0\",\"4 0\",\"5 0\",\"4 0\",\"3 0\",\"2 0\",\"1 0\",\"G\"],\"textfont\":{\"family\":\"Arial\",\"size\":20},\"x\":[2,10,20,30,40,50,60,70,80,90,98],\"y\":[48.3,48.3,48.3,48.3,48.3,48.3,48.3,48.3,48.3,48.3,48.3],\"type\":\"scatter\"}],                        {\"template\":{\"data\":{\"bar\":[{\"error_x\":{\"color\":\"#2a3f5f\"},\"error_y\":{\"color\":\"#2a3f5f\"},\"marker\":{\"line\":{\"color\":\"#E5ECF6\",\"width\":0.5},\"pattern\":{\"fillmode\":\"overlay\",\"size\":10,\"solidity\":0.2}},\"type\":\"bar\"}],\"barpolar\":[{\"marker\":{\"line\":{\"color\":\"#E5ECF6\",\"width\":0.5},\"pattern\":{\"fillmode\":\"overlay\",\"size\":10,\"solidity\":0.2}},\"type\":\"barpolar\"}],\"carpet\":[{\"aaxis\":{\"endlinecolor\":\"#2a3f5f\",\"gridcolor\":\"white\",\"linecolor\":\"white\",\"minorgridcolor\":\"white\",\"startlinecolor\":\"#2a3f5f\"},\"baxis\":{\"endlinecolor\":\"#2a3f5f\",\"gridcolor\":\"white\",\"linecolor\":\"white\",\"minorgridcolor\":\"white\",\"startlinecolor\":\"#2a3f5f\"},\"type\":\"carpet\"}],\"choropleth\":[{\"colorbar\":{\"outlinewidth\":0,\"ticks\":\"\"},\"type\":\"choropleth\"}],\"contour\":[{\"colorbar\":{\"outlinewidth\":0,\"ticks\":\"\"},\"colorscale\":[[0.0,\"#0d0887\"],[0.1111111111111111,\"#46039f\"],[0.2222222222222222,\"#7201a8\"],[0.3333333333333333,\"#9c179e\"],[0.4444444444444444,\"#bd3786\"],[0.5555555555555556,\"#d8576b\"],[0.6666666666666666,\"#ed7953\"],[0.7777777777777778,\"#fb9f3a\"],[0.8888888888888888,\"#fdca26\"],[1.0,\"#f0f921\"]],\"type\":\"contour\"}],\"contourcarpet\":[{\"colorbar\":{\"outlinewidth\":0,\"ticks\":\"\"},\"type\":\"contourcarpet\"}],\"heatmap\":[{\"colorbar\":{\"outlinewidth\":0,\"ticks\":\"\"},\"colorscale\":[[0.0,\"#0d0887\"],[0.1111111111111111,\"#46039f\"],[0.2222222222222222,\"#7201a8\"],[0.3333333333333333,\"#9c179e\"],[0.4444444444444444,\"#bd3786\"],[0.5555555555555556,\"#d8576b\"],[0.6666666666666666,\"#ed7953\"],[0.7777777777777778,\"#fb9f3a\"],[0.8888888888888888,\"#fdca26\"],[1.0,\"#f0f921\"]],\"type\":\"heatmap\"}],\"heatmapgl\":[{\"colorbar\":{\"outlinewidth\":0,\"ticks\":\"\"},\"colorscale\":[[0.0,\"#0d0887\"],[0.1111111111111111,\"#46039f\"],[0.2222222222222222,\"#7201a8\"],[0.3333333333333333,\"#9c179e\"],[0.4444444444444444,\"#bd3786\"],[0.5555555555555556,\"#d8576b\"],[0.6666666666666666,\"#ed7953\"],[0.7777777777777778,\"#fb9f3a\"],[0.8888888888888888,\"#fdca26\"],[1.0,\"#f0f921\"]],\"type\":\"heatmapgl\"}],\"histogram\":[{\"marker\":{\"pattern\":{\"fillmode\":\"overlay\",\"size\":10,\"solidity\":0.2}},\"type\":\"histogram\"}],\"histogram2d\":[{\"colorbar\":{\"outlinewidth\":0,\"ticks\":\"\"},\"colorscale\":[[0.0,\"#0d0887\"],[0.1111111111111111,\"#46039f\"],[0.2222222222222222,\"#7201a8\"],[0.3333333333333333,\"#9c179e\"],[0.4444444444444444,\"#bd3786\"],[0.5555555555555556,\"#d8576b\"],[0.6666666666666666,\"#ed7953\"],[0.7777777777777778,\"#fb9f3a\"],[0.8888888888888888,\"#fdca26\"],[1.0,\"#f0f921\"]],\"type\":\"histogram2d\"}],\"histogram2dcontour\":[{\"colorbar\":{\"outlinewidth\":0,\"ticks\":\"\"},\"colorscale\":[[0.0,\"#0d0887\"],[0.1111111111111111,\"#46039f\"],[0.2222222222222222,\"#7201a8\"],[0.3333333333333333,\"#9c179e\"],[0.4444444444444444,\"#bd3786\"],[0.5555555555555556,\"#d8576b\"],[0.6666666666666666,\"#ed7953\"],[0.7777777777777778,\"#fb9f3a\"],[0.8888888888888888,\"#fdca26\"],[1.0,\"#f0f921\"]],\"type\":\"histogram2dcontour\"}],\"mesh3d\":[{\"colorbar\":{\"outlinewidth\":0,\"ticks\":\"\"},\"type\":\"mesh3d\"}],\"parcoords\":[{\"line\":{\"colorbar\":{\"outlinewidth\":0,\"ticks\":\"\"}},\"type\":\"parcoords\"}],\"pie\":[{\"automargin\":true,\"type\":\"pie\"}],\"scatter\":[{\"marker\":{\"colorbar\":{\"outlinewidth\":0,\"ticks\":\"\"}},\"type\":\"scatter\"}],\"scatter3d\":[{\"line\":{\"colorbar\":{\"outlinewidth\":0,\"ticks\":\"\"}},\"marker\":{\"colorbar\":{\"outlinewidth\":0,\"ticks\":\"\"}},\"type\":\"scatter3d\"}],\"scattercarpet\":[{\"marker\":{\"colorbar\":{\"outlinewidth\":0,\"ticks\":\"\"}},\"type\":\"scattercarpet\"}],\"scattergeo\":[{\"marker\":{\"colorbar\":{\"outlinewidth\":0,\"ticks\":\"\"}},\"type\":\"scattergeo\"}],\"scattergl\":[{\"marker\":{\"colorbar\":{\"outlinewidth\":0,\"ticks\":\"\"}},\"type\":\"scattergl\"}],\"scattermapbox\":[{\"marker\":{\"colorbar\":{\"outlinewidth\":0,\"ticks\":\"\"}},\"type\":\"scattermapbox\"}],\"scatterpolar\":[{\"marker\":{\"colorbar\":{\"outlinewidth\":0,\"ticks\":\"\"}},\"type\":\"scatterpolar\"}],\"scatterpolargl\":[{\"marker\":{\"colorbar\":{\"outlinewidth\":0,\"ticks\":\"\"}},\"type\":\"scatterpolargl\"}],\"scatterternary\":[{\"marker\":{\"colorbar\":{\"outlinewidth\":0,\"ticks\":\"\"}},\"type\":\"scatterternary\"}],\"surface\":[{\"colorbar\":{\"outlinewidth\":0,\"ticks\":\"\"},\"colorscale\":[[0.0,\"#0d0887\"],[0.1111111111111111,\"#46039f\"],[0.2222222222222222,\"#7201a8\"],[0.3333333333333333,\"#9c179e\"],[0.4444444444444444,\"#bd3786\"],[0.5555555555555556,\"#d8576b\"],[0.6666666666666666,\"#ed7953\"],[0.7777777777777778,\"#fb9f3a\"],[0.8888888888888888,\"#fdca26\"],[1.0,\"#f0f921\"]],\"type\":\"surface\"}],\"table\":[{\"cells\":{\"fill\":{\"color\":\"#EBF0F8\"},\"line\":{\"color\":\"white\"}},\"header\":{\"fill\":{\"color\":\"#C8D4E3\"},\"line\":{\"color\":\"white\"}},\"type\":\"table\"}]},\"layout\":{\"annotationdefaults\":{\"arrowcolor\":\"#2a3f5f\",\"arrowhead\":0,\"arrowwidth\":1},\"autotypenumbers\":\"strict\",\"coloraxis\":{\"colorbar\":{\"outlinewidth\":0,\"ticks\":\"\"}},\"colorscale\":{\"diverging\":[[0,\"#8e0152\"],[0.1,\"#c51b7d\"],[0.2,\"#de77ae\"],[0.3,\"#f1b6da\"],[0.4,\"#fde0ef\"],[0.5,\"#f7f7f7\"],[0.6,\"#e6f5d0\"],[0.7,\"#b8e186\"],[0.8,\"#7fbc41\"],[0.9,\"#4d9221\"],[1,\"#276419\"]],\"sequential\":[[0.0,\"#0d0887\"],[0.1111111111111111,\"#46039f\"],[0.2222222222222222,\"#7201a8\"],[0.3333333333333333,\"#9c179e\"],[0.4444444444444444,\"#bd3786\"],[0.5555555555555556,\"#d8576b\"],[0.6666666666666666,\"#ed7953\"],[0.7777777777777778,\"#fb9f3a\"],[0.8888888888888888,\"#fdca26\"],[1.0,\"#f0f921\"]],\"sequentialminus\":[[0.0,\"#0d0887\"],[0.1111111111111111,\"#46039f\"],[0.2222222222222222,\"#7201a8\"],[0.3333333333333333,\"#9c179e\"],[0.4444444444444444,\"#bd3786\"],[0.5555555555555556,\"#d8576b\"],[0.6666666666666666,\"#ed7953\"],[0.7777777777777778,\"#fb9f3a\"],[0.8888888888888888,\"#fdca26\"],[1.0,\"#f0f921\"]]},\"colorway\":[\"#636efa\",\"#EF553B\",\"#00cc96\",\"#ab63fa\",\"#FFA15A\",\"#19d3f3\",\"#FF6692\",\"#B6E880\",\"#FF97FF\",\"#FECB52\"],\"font\":{\"color\":\"#2a3f5f\"},\"geo\":{\"bgcolor\":\"white\",\"lakecolor\":\"white\",\"landcolor\":\"#E5ECF6\",\"showlakes\":true,\"showland\":true,\"subunitcolor\":\"white\"},\"hoverlabel\":{\"align\":\"left\"},\"hovermode\":\"closest\",\"mapbox\":{\"style\":\"light\"},\"paper_bgcolor\":\"white\",\"plot_bgcolor\":\"#E5ECF6\",\"polar\":{\"angularaxis\":{\"gridcolor\":\"white\",\"linecolor\":\"white\",\"ticks\":\"\"},\"bgcolor\":\"#E5ECF6\",\"radialaxis\":{\"gridcolor\":\"white\",\"linecolor\":\"white\",\"ticks\":\"\"}},\"scene\":{\"xaxis\":{\"backgroundcolor\":\"#E5ECF6\",\"gridcolor\":\"white\",\"gridwidth\":2,\"linecolor\":\"white\",\"showbackground\":true,\"ticks\":\"\",\"zerolinecolor\":\"white\"},\"yaxis\":{\"backgroundcolor\":\"#E5ECF6\",\"gridcolor\":\"white\",\"gridwidth\":2,\"linecolor\":\"white\",\"showbackground\":true,\"ticks\":\"\",\"zerolinecolor\":\"white\"},\"zaxis\":{\"backgroundcolor\":\"#E5ECF6\",\"gridcolor\":\"white\",\"gridwidth\":2,\"linecolor\":\"white\",\"showbackground\":true,\"ticks\":\"\",\"zerolinecolor\":\"white\"}},\"shapedefaults\":{\"line\":{\"color\":\"#2a3f5f\"}},\"ternary\":{\"aaxis\":{\"gridcolor\":\"white\",\"linecolor\":\"white\",\"ticks\":\"\"},\"baxis\":{\"gridcolor\":\"white\",\"linecolor\":\"white\",\"ticks\":\"\"},\"bgcolor\":\"#E5ECF6\",\"caxis\":{\"gridcolor\":\"white\",\"linecolor\":\"white\",\"ticks\":\"\"}},\"title\":{\"x\":0.05},\"xaxis\":{\"automargin\":true,\"gridcolor\":\"white\",\"linecolor\":\"white\",\"ticks\":\"\",\"title\":{\"standoff\":15},\"zerolinecolor\":\"white\",\"zerolinewidth\":2},\"yaxis\":{\"automargin\":true,\"gridcolor\":\"white\",\"linecolor\":\"white\",\"ticks\":\"\",\"title\":{\"standoff\":15},\"zerolinecolor\":\"white\",\"zerolinewidth\":2}}},\"xaxis\":{\"anchor\":\"y\",\"domain\":[0.0,1.0],\"title\":{\"text\":\"\"},\"range\":[-10,110],\"nticks\":10,\"visible\":false},\"yaxis\":{\"anchor\":\"x\",\"domain\":[0.0,1.0],\"title\":{\"text\":\"Temp\"},\"range\":[-10,53.3],\"scaleanchor\":\"x\",\"visible\":false},\"legend\":{\"title\":{\"text\":\"\"},\"tracegroupgap\":0,\"font\":{\"family\":\"sans-serif\",\"size\":12},\"traceorder\":\"normal\",\"orientation\":\"h\",\"yanchor\":\"bottom\",\"y\":1.0,\"xanchor\":\"center\",\"x\":0.5},\"margin\":{\"t\":60},\"updatemenus\":[{\"buttons\":[{\"args\":[null,{\"frame\":{\"duration\":500,\"redraw\":false},\"mode\":\"immediate\",\"fromcurrent\":true,\"transition\":{\"duration\":500,\"easing\":\"linear\"}}],\"label\":\"&#9654;\",\"method\":\"animate\"},{\"args\":[[null],{\"frame\":{\"duration\":0,\"redraw\":false},\"mode\":\"immediate\",\"fromcurrent\":true,\"transition\":{\"duration\":0,\"easing\":\"linear\"}}],\"label\":\"&#9724;\",\"method\":\"animate\"}],\"direction\":\"left\",\"pad\":{\"r\":10,\"t\":70},\"showactive\":false,\"type\":\"buttons\",\"x\":0.1,\"xanchor\":\"right\",\"y\":0,\"yanchor\":\"top\"}],\"sliders\":[{\"active\":0,\"currentvalue\":{\"prefix\":\"time=\"},\"len\":0.9,\"pad\":{\"b\":10,\"t\":60},\"steps\":[{\"args\":[[\"2021-09-10T01:06:01.500\"],{\"frame\":{\"duration\":0,\"redraw\":false},\"mode\":\"immediate\",\"fromcurrent\":true,\"transition\":{\"duration\":0,\"easing\":\"linear\"}}],\"label\":\"2021-09-10T01:06:01.500\",\"method\":\"animate\"},{\"args\":[[\"2021-09-10T01:06:01.600\"],{\"frame\":{\"duration\":0,\"redraw\":false},\"mode\":\"immediate\",\"fromcurrent\":true,\"transition\":{\"duration\":0,\"easing\":\"linear\"}}],\"label\":\"2021-09-10T01:06:01.600\",\"method\":\"animate\"},{\"args\":[[\"2021-09-10T01:06:01.700\"],{\"frame\":{\"duration\":0,\"redraw\":false},\"mode\":\"immediate\",\"fromcurrent\":true,\"transition\":{\"duration\":0,\"easing\":\"linear\"}}],\"label\":\"2021-09-10T01:06:01.700\",\"method\":\"animate\"},{\"args\":[[\"2021-09-10T01:06:01.800\"],{\"frame\":{\"duration\":0,\"redraw\":false},\"mode\":\"immediate\",\"fromcurrent\":true,\"transition\":{\"duration\":0,\"easing\":\"linear\"}}],\"label\":\"2021-09-10T01:06:01.800\",\"method\":\"animate\"},{\"args\":[[\"2021-09-10T01:06:01.900\"],{\"frame\":{\"duration\":0,\"redraw\":false},\"mode\":\"immediate\",\"fromcurrent\":true,\"transition\":{\"duration\":0,\"easing\":\"linear\"}}],\"label\":\"2021-09-10T01:06:01.900\",\"method\":\"animate\"},{\"args\":[[\"2021-09-10T01:06:02.000\"],{\"frame\":{\"duration\":0,\"redraw\":false},\"mode\":\"immediate\",\"fromcurrent\":true,\"transition\":{\"duration\":0,\"easing\":\"linear\"}}],\"label\":\"2021-09-10T01:06:02.000\",\"method\":\"animate\"},{\"args\":[[\"2021-09-10T01:06:02.100\"],{\"frame\":{\"duration\":0,\"redraw\":false},\"mode\":\"immediate\",\"fromcurrent\":true,\"transition\":{\"duration\":0,\"easing\":\"linear\"}}],\"label\":\"2021-09-10T01:06:02.100\",\"method\":\"animate\"},{\"args\":[[\"2021-09-10T01:06:02.200\"],{\"frame\":{\"duration\":0,\"redraw\":false},\"mode\":\"immediate\",\"fromcurrent\":true,\"transition\":{\"duration\":0,\"easing\":\"linear\"}}],\"label\":\"2021-09-10T01:06:02.200\",\"method\":\"animate\"},{\"args\":[[\"2021-09-10T01:06:02.300\"],{\"frame\":{\"duration\":0,\"redraw\":false},\"mode\":\"immediate\",\"fromcurrent\":true,\"transition\":{\"duration\":0,\"easing\":\"linear\"}}],\"label\":\"2021-09-10T01:06:02.300\",\"method\":\"animate\"},{\"args\":[[\"2021-09-10T01:06:02.400\"],{\"frame\":{\"duration\":0,\"redraw\":false},\"mode\":\"immediate\",\"fromcurrent\":true,\"transition\":{\"duration\":0,\"easing\":\"linear\"}}],\"label\":\"2021-09-10T01:06:02.400\",\"method\":\"animate\"},{\"args\":[[\"2021-09-10T01:06:02.500\"],{\"frame\":{\"duration\":0,\"redraw\":false},\"mode\":\"immediate\",\"fromcurrent\":true,\"transition\":{\"duration\":0,\"easing\":\"linear\"}}],\"label\":\"2021-09-10T01:06:02.500\",\"method\":\"animate\"},{\"args\":[[\"2021-09-10T01:06:02.600\"],{\"frame\":{\"duration\":0,\"redraw\":false},\"mode\":\"immediate\",\"fromcurrent\":true,\"transition\":{\"duration\":0,\"easing\":\"linear\"}}],\"label\":\"2021-09-10T01:06:02.600\",\"method\":\"animate\"},{\"args\":[[\"2021-09-10T01:06:02.700\"],{\"frame\":{\"duration\":0,\"redraw\":false},\"mode\":\"immediate\",\"fromcurrent\":true,\"transition\":{\"duration\":0,\"easing\":\"linear\"}}],\"label\":\"2021-09-10T01:06:02.700\",\"method\":\"animate\"},{\"args\":[[\"2021-09-10T01:06:02.800\"],{\"frame\":{\"duration\":0,\"redraw\":false},\"mode\":\"immediate\",\"fromcurrent\":true,\"transition\":{\"duration\":0,\"easing\":\"linear\"}}],\"label\":\"2021-09-10T01:06:02.800\",\"method\":\"animate\"},{\"args\":[[\"2021-09-10T01:06:02.900\"],{\"frame\":{\"duration\":0,\"redraw\":false},\"mode\":\"immediate\",\"fromcurrent\":true,\"transition\":{\"duration\":0,\"easing\":\"linear\"}}],\"label\":\"2021-09-10T01:06:02.900\",\"method\":\"animate\"},{\"args\":[[\"2021-09-10T01:06:03.000\"],{\"frame\":{\"duration\":0,\"redraw\":false},\"mode\":\"immediate\",\"fromcurrent\":true,\"transition\":{\"duration\":0,\"easing\":\"linear\"}}],\"label\":\"2021-09-10T01:06:03.000\",\"method\":\"animate\"},{\"args\":[[\"2021-09-10T01:06:03.100\"],{\"frame\":{\"duration\":0,\"redraw\":false},\"mode\":\"immediate\",\"fromcurrent\":true,\"transition\":{\"duration\":0,\"easing\":\"linear\"}}],\"label\":\"2021-09-10T01:06:03.100\",\"method\":\"animate\"},{\"args\":[[\"2021-09-10T01:06:03.200\"],{\"frame\":{\"duration\":0,\"redraw\":false},\"mode\":\"immediate\",\"fromcurrent\":true,\"transition\":{\"duration\":0,\"easing\":\"linear\"}}],\"label\":\"2021-09-10T01:06:03.200\",\"method\":\"animate\"},{\"args\":[[\"2021-09-10T01:06:03.300\"],{\"frame\":{\"duration\":0,\"redraw\":false},\"mode\":\"immediate\",\"fromcurrent\":true,\"transition\":{\"duration\":0,\"easing\":\"linear\"}}],\"label\":\"2021-09-10T01:06:03.300\",\"method\":\"animate\"},{\"args\":[[\"2021-09-10T01:06:03.400\"],{\"frame\":{\"duration\":0,\"redraw\":false},\"mode\":\"immediate\",\"fromcurrent\":true,\"transition\":{\"duration\":0,\"easing\":\"linear\"}}],\"label\":\"2021-09-10T01:06:03.400\",\"method\":\"animate\"},{\"args\":[[\"2021-09-10T01:06:03.500\"],{\"frame\":{\"duration\":0,\"redraw\":false},\"mode\":\"immediate\",\"fromcurrent\":true,\"transition\":{\"duration\":0,\"easing\":\"linear\"}}],\"label\":\"2021-09-10T01:06:03.500\",\"method\":\"animate\"},{\"args\":[[\"2021-09-10T01:06:03.600\"],{\"frame\":{\"duration\":0,\"redraw\":false},\"mode\":\"immediate\",\"fromcurrent\":true,\"transition\":{\"duration\":0,\"easing\":\"linear\"}}],\"label\":\"2021-09-10T01:06:03.600\",\"method\":\"animate\"},{\"args\":[[\"2021-09-10T01:06:03.700\"],{\"frame\":{\"duration\":0,\"redraw\":false},\"mode\":\"immediate\",\"fromcurrent\":true,\"transition\":{\"duration\":0,\"easing\":\"linear\"}}],\"label\":\"2021-09-10T01:06:03.700\",\"method\":\"animate\"},{\"args\":[[\"2021-09-10T01:06:03.800\"],{\"frame\":{\"duration\":0,\"redraw\":false},\"mode\":\"immediate\",\"fromcurrent\":true,\"transition\":{\"duration\":0,\"easing\":\"linear\"}}],\"label\":\"2021-09-10T01:06:03.800\",\"method\":\"animate\"},{\"args\":[[\"2021-09-10T01:06:03.900\"],{\"frame\":{\"duration\":0,\"redraw\":false},\"mode\":\"immediate\",\"fromcurrent\":true,\"transition\":{\"duration\":0,\"easing\":\"linear\"}}],\"label\":\"2021-09-10T01:06:03.900\",\"method\":\"animate\"},{\"args\":[[\"2021-09-10T01:06:04.000\"],{\"frame\":{\"duration\":0,\"redraw\":false},\"mode\":\"immediate\",\"fromcurrent\":true,\"transition\":{\"duration\":0,\"easing\":\"linear\"}}],\"label\":\"2021-09-10T01:06:04.000\",\"method\":\"animate\"},{\"args\":[[\"2021-09-10T01:06:04.100\"],{\"frame\":{\"duration\":0,\"redraw\":false},\"mode\":\"immediate\",\"fromcurrent\":true,\"transition\":{\"duration\":0,\"easing\":\"linear\"}}],\"label\":\"2021-09-10T01:06:04.100\",\"method\":\"animate\"},{\"args\":[[\"2021-09-10T01:06:04.200\"],{\"frame\":{\"duration\":0,\"redraw\":false},\"mode\":\"immediate\",\"fromcurrent\":true,\"transition\":{\"duration\":0,\"easing\":\"linear\"}}],\"label\":\"2021-09-10T01:06:04.200\",\"method\":\"animate\"},{\"args\":[[\"2021-09-10T01:06:04.300\"],{\"frame\":{\"duration\":0,\"redraw\":false},\"mode\":\"immediate\",\"fromcurrent\":true,\"transition\":{\"duration\":0,\"easing\":\"linear\"}}],\"label\":\"2021-09-10T01:06:04.300\",\"method\":\"animate\"},{\"args\":[[\"2021-09-10T01:06:04.400\"],{\"frame\":{\"duration\":0,\"redraw\":false},\"mode\":\"immediate\",\"fromcurrent\":true,\"transition\":{\"duration\":0,\"easing\":\"linear\"}}],\"label\":\"2021-09-10T01:06:04.400\",\"method\":\"animate\"},{\"args\":[[\"2021-09-10T01:06:04.500\"],{\"frame\":{\"duration\":0,\"redraw\":false},\"mode\":\"immediate\",\"fromcurrent\":true,\"transition\":{\"duration\":0,\"easing\":\"linear\"}}],\"label\":\"2021-09-10T01:06:04.500\",\"method\":\"animate\"},{\"args\":[[\"2021-09-10T01:06:04.600\"],{\"frame\":{\"duration\":0,\"redraw\":false},\"mode\":\"immediate\",\"fromcurrent\":true,\"transition\":{\"duration\":0,\"easing\":\"linear\"}}],\"label\":\"2021-09-10T01:06:04.600\",\"method\":\"animate\"},{\"args\":[[\"2021-09-10T01:06:04.700\"],{\"frame\":{\"duration\":0,\"redraw\":false},\"mode\":\"immediate\",\"fromcurrent\":true,\"transition\":{\"duration\":0,\"easing\":\"linear\"}}],\"label\":\"2021-09-10T01:06:04.700\",\"method\":\"animate\"},{\"args\":[[\"2021-09-10T01:06:04.800\"],{\"frame\":{\"duration\":0,\"redraw\":false},\"mode\":\"immediate\",\"fromcurrent\":true,\"transition\":{\"duration\":0,\"easing\":\"linear\"}}],\"label\":\"2021-09-10T01:06:04.800\",\"method\":\"animate\"},{\"args\":[[\"2021-09-10T01:06:04.900\"],{\"frame\":{\"duration\":0,\"redraw\":false},\"mode\":\"immediate\",\"fromcurrent\":true,\"transition\":{\"duration\":0,\"easing\":\"linear\"}}],\"label\":\"2021-09-10T01:06:04.900\",\"method\":\"animate\"},{\"args\":[[\"2021-09-10T01:06:05.000\"],{\"frame\":{\"duration\":0,\"redraw\":false},\"mode\":\"immediate\",\"fromcurrent\":true,\"transition\":{\"duration\":0,\"easing\":\"linear\"}}],\"label\":\"2021-09-10T01:06:05.000\",\"method\":\"animate\"},{\"args\":[[\"2021-09-10T01:06:05.100\"],{\"frame\":{\"duration\":0,\"redraw\":false},\"mode\":\"immediate\",\"fromcurrent\":true,\"transition\":{\"duration\":0,\"easing\":\"linear\"}}],\"label\":\"2021-09-10T01:06:05.100\",\"method\":\"animate\"},{\"args\":[[\"2021-09-10T01:06:05.200\"],{\"frame\":{\"duration\":0,\"redraw\":false},\"mode\":\"immediate\",\"fromcurrent\":true,\"transition\":{\"duration\":0,\"easing\":\"linear\"}}],\"label\":\"2021-09-10T01:06:05.200\",\"method\":\"animate\"}],\"x\":0.1,\"xanchor\":\"left\",\"y\":0,\"yanchor\":\"top\"}],\"font\":{\"color\":\"white\"},\"paper_bgcolor\":\"#29a500\",\"plot_bgcolor\":\"#29a500\",\"width\":800,\"height\":600,\"title\":{\"text\":\"\"},\"showlegend\":true,\"annotations\":[{\"align\":\"center\",\"font\":{\"color\":\"#e9ece7\",\"size\":16},\"showarrow\":false,\"text\":\"HOME ENDZONE\",\"textangle\":-90,\"x\":-5,\"xref\":\"x\",\"y\":12,\"yanchor\":\"bottom\",\"yref\":\"y\"},{\"align\":\"center\",\"font\":{\"color\":\"#e9ece7\",\"size\":16},\"showarrow\":false,\"text\":\"VISITOR ENDZONE\",\"textangle\":90,\"x\":105,\"xref\":\"x\",\"y\":10,\"yanchor\":\"bottom\",\"yref\":\"y\"}],\"shapes\":[{\"fillcolor\":\"#217b00\",\"layer\":\"below\",\"line\":{\"color\":\"#c8ddc0\",\"width\":3},\"type\":\"rect\",\"x0\":-10,\"x1\":0,\"y0\":0,\"y1\":53.3},{\"fillcolor\":\"#217b00\",\"layer\":\"below\",\"line\":{\"color\":\"#c8ddc0\",\"width\":3},\"type\":\"rect\",\"x0\":100,\"x1\":110,\"y0\":0,\"y1\":53.3},{\"fillcolor\":\"#29a500\",\"layer\":\"below\",\"line\":{\"color\":\"#c8ddc0\",\"width\":3},\"type\":\"rect\",\"x0\":0,\"x1\":10,\"y0\":0,\"y1\":53.3},{\"fillcolor\":\"#29a500\",\"layer\":\"below\",\"line\":{\"color\":\"#c8ddc0\",\"width\":3},\"type\":\"rect\",\"x0\":10,\"x1\":20,\"y0\":0,\"y1\":53.3},{\"fillcolor\":\"#29a500\",\"layer\":\"below\",\"line\":{\"color\":\"#c8ddc0\",\"width\":3},\"type\":\"rect\",\"x0\":20,\"x1\":30,\"y0\":0,\"y1\":53.3},{\"fillcolor\":\"#29a500\",\"layer\":\"below\",\"line\":{\"color\":\"#c8ddc0\",\"width\":3},\"type\":\"rect\",\"x0\":30,\"x1\":40,\"y0\":0,\"y1\":53.3},{\"fillcolor\":\"#29a500\",\"layer\":\"below\",\"line\":{\"color\":\"#c8ddc0\",\"width\":3},\"type\":\"rect\",\"x0\":40,\"x1\":50,\"y0\":0,\"y1\":53.3},{\"fillcolor\":\"#29a500\",\"layer\":\"below\",\"line\":{\"color\":\"#c8ddc0\",\"width\":3},\"type\":\"rect\",\"x0\":50,\"x1\":60,\"y0\":0,\"y1\":53.3},{\"fillcolor\":\"#29a500\",\"layer\":\"below\",\"line\":{\"color\":\"#c8ddc0\",\"width\":3},\"type\":\"rect\",\"x0\":60,\"x1\":70,\"y0\":0,\"y1\":53.3},{\"fillcolor\":\"#29a500\",\"layer\":\"below\",\"line\":{\"color\":\"#c8ddc0\",\"width\":3},\"type\":\"rect\",\"x0\":70,\"x1\":80,\"y0\":0,\"y1\":53.3},{\"fillcolor\":\"#29a500\",\"layer\":\"below\",\"line\":{\"color\":\"#c8ddc0\",\"width\":3},\"type\":\"rect\",\"x0\":80,\"x1\":90,\"y0\":0,\"y1\":53.3},{\"fillcolor\":\"#29a500\",\"layer\":\"below\",\"line\":{\"color\":\"#c8ddc0\",\"width\":3},\"type\":\"rect\",\"x0\":90,\"x1\":100,\"y0\":0,\"y1\":53.3},{\"layer\":\"below\",\"line\":{\"color\":\"#c8ddc0\",\"width\":2},\"type\":\"line\",\"x0\":0,\"x1\":0,\"y0\":1,\"y1\":2},{\"layer\":\"below\",\"line\":{\"color\":\"#c8ddc0\",\"width\":2},\"type\":\"line\",\"x0\":1,\"x1\":1,\"y0\":1,\"y1\":2},{\"layer\":\"below\",\"line\":{\"color\":\"#c8ddc0\",\"width\":2},\"type\":\"line\",\"x0\":2,\"x1\":2,\"y0\":1,\"y1\":2},{\"layer\":\"below\",\"line\":{\"color\":\"#c8ddc0\",\"width\":2},\"type\":\"line\",\"x0\":3,\"x1\":3,\"y0\":1,\"y1\":2},{\"layer\":\"below\",\"line\":{\"color\":\"#c8ddc0\",\"width\":2},\"type\":\"line\",\"x0\":4,\"x1\":4,\"y0\":1,\"y1\":2},{\"layer\":\"below\",\"line\":{\"color\":\"#c8ddc0\",\"width\":2},\"type\":\"line\",\"x0\":5,\"x1\":5,\"y0\":1,\"y1\":2},{\"layer\":\"below\",\"line\":{\"color\":\"#c8ddc0\",\"width\":2},\"type\":\"line\",\"x0\":6,\"x1\":6,\"y0\":1,\"y1\":2},{\"layer\":\"below\",\"line\":{\"color\":\"#c8ddc0\",\"width\":2},\"type\":\"line\",\"x0\":7,\"x1\":7,\"y0\":1,\"y1\":2},{\"layer\":\"below\",\"line\":{\"color\":\"#c8ddc0\",\"width\":2},\"type\":\"line\",\"x0\":8,\"x1\":8,\"y0\":1,\"y1\":2},{\"layer\":\"below\",\"line\":{\"color\":\"#c8ddc0\",\"width\":2},\"type\":\"line\",\"x0\":9,\"x1\":9,\"y0\":1,\"y1\":2},{\"layer\":\"below\",\"line\":{\"color\":\"#c8ddc0\",\"width\":2},\"type\":\"line\",\"x0\":10,\"x1\":10,\"y0\":1,\"y1\":2},{\"layer\":\"below\",\"line\":{\"color\":\"#c8ddc0\",\"width\":2},\"type\":\"line\",\"x0\":11,\"x1\":11,\"y0\":1,\"y1\":2},{\"layer\":\"below\",\"line\":{\"color\":\"#c8ddc0\",\"width\":2},\"type\":\"line\",\"x0\":12,\"x1\":12,\"y0\":1,\"y1\":2},{\"layer\":\"below\",\"line\":{\"color\":\"#c8ddc0\",\"width\":2},\"type\":\"line\",\"x0\":13,\"x1\":13,\"y0\":1,\"y1\":2},{\"layer\":\"below\",\"line\":{\"color\":\"#c8ddc0\",\"width\":2},\"type\":\"line\",\"x0\":14,\"x1\":14,\"y0\":1,\"y1\":2},{\"layer\":\"below\",\"line\":{\"color\":\"#c8ddc0\",\"width\":2},\"type\":\"line\",\"x0\":15,\"x1\":15,\"y0\":1,\"y1\":2},{\"layer\":\"below\",\"line\":{\"color\":\"#c8ddc0\",\"width\":2},\"type\":\"line\",\"x0\":16,\"x1\":16,\"y0\":1,\"y1\":2},{\"layer\":\"below\",\"line\":{\"color\":\"#c8ddc0\",\"width\":2},\"type\":\"line\",\"x0\":17,\"x1\":17,\"y0\":1,\"y1\":2},{\"layer\":\"below\",\"line\":{\"color\":\"#c8ddc0\",\"width\":2},\"type\":\"line\",\"x0\":18,\"x1\":18,\"y0\":1,\"y1\":2},{\"layer\":\"below\",\"line\":{\"color\":\"#c8ddc0\",\"width\":2},\"type\":\"line\",\"x0\":19,\"x1\":19,\"y0\":1,\"y1\":2},{\"layer\":\"below\",\"line\":{\"color\":\"#c8ddc0\",\"width\":2},\"type\":\"line\",\"x0\":20,\"x1\":20,\"y0\":1,\"y1\":2},{\"layer\":\"below\",\"line\":{\"color\":\"#c8ddc0\",\"width\":2},\"type\":\"line\",\"x0\":21,\"x1\":21,\"y0\":1,\"y1\":2},{\"layer\":\"below\",\"line\":{\"color\":\"#c8ddc0\",\"width\":2},\"type\":\"line\",\"x0\":22,\"x1\":22,\"y0\":1,\"y1\":2},{\"layer\":\"below\",\"line\":{\"color\":\"#c8ddc0\",\"width\":2},\"type\":\"line\",\"x0\":23,\"x1\":23,\"y0\":1,\"y1\":2},{\"layer\":\"below\",\"line\":{\"color\":\"#c8ddc0\",\"width\":2},\"type\":\"line\",\"x0\":24,\"x1\":24,\"y0\":1,\"y1\":2},{\"layer\":\"below\",\"line\":{\"color\":\"#c8ddc0\",\"width\":2},\"type\":\"line\",\"x0\":25,\"x1\":25,\"y0\":1,\"y1\":2},{\"layer\":\"below\",\"line\":{\"color\":\"#c8ddc0\",\"width\":2},\"type\":\"line\",\"x0\":26,\"x1\":26,\"y0\":1,\"y1\":2},{\"layer\":\"below\",\"line\":{\"color\":\"#c8ddc0\",\"width\":2},\"type\":\"line\",\"x0\":27,\"x1\":27,\"y0\":1,\"y1\":2},{\"layer\":\"below\",\"line\":{\"color\":\"#c8ddc0\",\"width\":2},\"type\":\"line\",\"x0\":28,\"x1\":28,\"y0\":1,\"y1\":2},{\"layer\":\"below\",\"line\":{\"color\":\"#c8ddc0\",\"width\":2},\"type\":\"line\",\"x0\":29,\"x1\":29,\"y0\":1,\"y1\":2},{\"layer\":\"below\",\"line\":{\"color\":\"#c8ddc0\",\"width\":2},\"type\":\"line\",\"x0\":30,\"x1\":30,\"y0\":1,\"y1\":2},{\"layer\":\"below\",\"line\":{\"color\":\"#c8ddc0\",\"width\":2},\"type\":\"line\",\"x0\":31,\"x1\":31,\"y0\":1,\"y1\":2},{\"layer\":\"below\",\"line\":{\"color\":\"#c8ddc0\",\"width\":2},\"type\":\"line\",\"x0\":32,\"x1\":32,\"y0\":1,\"y1\":2},{\"layer\":\"below\",\"line\":{\"color\":\"#c8ddc0\",\"width\":2},\"type\":\"line\",\"x0\":33,\"x1\":33,\"y0\":1,\"y1\":2},{\"layer\":\"below\",\"line\":{\"color\":\"#c8ddc0\",\"width\":2},\"type\":\"line\",\"x0\":34,\"x1\":34,\"y0\":1,\"y1\":2},{\"layer\":\"below\",\"line\":{\"color\":\"#c8ddc0\",\"width\":2},\"type\":\"line\",\"x0\":35,\"x1\":35,\"y0\":1,\"y1\":2},{\"layer\":\"below\",\"line\":{\"color\":\"#c8ddc0\",\"width\":2},\"type\":\"line\",\"x0\":36,\"x1\":36,\"y0\":1,\"y1\":2},{\"layer\":\"below\",\"line\":{\"color\":\"#c8ddc0\",\"width\":2},\"type\":\"line\",\"x0\":37,\"x1\":37,\"y0\":1,\"y1\":2},{\"layer\":\"below\",\"line\":{\"color\":\"#c8ddc0\",\"width\":2},\"type\":\"line\",\"x0\":38,\"x1\":38,\"y0\":1,\"y1\":2},{\"layer\":\"below\",\"line\":{\"color\":\"#c8ddc0\",\"width\":2},\"type\":\"line\",\"x0\":39,\"x1\":39,\"y0\":1,\"y1\":2},{\"layer\":\"below\",\"line\":{\"color\":\"#c8ddc0\",\"width\":2},\"type\":\"line\",\"x0\":40,\"x1\":40,\"y0\":1,\"y1\":2},{\"layer\":\"below\",\"line\":{\"color\":\"#c8ddc0\",\"width\":2},\"type\":\"line\",\"x0\":41,\"x1\":41,\"y0\":1,\"y1\":2},{\"layer\":\"below\",\"line\":{\"color\":\"#c8ddc0\",\"width\":2},\"type\":\"line\",\"x0\":42,\"x1\":42,\"y0\":1,\"y1\":2},{\"layer\":\"below\",\"line\":{\"color\":\"#c8ddc0\",\"width\":2},\"type\":\"line\",\"x0\":43,\"x1\":43,\"y0\":1,\"y1\":2},{\"layer\":\"below\",\"line\":{\"color\":\"#c8ddc0\",\"width\":2},\"type\":\"line\",\"x0\":44,\"x1\":44,\"y0\":1,\"y1\":2},{\"layer\":\"below\",\"line\":{\"color\":\"#c8ddc0\",\"width\":2},\"type\":\"line\",\"x0\":45,\"x1\":45,\"y0\":1,\"y1\":2},{\"layer\":\"below\",\"line\":{\"color\":\"#c8ddc0\",\"width\":2},\"type\":\"line\",\"x0\":46,\"x1\":46,\"y0\":1,\"y1\":2},{\"layer\":\"below\",\"line\":{\"color\":\"#c8ddc0\",\"width\":2},\"type\":\"line\",\"x0\":47,\"x1\":47,\"y0\":1,\"y1\":2},{\"layer\":\"below\",\"line\":{\"color\":\"#c8ddc0\",\"width\":2},\"type\":\"line\",\"x0\":48,\"x1\":48,\"y0\":1,\"y1\":2},{\"layer\":\"below\",\"line\":{\"color\":\"#c8ddc0\",\"width\":2},\"type\":\"line\",\"x0\":49,\"x1\":49,\"y0\":1,\"y1\":2},{\"layer\":\"below\",\"line\":{\"color\":\"#c8ddc0\",\"width\":2},\"type\":\"line\",\"x0\":50,\"x1\":50,\"y0\":1,\"y1\":2},{\"layer\":\"below\",\"line\":{\"color\":\"#c8ddc0\",\"width\":2},\"type\":\"line\",\"x0\":51,\"x1\":51,\"y0\":1,\"y1\":2},{\"layer\":\"below\",\"line\":{\"color\":\"#c8ddc0\",\"width\":2},\"type\":\"line\",\"x0\":52,\"x1\":52,\"y0\":1,\"y1\":2},{\"layer\":\"below\",\"line\":{\"color\":\"#c8ddc0\",\"width\":2},\"type\":\"line\",\"x0\":53,\"x1\":53,\"y0\":1,\"y1\":2},{\"layer\":\"below\",\"line\":{\"color\":\"#c8ddc0\",\"width\":2},\"type\":\"line\",\"x0\":54,\"x1\":54,\"y0\":1,\"y1\":2},{\"layer\":\"below\",\"line\":{\"color\":\"#c8ddc0\",\"width\":2},\"type\":\"line\",\"x0\":55,\"x1\":55,\"y0\":1,\"y1\":2},{\"layer\":\"below\",\"line\":{\"color\":\"#c8ddc0\",\"width\":2},\"type\":\"line\",\"x0\":56,\"x1\":56,\"y0\":1,\"y1\":2},{\"layer\":\"below\",\"line\":{\"color\":\"#c8ddc0\",\"width\":2},\"type\":\"line\",\"x0\":57,\"x1\":57,\"y0\":1,\"y1\":2},{\"layer\":\"below\",\"line\":{\"color\":\"#c8ddc0\",\"width\":2},\"type\":\"line\",\"x0\":58,\"x1\":58,\"y0\":1,\"y1\":2},{\"layer\":\"below\",\"line\":{\"color\":\"#c8ddc0\",\"width\":2},\"type\":\"line\",\"x0\":59,\"x1\":59,\"y0\":1,\"y1\":2},{\"layer\":\"below\",\"line\":{\"color\":\"#c8ddc0\",\"width\":2},\"type\":\"line\",\"x0\":60,\"x1\":60,\"y0\":1,\"y1\":2},{\"layer\":\"below\",\"line\":{\"color\":\"#c8ddc0\",\"width\":2},\"type\":\"line\",\"x0\":61,\"x1\":61,\"y0\":1,\"y1\":2},{\"layer\":\"below\",\"line\":{\"color\":\"#c8ddc0\",\"width\":2},\"type\":\"line\",\"x0\":62,\"x1\":62,\"y0\":1,\"y1\":2},{\"layer\":\"below\",\"line\":{\"color\":\"#c8ddc0\",\"width\":2},\"type\":\"line\",\"x0\":63,\"x1\":63,\"y0\":1,\"y1\":2},{\"layer\":\"below\",\"line\":{\"color\":\"#c8ddc0\",\"width\":2},\"type\":\"line\",\"x0\":64,\"x1\":64,\"y0\":1,\"y1\":2},{\"layer\":\"below\",\"line\":{\"color\":\"#c8ddc0\",\"width\":2},\"type\":\"line\",\"x0\":65,\"x1\":65,\"y0\":1,\"y1\":2},{\"layer\":\"below\",\"line\":{\"color\":\"#c8ddc0\",\"width\":2},\"type\":\"line\",\"x0\":66,\"x1\":66,\"y0\":1,\"y1\":2},{\"layer\":\"below\",\"line\":{\"color\":\"#c8ddc0\",\"width\":2},\"type\":\"line\",\"x0\":67,\"x1\":67,\"y0\":1,\"y1\":2},{\"layer\":\"below\",\"line\":{\"color\":\"#c8ddc0\",\"width\":2},\"type\":\"line\",\"x0\":68,\"x1\":68,\"y0\":1,\"y1\":2},{\"layer\":\"below\",\"line\":{\"color\":\"#c8ddc0\",\"width\":2},\"type\":\"line\",\"x0\":69,\"x1\":69,\"y0\":1,\"y1\":2},{\"layer\":\"below\",\"line\":{\"color\":\"#c8ddc0\",\"width\":2},\"type\":\"line\",\"x0\":70,\"x1\":70,\"y0\":1,\"y1\":2},{\"layer\":\"below\",\"line\":{\"color\":\"#c8ddc0\",\"width\":2},\"type\":\"line\",\"x0\":71,\"x1\":71,\"y0\":1,\"y1\":2},{\"layer\":\"below\",\"line\":{\"color\":\"#c8ddc0\",\"width\":2},\"type\":\"line\",\"x0\":72,\"x1\":72,\"y0\":1,\"y1\":2},{\"layer\":\"below\",\"line\":{\"color\":\"#c8ddc0\",\"width\":2},\"type\":\"line\",\"x0\":73,\"x1\":73,\"y0\":1,\"y1\":2},{\"layer\":\"below\",\"line\":{\"color\":\"#c8ddc0\",\"width\":2},\"type\":\"line\",\"x0\":74,\"x1\":74,\"y0\":1,\"y1\":2},{\"layer\":\"below\",\"line\":{\"color\":\"#c8ddc0\",\"width\":2},\"type\":\"line\",\"x0\":75,\"x1\":75,\"y0\":1,\"y1\":2},{\"layer\":\"below\",\"line\":{\"color\":\"#c8ddc0\",\"width\":2},\"type\":\"line\",\"x0\":76,\"x1\":76,\"y0\":1,\"y1\":2},{\"layer\":\"below\",\"line\":{\"color\":\"#c8ddc0\",\"width\":2},\"type\":\"line\",\"x0\":77,\"x1\":77,\"y0\":1,\"y1\":2},{\"layer\":\"below\",\"line\":{\"color\":\"#c8ddc0\",\"width\":2},\"type\":\"line\",\"x0\":78,\"x1\":78,\"y0\":1,\"y1\":2},{\"layer\":\"below\",\"line\":{\"color\":\"#c8ddc0\",\"width\":2},\"type\":\"line\",\"x0\":79,\"x1\":79,\"y0\":1,\"y1\":2},{\"layer\":\"below\",\"line\":{\"color\":\"#c8ddc0\",\"width\":2},\"type\":\"line\",\"x0\":80,\"x1\":80,\"y0\":1,\"y1\":2},{\"layer\":\"below\",\"line\":{\"color\":\"#c8ddc0\",\"width\":2},\"type\":\"line\",\"x0\":81,\"x1\":81,\"y0\":1,\"y1\":2},{\"layer\":\"below\",\"line\":{\"color\":\"#c8ddc0\",\"width\":2},\"type\":\"line\",\"x0\":82,\"x1\":82,\"y0\":1,\"y1\":2},{\"layer\":\"below\",\"line\":{\"color\":\"#c8ddc0\",\"width\":2},\"type\":\"line\",\"x0\":83,\"x1\":83,\"y0\":1,\"y1\":2},{\"layer\":\"below\",\"line\":{\"color\":\"#c8ddc0\",\"width\":2},\"type\":\"line\",\"x0\":84,\"x1\":84,\"y0\":1,\"y1\":2},{\"layer\":\"below\",\"line\":{\"color\":\"#c8ddc0\",\"width\":2},\"type\":\"line\",\"x0\":85,\"x1\":85,\"y0\":1,\"y1\":2},{\"layer\":\"below\",\"line\":{\"color\":\"#c8ddc0\",\"width\":2},\"type\":\"line\",\"x0\":86,\"x1\":86,\"y0\":1,\"y1\":2},{\"layer\":\"below\",\"line\":{\"color\":\"#c8ddc0\",\"width\":2},\"type\":\"line\",\"x0\":87,\"x1\":87,\"y0\":1,\"y1\":2},{\"layer\":\"below\",\"line\":{\"color\":\"#c8ddc0\",\"width\":2},\"type\":\"line\",\"x0\":88,\"x1\":88,\"y0\":1,\"y1\":2},{\"layer\":\"below\",\"line\":{\"color\":\"#c8ddc0\",\"width\":2},\"type\":\"line\",\"x0\":89,\"x1\":89,\"y0\":1,\"y1\":2},{\"layer\":\"below\",\"line\":{\"color\":\"#c8ddc0\",\"width\":2},\"type\":\"line\",\"x0\":90,\"x1\":90,\"y0\":1,\"y1\":2},{\"layer\":\"below\",\"line\":{\"color\":\"#c8ddc0\",\"width\":2},\"type\":\"line\",\"x0\":91,\"x1\":91,\"y0\":1,\"y1\":2},{\"layer\":\"below\",\"line\":{\"color\":\"#c8ddc0\",\"width\":2},\"type\":\"line\",\"x0\":92,\"x1\":92,\"y0\":1,\"y1\":2},{\"layer\":\"below\",\"line\":{\"color\":\"#c8ddc0\",\"width\":2},\"type\":\"line\",\"x0\":93,\"x1\":93,\"y0\":1,\"y1\":2},{\"layer\":\"below\",\"line\":{\"color\":\"#c8ddc0\",\"width\":2},\"type\":\"line\",\"x0\":94,\"x1\":94,\"y0\":1,\"y1\":2},{\"layer\":\"below\",\"line\":{\"color\":\"#c8ddc0\",\"width\":2},\"type\":\"line\",\"x0\":95,\"x1\":95,\"y0\":1,\"y1\":2},{\"layer\":\"below\",\"line\":{\"color\":\"#c8ddc0\",\"width\":2},\"type\":\"line\",\"x0\":96,\"x1\":96,\"y0\":1,\"y1\":2},{\"layer\":\"below\",\"line\":{\"color\":\"#c8ddc0\",\"width\":2},\"type\":\"line\",\"x0\":97,\"x1\":97,\"y0\":1,\"y1\":2},{\"layer\":\"below\",\"line\":{\"color\":\"#c8ddc0\",\"width\":2},\"type\":\"line\",\"x0\":98,\"x1\":98,\"y0\":1,\"y1\":2},{\"layer\":\"below\",\"line\":{\"color\":\"#c8ddc0\",\"width\":2},\"type\":\"line\",\"x0\":99,\"x1\":99,\"y0\":1,\"y1\":2},{\"layer\":\"below\",\"line\":{\"color\":\"#c8ddc0\",\"width\":2},\"type\":\"line\",\"x0\":0,\"x1\":0,\"y0\":51.3,\"y1\":52.3},{\"layer\":\"below\",\"line\":{\"color\":\"#c8ddc0\",\"width\":2},\"type\":\"line\",\"x0\":1,\"x1\":1,\"y0\":51.3,\"y1\":52.3},{\"layer\":\"below\",\"line\":{\"color\":\"#c8ddc0\",\"width\":2},\"type\":\"line\",\"x0\":2,\"x1\":2,\"y0\":51.3,\"y1\":52.3},{\"layer\":\"below\",\"line\":{\"color\":\"#c8ddc0\",\"width\":2},\"type\":\"line\",\"x0\":3,\"x1\":3,\"y0\":51.3,\"y1\":52.3},{\"layer\":\"below\",\"line\":{\"color\":\"#c8ddc0\",\"width\":2},\"type\":\"line\",\"x0\":4,\"x1\":4,\"y0\":51.3,\"y1\":52.3},{\"layer\":\"below\",\"line\":{\"color\":\"#c8ddc0\",\"width\":2},\"type\":\"line\",\"x0\":5,\"x1\":5,\"y0\":51.3,\"y1\":52.3},{\"layer\":\"below\",\"line\":{\"color\":\"#c8ddc0\",\"width\":2},\"type\":\"line\",\"x0\":6,\"x1\":6,\"y0\":51.3,\"y1\":52.3},{\"layer\":\"below\",\"line\":{\"color\":\"#c8ddc0\",\"width\":2},\"type\":\"line\",\"x0\":7,\"x1\":7,\"y0\":51.3,\"y1\":52.3},{\"layer\":\"below\",\"line\":{\"color\":\"#c8ddc0\",\"width\":2},\"type\":\"line\",\"x0\":8,\"x1\":8,\"y0\":51.3,\"y1\":52.3},{\"layer\":\"below\",\"line\":{\"color\":\"#c8ddc0\",\"width\":2},\"type\":\"line\",\"x0\":9,\"x1\":9,\"y0\":51.3,\"y1\":52.3},{\"layer\":\"below\",\"line\":{\"color\":\"#c8ddc0\",\"width\":2},\"type\":\"line\",\"x0\":10,\"x1\":10,\"y0\":51.3,\"y1\":52.3},{\"layer\":\"below\",\"line\":{\"color\":\"#c8ddc0\",\"width\":2},\"type\":\"line\",\"x0\":11,\"x1\":11,\"y0\":51.3,\"y1\":52.3},{\"layer\":\"below\",\"line\":{\"color\":\"#c8ddc0\",\"width\":2},\"type\":\"line\",\"x0\":12,\"x1\":12,\"y0\":51.3,\"y1\":52.3},{\"layer\":\"below\",\"line\":{\"color\":\"#c8ddc0\",\"width\":2},\"type\":\"line\",\"x0\":13,\"x1\":13,\"y0\":51.3,\"y1\":52.3},{\"layer\":\"below\",\"line\":{\"color\":\"#c8ddc0\",\"width\":2},\"type\":\"line\",\"x0\":14,\"x1\":14,\"y0\":51.3,\"y1\":52.3},{\"layer\":\"below\",\"line\":{\"color\":\"#c8ddc0\",\"width\":2},\"type\":\"line\",\"x0\":15,\"x1\":15,\"y0\":51.3,\"y1\":52.3},{\"layer\":\"below\",\"line\":{\"color\":\"#c8ddc0\",\"width\":2},\"type\":\"line\",\"x0\":16,\"x1\":16,\"y0\":51.3,\"y1\":52.3},{\"layer\":\"below\",\"line\":{\"color\":\"#c8ddc0\",\"width\":2},\"type\":\"line\",\"x0\":17,\"x1\":17,\"y0\":51.3,\"y1\":52.3},{\"layer\":\"below\",\"line\":{\"color\":\"#c8ddc0\",\"width\":2},\"type\":\"line\",\"x0\":18,\"x1\":18,\"y0\":51.3,\"y1\":52.3},{\"layer\":\"below\",\"line\":{\"color\":\"#c8ddc0\",\"width\":2},\"type\":\"line\",\"x0\":19,\"x1\":19,\"y0\":51.3,\"y1\":52.3},{\"layer\":\"below\",\"line\":{\"color\":\"#c8ddc0\",\"width\":2},\"type\":\"line\",\"x0\":20,\"x1\":20,\"y0\":51.3,\"y1\":52.3},{\"layer\":\"below\",\"line\":{\"color\":\"#c8ddc0\",\"width\":2},\"type\":\"line\",\"x0\":21,\"x1\":21,\"y0\":51.3,\"y1\":52.3},{\"layer\":\"below\",\"line\":{\"color\":\"#c8ddc0\",\"width\":2},\"type\":\"line\",\"x0\":22,\"x1\":22,\"y0\":51.3,\"y1\":52.3},{\"layer\":\"below\",\"line\":{\"color\":\"#c8ddc0\",\"width\":2},\"type\":\"line\",\"x0\":23,\"x1\":23,\"y0\":51.3,\"y1\":52.3},{\"layer\":\"below\",\"line\":{\"color\":\"#c8ddc0\",\"width\":2},\"type\":\"line\",\"x0\":24,\"x1\":24,\"y0\":51.3,\"y1\":52.3},{\"layer\":\"below\",\"line\":{\"color\":\"#c8ddc0\",\"width\":2},\"type\":\"line\",\"x0\":25,\"x1\":25,\"y0\":51.3,\"y1\":52.3},{\"layer\":\"below\",\"line\":{\"color\":\"#c8ddc0\",\"width\":2},\"type\":\"line\",\"x0\":26,\"x1\":26,\"y0\":51.3,\"y1\":52.3},{\"layer\":\"below\",\"line\":{\"color\":\"#c8ddc0\",\"width\":2},\"type\":\"line\",\"x0\":27,\"x1\":27,\"y0\":51.3,\"y1\":52.3},{\"layer\":\"below\",\"line\":{\"color\":\"#c8ddc0\",\"width\":2},\"type\":\"line\",\"x0\":28,\"x1\":28,\"y0\":51.3,\"y1\":52.3},{\"layer\":\"below\",\"line\":{\"color\":\"#c8ddc0\",\"width\":2},\"type\":\"line\",\"x0\":29,\"x1\":29,\"y0\":51.3,\"y1\":52.3},{\"layer\":\"below\",\"line\":{\"color\":\"#c8ddc0\",\"width\":2},\"type\":\"line\",\"x0\":30,\"x1\":30,\"y0\":51.3,\"y1\":52.3},{\"layer\":\"below\",\"line\":{\"color\":\"#c8ddc0\",\"width\":2},\"type\":\"line\",\"x0\":31,\"x1\":31,\"y0\":51.3,\"y1\":52.3},{\"layer\":\"below\",\"line\":{\"color\":\"#c8ddc0\",\"width\":2},\"type\":\"line\",\"x0\":32,\"x1\":32,\"y0\":51.3,\"y1\":52.3},{\"layer\":\"below\",\"line\":{\"color\":\"#c8ddc0\",\"width\":2},\"type\":\"line\",\"x0\":33,\"x1\":33,\"y0\":51.3,\"y1\":52.3},{\"layer\":\"below\",\"line\":{\"color\":\"#c8ddc0\",\"width\":2},\"type\":\"line\",\"x0\":34,\"x1\":34,\"y0\":51.3,\"y1\":52.3},{\"layer\":\"below\",\"line\":{\"color\":\"#c8ddc0\",\"width\":2},\"type\":\"line\",\"x0\":35,\"x1\":35,\"y0\":51.3,\"y1\":52.3},{\"layer\":\"below\",\"line\":{\"color\":\"#c8ddc0\",\"width\":2},\"type\":\"line\",\"x0\":36,\"x1\":36,\"y0\":51.3,\"y1\":52.3},{\"layer\":\"below\",\"line\":{\"color\":\"#c8ddc0\",\"width\":2},\"type\":\"line\",\"x0\":37,\"x1\":37,\"y0\":51.3,\"y1\":52.3},{\"layer\":\"below\",\"line\":{\"color\":\"#c8ddc0\",\"width\":2},\"type\":\"line\",\"x0\":38,\"x1\":38,\"y0\":51.3,\"y1\":52.3},{\"layer\":\"below\",\"line\":{\"color\":\"#c8ddc0\",\"width\":2},\"type\":\"line\",\"x0\":39,\"x1\":39,\"y0\":51.3,\"y1\":52.3},{\"layer\":\"below\",\"line\":{\"color\":\"#c8ddc0\",\"width\":2},\"type\":\"line\",\"x0\":40,\"x1\":40,\"y0\":51.3,\"y1\":52.3},{\"layer\":\"below\",\"line\":{\"color\":\"#c8ddc0\",\"width\":2},\"type\":\"line\",\"x0\":41,\"x1\":41,\"y0\":51.3,\"y1\":52.3},{\"layer\":\"below\",\"line\":{\"color\":\"#c8ddc0\",\"width\":2},\"type\":\"line\",\"x0\":42,\"x1\":42,\"y0\":51.3,\"y1\":52.3},{\"layer\":\"below\",\"line\":{\"color\":\"#c8ddc0\",\"width\":2},\"type\":\"line\",\"x0\":43,\"x1\":43,\"y0\":51.3,\"y1\":52.3},{\"layer\":\"below\",\"line\":{\"color\":\"#c8ddc0\",\"width\":2},\"type\":\"line\",\"x0\":44,\"x1\":44,\"y0\":51.3,\"y1\":52.3},{\"layer\":\"below\",\"line\":{\"color\":\"#c8ddc0\",\"width\":2},\"type\":\"line\",\"x0\":45,\"x1\":45,\"y0\":51.3,\"y1\":52.3},{\"layer\":\"below\",\"line\":{\"color\":\"#c8ddc0\",\"width\":2},\"type\":\"line\",\"x0\":46,\"x1\":46,\"y0\":51.3,\"y1\":52.3},{\"layer\":\"below\",\"line\":{\"color\":\"#c8ddc0\",\"width\":2},\"type\":\"line\",\"x0\":47,\"x1\":47,\"y0\":51.3,\"y1\":52.3},{\"layer\":\"below\",\"line\":{\"color\":\"#c8ddc0\",\"width\":2},\"type\":\"line\",\"x0\":48,\"x1\":48,\"y0\":51.3,\"y1\":52.3},{\"layer\":\"below\",\"line\":{\"color\":\"#c8ddc0\",\"width\":2},\"type\":\"line\",\"x0\":49,\"x1\":49,\"y0\":51.3,\"y1\":52.3},{\"layer\":\"below\",\"line\":{\"color\":\"#c8ddc0\",\"width\":2},\"type\":\"line\",\"x0\":50,\"x1\":50,\"y0\":51.3,\"y1\":52.3},{\"layer\":\"below\",\"line\":{\"color\":\"#c8ddc0\",\"width\":2},\"type\":\"line\",\"x0\":51,\"x1\":51,\"y0\":51.3,\"y1\":52.3},{\"layer\":\"below\",\"line\":{\"color\":\"#c8ddc0\",\"width\":2},\"type\":\"line\",\"x0\":52,\"x1\":52,\"y0\":51.3,\"y1\":52.3},{\"layer\":\"below\",\"line\":{\"color\":\"#c8ddc0\",\"width\":2},\"type\":\"line\",\"x0\":53,\"x1\":53,\"y0\":51.3,\"y1\":52.3},{\"layer\":\"below\",\"line\":{\"color\":\"#c8ddc0\",\"width\":2},\"type\":\"line\",\"x0\":54,\"x1\":54,\"y0\":51.3,\"y1\":52.3},{\"layer\":\"below\",\"line\":{\"color\":\"#c8ddc0\",\"width\":2},\"type\":\"line\",\"x0\":55,\"x1\":55,\"y0\":51.3,\"y1\":52.3},{\"layer\":\"below\",\"line\":{\"color\":\"#c8ddc0\",\"width\":2},\"type\":\"line\",\"x0\":56,\"x1\":56,\"y0\":51.3,\"y1\":52.3},{\"layer\":\"below\",\"line\":{\"color\":\"#c8ddc0\",\"width\":2},\"type\":\"line\",\"x0\":57,\"x1\":57,\"y0\":51.3,\"y1\":52.3},{\"layer\":\"below\",\"line\":{\"color\":\"#c8ddc0\",\"width\":2},\"type\":\"line\",\"x0\":58,\"x1\":58,\"y0\":51.3,\"y1\":52.3},{\"layer\":\"below\",\"line\":{\"color\":\"#c8ddc0\",\"width\":2},\"type\":\"line\",\"x0\":59,\"x1\":59,\"y0\":51.3,\"y1\":52.3},{\"layer\":\"below\",\"line\":{\"color\":\"#c8ddc0\",\"width\":2},\"type\":\"line\",\"x0\":60,\"x1\":60,\"y0\":51.3,\"y1\":52.3},{\"layer\":\"below\",\"line\":{\"color\":\"#c8ddc0\",\"width\":2},\"type\":\"line\",\"x0\":61,\"x1\":61,\"y0\":51.3,\"y1\":52.3},{\"layer\":\"below\",\"line\":{\"color\":\"#c8ddc0\",\"width\":2},\"type\":\"line\",\"x0\":62,\"x1\":62,\"y0\":51.3,\"y1\":52.3},{\"layer\":\"below\",\"line\":{\"color\":\"#c8ddc0\",\"width\":2},\"type\":\"line\",\"x0\":63,\"x1\":63,\"y0\":51.3,\"y1\":52.3},{\"layer\":\"below\",\"line\":{\"color\":\"#c8ddc0\",\"width\":2},\"type\":\"line\",\"x0\":64,\"x1\":64,\"y0\":51.3,\"y1\":52.3},{\"layer\":\"below\",\"line\":{\"color\":\"#c8ddc0\",\"width\":2},\"type\":\"line\",\"x0\":65,\"x1\":65,\"y0\":51.3,\"y1\":52.3},{\"layer\":\"below\",\"line\":{\"color\":\"#c8ddc0\",\"width\":2},\"type\":\"line\",\"x0\":66,\"x1\":66,\"y0\":51.3,\"y1\":52.3},{\"layer\":\"below\",\"line\":{\"color\":\"#c8ddc0\",\"width\":2},\"type\":\"line\",\"x0\":67,\"x1\":67,\"y0\":51.3,\"y1\":52.3},{\"layer\":\"below\",\"line\":{\"color\":\"#c8ddc0\",\"width\":2},\"type\":\"line\",\"x0\":68,\"x1\":68,\"y0\":51.3,\"y1\":52.3},{\"layer\":\"below\",\"line\":{\"color\":\"#c8ddc0\",\"width\":2},\"type\":\"line\",\"x0\":69,\"x1\":69,\"y0\":51.3,\"y1\":52.3},{\"layer\":\"below\",\"line\":{\"color\":\"#c8ddc0\",\"width\":2},\"type\":\"line\",\"x0\":70,\"x1\":70,\"y0\":51.3,\"y1\":52.3},{\"layer\":\"below\",\"line\":{\"color\":\"#c8ddc0\",\"width\":2},\"type\":\"line\",\"x0\":71,\"x1\":71,\"y0\":51.3,\"y1\":52.3},{\"layer\":\"below\",\"line\":{\"color\":\"#c8ddc0\",\"width\":2},\"type\":\"line\",\"x0\":72,\"x1\":72,\"y0\":51.3,\"y1\":52.3},{\"layer\":\"below\",\"line\":{\"color\":\"#c8ddc0\",\"width\":2},\"type\":\"line\",\"x0\":73,\"x1\":73,\"y0\":51.3,\"y1\":52.3},{\"layer\":\"below\",\"line\":{\"color\":\"#c8ddc0\",\"width\":2},\"type\":\"line\",\"x0\":74,\"x1\":74,\"y0\":51.3,\"y1\":52.3},{\"layer\":\"below\",\"line\":{\"color\":\"#c8ddc0\",\"width\":2},\"type\":\"line\",\"x0\":75,\"x1\":75,\"y0\":51.3,\"y1\":52.3},{\"layer\":\"below\",\"line\":{\"color\":\"#c8ddc0\",\"width\":2},\"type\":\"line\",\"x0\":76,\"x1\":76,\"y0\":51.3,\"y1\":52.3},{\"layer\":\"below\",\"line\":{\"color\":\"#c8ddc0\",\"width\":2},\"type\":\"line\",\"x0\":77,\"x1\":77,\"y0\":51.3,\"y1\":52.3},{\"layer\":\"below\",\"line\":{\"color\":\"#c8ddc0\",\"width\":2},\"type\":\"line\",\"x0\":78,\"x1\":78,\"y0\":51.3,\"y1\":52.3},{\"layer\":\"below\",\"line\":{\"color\":\"#c8ddc0\",\"width\":2},\"type\":\"line\",\"x0\":79,\"x1\":79,\"y0\":51.3,\"y1\":52.3},{\"layer\":\"below\",\"line\":{\"color\":\"#c8ddc0\",\"width\":2},\"type\":\"line\",\"x0\":80,\"x1\":80,\"y0\":51.3,\"y1\":52.3},{\"layer\":\"below\",\"line\":{\"color\":\"#c8ddc0\",\"width\":2},\"type\":\"line\",\"x0\":81,\"x1\":81,\"y0\":51.3,\"y1\":52.3},{\"layer\":\"below\",\"line\":{\"color\":\"#c8ddc0\",\"width\":2},\"type\":\"line\",\"x0\":82,\"x1\":82,\"y0\":51.3,\"y1\":52.3},{\"layer\":\"below\",\"line\":{\"color\":\"#c8ddc0\",\"width\":2},\"type\":\"line\",\"x0\":83,\"x1\":83,\"y0\":51.3,\"y1\":52.3},{\"layer\":\"below\",\"line\":{\"color\":\"#c8ddc0\",\"width\":2},\"type\":\"line\",\"x0\":84,\"x1\":84,\"y0\":51.3,\"y1\":52.3},{\"layer\":\"below\",\"line\":{\"color\":\"#c8ddc0\",\"width\":2},\"type\":\"line\",\"x0\":85,\"x1\":85,\"y0\":51.3,\"y1\":52.3},{\"layer\":\"below\",\"line\":{\"color\":\"#c8ddc0\",\"width\":2},\"type\":\"line\",\"x0\":86,\"x1\":86,\"y0\":51.3,\"y1\":52.3},{\"layer\":\"below\",\"line\":{\"color\":\"#c8ddc0\",\"width\":2},\"type\":\"line\",\"x0\":87,\"x1\":87,\"y0\":51.3,\"y1\":52.3},{\"layer\":\"below\",\"line\":{\"color\":\"#c8ddc0\",\"width\":2},\"type\":\"line\",\"x0\":88,\"x1\":88,\"y0\":51.3,\"y1\":52.3},{\"layer\":\"below\",\"line\":{\"color\":\"#c8ddc0\",\"width\":2},\"type\":\"line\",\"x0\":89,\"x1\":89,\"y0\":51.3,\"y1\":52.3},{\"layer\":\"below\",\"line\":{\"color\":\"#c8ddc0\",\"width\":2},\"type\":\"line\",\"x0\":90,\"x1\":90,\"y0\":51.3,\"y1\":52.3},{\"layer\":\"below\",\"line\":{\"color\":\"#c8ddc0\",\"width\":2},\"type\":\"line\",\"x0\":91,\"x1\":91,\"y0\":51.3,\"y1\":52.3},{\"layer\":\"below\",\"line\":{\"color\":\"#c8ddc0\",\"width\":2},\"type\":\"line\",\"x0\":92,\"x1\":92,\"y0\":51.3,\"y1\":52.3},{\"layer\":\"below\",\"line\":{\"color\":\"#c8ddc0\",\"width\":2},\"type\":\"line\",\"x0\":93,\"x1\":93,\"y0\":51.3,\"y1\":52.3},{\"layer\":\"below\",\"line\":{\"color\":\"#c8ddc0\",\"width\":2},\"type\":\"line\",\"x0\":94,\"x1\":94,\"y0\":51.3,\"y1\":52.3},{\"layer\":\"below\",\"line\":{\"color\":\"#c8ddc0\",\"width\":2},\"type\":\"line\",\"x0\":95,\"x1\":95,\"y0\":51.3,\"y1\":52.3},{\"layer\":\"below\",\"line\":{\"color\":\"#c8ddc0\",\"width\":2},\"type\":\"line\",\"x0\":96,\"x1\":96,\"y0\":51.3,\"y1\":52.3},{\"layer\":\"below\",\"line\":{\"color\":\"#c8ddc0\",\"width\":2},\"type\":\"line\",\"x0\":97,\"x1\":97,\"y0\":51.3,\"y1\":52.3},{\"layer\":\"below\",\"line\":{\"color\":\"#c8ddc0\",\"width\":2},\"type\":\"line\",\"x0\":98,\"x1\":98,\"y0\":51.3,\"y1\":52.3},{\"layer\":\"below\",\"line\":{\"color\":\"#c8ddc0\",\"width\":2},\"type\":\"line\",\"x0\":99,\"x1\":99,\"y0\":51.3,\"y1\":52.3},{\"layer\":\"below\",\"line\":{\"color\":\"#c8ddc0\",\"width\":2},\"type\":\"line\",\"x0\":0,\"x1\":0,\"y0\":20.0,\"y1\":21},{\"layer\":\"below\",\"line\":{\"color\":\"#c8ddc0\",\"width\":2},\"type\":\"line\",\"x0\":1,\"x1\":1,\"y0\":20.0,\"y1\":21},{\"layer\":\"below\",\"line\":{\"color\":\"#c8ddc0\",\"width\":2},\"type\":\"line\",\"x0\":2,\"x1\":2,\"y0\":20.0,\"y1\":21},{\"layer\":\"below\",\"line\":{\"color\":\"#c8ddc0\",\"width\":2},\"type\":\"line\",\"x0\":3,\"x1\":3,\"y0\":20.0,\"y1\":21},{\"layer\":\"below\",\"line\":{\"color\":\"#c8ddc0\",\"width\":2},\"type\":\"line\",\"x0\":4,\"x1\":4,\"y0\":20.0,\"y1\":21},{\"layer\":\"below\",\"line\":{\"color\":\"#c8ddc0\",\"width\":2},\"type\":\"line\",\"x0\":5,\"x1\":5,\"y0\":20.0,\"y1\":21},{\"layer\":\"below\",\"line\":{\"color\":\"#c8ddc0\",\"width\":2},\"type\":\"line\",\"x0\":6,\"x1\":6,\"y0\":20.0,\"y1\":21},{\"layer\":\"below\",\"line\":{\"color\":\"#c8ddc0\",\"width\":2},\"type\":\"line\",\"x0\":7,\"x1\":7,\"y0\":20.0,\"y1\":21},{\"layer\":\"below\",\"line\":{\"color\":\"#c8ddc0\",\"width\":2},\"type\":\"line\",\"x0\":8,\"x1\":8,\"y0\":20.0,\"y1\":21},{\"layer\":\"below\",\"line\":{\"color\":\"#c8ddc0\",\"width\":2},\"type\":\"line\",\"x0\":9,\"x1\":9,\"y0\":20.0,\"y1\":21},{\"layer\":\"below\",\"line\":{\"color\":\"#c8ddc0\",\"width\":2},\"type\":\"line\",\"x0\":10,\"x1\":10,\"y0\":20.0,\"y1\":21},{\"layer\":\"below\",\"line\":{\"color\":\"#c8ddc0\",\"width\":2},\"type\":\"line\",\"x0\":11,\"x1\":11,\"y0\":20.0,\"y1\":21},{\"layer\":\"below\",\"line\":{\"color\":\"#c8ddc0\",\"width\":2},\"type\":\"line\",\"x0\":12,\"x1\":12,\"y0\":20.0,\"y1\":21},{\"layer\":\"below\",\"line\":{\"color\":\"#c8ddc0\",\"width\":2},\"type\":\"line\",\"x0\":13,\"x1\":13,\"y0\":20.0,\"y1\":21},{\"layer\":\"below\",\"line\":{\"color\":\"#c8ddc0\",\"width\":2},\"type\":\"line\",\"x0\":14,\"x1\":14,\"y0\":20.0,\"y1\":21},{\"layer\":\"below\",\"line\":{\"color\":\"#c8ddc0\",\"width\":2},\"type\":\"line\",\"x0\":15,\"x1\":15,\"y0\":20.0,\"y1\":21},{\"layer\":\"below\",\"line\":{\"color\":\"#c8ddc0\",\"width\":2},\"type\":\"line\",\"x0\":16,\"x1\":16,\"y0\":20.0,\"y1\":21},{\"layer\":\"below\",\"line\":{\"color\":\"#c8ddc0\",\"width\":2},\"type\":\"line\",\"x0\":17,\"x1\":17,\"y0\":20.0,\"y1\":21},{\"layer\":\"below\",\"line\":{\"color\":\"#c8ddc0\",\"width\":2},\"type\":\"line\",\"x0\":18,\"x1\":18,\"y0\":20.0,\"y1\":21},{\"layer\":\"below\",\"line\":{\"color\":\"#c8ddc0\",\"width\":2},\"type\":\"line\",\"x0\":19,\"x1\":19,\"y0\":20.0,\"y1\":21},{\"layer\":\"below\",\"line\":{\"color\":\"#c8ddc0\",\"width\":2},\"type\":\"line\",\"x0\":20,\"x1\":20,\"y0\":20.0,\"y1\":21},{\"layer\":\"below\",\"line\":{\"color\":\"#c8ddc0\",\"width\":2},\"type\":\"line\",\"x0\":21,\"x1\":21,\"y0\":20.0,\"y1\":21},{\"layer\":\"below\",\"line\":{\"color\":\"#c8ddc0\",\"width\":2},\"type\":\"line\",\"x0\":22,\"x1\":22,\"y0\":20.0,\"y1\":21},{\"layer\":\"below\",\"line\":{\"color\":\"#c8ddc0\",\"width\":2},\"type\":\"line\",\"x0\":23,\"x1\":23,\"y0\":20.0,\"y1\":21},{\"layer\":\"below\",\"line\":{\"color\":\"#c8ddc0\",\"width\":2},\"type\":\"line\",\"x0\":24,\"x1\":24,\"y0\":20.0,\"y1\":21},{\"layer\":\"below\",\"line\":{\"color\":\"#c8ddc0\",\"width\":2},\"type\":\"line\",\"x0\":25,\"x1\":25,\"y0\":20.0,\"y1\":21},{\"layer\":\"below\",\"line\":{\"color\":\"#c8ddc0\",\"width\":2},\"type\":\"line\",\"x0\":26,\"x1\":26,\"y0\":20.0,\"y1\":21},{\"layer\":\"below\",\"line\":{\"color\":\"#c8ddc0\",\"width\":2},\"type\":\"line\",\"x0\":27,\"x1\":27,\"y0\":20.0,\"y1\":21},{\"layer\":\"below\",\"line\":{\"color\":\"#c8ddc0\",\"width\":2},\"type\":\"line\",\"x0\":28,\"x1\":28,\"y0\":20.0,\"y1\":21},{\"layer\":\"below\",\"line\":{\"color\":\"#c8ddc0\",\"width\":2},\"type\":\"line\",\"x0\":29,\"x1\":29,\"y0\":20.0,\"y1\":21},{\"layer\":\"below\",\"line\":{\"color\":\"#c8ddc0\",\"width\":2},\"type\":\"line\",\"x0\":30,\"x1\":30,\"y0\":20.0,\"y1\":21},{\"layer\":\"below\",\"line\":{\"color\":\"#c8ddc0\",\"width\":2},\"type\":\"line\",\"x0\":31,\"x1\":31,\"y0\":20.0,\"y1\":21},{\"layer\":\"below\",\"line\":{\"color\":\"#c8ddc0\",\"width\":2},\"type\":\"line\",\"x0\":32,\"x1\":32,\"y0\":20.0,\"y1\":21},{\"layer\":\"below\",\"line\":{\"color\":\"#c8ddc0\",\"width\":2},\"type\":\"line\",\"x0\":33,\"x1\":33,\"y0\":20.0,\"y1\":21},{\"layer\":\"below\",\"line\":{\"color\":\"#c8ddc0\",\"width\":2},\"type\":\"line\",\"x0\":34,\"x1\":34,\"y0\":20.0,\"y1\":21},{\"layer\":\"below\",\"line\":{\"color\":\"#c8ddc0\",\"width\":2},\"type\":\"line\",\"x0\":35,\"x1\":35,\"y0\":20.0,\"y1\":21},{\"layer\":\"below\",\"line\":{\"color\":\"#c8ddc0\",\"width\":2},\"type\":\"line\",\"x0\":36,\"x1\":36,\"y0\":20.0,\"y1\":21},{\"layer\":\"below\",\"line\":{\"color\":\"#c8ddc0\",\"width\":2},\"type\":\"line\",\"x0\":37,\"x1\":37,\"y0\":20.0,\"y1\":21},{\"layer\":\"below\",\"line\":{\"color\":\"#c8ddc0\",\"width\":2},\"type\":\"line\",\"x0\":38,\"x1\":38,\"y0\":20.0,\"y1\":21},{\"layer\":\"below\",\"line\":{\"color\":\"#c8ddc0\",\"width\":2},\"type\":\"line\",\"x0\":39,\"x1\":39,\"y0\":20.0,\"y1\":21},{\"layer\":\"below\",\"line\":{\"color\":\"#c8ddc0\",\"width\":2},\"type\":\"line\",\"x0\":40,\"x1\":40,\"y0\":20.0,\"y1\":21},{\"layer\":\"below\",\"line\":{\"color\":\"#c8ddc0\",\"width\":2},\"type\":\"line\",\"x0\":41,\"x1\":41,\"y0\":20.0,\"y1\":21},{\"layer\":\"below\",\"line\":{\"color\":\"#c8ddc0\",\"width\":2},\"type\":\"line\",\"x0\":42,\"x1\":42,\"y0\":20.0,\"y1\":21},{\"layer\":\"below\",\"line\":{\"color\":\"#c8ddc0\",\"width\":2},\"type\":\"line\",\"x0\":43,\"x1\":43,\"y0\":20.0,\"y1\":21},{\"layer\":\"below\",\"line\":{\"color\":\"#c8ddc0\",\"width\":2},\"type\":\"line\",\"x0\":44,\"x1\":44,\"y0\":20.0,\"y1\":21},{\"layer\":\"below\",\"line\":{\"color\":\"#c8ddc0\",\"width\":2},\"type\":\"line\",\"x0\":45,\"x1\":45,\"y0\":20.0,\"y1\":21},{\"layer\":\"below\",\"line\":{\"color\":\"#c8ddc0\",\"width\":2},\"type\":\"line\",\"x0\":46,\"x1\":46,\"y0\":20.0,\"y1\":21},{\"layer\":\"below\",\"line\":{\"color\":\"#c8ddc0\",\"width\":2},\"type\":\"line\",\"x0\":47,\"x1\":47,\"y0\":20.0,\"y1\":21},{\"layer\":\"below\",\"line\":{\"color\":\"#c8ddc0\",\"width\":2},\"type\":\"line\",\"x0\":48,\"x1\":48,\"y0\":20.0,\"y1\":21},{\"layer\":\"below\",\"line\":{\"color\":\"#c8ddc0\",\"width\":2},\"type\":\"line\",\"x0\":49,\"x1\":49,\"y0\":20.0,\"y1\":21},{\"layer\":\"below\",\"line\":{\"color\":\"#c8ddc0\",\"width\":2},\"type\":\"line\",\"x0\":50,\"x1\":50,\"y0\":20.0,\"y1\":21},{\"layer\":\"below\",\"line\":{\"color\":\"#c8ddc0\",\"width\":2},\"type\":\"line\",\"x0\":51,\"x1\":51,\"y0\":20.0,\"y1\":21},{\"layer\":\"below\",\"line\":{\"color\":\"#c8ddc0\",\"width\":2},\"type\":\"line\",\"x0\":52,\"x1\":52,\"y0\":20.0,\"y1\":21},{\"layer\":\"below\",\"line\":{\"color\":\"#c8ddc0\",\"width\":2},\"type\":\"line\",\"x0\":53,\"x1\":53,\"y0\":20.0,\"y1\":21},{\"layer\":\"below\",\"line\":{\"color\":\"#c8ddc0\",\"width\":2},\"type\":\"line\",\"x0\":54,\"x1\":54,\"y0\":20.0,\"y1\":21},{\"layer\":\"below\",\"line\":{\"color\":\"#c8ddc0\",\"width\":2},\"type\":\"line\",\"x0\":55,\"x1\":55,\"y0\":20.0,\"y1\":21},{\"layer\":\"below\",\"line\":{\"color\":\"#c8ddc0\",\"width\":2},\"type\":\"line\",\"x0\":56,\"x1\":56,\"y0\":20.0,\"y1\":21},{\"layer\":\"below\",\"line\":{\"color\":\"#c8ddc0\",\"width\":2},\"type\":\"line\",\"x0\":57,\"x1\":57,\"y0\":20.0,\"y1\":21},{\"layer\":\"below\",\"line\":{\"color\":\"#c8ddc0\",\"width\":2},\"type\":\"line\",\"x0\":58,\"x1\":58,\"y0\":20.0,\"y1\":21},{\"layer\":\"below\",\"line\":{\"color\":\"#c8ddc0\",\"width\":2},\"type\":\"line\",\"x0\":59,\"x1\":59,\"y0\":20.0,\"y1\":21},{\"layer\":\"below\",\"line\":{\"color\":\"#c8ddc0\",\"width\":2},\"type\":\"line\",\"x0\":60,\"x1\":60,\"y0\":20.0,\"y1\":21},{\"layer\":\"below\",\"line\":{\"color\":\"#c8ddc0\",\"width\":2},\"type\":\"line\",\"x0\":61,\"x1\":61,\"y0\":20.0,\"y1\":21},{\"layer\":\"below\",\"line\":{\"color\":\"#c8ddc0\",\"width\":2},\"type\":\"line\",\"x0\":62,\"x1\":62,\"y0\":20.0,\"y1\":21},{\"layer\":\"below\",\"line\":{\"color\":\"#c8ddc0\",\"width\":2},\"type\":\"line\",\"x0\":63,\"x1\":63,\"y0\":20.0,\"y1\":21},{\"layer\":\"below\",\"line\":{\"color\":\"#c8ddc0\",\"width\":2},\"type\":\"line\",\"x0\":64,\"x1\":64,\"y0\":20.0,\"y1\":21},{\"layer\":\"below\",\"line\":{\"color\":\"#c8ddc0\",\"width\":2},\"type\":\"line\",\"x0\":65,\"x1\":65,\"y0\":20.0,\"y1\":21},{\"layer\":\"below\",\"line\":{\"color\":\"#c8ddc0\",\"width\":2},\"type\":\"line\",\"x0\":66,\"x1\":66,\"y0\":20.0,\"y1\":21},{\"layer\":\"below\",\"line\":{\"color\":\"#c8ddc0\",\"width\":2},\"type\":\"line\",\"x0\":67,\"x1\":67,\"y0\":20.0,\"y1\":21},{\"layer\":\"below\",\"line\":{\"color\":\"#c8ddc0\",\"width\":2},\"type\":\"line\",\"x0\":68,\"x1\":68,\"y0\":20.0,\"y1\":21},{\"layer\":\"below\",\"line\":{\"color\":\"#c8ddc0\",\"width\":2},\"type\":\"line\",\"x0\":69,\"x1\":69,\"y0\":20.0,\"y1\":21},{\"layer\":\"below\",\"line\":{\"color\":\"#c8ddc0\",\"width\":2},\"type\":\"line\",\"x0\":70,\"x1\":70,\"y0\":20.0,\"y1\":21},{\"layer\":\"below\",\"line\":{\"color\":\"#c8ddc0\",\"width\":2},\"type\":\"line\",\"x0\":71,\"x1\":71,\"y0\":20.0,\"y1\":21},{\"layer\":\"below\",\"line\":{\"color\":\"#c8ddc0\",\"width\":2},\"type\":\"line\",\"x0\":72,\"x1\":72,\"y0\":20.0,\"y1\":21},{\"layer\":\"below\",\"line\":{\"color\":\"#c8ddc0\",\"width\":2},\"type\":\"line\",\"x0\":73,\"x1\":73,\"y0\":20.0,\"y1\":21},{\"layer\":\"below\",\"line\":{\"color\":\"#c8ddc0\",\"width\":2},\"type\":\"line\",\"x0\":74,\"x1\":74,\"y0\":20.0,\"y1\":21},{\"layer\":\"below\",\"line\":{\"color\":\"#c8ddc0\",\"width\":2},\"type\":\"line\",\"x0\":75,\"x1\":75,\"y0\":20.0,\"y1\":21},{\"layer\":\"below\",\"line\":{\"color\":\"#c8ddc0\",\"width\":2},\"type\":\"line\",\"x0\":76,\"x1\":76,\"y0\":20.0,\"y1\":21},{\"layer\":\"below\",\"line\":{\"color\":\"#c8ddc0\",\"width\":2},\"type\":\"line\",\"x0\":77,\"x1\":77,\"y0\":20.0,\"y1\":21},{\"layer\":\"below\",\"line\":{\"color\":\"#c8ddc0\",\"width\":2},\"type\":\"line\",\"x0\":78,\"x1\":78,\"y0\":20.0,\"y1\":21},{\"layer\":\"below\",\"line\":{\"color\":\"#c8ddc0\",\"width\":2},\"type\":\"line\",\"x0\":79,\"x1\":79,\"y0\":20.0,\"y1\":21},{\"layer\":\"below\",\"line\":{\"color\":\"#c8ddc0\",\"width\":2},\"type\":\"line\",\"x0\":80,\"x1\":80,\"y0\":20.0,\"y1\":21},{\"layer\":\"below\",\"line\":{\"color\":\"#c8ddc0\",\"width\":2},\"type\":\"line\",\"x0\":81,\"x1\":81,\"y0\":20.0,\"y1\":21},{\"layer\":\"below\",\"line\":{\"color\":\"#c8ddc0\",\"width\":2},\"type\":\"line\",\"x0\":82,\"x1\":82,\"y0\":20.0,\"y1\":21},{\"layer\":\"below\",\"line\":{\"color\":\"#c8ddc0\",\"width\":2},\"type\":\"line\",\"x0\":83,\"x1\":83,\"y0\":20.0,\"y1\":21},{\"layer\":\"below\",\"line\":{\"color\":\"#c8ddc0\",\"width\":2},\"type\":\"line\",\"x0\":84,\"x1\":84,\"y0\":20.0,\"y1\":21},{\"layer\":\"below\",\"line\":{\"color\":\"#c8ddc0\",\"width\":2},\"type\":\"line\",\"x0\":85,\"x1\":85,\"y0\":20.0,\"y1\":21},{\"layer\":\"below\",\"line\":{\"color\":\"#c8ddc0\",\"width\":2},\"type\":\"line\",\"x0\":86,\"x1\":86,\"y0\":20.0,\"y1\":21},{\"layer\":\"below\",\"line\":{\"color\":\"#c8ddc0\",\"width\":2},\"type\":\"line\",\"x0\":87,\"x1\":87,\"y0\":20.0,\"y1\":21},{\"layer\":\"below\",\"line\":{\"color\":\"#c8ddc0\",\"width\":2},\"type\":\"line\",\"x0\":88,\"x1\":88,\"y0\":20.0,\"y1\":21},{\"layer\":\"below\",\"line\":{\"color\":\"#c8ddc0\",\"width\":2},\"type\":\"line\",\"x0\":89,\"x1\":89,\"y0\":20.0,\"y1\":21},{\"layer\":\"below\",\"line\":{\"color\":\"#c8ddc0\",\"width\":2},\"type\":\"line\",\"x0\":90,\"x1\":90,\"y0\":20.0,\"y1\":21},{\"layer\":\"below\",\"line\":{\"color\":\"#c8ddc0\",\"width\":2},\"type\":\"line\",\"x0\":91,\"x1\":91,\"y0\":20.0,\"y1\":21},{\"layer\":\"below\",\"line\":{\"color\":\"#c8ddc0\",\"width\":2},\"type\":\"line\",\"x0\":92,\"x1\":92,\"y0\":20.0,\"y1\":21},{\"layer\":\"below\",\"line\":{\"color\":\"#c8ddc0\",\"width\":2},\"type\":\"line\",\"x0\":93,\"x1\":93,\"y0\":20.0,\"y1\":21},{\"layer\":\"below\",\"line\":{\"color\":\"#c8ddc0\",\"width\":2},\"type\":\"line\",\"x0\":94,\"x1\":94,\"y0\":20.0,\"y1\":21},{\"layer\":\"below\",\"line\":{\"color\":\"#c8ddc0\",\"width\":2},\"type\":\"line\",\"x0\":95,\"x1\":95,\"y0\":20.0,\"y1\":21},{\"layer\":\"below\",\"line\":{\"color\":\"#c8ddc0\",\"width\":2},\"type\":\"line\",\"x0\":96,\"x1\":96,\"y0\":20.0,\"y1\":21},{\"layer\":\"below\",\"line\":{\"color\":\"#c8ddc0\",\"width\":2},\"type\":\"line\",\"x0\":97,\"x1\":97,\"y0\":20.0,\"y1\":21},{\"layer\":\"below\",\"line\":{\"color\":\"#c8ddc0\",\"width\":2},\"type\":\"line\",\"x0\":98,\"x1\":98,\"y0\":20.0,\"y1\":21},{\"layer\":\"below\",\"line\":{\"color\":\"#c8ddc0\",\"width\":2},\"type\":\"line\",\"x0\":99,\"x1\":99,\"y0\":20.0,\"y1\":21},{\"layer\":\"below\",\"line\":{\"color\":\"#c8ddc0\",\"width\":2},\"type\":\"line\",\"x0\":0,\"x1\":0,\"y0\":32.3,\"y1\":33.3},{\"layer\":\"below\",\"line\":{\"color\":\"#c8ddc0\",\"width\":2},\"type\":\"line\",\"x0\":1,\"x1\":1,\"y0\":32.3,\"y1\":33.3},{\"layer\":\"below\",\"line\":{\"color\":\"#c8ddc0\",\"width\":2},\"type\":\"line\",\"x0\":2,\"x1\":2,\"y0\":32.3,\"y1\":33.3},{\"layer\":\"below\",\"line\":{\"color\":\"#c8ddc0\",\"width\":2},\"type\":\"line\",\"x0\":3,\"x1\":3,\"y0\":32.3,\"y1\":33.3},{\"layer\":\"below\",\"line\":{\"color\":\"#c8ddc0\",\"width\":2},\"type\":\"line\",\"x0\":4,\"x1\":4,\"y0\":32.3,\"y1\":33.3},{\"layer\":\"below\",\"line\":{\"color\":\"#c8ddc0\",\"width\":2},\"type\":\"line\",\"x0\":5,\"x1\":5,\"y0\":32.3,\"y1\":33.3},{\"layer\":\"below\",\"line\":{\"color\":\"#c8ddc0\",\"width\":2},\"type\":\"line\",\"x0\":6,\"x1\":6,\"y0\":32.3,\"y1\":33.3},{\"layer\":\"below\",\"line\":{\"color\":\"#c8ddc0\",\"width\":2},\"type\":\"line\",\"x0\":7,\"x1\":7,\"y0\":32.3,\"y1\":33.3},{\"layer\":\"below\",\"line\":{\"color\":\"#c8ddc0\",\"width\":2},\"type\":\"line\",\"x0\":8,\"x1\":8,\"y0\":32.3,\"y1\":33.3},{\"layer\":\"below\",\"line\":{\"color\":\"#c8ddc0\",\"width\":2},\"type\":\"line\",\"x0\":9,\"x1\":9,\"y0\":32.3,\"y1\":33.3},{\"layer\":\"below\",\"line\":{\"color\":\"#c8ddc0\",\"width\":2},\"type\":\"line\",\"x0\":10,\"x1\":10,\"y0\":32.3,\"y1\":33.3},{\"layer\":\"below\",\"line\":{\"color\":\"#c8ddc0\",\"width\":2},\"type\":\"line\",\"x0\":11,\"x1\":11,\"y0\":32.3,\"y1\":33.3},{\"layer\":\"below\",\"line\":{\"color\":\"#c8ddc0\",\"width\":2},\"type\":\"line\",\"x0\":12,\"x1\":12,\"y0\":32.3,\"y1\":33.3},{\"layer\":\"below\",\"line\":{\"color\":\"#c8ddc0\",\"width\":2},\"type\":\"line\",\"x0\":13,\"x1\":13,\"y0\":32.3,\"y1\":33.3},{\"layer\":\"below\",\"line\":{\"color\":\"#c8ddc0\",\"width\":2},\"type\":\"line\",\"x0\":14,\"x1\":14,\"y0\":32.3,\"y1\":33.3},{\"layer\":\"below\",\"line\":{\"color\":\"#c8ddc0\",\"width\":2},\"type\":\"line\",\"x0\":15,\"x1\":15,\"y0\":32.3,\"y1\":33.3},{\"layer\":\"below\",\"line\":{\"color\":\"#c8ddc0\",\"width\":2},\"type\":\"line\",\"x0\":16,\"x1\":16,\"y0\":32.3,\"y1\":33.3},{\"layer\":\"below\",\"line\":{\"color\":\"#c8ddc0\",\"width\":2},\"type\":\"line\",\"x0\":17,\"x1\":17,\"y0\":32.3,\"y1\":33.3},{\"layer\":\"below\",\"line\":{\"color\":\"#c8ddc0\",\"width\":2},\"type\":\"line\",\"x0\":18,\"x1\":18,\"y0\":32.3,\"y1\":33.3},{\"layer\":\"below\",\"line\":{\"color\":\"#c8ddc0\",\"width\":2},\"type\":\"line\",\"x0\":19,\"x1\":19,\"y0\":32.3,\"y1\":33.3},{\"layer\":\"below\",\"line\":{\"color\":\"#c8ddc0\",\"width\":2},\"type\":\"line\",\"x0\":20,\"x1\":20,\"y0\":32.3,\"y1\":33.3},{\"layer\":\"below\",\"line\":{\"color\":\"#c8ddc0\",\"width\":2},\"type\":\"line\",\"x0\":21,\"x1\":21,\"y0\":32.3,\"y1\":33.3},{\"layer\":\"below\",\"line\":{\"color\":\"#c8ddc0\",\"width\":2},\"type\":\"line\",\"x0\":22,\"x1\":22,\"y0\":32.3,\"y1\":33.3},{\"layer\":\"below\",\"line\":{\"color\":\"#c8ddc0\",\"width\":2},\"type\":\"line\",\"x0\":23,\"x1\":23,\"y0\":32.3,\"y1\":33.3},{\"layer\":\"below\",\"line\":{\"color\":\"#c8ddc0\",\"width\":2},\"type\":\"line\",\"x0\":24,\"x1\":24,\"y0\":32.3,\"y1\":33.3},{\"layer\":\"below\",\"line\":{\"color\":\"#c8ddc0\",\"width\":2},\"type\":\"line\",\"x0\":25,\"x1\":25,\"y0\":32.3,\"y1\":33.3},{\"layer\":\"below\",\"line\":{\"color\":\"#c8ddc0\",\"width\":2},\"type\":\"line\",\"x0\":26,\"x1\":26,\"y0\":32.3,\"y1\":33.3},{\"layer\":\"below\",\"line\":{\"color\":\"#c8ddc0\",\"width\":2},\"type\":\"line\",\"x0\":27,\"x1\":27,\"y0\":32.3,\"y1\":33.3},{\"layer\":\"below\",\"line\":{\"color\":\"#c8ddc0\",\"width\":2},\"type\":\"line\",\"x0\":28,\"x1\":28,\"y0\":32.3,\"y1\":33.3},{\"layer\":\"below\",\"line\":{\"color\":\"#c8ddc0\",\"width\":2},\"type\":\"line\",\"x0\":29,\"x1\":29,\"y0\":32.3,\"y1\":33.3},{\"layer\":\"below\",\"line\":{\"color\":\"#c8ddc0\",\"width\":2},\"type\":\"line\",\"x0\":30,\"x1\":30,\"y0\":32.3,\"y1\":33.3},{\"layer\":\"below\",\"line\":{\"color\":\"#c8ddc0\",\"width\":2},\"type\":\"line\",\"x0\":31,\"x1\":31,\"y0\":32.3,\"y1\":33.3},{\"layer\":\"below\",\"line\":{\"color\":\"#c8ddc0\",\"width\":2},\"type\":\"line\",\"x0\":32,\"x1\":32,\"y0\":32.3,\"y1\":33.3},{\"layer\":\"below\",\"line\":{\"color\":\"#c8ddc0\",\"width\":2},\"type\":\"line\",\"x0\":33,\"x1\":33,\"y0\":32.3,\"y1\":33.3},{\"layer\":\"below\",\"line\":{\"color\":\"#c8ddc0\",\"width\":2},\"type\":\"line\",\"x0\":34,\"x1\":34,\"y0\":32.3,\"y1\":33.3},{\"layer\":\"below\",\"line\":{\"color\":\"#c8ddc0\",\"width\":2},\"type\":\"line\",\"x0\":35,\"x1\":35,\"y0\":32.3,\"y1\":33.3},{\"layer\":\"below\",\"line\":{\"color\":\"#c8ddc0\",\"width\":2},\"type\":\"line\",\"x0\":36,\"x1\":36,\"y0\":32.3,\"y1\":33.3},{\"layer\":\"below\",\"line\":{\"color\":\"#c8ddc0\",\"width\":2},\"type\":\"line\",\"x0\":37,\"x1\":37,\"y0\":32.3,\"y1\":33.3},{\"layer\":\"below\",\"line\":{\"color\":\"#c8ddc0\",\"width\":2},\"type\":\"line\",\"x0\":38,\"x1\":38,\"y0\":32.3,\"y1\":33.3},{\"layer\":\"below\",\"line\":{\"color\":\"#c8ddc0\",\"width\":2},\"type\":\"line\",\"x0\":39,\"x1\":39,\"y0\":32.3,\"y1\":33.3},{\"layer\":\"below\",\"line\":{\"color\":\"#c8ddc0\",\"width\":2},\"type\":\"line\",\"x0\":40,\"x1\":40,\"y0\":32.3,\"y1\":33.3},{\"layer\":\"below\",\"line\":{\"color\":\"#c8ddc0\",\"width\":2},\"type\":\"line\",\"x0\":41,\"x1\":41,\"y0\":32.3,\"y1\":33.3},{\"layer\":\"below\",\"line\":{\"color\":\"#c8ddc0\",\"width\":2},\"type\":\"line\",\"x0\":42,\"x1\":42,\"y0\":32.3,\"y1\":33.3},{\"layer\":\"below\",\"line\":{\"color\":\"#c8ddc0\",\"width\":2},\"type\":\"line\",\"x0\":43,\"x1\":43,\"y0\":32.3,\"y1\":33.3},{\"layer\":\"below\",\"line\":{\"color\":\"#c8ddc0\",\"width\":2},\"type\":\"line\",\"x0\":44,\"x1\":44,\"y0\":32.3,\"y1\":33.3},{\"layer\":\"below\",\"line\":{\"color\":\"#c8ddc0\",\"width\":2},\"type\":\"line\",\"x0\":45,\"x1\":45,\"y0\":32.3,\"y1\":33.3},{\"layer\":\"below\",\"line\":{\"color\":\"#c8ddc0\",\"width\":2},\"type\":\"line\",\"x0\":46,\"x1\":46,\"y0\":32.3,\"y1\":33.3},{\"layer\":\"below\",\"line\":{\"color\":\"#c8ddc0\",\"width\":2},\"type\":\"line\",\"x0\":47,\"x1\":47,\"y0\":32.3,\"y1\":33.3},{\"layer\":\"below\",\"line\":{\"color\":\"#c8ddc0\",\"width\":2},\"type\":\"line\",\"x0\":48,\"x1\":48,\"y0\":32.3,\"y1\":33.3},{\"layer\":\"below\",\"line\":{\"color\":\"#c8ddc0\",\"width\":2},\"type\":\"line\",\"x0\":49,\"x1\":49,\"y0\":32.3,\"y1\":33.3},{\"layer\":\"below\",\"line\":{\"color\":\"#c8ddc0\",\"width\":2},\"type\":\"line\",\"x0\":50,\"x1\":50,\"y0\":32.3,\"y1\":33.3},{\"layer\":\"below\",\"line\":{\"color\":\"#c8ddc0\",\"width\":2},\"type\":\"line\",\"x0\":51,\"x1\":51,\"y0\":32.3,\"y1\":33.3},{\"layer\":\"below\",\"line\":{\"color\":\"#c8ddc0\",\"width\":2},\"type\":\"line\",\"x0\":52,\"x1\":52,\"y0\":32.3,\"y1\":33.3},{\"layer\":\"below\",\"line\":{\"color\":\"#c8ddc0\",\"width\":2},\"type\":\"line\",\"x0\":53,\"x1\":53,\"y0\":32.3,\"y1\":33.3},{\"layer\":\"below\",\"line\":{\"color\":\"#c8ddc0\",\"width\":2},\"type\":\"line\",\"x0\":54,\"x1\":54,\"y0\":32.3,\"y1\":33.3},{\"layer\":\"below\",\"line\":{\"color\":\"#c8ddc0\",\"width\":2},\"type\":\"line\",\"x0\":55,\"x1\":55,\"y0\":32.3,\"y1\":33.3},{\"layer\":\"below\",\"line\":{\"color\":\"#c8ddc0\",\"width\":2},\"type\":\"line\",\"x0\":56,\"x1\":56,\"y0\":32.3,\"y1\":33.3},{\"layer\":\"below\",\"line\":{\"color\":\"#c8ddc0\",\"width\":2},\"type\":\"line\",\"x0\":57,\"x1\":57,\"y0\":32.3,\"y1\":33.3},{\"layer\":\"below\",\"line\":{\"color\":\"#c8ddc0\",\"width\":2},\"type\":\"line\",\"x0\":58,\"x1\":58,\"y0\":32.3,\"y1\":33.3},{\"layer\":\"below\",\"line\":{\"color\":\"#c8ddc0\",\"width\":2},\"type\":\"line\",\"x0\":59,\"x1\":59,\"y0\":32.3,\"y1\":33.3},{\"layer\":\"below\",\"line\":{\"color\":\"#c8ddc0\",\"width\":2},\"type\":\"line\",\"x0\":60,\"x1\":60,\"y0\":32.3,\"y1\":33.3},{\"layer\":\"below\",\"line\":{\"color\":\"#c8ddc0\",\"width\":2},\"type\":\"line\",\"x0\":61,\"x1\":61,\"y0\":32.3,\"y1\":33.3},{\"layer\":\"below\",\"line\":{\"color\":\"#c8ddc0\",\"width\":2},\"type\":\"line\",\"x0\":62,\"x1\":62,\"y0\":32.3,\"y1\":33.3},{\"layer\":\"below\",\"line\":{\"color\":\"#c8ddc0\",\"width\":2},\"type\":\"line\",\"x0\":63,\"x1\":63,\"y0\":32.3,\"y1\":33.3},{\"layer\":\"below\",\"line\":{\"color\":\"#c8ddc0\",\"width\":2},\"type\":\"line\",\"x0\":64,\"x1\":64,\"y0\":32.3,\"y1\":33.3},{\"layer\":\"below\",\"line\":{\"color\":\"#c8ddc0\",\"width\":2},\"type\":\"line\",\"x0\":65,\"x1\":65,\"y0\":32.3,\"y1\":33.3},{\"layer\":\"below\",\"line\":{\"color\":\"#c8ddc0\",\"width\":2},\"type\":\"line\",\"x0\":66,\"x1\":66,\"y0\":32.3,\"y1\":33.3},{\"layer\":\"below\",\"line\":{\"color\":\"#c8ddc0\",\"width\":2},\"type\":\"line\",\"x0\":67,\"x1\":67,\"y0\":32.3,\"y1\":33.3},{\"layer\":\"below\",\"line\":{\"color\":\"#c8ddc0\",\"width\":2},\"type\":\"line\",\"x0\":68,\"x1\":68,\"y0\":32.3,\"y1\":33.3},{\"layer\":\"below\",\"line\":{\"color\":\"#c8ddc0\",\"width\":2},\"type\":\"line\",\"x0\":69,\"x1\":69,\"y0\":32.3,\"y1\":33.3},{\"layer\":\"below\",\"line\":{\"color\":\"#c8ddc0\",\"width\":2},\"type\":\"line\",\"x0\":70,\"x1\":70,\"y0\":32.3,\"y1\":33.3},{\"layer\":\"below\",\"line\":{\"color\":\"#c8ddc0\",\"width\":2},\"type\":\"line\",\"x0\":71,\"x1\":71,\"y0\":32.3,\"y1\":33.3},{\"layer\":\"below\",\"line\":{\"color\":\"#c8ddc0\",\"width\":2},\"type\":\"line\",\"x0\":72,\"x1\":72,\"y0\":32.3,\"y1\":33.3},{\"layer\":\"below\",\"line\":{\"color\":\"#c8ddc0\",\"width\":2},\"type\":\"line\",\"x0\":73,\"x1\":73,\"y0\":32.3,\"y1\":33.3},{\"layer\":\"below\",\"line\":{\"color\":\"#c8ddc0\",\"width\":2},\"type\":\"line\",\"x0\":74,\"x1\":74,\"y0\":32.3,\"y1\":33.3},{\"layer\":\"below\",\"line\":{\"color\":\"#c8ddc0\",\"width\":2},\"type\":\"line\",\"x0\":75,\"x1\":75,\"y0\":32.3,\"y1\":33.3},{\"layer\":\"below\",\"line\":{\"color\":\"#c8ddc0\",\"width\":2},\"type\":\"line\",\"x0\":76,\"x1\":76,\"y0\":32.3,\"y1\":33.3},{\"layer\":\"below\",\"line\":{\"color\":\"#c8ddc0\",\"width\":2},\"type\":\"line\",\"x0\":77,\"x1\":77,\"y0\":32.3,\"y1\":33.3},{\"layer\":\"below\",\"line\":{\"color\":\"#c8ddc0\",\"width\":2},\"type\":\"line\",\"x0\":78,\"x1\":78,\"y0\":32.3,\"y1\":33.3},{\"layer\":\"below\",\"line\":{\"color\":\"#c8ddc0\",\"width\":2},\"type\":\"line\",\"x0\":79,\"x1\":79,\"y0\":32.3,\"y1\":33.3},{\"layer\":\"below\",\"line\":{\"color\":\"#c8ddc0\",\"width\":2},\"type\":\"line\",\"x0\":80,\"x1\":80,\"y0\":32.3,\"y1\":33.3},{\"layer\":\"below\",\"line\":{\"color\":\"#c8ddc0\",\"width\":2},\"type\":\"line\",\"x0\":81,\"x1\":81,\"y0\":32.3,\"y1\":33.3},{\"layer\":\"below\",\"line\":{\"color\":\"#c8ddc0\",\"width\":2},\"type\":\"line\",\"x0\":82,\"x1\":82,\"y0\":32.3,\"y1\":33.3},{\"layer\":\"below\",\"line\":{\"color\":\"#c8ddc0\",\"width\":2},\"type\":\"line\",\"x0\":83,\"x1\":83,\"y0\":32.3,\"y1\":33.3},{\"layer\":\"below\",\"line\":{\"color\":\"#c8ddc0\",\"width\":2},\"type\":\"line\",\"x0\":84,\"x1\":84,\"y0\":32.3,\"y1\":33.3},{\"layer\":\"below\",\"line\":{\"color\":\"#c8ddc0\",\"width\":2},\"type\":\"line\",\"x0\":85,\"x1\":85,\"y0\":32.3,\"y1\":33.3},{\"layer\":\"below\",\"line\":{\"color\":\"#c8ddc0\",\"width\":2},\"type\":\"line\",\"x0\":86,\"x1\":86,\"y0\":32.3,\"y1\":33.3},{\"layer\":\"below\",\"line\":{\"color\":\"#c8ddc0\",\"width\":2},\"type\":\"line\",\"x0\":87,\"x1\":87,\"y0\":32.3,\"y1\":33.3},{\"layer\":\"below\",\"line\":{\"color\":\"#c8ddc0\",\"width\":2},\"type\":\"line\",\"x0\":88,\"x1\":88,\"y0\":32.3,\"y1\":33.3},{\"layer\":\"below\",\"line\":{\"color\":\"#c8ddc0\",\"width\":2},\"type\":\"line\",\"x0\":89,\"x1\":89,\"y0\":32.3,\"y1\":33.3},{\"layer\":\"below\",\"line\":{\"color\":\"#c8ddc0\",\"width\":2},\"type\":\"line\",\"x0\":90,\"x1\":90,\"y0\":32.3,\"y1\":33.3},{\"layer\":\"below\",\"line\":{\"color\":\"#c8ddc0\",\"width\":2},\"type\":\"line\",\"x0\":91,\"x1\":91,\"y0\":32.3,\"y1\":33.3},{\"layer\":\"below\",\"line\":{\"color\":\"#c8ddc0\",\"width\":2},\"type\":\"line\",\"x0\":92,\"x1\":92,\"y0\":32.3,\"y1\":33.3},{\"layer\":\"below\",\"line\":{\"color\":\"#c8ddc0\",\"width\":2},\"type\":\"line\",\"x0\":93,\"x1\":93,\"y0\":32.3,\"y1\":33.3},{\"layer\":\"below\",\"line\":{\"color\":\"#c8ddc0\",\"width\":2},\"type\":\"line\",\"x0\":94,\"x1\":94,\"y0\":32.3,\"y1\":33.3},{\"layer\":\"below\",\"line\":{\"color\":\"#c8ddc0\",\"width\":2},\"type\":\"line\",\"x0\":95,\"x1\":95,\"y0\":32.3,\"y1\":33.3},{\"layer\":\"below\",\"line\":{\"color\":\"#c8ddc0\",\"width\":2},\"type\":\"line\",\"x0\":96,\"x1\":96,\"y0\":32.3,\"y1\":33.3},{\"layer\":\"below\",\"line\":{\"color\":\"#c8ddc0\",\"width\":2},\"type\":\"line\",\"x0\":97,\"x1\":97,\"y0\":32.3,\"y1\":33.3},{\"layer\":\"below\",\"line\":{\"color\":\"#c8ddc0\",\"width\":2},\"type\":\"line\",\"x0\":98,\"x1\":98,\"y0\":32.3,\"y1\":33.3},{\"layer\":\"below\",\"line\":{\"color\":\"#c8ddc0\",\"width\":2},\"type\":\"line\",\"x0\":99,\"x1\":99,\"y0\":32.3,\"y1\":33.3}]},                        {\"responsive\": true}                    ).then(function(){\n",
       "                            Plotly.addFrames('28dac8cb-50d5-4756-8e90-8604fec5907e', [{\"data\":[{\"hovertemplate\":\"team=TB<br>time=2021-09-10T01:06:01.500<br>x=%{x}<br>y=%{y}<extra></extra>\",\"legendgroup\":\"TB\",\"marker\":{\"color\":\"#636efa\",\"symbol\":\"circle\"},\"mode\":\"markers\",\"name\":\"TB\",\"orientation\":\"v\",\"showlegend\":true,\"x\":[17.25,17.33,21.07,20.0,17.59,17.63,25.76,20.78,24.09,28.68,30.15],\"xaxis\":\"x\",\"y\":[31.71,35.06,22.28,37.19,24.71,29.42,9.85,29.29,45.57,35.9,20.45],\"yaxis\":\"y\",\"type\":\"scatter\"},{\"hovertemplate\":\"team=DAL<br>time=2021-09-10T01:06:01.500<br>x=%{x}<br>y=%{y}<extra></extra>\",\"legendgroup\":\"DAL\",\"marker\":{\"color\":\"#EF553B\",\"symbol\":\"circle\"},\"mode\":\"markers\",\"name\":\"DAL\",\"orientation\":\"v\",\"showlegend\":true,\"x\":[15.36,16.15,15.36,12.26,15.83,14.97,15.19,15.69,12.11,16.25,16.06],\"xaxis\":\"x\",\"y\":[33.05,46.56,26.93,29.8,31.47,8.52,37.81,28.48,27.02,18.29,29.55],\"yaxis\":\"y\",\"type\":\"scatter\"},{\"hovertemplate\":\"team=football<br>time=2021-09-10T01:06:01.500<br>x=%{x}<br>y=%{y}<extra></extra>\",\"legendgroup\":\"football\",\"marker\":{\"color\":\"#00cc96\",\"symbol\":\"circle\"},\"mode\":\"markers\",\"name\":\"football\",\"orientation\":\"v\",\"showlegend\":true,\"x\":[17.14],\"xaxis\":\"x\",\"y\":[30.0],\"yaxis\":\"y\",\"type\":\"scatter\"}],\"name\":\"2021-09-10T01:06:01.500\"},{\"data\":[{\"hovertemplate\":\"team=TB<br>time=2021-09-10T01:06:01.600<br>x=%{x}<br>y=%{y}<extra></extra>\",\"legendgroup\":\"TB\",\"marker\":{\"color\":\"#636efa\",\"symbol\":\"circle\"},\"mode\":\"markers\",\"name\":\"TB\",\"orientation\":\"v\",\"showlegend\":true,\"x\":[17.25,17.33,21.08,19.98,17.58,17.61,25.75,20.78,24.1,28.77,30.27],\"xaxis\":\"x\",\"y\":[31.75,35.07,22.02,37.15,24.7,29.43,9.79,29.27,45.56,35.95,20.39],\"yaxis\":\"y\",\"type\":\"scatter\"},{\"hovertemplate\":\"team=DAL<br>time=2021-09-10T01:06:01.600<br>x=%{x}<br>y=%{y}<extra></extra>\",\"legendgroup\":\"DAL\",\"marker\":{\"color\":\"#EF553B\",\"symbol\":\"circle\"},\"mode\":\"markers\",\"name\":\"DAL\",\"orientation\":\"v\",\"showlegend\":true,\"x\":[15.36,16.16,15.36,12.27,15.83,14.96,15.18,15.68,12.16,16.25,16.05],\"xaxis\":\"x\",\"y\":[33.05,46.57,26.92,29.82,31.47,8.52,37.81,28.49,27.03,18.29,29.54],\"yaxis\":\"y\",\"type\":\"scatter\"},{\"hovertemplate\":\"team=football<br>time=2021-09-10T01:06:01.600<br>x=%{x}<br>y=%{y}<extra></extra>\",\"legendgroup\":\"football\",\"marker\":{\"color\":\"#00cc96\",\"symbol\":\"circle\"},\"mode\":\"markers\",\"name\":\"football\",\"orientation\":\"v\",\"showlegend\":true,\"x\":[17.07],\"xaxis\":\"x\",\"y\":[30.02],\"yaxis\":\"y\",\"type\":\"scatter\"}],\"name\":\"2021-09-10T01:06:01.600\"},{\"data\":[{\"hovertemplate\":\"team=TB<br>time=2021-09-10T01:06:01.700<br>x=%{x}<br>y=%{y}<extra></extra>\",\"legendgroup\":\"TB\",\"marker\":{\"color\":\"#636efa\",\"symbol\":\"circle\"},\"mode\":\"markers\",\"name\":\"TB\",\"orientation\":\"v\",\"showlegend\":true,\"x\":[17.25,17.33,21.08,19.97,17.57,17.6,25.75,20.77,24.12,28.86,30.38],\"xaxis\":\"x\",\"y\":[31.77,35.06,21.79,37.13,24.69,29.47,9.76,29.28,45.55,36.0,20.35],\"yaxis\":\"y\",\"type\":\"scatter\"},{\"hovertemplate\":\"team=DAL<br>time=2021-09-10T01:06:01.700<br>x=%{x}<br>y=%{y}<extra></extra>\",\"legendgroup\":\"DAL\",\"marker\":{\"color\":\"#EF553B\",\"symbol\":\"circle\"},\"mode\":\"markers\",\"name\":\"DAL\",\"orientation\":\"v\",\"showlegend\":true,\"x\":[15.36,16.16,15.36,12.27,15.83,14.95,15.18,15.69,12.22,16.26,16.02],\"xaxis\":\"x\",\"y\":[33.04,46.57,26.92,29.83,31.48,8.51,37.81,28.49,27.04,18.29,29.54],\"yaxis\":\"y\",\"type\":\"scatter\"},{\"hovertemplate\":\"team=football<br>time=2021-09-10T01:06:01.700<br>x=%{x}<br>y=%{y}<extra></extra>\",\"legendgroup\":\"football\",\"marker\":{\"color\":\"#00cc96\",\"symbol\":\"circle\"},\"mode\":\"markers\",\"name\":\"football\",\"orientation\":\"v\",\"showlegend\":true,\"x\":[16.96],\"xaxis\":\"x\",\"y\":[30.04],\"yaxis\":\"y\",\"type\":\"scatter\"}],\"name\":\"2021-09-10T01:06:01.700\"},{\"data\":[{\"hovertemplate\":\"team=TB<br>time=2021-09-10T01:06:01.800<br>x=%{x}<br>y=%{y}<extra></extra>\",\"legendgroup\":\"TB\",\"marker\":{\"color\":\"#636efa\",\"symbol\":\"circle\"},\"mode\":\"markers\",\"name\":\"TB\",\"orientation\":\"v\",\"showlegend\":true,\"x\":[17.25,17.33,21.09,19.97,17.57,17.6,25.75,20.77,24.15,28.94,30.48],\"xaxis\":\"x\",\"y\":[31.8,35.06,21.6,37.1,24.7,29.51,9.74,29.29,45.55,36.05,20.31],\"yaxis\":\"y\",\"type\":\"scatter\"},{\"hovertemplate\":\"team=DAL<br>time=2021-09-10T01:06:01.800<br>x=%{x}<br>y=%{y}<extra></extra>\",\"legendgroup\":\"DAL\",\"marker\":{\"color\":\"#EF553B\",\"symbol\":\"circle\"},\"mode\":\"markers\",\"name\":\"DAL\",\"orientation\":\"v\",\"showlegend\":true,\"x\":[15.36,16.16,15.36,12.26,15.81,14.94,15.18,15.7,12.27,16.25,15.97],\"xaxis\":\"x\",\"y\":[33.05,46.57,26.91,29.83,31.48,8.51,37.82,28.45,27.03,18.29,29.56],\"yaxis\":\"y\",\"type\":\"scatter\"},{\"hovertemplate\":\"team=football<br>time=2021-09-10T01:06:01.800<br>x=%{x}<br>y=%{y}<extra></extra>\",\"legendgroup\":\"football\",\"marker\":{\"color\":\"#00cc96\",\"symbol\":\"circle\"},\"mode\":\"markers\",\"name\":\"football\",\"orientation\":\"v\",\"showlegend\":true,\"x\":[16.69],\"xaxis\":\"x\",\"y\":[30.05],\"yaxis\":\"y\",\"type\":\"scatter\"}],\"name\":\"2021-09-10T01:06:01.800\"},{\"data\":[{\"hovertemplate\":\"team=TB<br>time=2021-09-10T01:06:01.900<br>x=%{x}<br>y=%{y}<extra></extra>\",\"legendgroup\":\"TB\",\"marker\":{\"color\":\"#636efa\",\"symbol\":\"circle\"},\"mode\":\"markers\",\"name\":\"TB\",\"orientation\":\"v\",\"showlegend\":true,\"x\":[17.26,17.31,21.1,19.97,17.55,17.5,25.77,20.76,24.17,29.01,30.57],\"xaxis\":\"x\",\"y\":[31.82,35.06,21.42,37.08,24.7,29.51,9.72,29.29,45.56,36.11,20.29],\"yaxis\":\"y\",\"type\":\"scatter\"},{\"hovertemplate\":\"team=DAL<br>time=2021-09-10T01:06:01.900<br>x=%{x}<br>y=%{y}<extra></extra>\",\"legendgroup\":\"DAL\",\"marker\":{\"color\":\"#EF553B\",\"symbol\":\"circle\"},\"mode\":\"markers\",\"name\":\"DAL\",\"orientation\":\"v\",\"showlegend\":true,\"x\":[15.35,16.16,15.35,12.26,15.79,14.95,15.19,15.69,12.32,16.25,15.92],\"xaxis\":\"x\",\"y\":[33.05,46.57,26.91,29.84,31.49,8.51,37.82,28.44,27.01,18.28,29.6],\"yaxis\":\"y\",\"type\":\"scatter\"},{\"hovertemplate\":\"team=football<br>time=2021-09-10T01:06:01.900<br>x=%{x}<br>y=%{y}<extra></extra>\",\"legendgroup\":\"football\",\"marker\":{\"color\":\"#00cc96\",\"symbol\":\"circle\"},\"mode\":\"markers\",\"name\":\"football\",\"orientation\":\"v\",\"showlegend\":true,\"x\":[16.33],\"xaxis\":\"x\",\"y\":[30.03],\"yaxis\":\"y\",\"type\":\"scatter\"}],\"name\":\"2021-09-10T01:06:01.900\"},{\"data\":[{\"hovertemplate\":\"team=TB<br>time=2021-09-10T01:06:02.000<br>x=%{x}<br>y=%{y}<extra></extra>\",\"legendgroup\":\"TB\",\"marker\":{\"color\":\"#636efa\",\"symbol\":\"circle\"},\"mode\":\"markers\",\"name\":\"TB\",\"orientation\":\"v\",\"showlegend\":true,\"x\":[17.26,17.29,21.11,19.97,17.53,17.43,25.78,20.76,24.2,29.08,30.63],\"xaxis\":\"x\",\"y\":[31.84,35.06,21.25,37.06,24.72,29.44,9.73,29.28,45.58,36.16,20.25],\"yaxis\":\"y\",\"type\":\"scatter\"},{\"hovertemplate\":\"team=DAL<br>time=2021-09-10T01:06:02.000<br>x=%{x}<br>y=%{y}<extra></extra>\",\"legendgroup\":\"DAL\",\"marker\":{\"color\":\"#EF553B\",\"symbol\":\"circle\"},\"mode\":\"markers\",\"name\":\"DAL\",\"orientation\":\"v\",\"showlegend\":true,\"x\":[15.33,16.16,15.35,12.24,15.76,14.96,15.2,15.64,12.36,16.27,15.89],\"xaxis\":\"x\",\"y\":[33.05,46.55,26.9,29.84,31.5,8.52,37.82,28.49,26.99,18.28,29.64],\"yaxis\":\"y\",\"type\":\"scatter\"},{\"hovertemplate\":\"team=football<br>time=2021-09-10T01:06:02.000<br>x=%{x}<br>y=%{y}<extra></extra>\",\"legendgroup\":\"football\",\"marker\":{\"color\":\"#00cc96\",\"symbol\":\"circle\"},\"mode\":\"markers\",\"name\":\"football\",\"orientation\":\"v\",\"showlegend\":true,\"x\":[16.06],\"xaxis\":\"x\",\"y\":[30.03],\"yaxis\":\"y\",\"type\":\"scatter\"}],\"name\":\"2021-09-10T01:06:02.000\"},{\"data\":[{\"hovertemplate\":\"team=TB<br>time=2021-09-10T01:06:02.100<br>x=%{x}<br>y=%{y}<extra></extra>\",\"legendgroup\":\"TB\",\"marker\":{\"color\":\"#636efa\",\"symbol\":\"circle\"},\"mode\":\"markers\",\"name\":\"TB\",\"orientation\":\"v\",\"showlegend\":true,\"x\":[17.22,17.23,21.13,19.98,17.49,17.36,25.8,20.75,24.23,29.14,30.68],\"xaxis\":\"x\",\"y\":[31.91,35.05,21.11,37.05,24.75,29.46,9.74,29.27,45.6,36.21,20.23],\"yaxis\":\"y\",\"type\":\"scatter\"},{\"hovertemplate\":\"team=DAL<br>time=2021-09-10T01:06:02.100<br>x=%{x}<br>y=%{y}<extra></extra>\",\"legendgroup\":\"DAL\",\"marker\":{\"color\":\"#EF553B\",\"symbol\":\"circle\"},\"mode\":\"markers\",\"name\":\"DAL\",\"orientation\":\"v\",\"showlegend\":true,\"x\":[15.3,16.18,15.32,12.23,15.72,14.98,15.22,15.59,12.26,16.29,15.85],\"xaxis\":\"x\",\"y\":[33.05,46.53,26.88,29.84,31.51,8.52,37.83,28.49,26.98,18.28,29.69],\"yaxis\":\"y\",\"type\":\"scatter\"},{\"hovertemplate\":\"team=football<br>time=2021-09-10T01:06:02.100<br>x=%{x}<br>y=%{y}<extra></extra>\",\"legendgroup\":\"football\",\"marker\":{\"color\":\"#00cc96\",\"symbol\":\"circle\"},\"mode\":\"markers\",\"name\":\"football\",\"orientation\":\"v\",\"showlegend\":true,\"x\":[15.7],\"xaxis\":\"x\",\"y\":[30.01],\"yaxis\":\"y\",\"type\":\"scatter\"}],\"name\":\"2021-09-10T01:06:02.100\"},{\"data\":[{\"hovertemplate\":\"team=TB<br>time=2021-09-10T01:06:02.200<br>x=%{x}<br>y=%{y}<extra></extra>\",\"legendgroup\":\"TB\",\"marker\":{\"color\":\"#636efa\",\"symbol\":\"circle\"},\"mode\":\"markers\",\"name\":\"TB\",\"orientation\":\"v\",\"showlegend\":true,\"x\":[17.18,17.17,21.14,19.99,17.43,17.29,25.83,20.74,24.27,29.19,30.71],\"xaxis\":\"x\",\"y\":[31.97,35.03,20.97,37.03,24.78,29.48,9.75,29.23,45.62,36.26,20.22],\"yaxis\":\"y\",\"type\":\"scatter\"},{\"hovertemplate\":\"team=DAL<br>time=2021-09-10T01:06:02.200<br>x=%{x}<br>y=%{y}<extra></extra>\",\"legendgroup\":\"DAL\",\"marker\":{\"color\":\"#EF553B\",\"symbol\":\"circle\"},\"mode\":\"markers\",\"name\":\"DAL\",\"orientation\":\"v\",\"showlegend\":true,\"x\":[15.25,16.2,15.31,12.21,15.65,15.03,15.25,15.55,12.2,16.31,15.77],\"xaxis\":\"x\",\"y\":[33.07,46.54,26.87,29.83,31.55,8.51,37.83,28.46,26.97,18.29,29.75],\"yaxis\":\"y\",\"type\":\"scatter\"},{\"hovertemplate\":\"team=football<br>time=2021-09-10T01:06:02.200<br>x=%{x}<br>y=%{y}<extra></extra>\",\"legendgroup\":\"football\",\"marker\":{\"color\":\"#00cc96\",\"symbol\":\"circle\"},\"mode\":\"markers\",\"name\":\"football\",\"orientation\":\"v\",\"showlegend\":true,\"x\":[15.36],\"xaxis\":\"x\",\"y\":[29.99],\"yaxis\":\"y\",\"type\":\"scatter\"}],\"name\":\"2021-09-10T01:06:02.200\"},{\"data\":[{\"hovertemplate\":\"team=TB<br>time=2021-09-10T01:06:02.300<br>x=%{x}<br>y=%{y}<extra></extra>\",\"legendgroup\":\"TB\",\"marker\":{\"color\":\"#636efa\",\"symbol\":\"circle\"},\"mode\":\"markers\",\"name\":\"TB\",\"orientation\":\"v\",\"showlegend\":true,\"x\":[17.14,17.08,21.16,20.0,17.34,17.2,25.87,20.72,24.33,29.23,30.73],\"xaxis\":\"x\",\"y\":[32.03,35.01,20.85,37.02,24.81,29.49,9.77,29.19,45.62,36.3,20.21],\"yaxis\":\"y\",\"type\":\"scatter\"},{\"hovertemplate\":\"team=DAL<br>time=2021-09-10T01:06:02.300<br>x=%{x}<br>y=%{y}<extra></extra>\",\"legendgroup\":\"DAL\",\"marker\":{\"color\":\"#EF553B\",\"symbol\":\"circle\"},\"mode\":\"markers\",\"name\":\"DAL\",\"orientation\":\"v\",\"showlegend\":true,\"x\":[15.19,16.23,15.27,12.18,15.56,15.08,15.33,15.48,12.18,16.37,15.66],\"xaxis\":\"x\",\"y\":[33.08,46.53,26.84,29.84,31.59,8.51,37.83,28.46,27.0,18.29,29.82],\"yaxis\":\"y\",\"type\":\"scatter\"},{\"hovertemplate\":\"team=football<br>time=2021-09-10T01:06:02.300<br>x=%{x}<br>y=%{y}<extra></extra>\",\"legendgroup\":\"football\",\"marker\":{\"color\":\"#00cc96\",\"symbol\":\"circle\"},\"mode\":\"markers\",\"name\":\"football\",\"orientation\":\"v\",\"showlegend\":true,\"x\":[14.91],\"xaxis\":\"x\",\"y\":[29.96],\"yaxis\":\"y\",\"type\":\"scatter\"}],\"name\":\"2021-09-10T01:06:02.300\"},{\"data\":[{\"hovertemplate\":\"team=TB<br>time=2021-09-10T01:06:02.400<br>x=%{x}<br>y=%{y}<extra></extra>\",\"legendgroup\":\"TB\",\"marker\":{\"color\":\"#636efa\",\"symbol\":\"circle\"},\"mode\":\"markers\",\"name\":\"TB\",\"orientation\":\"v\",\"showlegend\":true,\"x\":[17.07,16.97,21.19,20.02,17.19,17.1,25.93,20.7,24.4,29.27,30.75],\"xaxis\":\"x\",\"y\":[32.09,34.99,20.75,37.01,24.85,29.5,9.8,29.15,45.61,36.35,20.2],\"yaxis\":\"y\",\"type\":\"scatter\"},{\"hovertemplate\":\"team=DAL<br>time=2021-09-10T01:06:02.400<br>x=%{x}<br>y=%{y}<extra></extra>\",\"legendgroup\":\"DAL\",\"marker\":{\"color\":\"#EF553B\",\"symbol\":\"circle\"},\"mode\":\"markers\",\"name\":\"DAL\",\"orientation\":\"v\",\"showlegend\":true,\"x\":[15.1,16.25,15.2,12.13,15.44,15.15,15.46,15.39,12.17,16.47,15.57],\"xaxis\":\"x\",\"y\":[33.12,46.53,26.78,29.84,31.67,8.52,37.84,28.46,27.01,18.28,29.86],\"yaxis\":\"y\",\"type\":\"scatter\"},{\"hovertemplate\":\"team=football<br>time=2021-09-10T01:06:02.400<br>x=%{x}<br>y=%{y}<extra></extra>\",\"legendgroup\":\"football\",\"marker\":{\"color\":\"#00cc96\",\"symbol\":\"circle\"},\"mode\":\"markers\",\"name\":\"football\",\"orientation\":\"v\",\"showlegend\":true,\"x\":[14.48],\"xaxis\":\"x\",\"y\":[29.93],\"yaxis\":\"y\",\"type\":\"scatter\"}],\"name\":\"2021-09-10T01:06:02.400\"},{\"data\":[{\"hovertemplate\":\"team=TB<br>time=2021-09-10T01:06:02.500<br>x=%{x}<br>y=%{y}<extra></extra>\",\"legendgroup\":\"TB\",\"marker\":{\"color\":\"#636efa\",\"symbol\":\"circle\"},\"mode\":\"markers\",\"name\":\"TB\",\"orientation\":\"v\",\"showlegend\":true,\"x\":[16.97,16.78,21.22,20.05,16.99,16.95,26.01,20.68,24.49,29.31,30.77],\"xaxis\":\"x\",\"y\":[32.16,34.98,20.65,37.01,24.89,29.54,9.83,29.1,45.6,36.36,20.17],\"yaxis\":\"y\",\"type\":\"scatter\"},{\"hovertemplate\":\"team=DAL<br>time=2021-09-10T01:06:02.500<br>x=%{x}<br>y=%{y}<extra></extra>\",\"legendgroup\":\"DAL\",\"marker\":{\"color\":\"#EF553B\",\"symbol\":\"circle\"},\"mode\":\"markers\",\"name\":\"DAL\",\"orientation\":\"v\",\"showlegend\":true,\"x\":[14.98,16.31,15.1,12.05,15.31,15.28,15.66,15.29,12.16,16.64,15.46],\"xaxis\":\"x\",\"y\":[33.14,46.51,26.69,29.84,31.74,8.52,37.85,28.46,27.0,18.27,29.9],\"yaxis\":\"y\",\"type\":\"scatter\"},{\"hovertemplate\":\"team=football<br>time=2021-09-10T01:06:02.500<br>x=%{x}<br>y=%{y}<extra></extra>\",\"legendgroup\":\"football\",\"marker\":{\"color\":\"#00cc96\",\"symbol\":\"circle\"},\"mode\":\"markers\",\"name\":\"football\",\"orientation\":\"v\",\"showlegend\":true,\"x\":[13.96],\"xaxis\":\"x\",\"y\":[29.88],\"yaxis\":\"y\",\"type\":\"scatter\"}],\"name\":\"2021-09-10T01:06:02.500\"},{\"data\":[{\"hovertemplate\":\"team=TB<br>time=2021-09-10T01:06:02.600<br>x=%{x}<br>y=%{y}<extra></extra>\",\"legendgroup\":\"TB\",\"marker\":{\"color\":\"#636efa\",\"symbol\":\"circle\"},\"mode\":\"markers\",\"name\":\"TB\",\"orientation\":\"v\",\"showlegend\":true,\"x\":[16.82,16.59,21.27,20.08,16.73,16.75,26.1,20.67,24.59,29.37,30.8],\"xaxis\":\"x\",\"y\":[32.24,34.94,20.54,37.0,24.92,29.58,9.85,29.02,45.58,36.36,20.15],\"yaxis\":\"y\",\"type\":\"scatter\"},{\"hovertemplate\":\"team=DAL<br>time=2021-09-10T01:06:02.600<br>x=%{x}<br>y=%{y}<extra></extra>\",\"legendgroup\":\"DAL\",\"marker\":{\"color\":\"#EF553B\",\"symbol\":\"circle\"},\"mode\":\"markers\",\"name\":\"DAL\",\"orientation\":\"v\",\"showlegend\":true,\"x\":[14.85,16.41,14.96,11.91,15.18,15.49,15.91,15.17,12.15,16.88,15.35],\"xaxis\":\"x\",\"y\":[33.18,46.5,26.57,29.85,31.81,8.52,37.88,28.46,27.04,18.25,29.95],\"yaxis\":\"y\",\"type\":\"scatter\"},{\"hovertemplate\":\"team=football<br>time=2021-09-10T01:06:02.600<br>x=%{x}<br>y=%{y}<extra></extra>\",\"legendgroup\":\"football\",\"marker\":{\"color\":\"#00cc96\",\"symbol\":\"circle\"},\"mode\":\"markers\",\"name\":\"football\",\"orientation\":\"v\",\"showlegend\":true,\"x\":[13.32],\"xaxis\":\"x\",\"y\":[29.87],\"yaxis\":\"y\",\"type\":\"scatter\"}],\"name\":\"2021-09-10T01:06:02.600\"},{\"data\":[{\"hovertemplate\":\"team=TB<br>time=2021-09-10T01:06:02.700<br>x=%{x}<br>y=%{y}<extra></extra>\",\"legendgroup\":\"TB\",\"marker\":{\"color\":\"#636efa\",\"symbol\":\"circle\"},\"mode\":\"markers\",\"name\":\"TB\",\"orientation\":\"v\",\"showlegend\":true,\"x\":[16.63,16.33,21.32,20.11,16.42,16.53,26.21,20.67,24.72,29.44,30.84],\"xaxis\":\"x\",\"y\":[32.31,34.89,20.42,37.01,24.94,29.6,9.87,28.91,45.56,36.37,20.13],\"yaxis\":\"y\",\"type\":\"scatter\"},{\"hovertemplate\":\"team=DAL<br>time=2021-09-10T01:06:02.700<br>x=%{x}<br>y=%{y}<extra></extra>\",\"legendgroup\":\"DAL\",\"marker\":{\"color\":\"#EF553B\",\"symbol\":\"circle\"},\"mode\":\"markers\",\"name\":\"DAL\",\"orientation\":\"v\",\"showlegend\":true,\"x\":[14.65,16.59,14.8,11.73,15.01,15.78,16.22,15.03,12.14,17.19,15.23],\"xaxis\":\"x\",\"y\":[33.24,46.5,26.42,29.85,31.85,8.52,37.92,28.48,27.09,18.2,29.96],\"yaxis\":\"y\",\"type\":\"scatter\"},{\"hovertemplate\":\"team=football<br>time=2021-09-10T01:06:02.700<br>x=%{x}<br>y=%{y}<extra></extra>\",\"legendgroup\":\"football\",\"marker\":{\"color\":\"#00cc96\",\"symbol\":\"circle\"},\"mode\":\"markers\",\"name\":\"football\",\"orientation\":\"v\",\"showlegend\":true,\"x\":[12.72],\"xaxis\":\"x\",\"y\":[29.81],\"yaxis\":\"y\",\"type\":\"scatter\"}],\"name\":\"2021-09-10T01:06:02.700\"},{\"data\":[{\"hovertemplate\":\"team=TB<br>time=2021-09-10T01:06:02.800<br>x=%{x}<br>y=%{y}<extra></extra>\",\"legendgroup\":\"TB\",\"marker\":{\"color\":\"#636efa\",\"symbol\":\"circle\"},\"mode\":\"markers\",\"name\":\"TB\",\"orientation\":\"v\",\"showlegend\":true,\"x\":[16.4,16.04,21.4,20.17,16.09,16.28,26.34,20.67,24.89,29.52,30.89],\"xaxis\":\"x\",\"y\":[32.37,34.84,20.26,37.05,24.98,29.61,9.87,28.78,45.55,36.37,20.11],\"yaxis\":\"y\",\"type\":\"scatter\"},{\"hovertemplate\":\"team=DAL<br>time=2021-09-10T01:06:02.800<br>x=%{x}<br>y=%{y}<extra></extra>\",\"legendgroup\":\"DAL\",\"marker\":{\"color\":\"#EF553B\",\"symbol\":\"circle\"},\"mode\":\"markers\",\"name\":\"DAL\",\"orientation\":\"v\",\"showlegend\":true,\"x\":[14.45,16.83,14.6,11.52,14.86,16.13,16.58,14.88,12.14,17.54,15.1],\"xaxis\":\"x\",\"y\":[33.31,46.52,26.25,29.85,31.92,8.5,37.96,28.49,27.14,18.14,29.95],\"yaxis\":\"y\",\"type\":\"scatter\"},{\"hovertemplate\":\"team=football<br>time=2021-09-10T01:06:02.800<br>x=%{x}<br>y=%{y}<extra></extra>\",\"legendgroup\":\"football\",\"marker\":{\"color\":\"#00cc96\",\"symbol\":\"circle\"},\"mode\":\"markers\",\"name\":\"football\",\"orientation\":\"v\",\"showlegend\":true,\"x\":[12.25],\"xaxis\":\"x\",\"y\":[29.74],\"yaxis\":\"y\",\"type\":\"scatter\"}],\"name\":\"2021-09-10T01:06:02.800\"},{\"data\":[{\"hovertemplate\":\"team=TB<br>time=2021-09-10T01:06:02.900<br>x=%{x}<br>y=%{y}<extra></extra>\",\"legendgroup\":\"TB\",\"marker\":{\"color\":\"#636efa\",\"symbol\":\"circle\"},\"mode\":\"markers\",\"name\":\"TB\",\"orientation\":\"v\",\"showlegend\":true,\"x\":[16.14,15.71,21.5,20.23,15.72,16.02,26.49,20.69,25.08,29.63,30.97],\"xaxis\":\"x\",\"y\":[32.42,34.79,20.07,37.12,25.01,29.6,9.85,28.63,45.53,36.36,20.09],\"yaxis\":\"y\",\"type\":\"scatter\"},{\"hovertemplate\":\"team=DAL<br>time=2021-09-10T01:06:02.900<br>x=%{x}<br>y=%{y}<extra></extra>\",\"legendgroup\":\"DAL\",\"marker\":{\"color\":\"#EF553B\",\"symbol\":\"circle\"},\"mode\":\"markers\",\"name\":\"DAL\",\"orientation\":\"v\",\"showlegend\":true,\"x\":[14.25,17.14,14.39,11.29,14.71,16.56,17.01,14.72,12.14,17.94,14.98],\"xaxis\":\"x\",\"y\":[33.35,46.54,26.1,29.87,31.98,8.49,38.03,28.49,27.19,18.05,29.94],\"yaxis\":\"y\",\"type\":\"scatter\"},{\"hovertemplate\":\"team=football<br>time=2021-09-10T01:06:02.900<br>x=%{x}<br>y=%{y}<extra></extra>\",\"legendgroup\":\"football\",\"marker\":{\"color\":\"#00cc96\",\"symbol\":\"circle\"},\"mode\":\"markers\",\"name\":\"football\",\"orientation\":\"v\",\"showlegend\":true,\"x\":[11.93],\"xaxis\":\"x\",\"y\":[29.71],\"yaxis\":\"y\",\"type\":\"scatter\"}],\"name\":\"2021-09-10T01:06:02.900\"},{\"data\":[{\"hovertemplate\":\"team=TB<br>time=2021-09-10T01:06:03.000<br>x=%{x}<br>y=%{y}<extra></extra>\",\"legendgroup\":\"TB\",\"marker\":{\"color\":\"#636efa\",\"symbol\":\"circle\"},\"mode\":\"markers\",\"name\":\"TB\",\"orientation\":\"v\",\"showlegend\":true,\"x\":[15.85,15.33,21.63,20.3,15.35,15.72,26.66,20.73,25.29,29.76,31.07],\"xaxis\":\"x\",\"y\":[32.45,34.72,19.85,37.22,25.03,29.56,9.82,28.46,45.54,36.36,20.04],\"yaxis\":\"y\",\"type\":\"scatter\"},{\"hovertemplate\":\"team=DAL<br>time=2021-09-10T01:06:03.000<br>x=%{x}<br>y=%{y}<extra></extra>\",\"legendgroup\":\"DAL\",\"marker\":{\"color\":\"#EF553B\",\"symbol\":\"circle\"},\"mode\":\"markers\",\"name\":\"DAL\",\"orientation\":\"v\",\"showlegend\":true,\"x\":[14.03,17.52,14.17,11.05,14.53,17.04,17.48,14.53,12.18,18.39,14.83],\"xaxis\":\"x\",\"y\":[33.4,46.58,25.95,29.87,32.02,8.46,38.1,28.52,27.22,17.92,29.9],\"yaxis\":\"y\",\"type\":\"scatter\"},{\"hovertemplate\":\"team=football<br>time=2021-09-10T01:06:03.000<br>x=%{x}<br>y=%{y}<extra></extra>\",\"legendgroup\":\"football\",\"marker\":{\"color\":\"#00cc96\",\"symbol\":\"circle\"},\"mode\":\"markers\",\"name\":\"football\",\"orientation\":\"v\",\"showlegend\":true,\"x\":[11.67],\"xaxis\":\"x\",\"y\":[29.69],\"yaxis\":\"y\",\"type\":\"scatter\"}],\"name\":\"2021-09-10T01:06:03.000\"},{\"data\":[{\"hovertemplate\":\"team=TB<br>time=2021-09-10T01:06:03.100<br>x=%{x}<br>y=%{y}<extra></extra>\",\"legendgroup\":\"TB\",\"marker\":{\"color\":\"#636efa\",\"symbol\":\"circle\"},\"mode\":\"markers\",\"name\":\"TB\",\"orientation\":\"v\",\"showlegend\":true,\"x\":[15.56,14.96,21.78,20.38,14.98,15.43,26.84,20.79,25.53,29.93,31.21],\"xaxis\":\"x\",\"y\":[32.46,34.65,19.58,37.35,25.05,29.49,9.78,28.27,45.56,36.36,19.99],\"yaxis\":\"y\",\"type\":\"scatter\"},{\"hovertemplate\":\"team=DAL<br>time=2021-09-10T01:06:03.100<br>x=%{x}<br>y=%{y}<extra></extra>\",\"legendgroup\":\"DAL\",\"marker\":{\"color\":\"#EF553B\",\"symbol\":\"circle\"},\"mode\":\"markers\",\"name\":\"DAL\",\"orientation\":\"v\",\"showlegend\":true,\"x\":[13.82,17.95,13.93,10.83,14.34,17.57,17.97,14.35,12.24,18.89,14.65],\"xaxis\":\"x\",\"y\":[33.4,46.62,25.78,29.86,32.03,8.43,38.2,28.52,27.24,17.78,29.88],\"yaxis\":\"y\",\"type\":\"scatter\"},{\"hovertemplate\":\"team=football<br>time=2021-09-10T01:06:03.100<br>x=%{x}<br>y=%{y}<extra></extra>\",\"legendgroup\":\"football\",\"marker\":{\"color\":\"#00cc96\",\"symbol\":\"circle\"},\"mode\":\"markers\",\"name\":\"football\",\"orientation\":\"v\",\"showlegend\":true,\"x\":[11.44],\"xaxis\":\"x\",\"y\":[29.65],\"yaxis\":\"y\",\"type\":\"scatter\"}],\"name\":\"2021-09-10T01:06:03.100\"},{\"data\":[{\"hovertemplate\":\"team=TB<br>time=2021-09-10T01:06:03.200<br>x=%{x}<br>y=%{y}<extra></extra>\",\"legendgroup\":\"TB\",\"marker\":{\"color\":\"#636efa\",\"symbol\":\"circle\"},\"mode\":\"markers\",\"name\":\"TB\",\"orientation\":\"v\",\"showlegend\":true,\"x\":[15.25,14.55,21.95,20.48,14.65,15.15,27.04,20.88,25.8,30.13,31.37],\"xaxis\":\"x\",\"y\":[32.44,34.57,19.27,37.51,25.04,29.42,9.72,28.07,45.58,36.36,19.93],\"yaxis\":\"y\",\"type\":\"scatter\"},{\"hovertemplate\":\"team=DAL<br>time=2021-09-10T01:06:03.200<br>x=%{x}<br>y=%{y}<extra></extra>\",\"legendgroup\":\"DAL\",\"marker\":{\"color\":\"#EF553B\",\"symbol\":\"circle\"},\"mode\":\"markers\",\"name\":\"DAL\",\"orientation\":\"v\",\"showlegend\":true,\"x\":[13.6,18.41,13.69,10.61,14.16,18.14,18.49,14.16,12.35,19.4,14.48],\"xaxis\":\"x\",\"y\":[33.4,46.66,25.67,29.86,32.04,8.4,38.34,28.53,27.26,17.61,29.84],\"yaxis\":\"y\",\"type\":\"scatter\"},{\"hovertemplate\":\"team=football<br>time=2021-09-10T01:06:03.200<br>x=%{x}<br>y=%{y}<extra></extra>\",\"legendgroup\":\"football\",\"marker\":{\"color\":\"#00cc96\",\"symbol\":\"circle\"},\"mode\":\"markers\",\"name\":\"football\",\"orientation\":\"v\",\"showlegend\":true,\"x\":[11.15],\"xaxis\":\"x\",\"y\":[29.58],\"yaxis\":\"y\",\"type\":\"scatter\"}],\"name\":\"2021-09-10T01:06:03.200\"},{\"data\":[{\"hovertemplate\":\"team=TB<br>time=2021-09-10T01:06:03.300<br>x=%{x}<br>y=%{y}<extra></extra>\",\"legendgroup\":\"TB\",\"marker\":{\"color\":\"#636efa\",\"symbol\":\"circle\"},\"mode\":\"markers\",\"name\":\"TB\",\"orientation\":\"v\",\"showlegend\":true,\"x\":[14.95,14.14,22.15,20.61,14.3,14.89,27.24,21.0,26.09,30.34,31.56],\"xaxis\":\"x\",\"y\":[32.41,34.5,18.91,37.69,25.03,29.35,9.66,27.85,45.62,36.35,19.84],\"yaxis\":\"y\",\"type\":\"scatter\"},{\"hovertemplate\":\"team=DAL<br>time=2021-09-10T01:06:03.300<br>x=%{x}<br>y=%{y}<extra></extra>\",\"legendgroup\":\"DAL\",\"marker\":{\"color\":\"#EF553B\",\"symbol\":\"circle\"},\"mode\":\"markers\",\"name\":\"DAL\",\"orientation\":\"v\",\"showlegend\":true,\"x\":[13.33,18.92,13.44,10.41,13.96,18.73,19.05,13.97,12.5,19.94,14.33],\"xaxis\":\"x\",\"y\":[33.44,46.72,25.57,29.84,32.03,8.35,38.48,28.53,27.26,17.41,29.79],\"yaxis\":\"y\",\"type\":\"scatter\"},{\"hovertemplate\":\"team=football<br>time=2021-09-10T01:06:03.300<br>x=%{x}<br>y=%{y}<extra></extra>\",\"legendgroup\":\"football\",\"marker\":{\"color\":\"#00cc96\",\"symbol\":\"circle\"},\"mode\":\"markers\",\"name\":\"football\",\"orientation\":\"v\",\"showlegend\":true,\"x\":[10.89],\"xaxis\":\"x\",\"y\":[29.5],\"yaxis\":\"y\",\"type\":\"scatter\"}],\"name\":\"2021-09-10T01:06:03.300\"},{\"data\":[{\"hovertemplate\":\"team=TB<br>time=2021-09-10T01:06:03.400<br>x=%{x}<br>y=%{y}<extra></extra>\",\"legendgroup\":\"TB\",\"marker\":{\"color\":\"#636efa\",\"symbol\":\"circle\"},\"mode\":\"markers\",\"name\":\"TB\",\"orientation\":\"v\",\"showlegend\":true,\"x\":[14.66,13.73,22.36,20.78,13.97,14.62,27.46,21.15,26.38,30.58,31.77],\"xaxis\":\"x\",\"y\":[32.36,34.42,18.54,37.88,25.02,29.26,9.56,27.63,45.66,36.35,19.74],\"yaxis\":\"y\",\"type\":\"scatter\"},{\"hovertemplate\":\"team=DAL<br>time=2021-09-10T01:06:03.400<br>x=%{x}<br>y=%{y}<extra></extra>\",\"legendgroup\":\"DAL\",\"marker\":{\"color\":\"#EF553B\",\"symbol\":\"circle\"},\"mode\":\"markers\",\"name\":\"DAL\",\"orientation\":\"v\",\"showlegend\":true,\"x\":[13.09,19.45,13.2,10.25,13.76,19.35,19.62,13.79,12.7,20.51,14.16],\"xaxis\":\"x\",\"y\":[33.43,46.78,25.49,29.82,32.01,8.3,38.65,28.53,27.24,17.16,29.77],\"yaxis\":\"y\",\"type\":\"scatter\"},{\"hovertemplate\":\"team=football<br>time=2021-09-10T01:06:03.400<br>x=%{x}<br>y=%{y}<extra></extra>\",\"legendgroup\":\"football\",\"marker\":{\"color\":\"#00cc96\",\"symbol\":\"circle\"},\"mode\":\"markers\",\"name\":\"football\",\"orientation\":\"v\",\"showlegend\":true,\"x\":[10.81],\"xaxis\":\"x\",\"y\":[29.5],\"yaxis\":\"y\",\"type\":\"scatter\"}],\"name\":\"2021-09-10T01:06:03.400\"},{\"data\":[{\"hovertemplate\":\"team=TB<br>time=2021-09-10T01:06:03.500<br>x=%{x}<br>y=%{y}<extra></extra>\",\"legendgroup\":\"TB\",\"marker\":{\"color\":\"#636efa\",\"symbol\":\"circle\"},\"mode\":\"markers\",\"name\":\"TB\",\"orientation\":\"v\",\"showlegend\":true,\"x\":[14.37,13.33,22.6,20.95,13.65,14.36,27.71,21.33,26.69,30.84,32.0],\"xaxis\":\"x\",\"y\":[32.28,34.35,18.11,38.06,24.98,29.17,9.44,27.39,45.71,36.35,19.63],\"yaxis\":\"y\",\"type\":\"scatter\"},{\"hovertemplate\":\"team=DAL<br>time=2021-09-10T01:06:03.500<br>x=%{x}<br>y=%{y}<extra></extra>\",\"legendgroup\":\"DAL\",\"marker\":{\"color\":\"#EF553B\",\"symbol\":\"circle\"},\"mode\":\"markers\",\"name\":\"DAL\",\"orientation\":\"v\",\"showlegend\":true,\"x\":[12.86,20.02,12.97,10.11,13.56,19.98,20.22,13.6,12.95,21.1,13.97],\"xaxis\":\"x\",\"y\":[33.43,46.85,25.43,29.8,31.97,8.25,38.83,28.51,27.22,16.89,29.73],\"yaxis\":\"y\",\"type\":\"scatter\"},{\"hovertemplate\":\"team=football<br>time=2021-09-10T01:06:03.500<br>x=%{x}<br>y=%{y}<extra></extra>\",\"legendgroup\":\"football\",\"marker\":{\"color\":\"#00cc96\",\"symbol\":\"circle\"},\"mode\":\"markers\",\"name\":\"football\",\"orientation\":\"v\",\"showlegend\":true,\"x\":[10.74],\"xaxis\":\"x\",\"y\":[29.48],\"yaxis\":\"y\",\"type\":\"scatter\"}],\"name\":\"2021-09-10T01:06:03.500\"},{\"data\":[{\"hovertemplate\":\"team=TB<br>time=2021-09-10T01:06:03.600<br>x=%{x}<br>y=%{y}<extra></extra>\",\"legendgroup\":\"TB\",\"marker\":{\"color\":\"#636efa\",\"symbol\":\"circle\"},\"mode\":\"markers\",\"name\":\"TB\",\"orientation\":\"v\",\"showlegend\":true,\"x\":[14.11,12.95,22.83,21.16,13.3,14.13,27.97,21.53,27.02,31.12,32.25],\"xaxis\":\"x\",\"y\":[32.17,34.28,17.69,38.24,24.92,29.07,9.3,27.15,45.77,36.35,19.5],\"yaxis\":\"y\",\"type\":\"scatter\"},{\"hovertemplate\":\"team=DAL<br>time=2021-09-10T01:06:03.600<br>x=%{x}<br>y=%{y}<extra></extra>\",\"legendgroup\":\"DAL\",\"marker\":{\"color\":\"#EF553B\",\"symbol\":\"circle\"},\"mode\":\"markers\",\"name\":\"DAL\",\"orientation\":\"v\",\"showlegend\":true,\"x\":[12.6,20.59,12.73,10.01,13.35,20.62,20.82,13.4,13.26,21.69,13.78],\"xaxis\":\"x\",\"y\":[33.43,46.92,25.39,29.78,31.93,8.19,39.03,28.51,27.19,16.58,29.64],\"yaxis\":\"y\",\"type\":\"scatter\"},{\"hovertemplate\":\"team=football<br>time=2021-09-10T01:06:03.600<br>x=%{x}<br>y=%{y}<extra></extra>\",\"legendgroup\":\"football\",\"marker\":{\"color\":\"#00cc96\",\"symbol\":\"circle\"},\"mode\":\"markers\",\"name\":\"football\",\"orientation\":\"v\",\"showlegend\":true,\"x\":[10.61],\"xaxis\":\"x\",\"y\":[29.41],\"yaxis\":\"y\",\"type\":\"scatter\"}],\"name\":\"2021-09-10T01:06:03.600\"},{\"data\":[{\"hovertemplate\":\"team=TB<br>time=2021-09-10T01:06:03.700<br>x=%{x}<br>y=%{y}<extra></extra>\",\"legendgroup\":\"TB\",\"marker\":{\"color\":\"#636efa\",\"symbol\":\"circle\"},\"mode\":\"markers\",\"name\":\"TB\",\"orientation\":\"v\",\"showlegend\":true,\"x\":[13.85,12.6,23.06,21.41,12.99,13.86,28.28,21.74,27.35,31.4,32.51],\"xaxis\":\"x\",\"y\":[32.03,34.19,17.26,38.41,24.86,28.99,9.18,26.9,45.82,36.36,19.36],\"yaxis\":\"y\",\"type\":\"scatter\"},{\"hovertemplate\":\"team=DAL<br>time=2021-09-10T01:06:03.700<br>x=%{x}<br>y=%{y}<extra></extra>\",\"legendgroup\":\"DAL\",\"marker\":{\"color\":\"#EF553B\",\"symbol\":\"circle\"},\"mode\":\"markers\",\"name\":\"DAL\",\"orientation\":\"v\",\"showlegend\":true,\"x\":[12.33,21.16,12.48,9.93,13.17,21.25,21.43,13.2,13.63,22.29,13.57],\"xaxis\":\"x\",\"y\":[33.43,47.0,25.38,29.75,31.89,8.12,39.22,28.47,27.16,16.26,29.53],\"yaxis\":\"y\",\"type\":\"scatter\"},{\"hovertemplate\":\"team=football<br>time=2021-09-10T01:06:03.700<br>x=%{x}<br>y=%{y}<extra></extra>\",\"legendgroup\":\"football\",\"marker\":{\"color\":\"#00cc96\",\"symbol\":\"circle\"},\"mode\":\"markers\",\"name\":\"football\",\"orientation\":\"v\",\"showlegend\":true,\"x\":[10.57],\"xaxis\":\"x\",\"y\":[29.4],\"yaxis\":\"y\",\"type\":\"scatter\"}],\"name\":\"2021-09-10T01:06:03.700\"},{\"data\":[{\"hovertemplate\":\"team=TB<br>time=2021-09-10T01:06:03.800<br>x=%{x}<br>y=%{y}<extra></extra>\",\"legendgroup\":\"TB\",\"marker\":{\"color\":\"#636efa\",\"symbol\":\"circle\"},\"mode\":\"markers\",\"name\":\"TB\",\"orientation\":\"v\",\"showlegend\":true,\"x\":[13.62,12.29,23.3,21.68,12.68,13.6,28.58,21.96,27.69,31.7,32.78],\"xaxis\":\"x\",\"y\":[31.88,34.12,16.82,38.57,24.85,28.87,9.06,26.72,45.87,36.37,19.22],\"yaxis\":\"y\",\"type\":\"scatter\"},{\"hovertemplate\":\"team=DAL<br>time=2021-09-10T01:06:03.800<br>x=%{x}<br>y=%{y}<extra></extra>\",\"legendgroup\":\"DAL\",\"marker\":{\"color\":\"#EF553B\",\"symbol\":\"circle\"},\"mode\":\"markers\",\"name\":\"DAL\",\"orientation\":\"v\",\"showlegend\":true,\"x\":[12.09,21.64,12.24,9.87,12.99,21.89,22.06,13.0,14.03,22.9,13.43],\"xaxis\":\"x\",\"y\":[33.42,47.1,25.41,29.72,31.85,8.04,39.4,28.45,27.13,15.92,29.46],\"yaxis\":\"y\",\"type\":\"scatter\"},{\"hovertemplate\":\"team=football<br>time=2021-09-10T01:06:03.800<br>x=%{x}<br>y=%{y}<extra></extra>\",\"legendgroup\":\"football\",\"marker\":{\"color\":\"#00cc96\",\"symbol\":\"circle\"},\"mode\":\"markers\",\"name\":\"football\",\"orientation\":\"v\",\"showlegend\":true,\"x\":[10.37],\"xaxis\":\"x\",\"y\":[29.34],\"yaxis\":\"y\",\"type\":\"scatter\"}],\"name\":\"2021-09-10T01:06:03.800\"},{\"data\":[{\"hovertemplate\":\"team=TB<br>time=2021-09-10T01:06:03.900<br>x=%{x}<br>y=%{y}<extra></extra>\",\"legendgroup\":\"TB\",\"marker\":{\"color\":\"#636efa\",\"symbol\":\"circle\"},\"mode\":\"markers\",\"name\":\"TB\",\"orientation\":\"v\",\"showlegend\":true,\"x\":[13.4,12.02,23.54,21.97,12.4,13.35,28.91,22.18,28.04,32.0,33.06],\"xaxis\":\"x\",\"y\":[31.72,34.0,16.37,38.72,24.85,28.74,8.92,26.56,45.91,36.37,19.07],\"yaxis\":\"y\",\"type\":\"scatter\"},{\"hovertemplate\":\"team=DAL<br>time=2021-09-10T01:06:03.900<br>x=%{x}<br>y=%{y}<extra></extra>\",\"legendgroup\":\"DAL\",\"marker\":{\"color\":\"#EF553B\",\"symbol\":\"circle\"},\"mode\":\"markers\",\"name\":\"DAL\",\"orientation\":\"v\",\"showlegend\":true,\"x\":[11.81,22.09,12.01,9.82,12.87,22.49,22.69,12.8,14.47,23.5,13.27],\"xaxis\":\"x\",\"y\":[33.38,47.2,25.44,29.7,31.81,7.94,39.57,28.42,27.12,15.57,29.38],\"yaxis\":\"y\",\"type\":\"scatter\"},{\"hovertemplate\":\"team=football<br>time=2021-09-10T01:06:03.900<br>x=%{x}<br>y=%{y}<extra></extra>\",\"legendgroup\":\"football\",\"marker\":{\"color\":\"#00cc96\",\"symbol\":\"circle\"},\"mode\":\"markers\",\"name\":\"football\",\"orientation\":\"v\",\"showlegend\":true,\"x\":[10.3],\"xaxis\":\"x\",\"y\":[29.33],\"yaxis\":\"y\",\"type\":\"scatter\"}],\"name\":\"2021-09-10T01:06:03.900\"},{\"data\":[{\"hovertemplate\":\"team=TB<br>time=2021-09-10T01:06:04.000<br>x=%{x}<br>y=%{y}<extra></extra>\",\"legendgroup\":\"TB\",\"marker\":{\"color\":\"#636efa\",\"symbol\":\"circle\"},\"mode\":\"markers\",\"name\":\"TB\",\"orientation\":\"v\",\"showlegend\":true,\"x\":[13.22,11.77,23.76,22.28,12.12,13.12,29.25,22.4,28.39,32.32,33.35],\"xaxis\":\"x\",\"y\":[31.53,33.86,15.93,38.84,24.85,28.67,8.77,26.41,45.94,36.36,18.89],\"yaxis\":\"y\",\"type\":\"scatter\"},{\"hovertemplate\":\"team=DAL<br>time=2021-09-10T01:06:04.000<br>x=%{x}<br>y=%{y}<extra></extra>\",\"legendgroup\":\"DAL\",\"marker\":{\"color\":\"#EF553B\",\"symbol\":\"circle\"},\"mode\":\"markers\",\"name\":\"DAL\",\"orientation\":\"v\",\"showlegend\":true,\"x\":[11.57,22.47,11.79,9.76,12.73,23.04,23.34,12.61,14.94,24.11,13.09],\"xaxis\":\"x\",\"y\":[33.22,47.3,25.48,29.67,31.75,7.83,39.71,28.38,27.16,15.2,29.28],\"yaxis\":\"y\",\"type\":\"scatter\"},{\"hovertemplate\":\"team=football<br>time=2021-09-10T01:06:04.000<br>x=%{x}<br>y=%{y}<extra></extra>\",\"legendgroup\":\"football\",\"marker\":{\"color\":\"#00cc96\",\"symbol\":\"circle\"},\"mode\":\"markers\",\"name\":\"football\",\"orientation\":\"v\",\"showlegend\":true,\"x\":[10.26],\"xaxis\":\"x\",\"y\":[29.32],\"yaxis\":\"y\",\"type\":\"scatter\"}],\"name\":\"2021-09-10T01:06:04.000\"},{\"data\":[{\"hovertemplate\":\"team=TB<br>time=2021-09-10T01:06:04.100<br>x=%{x}<br>y=%{y}<extra></extra>\",\"legendgroup\":\"TB\",\"marker\":{\"color\":\"#636efa\",\"symbol\":\"circle\"},\"mode\":\"markers\",\"name\":\"TB\",\"orientation\":\"v\",\"showlegend\":true,\"x\":[13.07,11.56,23.96,22.61,11.92,12.89,29.61,22.61,28.75,32.64,33.66],\"xaxis\":\"x\",\"y\":[31.33,33.73,15.5,38.92,24.96,28.59,8.63,26.32,45.95,36.36,18.7],\"yaxis\":\"y\",\"type\":\"scatter\"},{\"hovertemplate\":\"team=DAL<br>time=2021-09-10T01:06:04.100<br>x=%{x}<br>y=%{y}<extra></extra>\",\"legendgroup\":\"DAL\",\"marker\":{\"color\":\"#EF553B\",\"symbol\":\"circle\"},\"mode\":\"markers\",\"name\":\"DAL\",\"orientation\":\"v\",\"showlegend\":true,\"x\":[11.33,22.83,11.59,9.7,12.66,23.58,24.0,12.41,15.43,24.73,12.91],\"xaxis\":\"x\",\"y\":[33.16,47.4,25.54,29.66,31.65,7.73,39.77,28.34,27.26,14.85,29.2],\"yaxis\":\"y\",\"type\":\"scatter\"},{\"hovertemplate\":\"team=football<br>time=2021-09-10T01:06:04.100<br>x=%{x}<br>y=%{y}<extra></extra>\",\"legendgroup\":\"football\",\"marker\":{\"color\":\"#00cc96\",\"symbol\":\"circle\"},\"mode\":\"markers\",\"name\":\"football\",\"orientation\":\"v\",\"showlegend\":true,\"x\":[10.11],\"xaxis\":\"x\",\"y\":[29.31],\"yaxis\":\"y\",\"type\":\"scatter\"}],\"name\":\"2021-09-10T01:06:04.100\"},{\"data\":[{\"hovertemplate\":\"team=TB<br>time=2021-09-10T01:06:04.200<br>x=%{x}<br>y=%{y}<extra></extra>\",\"legendgroup\":\"TB\",\"marker\":{\"color\":\"#636efa\",\"symbol\":\"circle\"},\"mode\":\"markers\",\"name\":\"TB\",\"orientation\":\"v\",\"showlegend\":true,\"x\":[12.95,11.38,24.14,22.96,11.74,12.68,30.0,22.81,29.1,32.95,33.96],\"xaxis\":\"x\",\"y\":[31.13,33.6,15.07,38.99,25.05,28.49,8.5,26.27,45.95,36.35,18.51],\"yaxis\":\"y\",\"type\":\"scatter\"},{\"hovertemplate\":\"team=DAL<br>time=2021-09-10T01:06:04.200<br>x=%{x}<br>y=%{y}<extra></extra>\",\"legendgroup\":\"DAL\",\"marker\":{\"color\":\"#EF553B\",\"symbol\":\"circle\"},\"mode\":\"markers\",\"name\":\"DAL\",\"orientation\":\"v\",\"showlegend\":true,\"x\":[11.12,23.11,11.4,9.64,12.61,24.08,24.65,12.23,15.94,25.35,12.74],\"xaxis\":\"x\",\"y\":[33.09,47.52,25.61,29.65,31.54,7.63,39.79,28.29,27.41,14.51,29.11],\"yaxis\":\"y\",\"type\":\"scatter\"},{\"hovertemplate\":\"team=football<br>time=2021-09-10T01:06:04.200<br>x=%{x}<br>y=%{y}<extra></extra>\",\"legendgroup\":\"football\",\"marker\":{\"color\":\"#00cc96\",\"symbol\":\"circle\"},\"mode\":\"markers\",\"name\":\"football\",\"orientation\":\"v\",\"showlegend\":true,\"x\":[9.98],\"xaxis\":\"x\",\"y\":[29.32],\"yaxis\":\"y\",\"type\":\"scatter\"}],\"name\":\"2021-09-10T01:06:04.200\"},{\"data\":[{\"hovertemplate\":\"team=TB<br>time=2021-09-10T01:06:04.300<br>x=%{x}<br>y=%{y}<extra></extra>\",\"legendgroup\":\"TB\",\"marker\":{\"color\":\"#636efa\",\"symbol\":\"circle\"},\"mode\":\"markers\",\"name\":\"TB\",\"orientation\":\"v\",\"showlegend\":true,\"x\":[12.88,11.24,24.32,23.31,11.56,12.49,30.42,22.99,29.47,33.24,34.27],\"xaxis\":\"x\",\"y\":[30.91,33.46,14.64,39.03,25.14,28.4,8.38,26.31,45.94,36.33,18.32],\"yaxis\":\"y\",\"type\":\"scatter\"},{\"hovertemplate\":\"team=DAL<br>time=2021-09-10T01:06:04.300<br>x=%{x}<br>y=%{y}<extra></extra>\",\"legendgroup\":\"DAL\",\"marker\":{\"color\":\"#EF553B\",\"symbol\":\"circle\"},\"mode\":\"markers\",\"name\":\"DAL\",\"orientation\":\"v\",\"showlegend\":true,\"x\":[10.92,23.34,11.21,9.58,12.59,24.53,25.29,12.03,16.44,25.98,12.58],\"xaxis\":\"x\",\"y\":[33.01,47.64,25.69,29.65,31.42,7.53,39.76,28.22,27.67,14.24,29.02],\"yaxis\":\"y\",\"type\":\"scatter\"},{\"hovertemplate\":\"team=football<br>time=2021-09-10T01:06:04.300<br>x=%{x}<br>y=%{y}<extra></extra>\",\"legendgroup\":\"football\",\"marker\":{\"color\":\"#00cc96\",\"symbol\":\"circle\"},\"mode\":\"markers\",\"name\":\"football\",\"orientation\":\"v\",\"showlegend\":true,\"x\":[9.91],\"xaxis\":\"x\",\"y\":[29.32],\"yaxis\":\"y\",\"type\":\"scatter\"}],\"name\":\"2021-09-10T01:06:04.300\"},{\"data\":[{\"hovertemplate\":\"team=TB<br>time=2021-09-10T01:06:04.400<br>x=%{x}<br>y=%{y}<extra></extra>\",\"legendgroup\":\"TB\",\"marker\":{\"color\":\"#636efa\",\"symbol\":\"circle\"},\"mode\":\"markers\",\"name\":\"TB\",\"orientation\":\"v\",\"showlegend\":true,\"x\":[12.83,11.13,24.47,23.66,11.38,12.31,30.87,23.14,29.85,33.51,34.58],\"xaxis\":\"x\",\"y\":[30.7,33.31,14.22,39.04,25.23,28.32,8.31,26.39,45.92,36.28,18.15],\"yaxis\":\"y\",\"type\":\"scatter\"},{\"hovertemplate\":\"team=DAL<br>time=2021-09-10T01:06:04.400<br>x=%{x}<br>y=%{y}<extra></extra>\",\"legendgroup\":\"DAL\",\"marker\":{\"color\":\"#EF553B\",\"symbol\":\"circle\"},\"mode\":\"markers\",\"name\":\"DAL\",\"orientation\":\"v\",\"showlegend\":true,\"x\":[10.74,23.49,11.04,9.53,12.59,24.93,25.94,11.85,16.95,26.6,12.42],\"xaxis\":\"x\",\"y\":[32.94,47.79,25.8,29.67,31.26,7.42,39.67,28.13,27.89,14.02,28.93],\"yaxis\":\"y\",\"type\":\"scatter\"},{\"hovertemplate\":\"team=football<br>time=2021-09-10T01:06:04.400<br>x=%{x}<br>y=%{y}<extra></extra>\",\"legendgroup\":\"football\",\"marker\":{\"color\":\"#00cc96\",\"symbol\":\"circle\"},\"mode\":\"markers\",\"name\":\"football\",\"orientation\":\"v\",\"showlegend\":true,\"x\":[9.83],\"xaxis\":\"x\",\"y\":[29.32],\"yaxis\":\"y\",\"type\":\"scatter\"}],\"name\":\"2021-09-10T01:06:04.400\"},{\"data\":[{\"hovertemplate\":\"team=TB<br>time=2021-09-10T01:06:04.500<br>x=%{x}<br>y=%{y}<extra></extra>\",\"legendgroup\":\"TB\",\"marker\":{\"color\":\"#636efa\",\"symbol\":\"circle\"},\"mode\":\"markers\",\"name\":\"TB\",\"orientation\":\"v\",\"showlegend\":true,\"x\":[12.83,11.04,24.61,24.0,11.22,12.15,31.34,23.25,30.24,33.75,34.87],\"xaxis\":\"x\",\"y\":[30.49,33.18,13.8,39.01,25.33,28.22,8.26,26.56,45.89,36.21,17.98],\"yaxis\":\"y\",\"type\":\"scatter\"},{\"hovertemplate\":\"team=DAL<br>time=2021-09-10T01:06:04.500<br>x=%{x}<br>y=%{y}<extra></extra>\",\"legendgroup\":\"DAL\",\"marker\":{\"color\":\"#EF553B\",\"symbol\":\"circle\"},\"mode\":\"markers\",\"name\":\"DAL\",\"orientation\":\"v\",\"showlegend\":true,\"x\":[10.6,23.57,10.87,9.48,12.61,25.27,26.57,11.67,17.44,27.22,12.28],\"xaxis\":\"x\",\"y\":[32.86,47.96,25.9,29.7,31.09,7.33,39.49,28.06,28.16,13.89,28.82],\"yaxis\":\"y\",\"type\":\"scatter\"},{\"hovertemplate\":\"team=football<br>time=2021-09-10T01:06:04.500<br>x=%{x}<br>y=%{y}<extra></extra>\",\"legendgroup\":\"football\",\"marker\":{\"color\":\"#00cc96\",\"symbol\":\"circle\"},\"mode\":\"markers\",\"name\":\"football\",\"orientation\":\"v\",\"showlegend\":true,\"x\":[9.73],\"xaxis\":\"x\",\"y\":[29.33],\"yaxis\":\"y\",\"type\":\"scatter\"}],\"name\":\"2021-09-10T01:06:04.500\"},{\"data\":[{\"hovertemplate\":\"team=TB<br>time=2021-09-10T01:06:04.600<br>x=%{x}<br>y=%{y}<extra></extra>\",\"legendgroup\":\"TB\",\"marker\":{\"color\":\"#636efa\",\"symbol\":\"circle\"},\"mode\":\"markers\",\"name\":\"TB\",\"orientation\":\"v\",\"showlegend\":true,\"x\":[12.82,10.98,24.73,24.32,11.08,12.0,31.82,23.33,30.64,33.96,35.1],\"xaxis\":\"x\",\"y\":[30.26,33.02,13.37,38.95,25.45,28.11,8.26,26.79,45.84,36.11,17.84],\"yaxis\":\"y\",\"type\":\"scatter\"},{\"hovertemplate\":\"team=DAL<br>time=2021-09-10T01:06:04.600<br>x=%{x}<br>y=%{y}<extra></extra>\",\"legendgroup\":\"DAL\",\"marker\":{\"color\":\"#EF553B\",\"symbol\":\"circle\"},\"mode\":\"markers\",\"name\":\"DAL\",\"orientation\":\"v\",\"showlegend\":true,\"x\":[10.53,23.58,10.72,9.43,12.65,25.57,27.17,11.5,17.92,27.82,12.15],\"xaxis\":\"x\",\"y\":[32.75,48.13,26.01,29.73,30.9,7.22,39.25,27.97,28.45,13.82,28.73],\"yaxis\":\"y\",\"type\":\"scatter\"},{\"hovertemplate\":\"team=football<br>time=2021-09-10T01:06:04.600<br>x=%{x}<br>y=%{y}<extra></extra>\",\"legendgroup\":\"football\",\"marker\":{\"color\":\"#00cc96\",\"symbol\":\"circle\"},\"mode\":\"markers\",\"name\":\"football\",\"orientation\":\"v\",\"showlegend\":true,\"x\":[9.62],\"xaxis\":\"x\",\"y\":[29.35],\"yaxis\":\"y\",\"type\":\"scatter\"}],\"name\":\"2021-09-10T01:06:04.600\"},{\"data\":[{\"hovertemplate\":\"team=TB<br>time=2021-09-10T01:06:04.700<br>x=%{x}<br>y=%{y}<extra></extra>\",\"legendgroup\":\"TB\",\"marker\":{\"color\":\"#636efa\",\"symbol\":\"circle\"},\"mode\":\"markers\",\"name\":\"TB\",\"orientation\":\"v\",\"showlegend\":true,\"x\":[12.84,10.97,24.83,24.63,10.96,11.88,32.3,23.37,31.05,34.12,35.3],\"xaxis\":\"x\",\"y\":[30.03,32.87,12.95,38.85,25.57,27.99,8.3,27.1,45.78,35.97,17.72],\"yaxis\":\"y\",\"type\":\"scatter\"},{\"hovertemplate\":\"team=DAL<br>time=2021-09-10T01:06:04.700<br>x=%{x}<br>y=%{y}<extra></extra>\",\"legendgroup\":\"DAL\",\"marker\":{\"color\":\"#EF553B\",\"symbol\":\"circle\"},\"mode\":\"markers\",\"name\":\"DAL\",\"orientation\":\"v\",\"showlegend\":true,\"x\":[10.49,23.55,10.58,9.38,12.72,25.8,27.76,11.36,18.38,28.41,12.03],\"xaxis\":\"x\",\"y\":[32.6,48.34,26.12,29.77,30.7,7.12,38.94,27.87,28.77,13.84,28.64],\"yaxis\":\"y\",\"type\":\"scatter\"},{\"hovertemplate\":\"team=football<br>time=2021-09-10T01:06:04.700<br>x=%{x}<br>y=%{y}<extra></extra>\",\"legendgroup\":\"football\",\"marker\":{\"color\":\"#00cc96\",\"symbol\":\"circle\"},\"mode\":\"markers\",\"name\":\"football\",\"orientation\":\"v\",\"showlegend\":true,\"x\":[9.49],\"xaxis\":\"x\",\"y\":[29.37],\"yaxis\":\"y\",\"type\":\"scatter\"}],\"name\":\"2021-09-10T01:06:04.700\"},{\"data\":[{\"hovertemplate\":\"team=TB<br>time=2021-09-10T01:06:04.800<br>x=%{x}<br>y=%{y}<extra></extra>\",\"legendgroup\":\"TB\",\"marker\":{\"color\":\"#636efa\",\"symbol\":\"circle\"},\"mode\":\"markers\",\"name\":\"TB\",\"orientation\":\"v\",\"showlegend\":true,\"x\":[12.88,10.97,24.92,24.88,10.87,11.78,32.78,23.36,31.46,34.22,35.47],\"xaxis\":\"x\",\"y\":[29.8,32.73,12.53,38.71,25.69,27.88,8.39,27.47,45.7,35.78,17.66],\"yaxis\":\"y\",\"type\":\"scatter\"},{\"hovertemplate\":\"team=DAL<br>time=2021-09-10T01:06:04.800<br>x=%{x}<br>y=%{y}<extra></extra>\",\"legendgroup\":\"DAL\",\"marker\":{\"color\":\"#EF553B\",\"symbol\":\"circle\"},\"mode\":\"markers\",\"name\":\"DAL\",\"orientation\":\"v\",\"showlegend\":true,\"x\":[10.48,23.49,10.45,9.33,12.81,25.97,28.3,11.28,18.82,28.98,11.93],\"xaxis\":\"x\",\"y\":[32.46,48.55,26.24,29.82,30.52,7.03,38.55,27.82,29.11,13.93,28.55],\"yaxis\":\"y\",\"type\":\"scatter\"},{\"hovertemplate\":\"team=football<br>time=2021-09-10T01:06:04.800<br>x=%{x}<br>y=%{y}<extra></extra>\",\"legendgroup\":\"football\",\"marker\":{\"color\":\"#00cc96\",\"symbol\":\"circle\"},\"mode\":\"markers\",\"name\":\"football\",\"orientation\":\"v\",\"showlegend\":true,\"x\":[9.36],\"xaxis\":\"x\",\"y\":[29.39],\"yaxis\":\"y\",\"type\":\"scatter\"}],\"name\":\"2021-09-10T01:06:04.800\"},{\"data\":[{\"hovertemplate\":\"team=TB<br>time=2021-09-10T01:06:04.900<br>x=%{x}<br>y=%{y}<extra></extra>\",\"legendgroup\":\"TB\",\"marker\":{\"color\":\"#636efa\",\"symbol\":\"circle\"},\"mode\":\"markers\",\"name\":\"TB\",\"orientation\":\"v\",\"showlegend\":true,\"x\":[12.93,11.01,25.0,25.08,10.78,11.72,33.26,23.31,31.86,34.28,35.61],\"xaxis\":\"x\",\"y\":[29.57,32.58,12.1,38.54,25.8,27.79,8.53,27.9,45.6,35.55,17.61],\"yaxis\":\"y\",\"type\":\"scatter\"},{\"hovertemplate\":\"team=DAL<br>time=2021-09-10T01:06:04.900<br>x=%{x}<br>y=%{y}<extra></extra>\",\"legendgroup\":\"DAL\",\"marker\":{\"color\":\"#EF553B\",\"symbol\":\"circle\"},\"mode\":\"markers\",\"name\":\"DAL\",\"orientation\":\"v\",\"showlegend\":true,\"x\":[10.5,23.4,10.33,9.28,12.86,26.08,28.79,11.21,19.23,29.51,11.84],\"xaxis\":\"x\",\"y\":[32.31,48.77,26.35,29.87,30.32,6.95,38.1,27.77,29.46,14.1,28.49],\"yaxis\":\"y\",\"type\":\"scatter\"},{\"hovertemplate\":\"team=football<br>time=2021-09-10T01:06:04.900<br>x=%{x}<br>y=%{y}<extra></extra>\",\"legendgroup\":\"football\",\"marker\":{\"color\":\"#00cc96\",\"symbol\":\"circle\"},\"mode\":\"markers\",\"name\":\"football\",\"orientation\":\"v\",\"showlegend\":true,\"x\":[11.83],\"xaxis\":\"x\",\"y\":[30.01],\"yaxis\":\"y\",\"type\":\"scatter\"}],\"name\":\"2021-09-10T01:06:04.900\"},{\"data\":[{\"hovertemplate\":\"team=TB<br>time=2021-09-10T01:06:05.000<br>x=%{x}<br>y=%{y}<extra></extra>\",\"legendgroup\":\"TB\",\"marker\":{\"color\":\"#636efa\",\"symbol\":\"circle\"},\"mode\":\"markers\",\"name\":\"TB\",\"orientation\":\"v\",\"showlegend\":true,\"x\":[12.99,11.08,25.1,25.23,10.7,11.69,33.75,23.2,32.26,34.28,35.72],\"xaxis\":\"x\",\"y\":[29.34,32.44,11.71,38.35,25.9,27.73,8.72,28.34,45.48,35.29,17.6],\"yaxis\":\"y\",\"type\":\"scatter\"},{\"hovertemplate\":\"team=DAL<br>time=2021-09-10T01:06:05.000<br>x=%{x}<br>y=%{y}<extra></extra>\",\"legendgroup\":\"DAL\",\"marker\":{\"color\":\"#EF553B\",\"symbol\":\"circle\"},\"mode\":\"markers\",\"name\":\"DAL\",\"orientation\":\"v\",\"showlegend\":true,\"x\":[10.54,23.31,10.23,9.23,12.92,26.16,29.23,11.16,19.63,30.0,11.75],\"xaxis\":\"x\",\"y\":[32.18,48.99,26.44,29.92,30.13,6.89,37.61,27.71,29.83,14.34,28.46],\"yaxis\":\"y\",\"type\":\"scatter\"},{\"hovertemplate\":\"team=football<br>time=2021-09-10T01:06:05.000<br>x=%{x}<br>y=%{y}<extra></extra>\",\"legendgroup\":\"football\",\"marker\":{\"color\":\"#00cc96\",\"symbol\":\"circle\"},\"mode\":\"markers\",\"name\":\"football\",\"orientation\":\"v\",\"showlegend\":true,\"x\":[13.72],\"xaxis\":\"x\",\"y\":[30.35],\"yaxis\":\"y\",\"type\":\"scatter\"}],\"name\":\"2021-09-10T01:06:05.000\"},{\"data\":[{\"hovertemplate\":\"team=TB<br>time=2021-09-10T01:06:05.100<br>x=%{x}<br>y=%{y}<extra></extra>\",\"legendgroup\":\"TB\",\"marker\":{\"color\":\"#636efa\",\"symbol\":\"circle\"},\"mode\":\"markers\",\"name\":\"TB\",\"orientation\":\"v\",\"showlegend\":true,\"x\":[13.05,11.18,25.2,25.3,10.63,11.71,34.23,23.04,32.64,34.23,35.78],\"xaxis\":\"x\",\"y\":[29.12,32.32,11.33,38.12,25.97,27.68,8.94,28.8,45.34,35.02,17.64],\"yaxis\":\"y\",\"type\":\"scatter\"},{\"hovertemplate\":\"team=DAL<br>time=2021-09-10T01:06:05.100<br>x=%{x}<br>y=%{y}<extra></extra>\",\"legendgroup\":\"DAL\",\"marker\":{\"color\":\"#EF553B\",\"symbol\":\"circle\"},\"mode\":\"markers\",\"name\":\"DAL\",\"orientation\":\"v\",\"showlegend\":true,\"x\":[10.61,23.22,10.13,9.17,12.97,26.2,29.62,11.13,20.0,30.46,11.68],\"xaxis\":\"x\",\"y\":[32.07,49.2,26.51,29.97,29.97,6.86,37.08,27.65,30.2,14.64,28.41],\"yaxis\":\"y\",\"type\":\"scatter\"},{\"hovertemplate\":\"team=football<br>time=2021-09-10T01:06:05.100<br>x=%{x}<br>y=%{y}<extra></extra>\",\"legendgroup\":\"football\",\"marker\":{\"color\":\"#00cc96\",\"symbol\":\"circle\"},\"mode\":\"markers\",\"name\":\"football\",\"orientation\":\"v\",\"showlegend\":true,\"x\":[15.58],\"xaxis\":\"x\",\"y\":[30.69],\"yaxis\":\"y\",\"type\":\"scatter\"}],\"name\":\"2021-09-10T01:06:05.100\"},{\"data\":[{\"hovertemplate\":\"team=TB<br>time=2021-09-10T01:06:05.200<br>x=%{x}<br>y=%{y}<extra></extra>\",\"legendgroup\":\"TB\",\"marker\":{\"color\":\"#636efa\",\"symbol\":\"circle\"},\"mode\":\"markers\",\"name\":\"TB\",\"orientation\":\"v\",\"showlegend\":true,\"x\":[13.15,11.32,25.3,25.31,10.58,11.75,34.7,22.84,33.0,34.09,35.78],\"xaxis\":\"x\",\"y\":[28.9,32.22,10.97,37.86,26.01,27.64,9.2,29.27,45.17,34.73,17.81],\"yaxis\":\"y\",\"type\":\"scatter\"},{\"hovertemplate\":\"team=DAL<br>time=2021-09-10T01:06:05.200<br>x=%{x}<br>y=%{y}<extra></extra>\",\"legendgroup\":\"DAL\",\"marker\":{\"color\":\"#EF553B\",\"symbol\":\"circle\"},\"mode\":\"markers\",\"name\":\"DAL\",\"orientation\":\"v\",\"showlegend\":true,\"x\":[10.71,23.14,10.04,9.09,13.03,26.21,29.93,11.15,20.37,30.87,11.65],\"xaxis\":\"x\",\"y\":[31.96,49.39,26.57,30.04,29.84,6.84,36.5,27.6,30.56,14.98,28.36],\"yaxis\":\"y\",\"type\":\"scatter\"},{\"hovertemplate\":\"team=football<br>time=2021-09-10T01:06:05.200<br>x=%{x}<br>y=%{y}<extra></extra>\",\"legendgroup\":\"football\",\"marker\":{\"color\":\"#00cc96\",\"symbol\":\"circle\"},\"mode\":\"markers\",\"name\":\"football\",\"orientation\":\"v\",\"showlegend\":true,\"x\":[17.43],\"xaxis\":\"x\",\"y\":[31.03],\"yaxis\":\"y\",\"type\":\"scatter\"}],\"name\":\"2021-09-10T01:06:05.200\"}]);\n",
       "                        }).then(function(){\n",
       "                            \n",
       "var gd = document.getElementById('28dac8cb-50d5-4756-8e90-8604fec5907e');\n",
       "var x = new MutationObserver(function (mutations, observer) {{\n",
       "        var display = window.getComputedStyle(gd).display;\n",
       "        if (!display || display === 'none') {{\n",
       "            console.log([gd, 'removed!']);\n",
       "            Plotly.purge(gd);\n",
       "            observer.disconnect();\n",
       "        }}\n",
       "}});\n",
       "\n",
       "// Listen for the removal of the full notebook cells\n",
       "var notebookContainer = gd.closest('#notebook-container');\n",
       "if (notebookContainer) {{\n",
       "    x.observe(notebookContainer, {childList: true});\n",
       "}}\n",
       "\n",
       "// Listen for the clearing of the current output cell\n",
       "var outputEl = gd.closest('.output');\n",
       "if (outputEl) {{\n",
       "    x.observe(outputEl, {childList: true});\n",
       "}}\n",
       "\n",
       "                        })                };                });            </script>        </div>"
      ]
     },
     "metadata": {},
     "output_type": "display_data"
    }
   ],
   "source": [
    "visualize_play(2021090900, 1078)"
   ]
  },
  {
   "cell_type": "code",
   "execution_count": 79,
   "id": "1118dad3",
   "metadata": {},
   "outputs": [
    {
     "data": {
      "text/html": [
       "<div>\n",
       "<style scoped>\n",
       "    .dataframe tbody tr th:only-of-type {\n",
       "        vertical-align: middle;\n",
       "    }\n",
       "\n",
       "    .dataframe tbody tr th {\n",
       "        vertical-align: top;\n",
       "    }\n",
       "\n",
       "    .dataframe thead th {\n",
       "        text-align: right;\n",
       "    }\n",
       "</style>\n",
       "<table border=\"1\" class=\"dataframe\">\n",
       "  <thead>\n",
       "    <tr style=\"text-align: right;\">\n",
       "      <th></th>\n",
       "      <th>gameId</th>\n",
       "      <th>playId</th>\n",
       "      <th>nflId</th>\n",
       "      <th>pff_role</th>\n",
       "      <th>pff_positionLinedUp</th>\n",
       "      <th>pff_hit</th>\n",
       "      <th>pff_hurry</th>\n",
       "      <th>pff_sack</th>\n",
       "      <th>pff_beatenByDefender</th>\n",
       "      <th>pff_hitAllowed</th>\n",
       "      <th>pff_hurryAllowed</th>\n",
       "      <th>pff_sackAllowed</th>\n",
       "      <th>pff_nflIdBlockedPlayer</th>\n",
       "      <th>pff_blockType</th>\n",
       "      <th>pff_backFieldBlock</th>\n",
       "    </tr>\n",
       "  </thead>\n",
       "  <tbody>\n",
       "    <tr>\n",
       "      <th>0</th>\n",
       "      <td>2021090900</td>\n",
       "      <td>97</td>\n",
       "      <td>25511</td>\n",
       "      <td>Pass</td>\n",
       "      <td>QB</td>\n",
       "      <td>NaN</td>\n",
       "      <td>NaN</td>\n",
       "      <td>NaN</td>\n",
       "      <td>NaN</td>\n",
       "      <td>NaN</td>\n",
       "      <td>NaN</td>\n",
       "      <td>NaN</td>\n",
       "      <td>NaN</td>\n",
       "      <td>NaN</td>\n",
       "      <td>NaN</td>\n",
       "    </tr>\n",
       "    <tr>\n",
       "      <th>1</th>\n",
       "      <td>2021090900</td>\n",
       "      <td>97</td>\n",
       "      <td>35481</td>\n",
       "      <td>Pass Route</td>\n",
       "      <td>TE-L</td>\n",
       "      <td>NaN</td>\n",
       "      <td>NaN</td>\n",
       "      <td>NaN</td>\n",
       "      <td>NaN</td>\n",
       "      <td>NaN</td>\n",
       "      <td>NaN</td>\n",
       "      <td>NaN</td>\n",
       "      <td>NaN</td>\n",
       "      <td>NaN</td>\n",
       "      <td>NaN</td>\n",
       "    </tr>\n",
       "    <tr>\n",
       "      <th>2</th>\n",
       "      <td>2021090900</td>\n",
       "      <td>97</td>\n",
       "      <td>35634</td>\n",
       "      <td>Pass Route</td>\n",
       "      <td>LWR</td>\n",
       "      <td>NaN</td>\n",
       "      <td>NaN</td>\n",
       "      <td>NaN</td>\n",
       "      <td>NaN</td>\n",
       "      <td>NaN</td>\n",
       "      <td>NaN</td>\n",
       "      <td>NaN</td>\n",
       "      <td>NaN</td>\n",
       "      <td>NaN</td>\n",
       "      <td>NaN</td>\n",
       "    </tr>\n",
       "    <tr>\n",
       "      <th>3</th>\n",
       "      <td>2021090900</td>\n",
       "      <td>97</td>\n",
       "      <td>39985</td>\n",
       "      <td>Pass Route</td>\n",
       "      <td>HB-R</td>\n",
       "      <td>NaN</td>\n",
       "      <td>NaN</td>\n",
       "      <td>NaN</td>\n",
       "      <td>NaN</td>\n",
       "      <td>NaN</td>\n",
       "      <td>NaN</td>\n",
       "      <td>NaN</td>\n",
       "      <td>NaN</td>\n",
       "      <td>NaN</td>\n",
       "      <td>NaN</td>\n",
       "    </tr>\n",
       "    <tr>\n",
       "      <th>4</th>\n",
       "      <td>2021090900</td>\n",
       "      <td>97</td>\n",
       "      <td>40151</td>\n",
       "      <td>Pass Block</td>\n",
       "      <td>C</td>\n",
       "      <td>NaN</td>\n",
       "      <td>NaN</td>\n",
       "      <td>NaN</td>\n",
       "      <td>0.0</td>\n",
       "      <td>0.0</td>\n",
       "      <td>0.0</td>\n",
       "      <td>0.0</td>\n",
       "      <td>44955.0</td>\n",
       "      <td>SW</td>\n",
       "      <td>0.0</td>\n",
       "    </tr>\n",
       "    <tr>\n",
       "      <th>5</th>\n",
       "      <td>2021090900</td>\n",
       "      <td>97</td>\n",
       "      <td>41233</td>\n",
       "      <td>Pass Route</td>\n",
       "      <td>RWR</td>\n",
       "      <td>NaN</td>\n",
       "      <td>NaN</td>\n",
       "      <td>NaN</td>\n",
       "      <td>NaN</td>\n",
       "      <td>NaN</td>\n",
       "      <td>NaN</td>\n",
       "      <td>NaN</td>\n",
       "      <td>NaN</td>\n",
       "      <td>NaN</td>\n",
       "      <td>NaN</td>\n",
       "    </tr>\n",
       "    <tr>\n",
       "      <th>6</th>\n",
       "      <td>2021090900</td>\n",
       "      <td>97</td>\n",
       "      <td>41263</td>\n",
       "      <td>Pass Rush</td>\n",
       "      <td>LEO</td>\n",
       "      <td>0.0</td>\n",
       "      <td>1.0</td>\n",
       "      <td>0.0</td>\n",
       "      <td>NaN</td>\n",
       "      <td>NaN</td>\n",
       "      <td>NaN</td>\n",
       "      <td>NaN</td>\n",
       "      <td>NaN</td>\n",
       "      <td>NaN</td>\n",
       "      <td>NaN</td>\n",
       "    </tr>\n",
       "    <tr>\n",
       "      <th>7</th>\n",
       "      <td>2021090900</td>\n",
       "      <td>97</td>\n",
       "      <td>42377</td>\n",
       "      <td>Pass Block</td>\n",
       "      <td>LT</td>\n",
       "      <td>NaN</td>\n",
       "      <td>NaN</td>\n",
       "      <td>NaN</td>\n",
       "      <td>0.0</td>\n",
       "      <td>0.0</td>\n",
       "      <td>1.0</td>\n",
       "      <td>0.0</td>\n",
       "      <td>42403.0</td>\n",
       "      <td>PP</td>\n",
       "      <td>0.0</td>\n",
       "    </tr>\n",
       "    <tr>\n",
       "      <th>8</th>\n",
       "      <td>2021090900</td>\n",
       "      <td>97</td>\n",
       "      <td>42403</td>\n",
       "      <td>Pass Rush</td>\n",
       "      <td>ROLB</td>\n",
       "      <td>0.0</td>\n",
       "      <td>1.0</td>\n",
       "      <td>0.0</td>\n",
       "      <td>NaN</td>\n",
       "      <td>NaN</td>\n",
       "      <td>NaN</td>\n",
       "      <td>NaN</td>\n",
       "      <td>NaN</td>\n",
       "      <td>NaN</td>\n",
       "      <td>NaN</td>\n",
       "    </tr>\n",
       "    <tr>\n",
       "      <th>9</th>\n",
       "      <td>2021090900</td>\n",
       "      <td>97</td>\n",
       "      <td>42404</td>\n",
       "      <td>Pass Block</td>\n",
       "      <td>LG</td>\n",
       "      <td>NaN</td>\n",
       "      <td>NaN</td>\n",
       "      <td>NaN</td>\n",
       "      <td>0.0</td>\n",
       "      <td>0.0</td>\n",
       "      <td>0.0</td>\n",
       "      <td>0.0</td>\n",
       "      <td>44955.0</td>\n",
       "      <td>PP</td>\n",
       "      <td>0.0</td>\n",
       "    </tr>\n",
       "    <tr>\n",
       "      <th>10</th>\n",
       "      <td>2021090900</td>\n",
       "      <td>97</td>\n",
       "      <td>43306</td>\n",
       "      <td>Coverage</td>\n",
       "      <td>ROLB</td>\n",
       "      <td>0.0</td>\n",
       "      <td>0.0</td>\n",
       "      <td>0.0</td>\n",
       "      <td>NaN</td>\n",
       "      <td>NaN</td>\n",
       "      <td>NaN</td>\n",
       "      <td>NaN</td>\n",
       "      <td>NaN</td>\n",
       "      <td>NaN</td>\n",
       "      <td>NaN</td>\n",
       "    </tr>\n",
       "    <tr>\n",
       "      <th>11</th>\n",
       "      <td>2021090900</td>\n",
       "      <td>97</td>\n",
       "      <td>43478</td>\n",
       "      <td>Coverage</td>\n",
       "      <td>RCB</td>\n",
       "      <td>0.0</td>\n",
       "      <td>0.0</td>\n",
       "      <td>0.0</td>\n",
       "      <td>NaN</td>\n",
       "      <td>NaN</td>\n",
       "      <td>NaN</td>\n",
       "      <td>NaN</td>\n",
       "      <td>NaN</td>\n",
       "      <td>NaN</td>\n",
       "      <td>NaN</td>\n",
       "    </tr>\n",
       "    <tr>\n",
       "      <th>12</th>\n",
       "      <td>2021090900</td>\n",
       "      <td>97</td>\n",
       "      <td>44896</td>\n",
       "      <td>Pass Route</td>\n",
       "      <td>SLWR</td>\n",
       "      <td>NaN</td>\n",
       "      <td>NaN</td>\n",
       "      <td>NaN</td>\n",
       "      <td>NaN</td>\n",
       "      <td>NaN</td>\n",
       "      <td>NaN</td>\n",
       "      <td>NaN</td>\n",
       "      <td>NaN</td>\n",
       "      <td>NaN</td>\n",
       "      <td>NaN</td>\n",
       "    </tr>\n",
       "    <tr>\n",
       "      <th>13</th>\n",
       "      <td>2021090900</td>\n",
       "      <td>97</td>\n",
       "      <td>44904</td>\n",
       "      <td>Coverage</td>\n",
       "      <td>SCBR</td>\n",
       "      <td>0.0</td>\n",
       "      <td>0.0</td>\n",
       "      <td>0.0</td>\n",
       "      <td>NaN</td>\n",
       "      <td>NaN</td>\n",
       "      <td>NaN</td>\n",
       "      <td>NaN</td>\n",
       "      <td>NaN</td>\n",
       "      <td>NaN</td>\n",
       "      <td>NaN</td>\n",
       "    </tr>\n",
       "    <tr>\n",
       "      <th>14</th>\n",
       "      <td>2021090900</td>\n",
       "      <td>97</td>\n",
       "      <td>44955</td>\n",
       "      <td>Pass Rush</td>\n",
       "      <td>DRT</td>\n",
       "      <td>0.0</td>\n",
       "      <td>0.0</td>\n",
       "      <td>0.0</td>\n",
       "      <td>NaN</td>\n",
       "      <td>NaN</td>\n",
       "      <td>NaN</td>\n",
       "      <td>NaN</td>\n",
       "      <td>NaN</td>\n",
       "      <td>NaN</td>\n",
       "      <td>NaN</td>\n",
       "    </tr>\n",
       "    <tr>\n",
       "      <th>15</th>\n",
       "      <td>2021090900</td>\n",
       "      <td>97</td>\n",
       "      <td>44962</td>\n",
       "      <td>Coverage</td>\n",
       "      <td>FS</td>\n",
       "      <td>0.0</td>\n",
       "      <td>0.0</td>\n",
       "      <td>0.0</td>\n",
       "      <td>NaN</td>\n",
       "      <td>NaN</td>\n",
       "      <td>NaN</td>\n",
       "      <td>NaN</td>\n",
       "      <td>NaN</td>\n",
       "      <td>NaN</td>\n",
       "      <td>NaN</td>\n",
       "    </tr>\n",
       "    <tr>\n",
       "      <th>16</th>\n",
       "      <td>2021090900</td>\n",
       "      <td>97</td>\n",
       "      <td>46163</td>\n",
       "      <td>Pass Block</td>\n",
       "      <td>RG</td>\n",
       "      <td>NaN</td>\n",
       "      <td>NaN</td>\n",
       "      <td>NaN</td>\n",
       "      <td>0.0</td>\n",
       "      <td>0.0</td>\n",
       "      <td>1.0</td>\n",
       "      <td>0.0</td>\n",
       "      <td>53441.0</td>\n",
       "      <td>SW</td>\n",
       "      <td>0.0</td>\n",
       "    </tr>\n",
       "    <tr>\n",
       "      <th>17</th>\n",
       "      <td>2021090900</td>\n",
       "      <td>97</td>\n",
       "      <td>47996</td>\n",
       "      <td>Coverage</td>\n",
       "      <td>LILB</td>\n",
       "      <td>0.0</td>\n",
       "      <td>0.0</td>\n",
       "      <td>0.0</td>\n",
       "      <td>NaN</td>\n",
       "      <td>NaN</td>\n",
       "      <td>NaN</td>\n",
       "      <td>NaN</td>\n",
       "      <td>NaN</td>\n",
       "      <td>NaN</td>\n",
       "      <td>NaN</td>\n",
       "    </tr>\n",
       "    <tr>\n",
       "      <th>18</th>\n",
       "      <td>2021090900</td>\n",
       "      <td>97</td>\n",
       "      <td>52421</td>\n",
       "      <td>Pass Block</td>\n",
       "      <td>RT</td>\n",
       "      <td>NaN</td>\n",
       "      <td>NaN</td>\n",
       "      <td>NaN</td>\n",
       "      <td>0.0</td>\n",
       "      <td>0.0</td>\n",
       "      <td>1.0</td>\n",
       "      <td>0.0</td>\n",
       "      <td>53441.0</td>\n",
       "      <td>PP</td>\n",
       "      <td>0.0</td>\n",
       "    </tr>\n",
       "    <tr>\n",
       "      <th>19</th>\n",
       "      <td>2021090900</td>\n",
       "      <td>97</td>\n",
       "      <td>52459</td>\n",
       "      <td>Coverage</td>\n",
       "      <td>LCB</td>\n",
       "      <td>0.0</td>\n",
       "      <td>0.0</td>\n",
       "      <td>0.0</td>\n",
       "      <td>NaN</td>\n",
       "      <td>NaN</td>\n",
       "      <td>NaN</td>\n",
       "      <td>NaN</td>\n",
       "      <td>NaN</td>\n",
       "      <td>NaN</td>\n",
       "      <td>NaN</td>\n",
       "    </tr>\n",
       "  </tbody>\n",
       "</table>\n",
       "</div>"
      ],
      "text/plain": [
       "        gameId  playId  nflId    pff_role pff_positionLinedUp  pff_hit  \\\n",
       "0   2021090900      97  25511        Pass                  QB      NaN   \n",
       "1   2021090900      97  35481  Pass Route                TE-L      NaN   \n",
       "2   2021090900      97  35634  Pass Route                 LWR      NaN   \n",
       "3   2021090900      97  39985  Pass Route                HB-R      NaN   \n",
       "4   2021090900      97  40151  Pass Block                   C      NaN   \n",
       "5   2021090900      97  41233  Pass Route                 RWR      NaN   \n",
       "6   2021090900      97  41263   Pass Rush                 LEO      0.0   \n",
       "7   2021090900      97  42377  Pass Block                  LT      NaN   \n",
       "8   2021090900      97  42403   Pass Rush                ROLB      0.0   \n",
       "9   2021090900      97  42404  Pass Block                  LG      NaN   \n",
       "10  2021090900      97  43306    Coverage                ROLB      0.0   \n",
       "11  2021090900      97  43478    Coverage                 RCB      0.0   \n",
       "12  2021090900      97  44896  Pass Route                SLWR      NaN   \n",
       "13  2021090900      97  44904    Coverage                SCBR      0.0   \n",
       "14  2021090900      97  44955   Pass Rush                 DRT      0.0   \n",
       "15  2021090900      97  44962    Coverage                  FS      0.0   \n",
       "16  2021090900      97  46163  Pass Block                  RG      NaN   \n",
       "17  2021090900      97  47996    Coverage                LILB      0.0   \n",
       "18  2021090900      97  52421  Pass Block                  RT      NaN   \n",
       "19  2021090900      97  52459    Coverage                 LCB      0.0   \n",
       "\n",
       "    pff_hurry  pff_sack  pff_beatenByDefender  pff_hitAllowed  \\\n",
       "0         NaN       NaN                   NaN             NaN   \n",
       "1         NaN       NaN                   NaN             NaN   \n",
       "2         NaN       NaN                   NaN             NaN   \n",
       "3         NaN       NaN                   NaN             NaN   \n",
       "4         NaN       NaN                   0.0             0.0   \n",
       "5         NaN       NaN                   NaN             NaN   \n",
       "6         1.0       0.0                   NaN             NaN   \n",
       "7         NaN       NaN                   0.0             0.0   \n",
       "8         1.0       0.0                   NaN             NaN   \n",
       "9         NaN       NaN                   0.0             0.0   \n",
       "10        0.0       0.0                   NaN             NaN   \n",
       "11        0.0       0.0                   NaN             NaN   \n",
       "12        NaN       NaN                   NaN             NaN   \n",
       "13        0.0       0.0                   NaN             NaN   \n",
       "14        0.0       0.0                   NaN             NaN   \n",
       "15        0.0       0.0                   NaN             NaN   \n",
       "16        NaN       NaN                   0.0             0.0   \n",
       "17        0.0       0.0                   NaN             NaN   \n",
       "18        NaN       NaN                   0.0             0.0   \n",
       "19        0.0       0.0                   NaN             NaN   \n",
       "\n",
       "    pff_hurryAllowed  pff_sackAllowed  pff_nflIdBlockedPlayer pff_blockType  \\\n",
       "0                NaN              NaN                     NaN           NaN   \n",
       "1                NaN              NaN                     NaN           NaN   \n",
       "2                NaN              NaN                     NaN           NaN   \n",
       "3                NaN              NaN                     NaN           NaN   \n",
       "4                0.0              0.0                 44955.0            SW   \n",
       "5                NaN              NaN                     NaN           NaN   \n",
       "6                NaN              NaN                     NaN           NaN   \n",
       "7                1.0              0.0                 42403.0            PP   \n",
       "8                NaN              NaN                     NaN           NaN   \n",
       "9                0.0              0.0                 44955.0            PP   \n",
       "10               NaN              NaN                     NaN           NaN   \n",
       "11               NaN              NaN                     NaN           NaN   \n",
       "12               NaN              NaN                     NaN           NaN   \n",
       "13               NaN              NaN                     NaN           NaN   \n",
       "14               NaN              NaN                     NaN           NaN   \n",
       "15               NaN              NaN                     NaN           NaN   \n",
       "16               1.0              0.0                 53441.0            SW   \n",
       "17               NaN              NaN                     NaN           NaN   \n",
       "18               1.0              0.0                 53441.0            PP   \n",
       "19               NaN              NaN                     NaN           NaN   \n",
       "\n",
       "    pff_backFieldBlock  \n",
       "0                  NaN  \n",
       "1                  NaN  \n",
       "2                  NaN  \n",
       "3                  NaN  \n",
       "4                  0.0  \n",
       "5                  NaN  \n",
       "6                  NaN  \n",
       "7                  0.0  \n",
       "8                  NaN  \n",
       "9                  0.0  \n",
       "10                 NaN  \n",
       "11                 NaN  \n",
       "12                 NaN  \n",
       "13                 NaN  \n",
       "14                 NaN  \n",
       "15                 NaN  \n",
       "16                 0.0  \n",
       "17                 NaN  \n",
       "18                 0.0  \n",
       "19                 NaN  "
      ]
     },
     "execution_count": 79,
     "metadata": {},
     "output_type": "execute_result"
    }
   ],
   "source": [
    "scouting.head(20)"
   ]
  }
 ],
 "metadata": {
  "kernelspec": {
   "display_name": "Python 3",
   "language": "python",
   "name": "python3"
  },
  "language_info": {
   "codemirror_mode": {
    "name": "ipython",
    "version": 3
   },
   "file_extension": ".py",
   "mimetype": "text/x-python",
   "name": "python",
   "nbconvert_exporter": "python",
   "pygments_lexer": "ipython3",
   "version": "3.8.8"
  }
 },
 "nbformat": 4,
 "nbformat_minor": 5
}
